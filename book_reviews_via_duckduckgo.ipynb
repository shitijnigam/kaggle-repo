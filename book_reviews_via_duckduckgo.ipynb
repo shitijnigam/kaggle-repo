{
 "cells": [
  {
   "cell_type": "code",
   "execution_count": 1,
   "id": "ca7e6bf0",
   "metadata": {
    "_cell_guid": "b1076dfc-b9ad-4769-8c92-a6c4dae69d19",
    "_uuid": "8f2839f25d086af736a60e9eeb907d3b93b6e0e5",
    "execution": {
     "iopub.execute_input": "2024-08-21T02:18:38.272305Z",
     "iopub.status.busy": "2024-08-21T02:18:38.271882Z",
     "iopub.status.idle": "2024-08-21T02:18:39.249756Z",
     "shell.execute_reply": "2024-08-21T02:18:39.248628Z"
    },
    "papermill": {
     "duration": 0.989527,
     "end_time": "2024-08-21T02:18:39.252558",
     "exception": false,
     "start_time": "2024-08-21T02:18:38.263031",
     "status": "completed"
    },
    "tags": []
   },
   "outputs": [
    {
     "name": "stdout",
     "output_type": "stream",
     "text": [
      "/kaggle/input/book-review-samples/goodreads_fantasy.csv\n",
      "/kaggle/input/book-review-samples/Darth_Plagueis_reviews(4).csv\n",
      "/kaggle/input/book-review-samples/Dune_Book_1_reviews.csv\n",
      "/kaggle/input/book-review-samples/Dune_Book_1_reviews(4).csv\n"
     ]
    }
   ],
   "source": [
    "# This Python 3 environment comes with many helpful analytics libraries installed\n",
    "# It is defined by the kaggle/python Docker image: https://github.com/kaggle/docker-python\n",
    "# For example, here's several helpful packages to load\n",
    "\n",
    "import numpy as np # linear algebra\n",
    "import pandas as pd # data processing, CSV file I/O (e.g. pd.read_csv)\n",
    "\n",
    "# Input data files are available in the read-only \"../input/\" directory\n",
    "# For example, running this (by clicking run or pressing Shift+Enter) will list all files under the input directory\n",
    "\n",
    "import os\n",
    "for dirname, _, filenames in os.walk('/kaggle/input'):\n",
    "    for filename in filenames:\n",
    "        print(os.path.join(dirname, filename))\n",
    "\n",
    "# You can write up to 20GB to the current directory (/kaggle/working/) that gets preserved as output when you create a version using \"Save & Run All\" \n",
    "# You can also write temporary files to /kaggle/temp/, but they won't be saved outside of the current session"
   ]
  },
  {
   "cell_type": "code",
   "execution_count": 2,
   "id": "58522130",
   "metadata": {
    "execution": {
     "iopub.execute_input": "2024-08-21T02:18:39.268875Z",
     "iopub.status.busy": "2024-08-21T02:18:39.268358Z",
     "iopub.status.idle": "2024-08-21T02:18:56.975933Z",
     "shell.execute_reply": "2024-08-21T02:18:56.974114Z"
    },
    "papermill": {
     "duration": 17.718454,
     "end_time": "2024-08-21T02:18:56.978538",
     "exception": false,
     "start_time": "2024-08-21T02:18:39.260084",
     "status": "completed"
    },
    "tags": []
   },
   "outputs": [
    {
     "name": "stdout",
     "output_type": "stream",
     "text": [
      "Collecting duckduckgo-search\r\n",
      "  Downloading duckduckgo_search-6.2.10-py3-none-any.whl.metadata (25 kB)\r\n",
      "Requirement already satisfied: click>=8.1.7 in /opt/conda/lib/python3.10/site-packages (from duckduckgo-search) (8.1.7)\r\n",
      "Collecting primp>=0.6.1 (from duckduckgo-search)\r\n",
      "  Downloading primp-0.6.1-cp38-abi3-manylinux_2_17_x86_64.manylinux2014_x86_64.whl.metadata (10 kB)\r\n",
      "Downloading duckduckgo_search-6.2.10-py3-none-any.whl (27 kB)\r\n",
      "Downloading primp-0.6.1-cp38-abi3-manylinux_2_17_x86_64.manylinux2014_x86_64.whl (2.8 MB)\r\n",
      "\u001b[2K   \u001b[90m━━━━━━━━━━━━━━━━━━━━━━━━━━━━━━━━━━━━━━━━\u001b[0m \u001b[32m2.8/2.8 MB\u001b[0m \u001b[31m12.1 MB/s\u001b[0m eta \u001b[36m0:00:00\u001b[0m\r\n",
      "\u001b[?25hInstalling collected packages: primp, duckduckgo-search\r\n",
      "Successfully installed duckduckgo-search-6.2.10 primp-0.6.1\r\n",
      "Note: you may need to restart the kernel to use updated packages.\n"
     ]
    }
   ],
   "source": [
    "pip install duckduckgo-search"
   ]
  },
  {
   "cell_type": "code",
   "execution_count": 3,
   "id": "0e80f8a6",
   "metadata": {
    "execution": {
     "iopub.execute_input": "2024-08-21T02:18:56.997803Z",
     "iopub.status.busy": "2024-08-21T02:18:56.997394Z",
     "iopub.status.idle": "2024-08-21T02:18:57.360203Z",
     "shell.execute_reply": "2024-08-21T02:18:57.358964Z"
    },
    "papermill": {
     "duration": 0.375958,
     "end_time": "2024-08-21T02:18:57.363146",
     "exception": false,
     "start_time": "2024-08-21T02:18:56.987188",
     "status": "completed"
    },
    "tags": []
   },
   "outputs": [],
   "source": [
    "import requests\n",
    "from bs4 import BeautifulSoup\n",
    "# import pandas as pd\n",
    "from datetime import datetime\n",
    "import time\n",
    "import random\n",
    "import re\n",
    "import html\n",
    "from duckduckgo_search import DDGS"
   ]
  },
  {
   "cell_type": "code",
   "execution_count": 4,
   "id": "2c3a1c2a",
   "metadata": {
    "execution": {
     "iopub.execute_input": "2024-08-21T02:18:57.381802Z",
     "iopub.status.busy": "2024-08-21T02:18:57.381123Z",
     "iopub.status.idle": "2024-08-21T02:18:57.388383Z",
     "shell.execute_reply": "2024-08-21T02:18:57.386963Z"
    },
    "papermill": {
     "duration": 0.019599,
     "end_time": "2024-08-21T02:18:57.391119",
     "exception": false,
     "start_time": "2024-08-21T02:18:57.371520",
     "status": "completed"
    },
    "tags": []
   },
   "outputs": [],
   "source": [
    "# boilerplate removal\n",
    "\n",
    "def remove_boilerplate(text):\n",
    "    boilerplate = ['cookie policy', 'privacy policy', 'terms of service', 'all rights reserved', '\\n']\n",
    "    for phrase in boilerplate:\n",
    "        text = re.sub(r'(?i)' + re.escape(phrase) + r'.*', '', text)\n",
    "    return text"
   ]
  },
  {
   "cell_type": "code",
   "execution_count": 5,
   "id": "d639160c",
   "metadata": {
    "execution": {
     "iopub.execute_input": "2024-08-21T02:18:57.410187Z",
     "iopub.status.busy": "2024-08-21T02:18:57.409719Z",
     "iopub.status.idle": "2024-08-21T02:18:57.422631Z",
     "shell.execute_reply": "2024-08-21T02:18:57.421160Z"
    },
    "papermill": {
     "duration": 0.02613,
     "end_time": "2024-08-21T02:18:57.426149",
     "exception": false,
     "start_time": "2024-08-21T02:18:57.400019",
     "status": "completed"
    },
    "tags": []
   },
   "outputs": [],
   "source": [
    "# comment truncation (20% threshold default)\n",
    "\n",
    "def truncate_at_comments(review_text, threshold_percentage=20, min_review_length=100):\n",
    "    comment_identifiers = [\n",
    "        'Comments', 'Leave a comment', 'Reader comments', \n",
    "        'What do you think?', 'Join the discussion', 'Add a comment',\n",
    "        'Post a comment', 'Write a comment', 'Show comments'\n",
    "    ]\n",
    "    \n",
    "    lower_text = review_text.lower()\n",
    "    text_length = len(lower_text)\n",
    "    threshold = max(int(text_length * (threshold_percentage / 100)), min_review_length)\n",
    "\n",
    "    # Check for comment identifiers\n",
    "    for identifier in comment_identifiers:\n",
    "        index = lower_text.find(identifier.lower())\n",
    "        if index != -1 and index > threshold:\n",
    "            return review_text[:index].strip()\n",
    "    \n",
    "    # If no identifiers found, try to detect comment-like structures\n",
    "    paragraphs = review_text.split('\\n\\n')\n",
    "    filtered_paragraphs = []\n",
    "    \n",
    "    for paragraph in paragraphs:\n",
    "        # Skip short paragraphs that might be comments\n",
    "        if len(paragraph) < 50:\n",
    "            continue\n",
    "        \n",
    "        # Skip paragraphs that start with common comment patterns\n",
    "        if re.match(r'^(Posted by|From|User|Anonymous|[\\d/]+:)', paragraph.strip()):\n",
    "            continue\n",
    "        \n",
    "        filtered_paragraphs.append(paragraph)\n",
    "    \n",
    "    # If we've removed some paragraphs, join the remaining ones\n",
    "    if len(filtered_paragraphs) < len(paragraphs):\n",
    "        return '\\n\\n'.join(filtered_paragraphs).strip()\n",
    "    \n",
    "    # If we haven't removed any paragraphs, return at least the first part of the text\n",
    "    return review_text[:max(threshold, len(review_text) // 2)].strip()"
   ]
  },
  {
   "cell_type": "code",
   "execution_count": 6,
   "id": "a9a1f3e0",
   "metadata": {
    "execution": {
     "iopub.execute_input": "2024-08-21T02:18:57.444441Z",
     "iopub.status.busy": "2024-08-21T02:18:57.443995Z",
     "iopub.status.idle": "2024-08-21T02:18:57.451729Z",
     "shell.execute_reply": "2024-08-21T02:18:57.450308Z"
    },
    "papermill": {
     "duration": 0.020444,
     "end_time": "2024-08-21T02:18:57.454914",
     "exception": false,
     "start_time": "2024-08-21T02:18:57.434470",
     "status": "completed"
    },
    "tags": []
   },
   "outputs": [],
   "source": [
    "# remove comment classes\n",
    "\n",
    "def remove_comments(review_soup):\n",
    "    # Common class names for comment sections\n",
    "    comment_classes = ['comment', 'comments-list', 'comments-area', 'comments', 'comment-section', 'user-comments', 'disqus_thread']\n",
    "    \n",
    "    for class_name in comment_classes:\n",
    "        comment_section = review_soup.find('div', class_=class_name)\n",
    "        if comment_section:\n",
    "            comment_section.decompose()  # This removes the element from the soup\n",
    "    \n",
    "    return review_soup"
   ]
  },
  {
   "cell_type": "code",
   "execution_count": 7,
   "id": "eba061aa",
   "metadata": {
    "execution": {
     "iopub.execute_input": "2024-08-21T02:18:57.473216Z",
     "iopub.status.busy": "2024-08-21T02:18:57.472767Z",
     "iopub.status.idle": "2024-08-21T02:18:57.479566Z",
     "shell.execute_reply": "2024-08-21T02:18:57.478209Z"
    },
    "papermill": {
     "duration": 0.018955,
     "end_time": "2024-08-21T02:18:57.482149",
     "exception": false,
     "start_time": "2024-08-21T02:18:57.463194",
     "status": "completed"
    },
    "tags": []
   },
   "outputs": [],
   "source": [
    "# paragraph scoring for review content\n",
    "\n",
    "def score_paragraph(paragraph):\n",
    "    review_keywords = ['review', 'book', 'read', 'author', 'story', 'character', 'plot', 'recommend']\n",
    "    return sum(keyword in paragraph.lower() for keyword in review_keywords)"
   ]
  },
  {
   "cell_type": "code",
   "execution_count": 8,
   "id": "52da63f2",
   "metadata": {
    "execution": {
     "iopub.execute_input": "2024-08-21T02:18:57.500270Z",
     "iopub.status.busy": "2024-08-21T02:18:57.499830Z",
     "iopub.status.idle": "2024-08-21T02:18:57.507503Z",
     "shell.execute_reply": "2024-08-21T02:18:57.506297Z"
    },
    "papermill": {
     "duration": 0.019884,
     "end_time": "2024-08-21T02:18:57.510306",
     "exception": false,
     "start_time": "2024-08-21T02:18:57.490422",
     "status": "completed"
    },
    "tags": []
   },
   "outputs": [],
   "source": [
    "# add retries with timeouts selectively\n",
    "\n",
    "from requests.adapters import HTTPAdapter\n",
    "from urllib3.util.retry import Retry\n",
    "\n",
    "def create_session_with_retries():\n",
    "    session = requests.Session()\n",
    "    retries = Retry(total=3, backoff_factor=1, status_forcelist=[429, 500, 502, 503, 504])\n",
    "    adapter = HTTPAdapter(max_retries=retries)\n",
    "    session.mount('http://', adapter)\n",
    "    session.mount('https://', adapter)\n",
    "    return session"
   ]
  },
  {
   "cell_type": "code",
   "execution_count": 9,
   "id": "a5c1029e",
   "metadata": {
    "execution": {
     "iopub.execute_input": "2024-08-21T02:18:57.528955Z",
     "iopub.status.busy": "2024-08-21T02:18:57.528156Z",
     "iopub.status.idle": "2024-08-21T02:18:57.542110Z",
     "shell.execute_reply": "2024-08-21T02:18:57.540694Z"
    },
    "papermill": {
     "duration": 0.026119,
     "end_time": "2024-08-21T02:18:57.544684",
     "exception": false,
     "start_time": "2024-08-21T02:18:57.518565",
     "status": "completed"
    },
    "tags": []
   },
   "outputs": [],
   "source": [
    "exceptions = ('google.', 'goodreads.com', 'amazon.', 'reddit.com', 'thestorygraph', 'youtube','.tv', 'barnesandnoble.com','wikipedia.','quora.com','sparknotes.com')\n",
    "\n",
    "def process_review_url(review_url, headers):\n",
    "    reviews = []\n",
    "    # Skip known non-review sites\n",
    "    # if any(site in review_url for site in ['google.com', 'wikipedia.org']):\n",
    "    if any(site in review_url.lower() for site in exceptions):\n",
    "        return reviews\n",
    "    \n",
    "    session = create_session_with_retries()\n",
    "    \n",
    "    try:\n",
    "        # Fetch the review page\n",
    "        # review_response = requests.get(review_url, headers=headers, timeout=10)\n",
    "        review_response = session.get(review_url, headers=headers, timeout=20)  # Increased timeout to 20 seconds\n",
    "        review_soup = BeautifulSoup(review_response.text, 'html.parser')\n",
    "        \n",
    "        # Remove Comments\n",
    "        review_soup = remove_comments(review_soup)\n",
    "        \n",
    "        # Review elements\n",
    "        review_elements = review_soup.find_all(['main','p'])\n",
    "        scored_paragraphs = [(elem, score_paragraph(elem.text)) for elem in review_elements]\n",
    "        \n",
    "        # Extract review text\n",
    "        review_paragraphs = [elem.text for elem, score in sorted(scored_paragraphs, key=lambda x: x[1], reverse=True)[:3]]\n",
    "        \n",
    "        # Search for relevant text\n",
    "        review_text = ' '.join(review_paragraphs)\n",
    "        \n",
    "        # Remove boilerplate\n",
    "        review_text = review_text.replace('\\n', ' ')\n",
    "        review_text = remove_boilerplate(review_text)\n",
    "        \n",
    "        # Truncate at Comments\n",
    "        review_text = truncate_at_comments(review_text)\n",
    "        \n",
    "        review_date = 'Unknown'\n",
    "        \n",
    "        reviews.append({\n",
    "            'review_text': review_text[:5000],  # Limit to first 5000 characters\n",
    "            'review_date': review_date,\n",
    "            'review_website': review_url\n",
    "        })\n",
    "        \n",
    "    except Exception as e:\n",
    "        print(f\"Error processing {review_url}: {str(e)}\")\n",
    "    \n",
    "    # Be polite to servers\n",
    "    time.sleep(random.uniform(1, 3))\n",
    "    \n",
    "    return reviews"
   ]
  },
  {
   "cell_type": "code",
   "execution_count": 10,
   "id": "fc12ca97",
   "metadata": {
    "execution": {
     "iopub.execute_input": "2024-08-21T02:18:57.562670Z",
     "iopub.status.busy": "2024-08-21T02:18:57.562255Z",
     "iopub.status.idle": "2024-08-21T02:18:57.570095Z",
     "shell.execute_reply": "2024-08-21T02:18:57.568985Z"
    },
    "papermill": {
     "duration": 0.019778,
     "end_time": "2024-08-21T02:18:57.572634",
     "exception": false,
     "start_time": "2024-08-21T02:18:57.552856",
     "status": "completed"
    },
    "tags": []
   },
   "outputs": [],
   "source": [
    "# search_book_review test\n",
    "\n",
    "def search_book_reviews(book_name, author):\n",
    "    # Combine book name and author for search query\n",
    "    search_query = f\"{book_name} {author} book review\"\n",
    "    \n",
    "    print(f\"Searching for: {search_query}\")\n",
    "    \n",
    "    reviews = []\n",
    "    \n",
    "    # Define headers\n",
    "    headers = {'User-Agent': 'Mozilla/5.0 (Windows NT 10.0; Win64; x64) AppleWebKit/537.36 (KHTML, like Gecko) Chrome/91.0.4472.124 Safari/537.36'}\n",
    "    \n",
    "    # Use DDGS for searching\n",
    "    with DDGS() as ddgs:\n",
    "        results = ddgs.text(search_query, max_results=10)  # Adjust max_results as needed\n",
    "        \n",
    "        for result in results:\n",
    "            review_url = result['href']\n",
    "            reviews.extend(process_review_url(review_url, headers))\n",
    "    \n",
    "    # Create DataFrame\n",
    "    df = pd.DataFrame(reviews)\n",
    "    \n",
    "    return df"
   ]
  },
  {
   "cell_type": "code",
   "execution_count": 11,
   "id": "217a26c5",
   "metadata": {
    "execution": {
     "iopub.execute_input": "2024-08-21T02:18:57.590909Z",
     "iopub.status.busy": "2024-08-21T02:18:57.590465Z",
     "iopub.status.idle": "2024-08-21T02:19:18.041517Z",
     "shell.execute_reply": "2024-08-21T02:19:18.040289Z"
    },
    "papermill": {
     "duration": 20.463705,
     "end_time": "2024-08-21T02:19:18.044507",
     "exception": false,
     "start_time": "2024-08-21T02:18:57.580802",
     "status": "completed"
    },
    "tags": []
   },
   "outputs": [
    {
     "name": "stdout",
     "output_type": "stream",
     "text": [
      "Searching for: Darth Plagueis James Luceno book review\n"
     ]
    }
   ],
   "source": [
    "# Example usage\n",
    "book_name = \"Darth Plagueis\"\n",
    "author = \"James Luceno\"\n",
    "\n",
    "df = search_book_reviews(book_name, author)"
   ]
  },
  {
   "cell_type": "code",
   "execution_count": 12,
   "id": "35c94a08",
   "metadata": {
    "execution": {
     "iopub.execute_input": "2024-08-21T02:19:18.063176Z",
     "iopub.status.busy": "2024-08-21T02:19:18.062725Z",
     "iopub.status.idle": "2024-08-21T02:19:18.076580Z",
     "shell.execute_reply": "2024-08-21T02:19:18.075334Z"
    },
    "papermill": {
     "duration": 0.026153,
     "end_time": "2024-08-21T02:19:18.079118",
     "exception": false,
     "start_time": "2024-08-21T02:19:18.052965",
     "status": "completed"
    },
    "tags": []
   },
   "outputs": [
    {
     "name": "stdout",
     "output_type": "stream",
     "text": [
      "Reviews saved to Darth_Plagueis_reviews.csv\n"
     ]
    }
   ],
   "source": [
    "# Save to CSV\n",
    "df.to_csv(f\"{book_name.replace(' ', '_')}_reviews.csv\", index=False)\n",
    "print(f\"Reviews saved to {book_name.replace(' ', '_')}_reviews.csv\")"
   ]
  },
  {
   "cell_type": "code",
   "execution_count": 13,
   "id": "19a5e34b",
   "metadata": {
    "execution": {
     "iopub.execute_input": "2024-08-21T02:19:18.097766Z",
     "iopub.status.busy": "2024-08-21T02:19:18.096936Z",
     "iopub.status.idle": "2024-08-21T02:19:18.120659Z",
     "shell.execute_reply": "2024-08-21T02:19:18.119377Z"
    },
    "papermill": {
     "duration": 0.036084,
     "end_time": "2024-08-21T02:19:18.123465",
     "exception": false,
     "start_time": "2024-08-21T02:19:18.087381",
     "status": "completed"
    },
    "tags": []
   },
   "outputs": [
    {
     "data": {
      "text/html": [
       "<div>\n",
       "<style scoped>\n",
       "    .dataframe tbody tr th:only-of-type {\n",
       "        vertical-align: middle;\n",
       "    }\n",
       "\n",
       "    .dataframe tbody tr th {\n",
       "        vertical-align: top;\n",
       "    }\n",
       "\n",
       "    .dataframe thead th {\n",
       "        text-align: right;\n",
       "    }\n",
       "</style>\n",
       "<table border=\"1\" class=\"dataframe\">\n",
       "  <thead>\n",
       "    <tr style=\"text-align: right;\">\n",
       "      <th></th>\n",
       "      <th>review_text</th>\n",
       "      <th>review_date</th>\n",
       "      <th>review_website</th>\n",
       "    </tr>\n",
       "  </thead>\n",
       "  <tbody>\n",
       "    <tr>\n",
       "      <th>0</th>\n",
       "      <td>Pre-publication book reviews and features keep...</td>\n",
       "      <td>Unknown</td>\n",
       "      <td>https://www.kirkusreviews.com/book-reviews/jam...</td>\n",
       "    </tr>\n",
       "    <tr>\n",
       "      <th>1</th>\n",
       "      <td>James Luceno’s 2012 novel Darth Plagueis, one ...</td>\n",
       "      <td>Unknown</td>\n",
       "      <td>https://greatbooksguy.com/2023/06/17/book-revi...</td>\n",
       "    </tr>\n",
       "    <tr>\n",
       "      <th>2</th>\n",
       "      <td>Read more of our  book reviews  .  But perhaps...</td>\n",
       "      <td>Unknown</td>\n",
       "      <td>https://www.gamesradar.com/star-wars-darth-pla...</td>\n",
       "    </tr>\n",
       "    <tr>\n",
       "      <th>3</th>\n",
       "      <td>Star Wars: Darth PlagueisStar Wars: Darth Plag...</td>\n",
       "      <td>Unknown</td>\n",
       "      <td>https://www.ign.com/articles/2012/02/03/star-w...</td>\n",
       "    </tr>\n",
       "    <tr>\n",
       "      <th>4</th>\n",
       "      <td>Book Review: Darth Plagueis  Posted on January...</td>\n",
       "      <td>Unknown</td>\n",
       "      <td>https://starwarsreport.com/2012/01/10/book-rev...</td>\n",
       "    </tr>\n",
       "  </tbody>\n",
       "</table>\n",
       "</div>"
      ],
      "text/plain": [
       "                                         review_text review_date  \\\n",
       "0  Pre-publication book reviews and features keep...     Unknown   \n",
       "1  James Luceno’s 2012 novel Darth Plagueis, one ...     Unknown   \n",
       "2  Read more of our  book reviews  .  But perhaps...     Unknown   \n",
       "3  Star Wars: Darth PlagueisStar Wars: Darth Plag...     Unknown   \n",
       "4  Book Review: Darth Plagueis  Posted on January...     Unknown   \n",
       "\n",
       "                                      review_website  \n",
       "0  https://www.kirkusreviews.com/book-reviews/jam...  \n",
       "1  https://greatbooksguy.com/2023/06/17/book-revi...  \n",
       "2  https://www.gamesradar.com/star-wars-darth-pla...  \n",
       "3  https://www.ign.com/articles/2012/02/03/star-w...  \n",
       "4  https://starwarsreport.com/2012/01/10/book-rev...  "
      ]
     },
     "execution_count": 13,
     "metadata": {},
     "output_type": "execute_result"
    }
   ],
   "source": [
    "df.head()"
   ]
  },
  {
   "cell_type": "code",
   "execution_count": 14,
   "id": "30fb14c5",
   "metadata": {
    "execution": {
     "iopub.execute_input": "2024-08-21T02:19:18.143192Z",
     "iopub.status.busy": "2024-08-21T02:19:18.142066Z",
     "iopub.status.idle": "2024-08-21T02:19:18.153350Z",
     "shell.execute_reply": "2024-08-21T02:19:18.152146Z"
    },
    "papermill": {
     "duration": 0.023983,
     "end_time": "2024-08-21T02:19:18.156116",
     "exception": false,
     "start_time": "2024-08-21T02:19:18.132133",
     "status": "completed"
    },
    "tags": []
   },
   "outputs": [],
   "source": [
    "import csv\n",
    "from tqdm import tqdm"
   ]
  },
  {
   "cell_type": "code",
   "execution_count": 15,
   "id": "6ec4d269",
   "metadata": {
    "execution": {
     "iopub.execute_input": "2024-08-21T02:19:18.175104Z",
     "iopub.status.busy": "2024-08-21T02:19:18.174680Z",
     "iopub.status.idle": "2024-08-21T02:19:18.185674Z",
     "shell.execute_reply": "2024-08-21T02:19:18.184527Z"
    },
    "papermill": {
     "duration": 0.023687,
     "end_time": "2024-08-21T02:19:18.188437",
     "exception": false,
     "start_time": "2024-08-21T02:19:18.164750",
     "status": "completed"
    },
    "tags": []
   },
   "outputs": [],
   "source": [
    "def process_book_list(input_csv, output_csv):\n",
    "    # Read the input CSV\n",
    "    df = pd.read_csv(input_csv)\n",
    "    \n",
    "    all_reviews = []\n",
    "    \n",
    "    # Iterate through each row in the dataframe\n",
    "    for index, row in tqdm(df.iterrows(), total=df.shape[0], desc=\"Processing books\"):\n",
    "        title = row['Title']\n",
    "        authors = row['Authors']\n",
    "        \n",
    "        try:\n",
    "            # Get reviews for this book\n",
    "            reviews_df = search_book_reviews(title, authors)\n",
    "            \n",
    "            # Add book information to each review\n",
    "            reviews_df['Title'] = title\n",
    "            reviews_df['Authors'] = authors\n",
    "            reviews_df['Avg Ratings'] = row['Avg Ratings']\n",
    "            reviews_df['Rating'] = row['Rating']\n",
    "            reviews_df['Published_year'] = row['Published_year']\n",
    "            \n",
    "            all_reviews.append(reviews_df)\n",
    "        \n",
    "        except Exception as e:\n",
    "            print(f\"Error processing {title} by {authors}: {str(e)}\")\n",
    "    \n",
    "    # Combine all reviews into a single dataframe\n",
    "    if all_reviews:\n",
    "        final_df = pd.concat(all_reviews, ignore_index=True)\n",
    "        \n",
    "        # Save to CSV\n",
    "        final_df.to_csv(output_csv, index=False, quoting=csv.QUOTE_ALL)\n",
    "        print(f\"Reviews saved to {output_csv}\")\n",
    "    else:\n",
    "        print(\"No reviews were collected.\")"
   ]
  },
  {
   "cell_type": "code",
   "execution_count": 16,
   "id": "2fd7d2a4",
   "metadata": {
    "execution": {
     "iopub.execute_input": "2024-08-21T02:19:18.207916Z",
     "iopub.status.busy": "2024-08-21T02:19:18.207524Z",
     "iopub.status.idle": "2024-08-21T05:28:38.468829Z",
     "shell.execute_reply": "2024-08-21T05:28:38.467377Z"
    },
    "papermill": {
     "duration": 11360.274086,
     "end_time": "2024-08-21T05:28:38.471658",
     "exception": false,
     "start_time": "2024-08-21T02:19:18.197572",
     "status": "completed"
    },
    "tags": []
   },
   "outputs": [
    {
     "name": "stderr",
     "output_type": "stream",
     "text": [
      "Processing books:   0%|          | 0/1250 [00:00<?, ?it/s]"
     ]
    },
    {
     "name": "stdout",
     "output_type": "stream",
     "text": [
      "Searching for: Harry Potter and the Sorcerer’s Stone (Harry Potter, #1) J.K. Rowling book review\n"
     ]
    },
    {
     "name": "stderr",
     "output_type": "stream",
     "text": [
      "Processing books:   0%|          | 1/1250 [00:08<3:07:20,  9.00s/it]"
     ]
    },
    {
     "name": "stdout",
     "output_type": "stream",
     "text": [
      "Searching for: Harry Potter and the Chamber of Secrets (Harry Potter, #2) J.K. Rowling book review\n"
     ]
    },
    {
     "name": "stderr",
     "output_type": "stream",
     "text": [
      "Processing books:   0%|          | 2/1250 [00:22<4:06:17, 11.84s/it]"
     ]
    },
    {
     "name": "stdout",
     "output_type": "stream",
     "text": [
      "Searching for: Harry Potter and the Prisoner of Azkaban (Harry Potter, #3) J.K. Rowling book review\n"
     ]
    },
    {
     "name": "stderr",
     "output_type": "stream",
     "text": [
      "Processing books:   0%|          | 3/1250 [00:42<5:17:27, 15.27s/it]"
     ]
    },
    {
     "name": "stdout",
     "output_type": "stream",
     "text": [
      "Searching for: The Hobbit (The Lord of the Rings, #0) J.R.R. Tolkien book review\n"
     ]
    },
    {
     "name": "stderr",
     "output_type": "stream",
     "text": [
      "Processing books:   0%|          | 4/1250 [00:51<4:25:28, 12.78s/it]"
     ]
    },
    {
     "name": "stdout",
     "output_type": "stream",
     "text": [
      "Searching for: Harry Potter and the Goblet of Fire (Harry Potter, #4) J.K. Rowling book review\n"
     ]
    },
    {
     "name": "stderr",
     "output_type": "stream",
     "text": [
      "Processing books:   0%|          | 5/1250 [01:02<4:17:01, 12.39s/it]"
     ]
    },
    {
     "name": "stdout",
     "output_type": "stream",
     "text": [
      "Searching for: Harry Potter and the Order of the Phoenix (Harry Potter, #5) J.K. Rowling book review\n"
     ]
    },
    {
     "name": "stderr",
     "output_type": "stream",
     "text": [
      "Processing books:   0%|          | 6/1250 [01:21<4:58:35, 14.40s/it]"
     ]
    },
    {
     "name": "stdout",
     "output_type": "stream",
     "text": [
      "Searching for: Harry Potter and the Half-Blood Prince (Harry Potter, #6) J.K. Rowling book review\n"
     ]
    },
    {
     "name": "stderr",
     "output_type": "stream",
     "text": [
      "Processing books:   1%|          | 7/1250 [01:34<4:48:34, 13.93s/it]"
     ]
    },
    {
     "name": "stdout",
     "output_type": "stream",
     "text": [
      "Searching for: Harry Potter and the Deathly Hallows (Harry Potter, #7) J.K. Rowling book review\n"
     ]
    },
    {
     "name": "stderr",
     "output_type": "stream",
     "text": [
      "Processing books:   1%|          | 8/1250 [01:46<4:36:53, 13.38s/it]"
     ]
    },
    {
     "name": "stdout",
     "output_type": "stream",
     "text": [
      "Searching for: A Game of Thrones (A Song of Ice and Fire, #1) George R.R. Martin book review\n"
     ]
    },
    {
     "name": "stderr",
     "output_type": "stream",
     "text": [
      "Processing books:   1%|          | 9/1250 [01:53<3:58:59, 11.55s/it]"
     ]
    },
    {
     "name": "stdout",
     "output_type": "stream",
     "text": [
      "Searching for: The Fellowship of the Ring (Middle Earth, #1) J.R.R. Tolkien book review\n"
     ]
    },
    {
     "name": "stderr",
     "output_type": "stream",
     "text": [
      "Processing books:   1%|          | 10/1250 [01:56<3:02:12,  8.82s/it]"
     ]
    },
    {
     "name": "stdout",
     "output_type": "stream",
     "text": [
      "Searching for: A Court of Thorns and Roses (A Court of Thorns and Roses, #1) Sarah J. Maas book review\n"
     ]
    },
    {
     "name": "stderr",
     "output_type": "stream",
     "text": [
      "Processing books:   1%|          | 11/1250 [02:06<3:11:36,  9.28s/it]"
     ]
    },
    {
     "name": "stdout",
     "output_type": "stream",
     "text": [
      "Searching for: A Clash of Kings  (A Song of Ice and Fire, #2) George R.R. Martin book review\n"
     ]
    },
    {
     "name": "stderr",
     "output_type": "stream",
     "text": [
      "Processing books:   1%|          | 12/1250 [02:11<2:40:14,  7.77s/it]"
     ]
    },
    {
     "name": "stdout",
     "output_type": "stream",
     "text": [
      "Searching for: The Two Towers (Middle Earth, #3) J.R.R. Tolkien book review\n"
     ]
    },
    {
     "name": "stderr",
     "output_type": "stream",
     "text": [
      "Processing books:   1%|          | 13/1250 [02:26<3:28:16, 10.10s/it]"
     ]
    },
    {
     "name": "stdout",
     "output_type": "stream",
     "text": [
      "Searching for: Six of Crows (Six of Crows, #1) Leigh Bardugo book review\n"
     ]
    },
    {
     "name": "stderr",
     "output_type": "stream",
     "text": [
      "Processing books:   1%|          | 14/1250 [02:29<2:45:50,  8.05s/it]"
     ]
    },
    {
     "name": "stdout",
     "output_type": "stream",
     "text": [
      "Searching for: The Name of the Wind (The Kingkiller Chronicle, #1) Patrick Rothfuss book review\n"
     ]
    },
    {
     "name": "stderr",
     "output_type": "stream",
     "text": [
      "Processing books:   1%|          | 15/1250 [02:31<2:02:35,  5.96s/it]"
     ]
    },
    {
     "name": "stdout",
     "output_type": "stream",
     "text": [
      "Searching for: The Final Empire (Mistborn, #1) Brandon Sanderson book review\n"
     ]
    },
    {
     "name": "stderr",
     "output_type": "stream",
     "text": [
      "Processing books:   1%|▏         | 16/1250 [02:45<2:57:08,  8.61s/it]"
     ]
    },
    {
     "name": "stdout",
     "output_type": "stream",
     "text": [
      "Searching for: The Return of the King (Middle Earth, #4) J.R.R. Tolkien book review\n"
     ]
    },
    {
     "name": "stderr",
     "output_type": "stream",
     "text": [
      "Processing books:   1%|▏         | 17/1250 [02:58<3:22:23,  9.85s/it]"
     ]
    },
    {
     "name": "stdout",
     "output_type": "stream",
     "text": [
      "Searching for: A Court of Mist and Fury (A Court of Thorns and Roses, #2) Sarah J. Maas book review\n"
     ]
    },
    {
     "name": "stderr",
     "output_type": "stream",
     "text": [
      "Processing books:   1%|▏         | 18/1250 [03:04<2:55:02,  8.53s/it]"
     ]
    },
    {
     "name": "stdout",
     "output_type": "stream",
     "text": [
      "Searching for: The Lightning Thief (Percy Jackson and the Olympians, #1) Rick Riordan book review\n"
     ]
    },
    {
     "name": "stderr",
     "output_type": "stream",
     "text": [
      "Processing books:   2%|▏         | 19/1250 [03:13<2:57:51,  8.67s/it]"
     ]
    },
    {
     "name": "stdout",
     "output_type": "stream",
     "text": [
      "Searching for: Shadow and Bone (The Shadow and Bone Trilogy, #1) Leigh Bardugo book review\n"
     ]
    },
    {
     "name": "stderr",
     "output_type": "stream",
     "text": [
      "Processing books:   2%|▏         | 20/1250 [03:19<2:44:39,  8.03s/it]"
     ]
    },
    {
     "name": "stdout",
     "output_type": "stream",
     "text": [
      "Searching for: The Lion, the Witch and the Wardrobe (Chronicles of Narnia, #1) C.S. Lewis book review\n"
     ]
    },
    {
     "name": "stderr",
     "output_type": "stream",
     "text": [
      "Processing books:   2%|▏         | 21/1250 [03:38<3:49:19, 11.20s/it]"
     ]
    },
    {
     "name": "stdout",
     "output_type": "stream",
     "text": [
      "Searching for: The Cruel Prince (The Folk of the Air, #1) Holly Black book review\n"
     ]
    },
    {
     "name": "stderr",
     "output_type": "stream",
     "text": [
      "Processing books:   2%|▏         | 22/1250 [03:50<3:56:22, 11.55s/it]"
     ]
    },
    {
     "name": "stdout",
     "output_type": "stream",
     "text": [
      "Searching for: A Storm of Swords (A Song of Ice and Fire, #3) George R.R. Martin book review\n"
     ]
    },
    {
     "name": "stderr",
     "output_type": "stream",
     "text": [
      "Processing books:   2%|▏         | 23/1250 [03:53<3:04:12,  9.01s/it]"
     ]
    },
    {
     "name": "stdout",
     "output_type": "stream",
     "text": [
      "Searching for: A Feast for Crows (A Song of Ice and Fire, #4) George R.R. Martin book review\n"
     ]
    },
    {
     "name": "stderr",
     "output_type": "stream",
     "text": [
      "Processing books:   2%|▏         | 24/1250 [04:01<2:58:33,  8.74s/it]"
     ]
    },
    {
     "name": "stdout",
     "output_type": "stream",
     "text": [
      "Searching for: The Golden Compass (His Dark Materials, #1) Philip Pullman book review\n"
     ]
    },
    {
     "name": "stderr",
     "output_type": "stream",
     "text": [
      "Processing books:   2%|▏         | 25/1250 [04:13<3:18:20,  9.71s/it]"
     ]
    },
    {
     "name": "stdout",
     "output_type": "stream",
     "text": [
      "Searching for: Eragon (The Inheritance Cycle, #1) Christopher Paolini book review\n"
     ]
    },
    {
     "name": "stderr",
     "output_type": "stream",
     "text": [
      "Processing books:   2%|▏         | 26/1250 [04:19<2:54:05,  8.53s/it]"
     ]
    },
    {
     "name": "stdout",
     "output_type": "stream",
     "text": [
      "Searching for: A Court of Wings and Ruin (A Court of Thorns and Roses, #3) Sarah J. Maas book review\n"
     ]
    },
    {
     "name": "stderr",
     "output_type": "stream",
     "text": [
      "Processing books:   2%|▏         | 27/1250 [04:32<3:22:44,  9.95s/it]"
     ]
    },
    {
     "name": "stdout",
     "output_type": "stream",
     "text": [
      "Searching for: A Dance with Dragons (A Song of Ice and Fire, #5) George R.R. Martin book review\n"
     ]
    },
    {
     "name": "stderr",
     "output_type": "stream",
     "text": [
      "Processing books:   2%|▏         | 28/1250 [04:41<3:13:56,  9.52s/it]"
     ]
    },
    {
     "name": "stdout",
     "output_type": "stream",
     "text": [
      "Searching for: The Night Circus (Hardcover) Erin Morgenstern book review\n"
     ]
    },
    {
     "name": "stderr",
     "output_type": "stream",
     "text": [
      "Processing books:   2%|▏         | 29/1250 [04:59<4:07:59, 12.19s/it]"
     ]
    },
    {
     "name": "stdout",
     "output_type": "stream",
     "text": [
      "Searching for: American Gods (Kindle Edition) Neil Gaiman book review\n"
     ]
    },
    {
     "name": "stderr",
     "output_type": "stream",
     "text": [
      "Processing books:   2%|▏         | 30/1250 [05:14<4:21:15, 12.85s/it]"
     ]
    },
    {
     "name": "stdout",
     "output_type": "stream",
     "text": [
      "Searching for: City of Bones (The Mortal Instruments, #1) Cassandra Clare book review\n"
     ]
    },
    {
     "name": "stderr",
     "output_type": "stream",
     "text": [
      "Processing books:   2%|▏         | 31/1250 [05:17<3:23:25, 10.01s/it]"
     ]
    },
    {
     "name": "stdout",
     "output_type": "stream",
     "text": [
      "Searching for: The Eye of the World (The Wheel of Time, #1) Robert Jordan book review\n"
     ]
    },
    {
     "name": "stderr",
     "output_type": "stream",
     "text": [
      "Processing books:   3%|▎         | 32/1250 [05:21<2:48:43,  8.31s/it]"
     ]
    },
    {
     "name": "stdout",
     "output_type": "stream",
     "text": [
      "Searching for: Twilight (The Twilight Saga, #1) Stephenie Meyer book review\n"
     ]
    },
    {
     "name": "stderr",
     "output_type": "stream",
     "text": [
      "Processing books:   3%|▎         | 33/1250 [05:29<2:47:28,  8.26s/it]"
     ]
    },
    {
     "name": "stdout",
     "output_type": "stream",
     "text": [
      "Searching for: The Way of Kings (The Stormlight Archive, #1) Brandon Sanderson book review\n"
     ]
    },
    {
     "name": "stderr",
     "output_type": "stream",
     "text": [
      "Processing books:   3%|▎         | 34/1250 [05:36<2:39:13,  7.86s/it]"
     ]
    },
    {
     "name": "stdout",
     "output_type": "stream",
     "text": [
      "Searching for: Crown of Midnight (Throne of Glass, #2) Sarah J. Maas book review\n"
     ]
    },
    {
     "name": "stderr",
     "output_type": "stream",
     "text": [
      "Processing books:   3%|▎         | 35/1250 [05:57<3:54:40, 11.59s/it]"
     ]
    },
    {
     "name": "stdout",
     "output_type": "stream",
     "text": [
      "Searching for: A Darker Shade of Magic (Shades of Magic, #1) Victoria Schwab book review\n"
     ]
    },
    {
     "name": "stderr",
     "output_type": "stream",
     "text": [
      "Processing books:   3%|▎         | 36/1250 [06:07<3:46:20, 11.19s/it]"
     ]
    },
    {
     "name": "stdout",
     "output_type": "stream",
     "text": [
      "Searching for: Crooked Kingdom (Six of Crows, #2) Leigh Bardugo book review\n"
     ]
    },
    {
     "name": "stderr",
     "output_type": "stream",
     "text": [
      "Processing books:   3%|▎         | 37/1250 [06:11<3:03:27,  9.07s/it]"
     ]
    },
    {
     "name": "stdout",
     "output_type": "stream",
     "text": [
      "Searching for: Good Omens: The Nice and Accurate Prophecies of Agnes Nutter, Witch (Mass Market Paperback) Terry Pratchett book review\n"
     ]
    },
    {
     "name": "stderr",
     "output_type": "stream",
     "text": [
      "Processing books:   3%|▎         | 38/1250 [06:19<2:53:47,  8.60s/it]"
     ]
    },
    {
     "name": "stdout",
     "output_type": "stream",
     "text": [
      "Searching for: The Sea of Monsters (Percy Jackson and the Olympians, #2) Rick Riordan book review\n"
     ]
    },
    {
     "name": "stderr",
     "output_type": "stream",
     "text": [
      "Processing books:   3%|▎         | 39/1250 [06:27<2:53:55,  8.62s/it]"
     ]
    },
    {
     "name": "stdout",
     "output_type": "stream",
     "text": [
      "Searching for: The Well of Ascension (Mistborn, #2) Brandon Sanderson book review\n"
     ]
    },
    {
     "name": "stderr",
     "output_type": "stream",
     "text": [
      "Processing books:   3%|▎         | 40/1250 [06:28<2:07:51,  6.34s/it]"
     ]
    },
    {
     "name": "stdout",
     "output_type": "stream",
     "text": [
      "Searching for: Stardust (Paperback) Neil Gaiman book review\n"
     ]
    },
    {
     "name": "stderr",
     "output_type": "stream",
     "text": [
      "Processing books:   3%|▎         | 41/1250 [06:49<3:35:10, 10.68s/it]"
     ]
    },
    {
     "name": "stdout",
     "output_type": "stream",
     "text": [
      "Searching for: Assassin's Apprentice (Farseer Trilogy, #1) Robin Hobb book review\n"
     ]
    },
    {
     "name": "stderr",
     "output_type": "stream",
     "text": [
      "Processing books:   3%|▎         | 42/1250 [06:50<2:36:50,  7.79s/it]"
     ]
    },
    {
     "name": "stdout",
     "output_type": "stream",
     "text": [
      "Searching for: Siege and Storm (The Shadow and Bone Trilogy, #2) Leigh Bardugo book review\n"
     ]
    },
    {
     "name": "stderr",
     "output_type": "stream",
     "text": [
      "Processing books:   3%|▎         | 43/1250 [06:53<2:05:45,  6.25s/it]"
     ]
    },
    {
     "name": "stdout",
     "output_type": "stream",
     "text": [
      "Searching for: Neverwhere (London Below, #1) Neil Gaiman book review\n"
     ]
    },
    {
     "name": "stderr",
     "output_type": "stream",
     "text": [
      "Processing books:   4%|▎         | 44/1250 [07:24<4:35:30, 13.71s/it]"
     ]
    },
    {
     "name": "stdout",
     "output_type": "stream",
     "text": [
      "Searching for: A Court of Frost and Starlight (A Court of Thorns and Roses, #3.5) Sarah J. Maas book review\n"
     ]
    },
    {
     "name": "stderr",
     "output_type": "stream",
     "text": [
      "Processing books:   4%|▎         | 45/1250 [07:38<4:36:28, 13.77s/it]"
     ]
    },
    {
     "name": "stdout",
     "output_type": "stream",
     "text": [
      "Searching for: The Wicked King (The Folk of the Air, #2) Holly Black book review\n"
     ]
    },
    {
     "name": "stderr",
     "output_type": "stream",
     "text": [
      "Processing books:   4%|▎         | 46/1250 [07:45<3:54:15, 11.67s/it]"
     ]
    },
    {
     "name": "stdout",
     "output_type": "stream",
     "text": [
      "Searching for: The Lord of the Rings (Middle Earth, #2-4) J.R.R. Tolkien book review\n"
     ]
    },
    {
     "name": "stderr",
     "output_type": "stream",
     "text": [
      "Processing books:   4%|▍         | 47/1250 [07:49<3:13:30,  9.65s/it]"
     ]
    },
    {
     "name": "stdout",
     "output_type": "stream",
     "text": [
      "Searching for: The Wise Man’s Fear (The Kingkiller Chronicle, #2) Patrick Rothfuss book review\n"
     ]
    },
    {
     "name": "stderr",
     "output_type": "stream",
     "text": [
      "Processing books:   4%|▍         | 48/1250 [07:51<2:21:51,  7.08s/it]"
     ]
    },
    {
     "name": "stdout",
     "output_type": "stream",
     "text": [
      "Searching for: The Lies of Locke Lamora (Gentleman Bastard, #1) Scott Lynch book review\n"
     ]
    },
    {
     "name": "stderr",
     "output_type": "stream",
     "text": [
      "Processing books:   4%|▍         | 49/1250 [08:00<2:35:28,  7.77s/it]"
     ]
    },
    {
     "name": "stdout",
     "output_type": "stream",
     "text": [
      "Searching for: The Invisible Life of Addie LaRue (Kindle Edition) Victoria Schwab book review\n"
     ]
    },
    {
     "name": "stderr",
     "output_type": "stream",
     "text": [
      "Processing books:   4%|▍         | 50/1250 [08:05<2:16:55,  6.85s/it]"
     ]
    },
    {
     "name": "stdout",
     "output_type": "stream",
     "text": [
      "Searching for: Harry Potter and the Sorcerer’s Stone (Harry Potter, #1) J.K. Rowling book review\n"
     ]
    },
    {
     "name": "stderr",
     "output_type": "stream",
     "text": [
      "Processing books:   4%|▍         | 51/1250 [08:14<2:33:00,  7.66s/it]"
     ]
    },
    {
     "name": "stdout",
     "output_type": "stream",
     "text": [
      "Searching for: Harry Potter and the Chamber of Secrets (Harry Potter, #2) J.K. Rowling book review\n"
     ]
    },
    {
     "name": "stderr",
     "output_type": "stream",
     "text": [
      "Processing books:   4%|▍         | 52/1250 [08:27<3:01:59,  9.11s/it]"
     ]
    },
    {
     "name": "stdout",
     "output_type": "stream",
     "text": [
      "Searching for: Harry Potter and the Prisoner of Azkaban (Harry Potter, #3) J.K. Rowling book review\n"
     ]
    },
    {
     "name": "stderr",
     "output_type": "stream",
     "text": [
      "Processing books:   4%|▍         | 53/1250 [08:45<3:55:44, 11.82s/it]"
     ]
    },
    {
     "name": "stdout",
     "output_type": "stream",
     "text": [
      "Searching for: The Hobbit (The Lord of the Rings, #0) J.R.R. Tolkien book review\n"
     ]
    },
    {
     "name": "stderr",
     "output_type": "stream",
     "text": [
      "Processing books:   4%|▍         | 54/1250 [08:55<3:43:56, 11.23s/it]"
     ]
    },
    {
     "name": "stdout",
     "output_type": "stream",
     "text": [
      "Searching for: Harry Potter and the Goblet of Fire (Harry Potter, #4) J.K. Rowling book review\n"
     ]
    },
    {
     "name": "stderr",
     "output_type": "stream",
     "text": [
      "Processing books:   4%|▍         | 55/1250 [09:16<4:46:31, 14.39s/it]"
     ]
    },
    {
     "name": "stdout",
     "output_type": "stream",
     "text": [
      "Searching for: Harry Potter and the Order of the Phoenix (Harry Potter, #5) J.K. Rowling book review\n"
     ]
    },
    {
     "name": "stderr",
     "output_type": "stream",
     "text": [
      "Processing books:   4%|▍         | 56/1250 [09:32<4:56:16, 14.89s/it]"
     ]
    },
    {
     "name": "stdout",
     "output_type": "stream",
     "text": [
      "Searching for: Harry Potter and the Half-Blood Prince (Harry Potter, #6) J.K. Rowling book review\n"
     ]
    },
    {
     "name": "stderr",
     "output_type": "stream",
     "text": [
      "Processing books:   5%|▍         | 57/1250 [09:44<4:34:44, 13.82s/it]"
     ]
    },
    {
     "name": "stdout",
     "output_type": "stream",
     "text": [
      "Searching for: Harry Potter and the Deathly Hallows (Harry Potter, #7) J.K. Rowling book review\n"
     ]
    },
    {
     "name": "stderr",
     "output_type": "stream",
     "text": [
      "Processing books:   5%|▍         | 58/1250 [09:52<4:00:04, 12.08s/it]"
     ]
    },
    {
     "name": "stdout",
     "output_type": "stream",
     "text": [
      "Searching for: A Game of Thrones (A Song of Ice and Fire, #1) George R.R. Martin book review\n"
     ]
    },
    {
     "name": "stderr",
     "output_type": "stream",
     "text": [
      "Processing books:   5%|▍         | 59/1250 [10:01<3:40:41, 11.12s/it]"
     ]
    },
    {
     "name": "stdout",
     "output_type": "stream",
     "text": [
      "Searching for: The Fellowship of the Ring (Middle Earth, #1) J.R.R. Tolkien book review\n"
     ]
    },
    {
     "name": "stderr",
     "output_type": "stream",
     "text": [
      "Processing books:   5%|▍         | 60/1250 [10:03<2:50:26,  8.59s/it]"
     ]
    },
    {
     "name": "stdout",
     "output_type": "stream",
     "text": [
      "Searching for: A Court of Thorns and Roses (A Court of Thorns and Roses, #1) Sarah J. Maas book review\n"
     ]
    },
    {
     "name": "stderr",
     "output_type": "stream",
     "text": [
      "Processing books:   5%|▍         | 61/1250 [10:10<2:40:35,  8.10s/it]"
     ]
    },
    {
     "name": "stdout",
     "output_type": "stream",
     "text": [
      "Searching for: A Clash of Kings  (A Song of Ice and Fire, #2) George R.R. Martin book review\n"
     ]
    },
    {
     "name": "stderr",
     "output_type": "stream",
     "text": [
      "Processing books:   5%|▍         | 62/1250 [10:13<2:07:30,  6.44s/it]"
     ]
    },
    {
     "name": "stdout",
     "output_type": "stream",
     "text": [
      "Searching for: The Two Towers (Middle Earth, #3) J.R.R. Tolkien book review\n"
     ]
    },
    {
     "name": "stderr",
     "output_type": "stream",
     "text": [
      "Processing books:   5%|▌         | 63/1250 [10:29<3:07:20,  9.47s/it]"
     ]
    },
    {
     "name": "stdout",
     "output_type": "stream",
     "text": [
      "Searching for: Six of Crows (Six of Crows, #1) Leigh Bardugo book review\n"
     ]
    },
    {
     "name": "stderr",
     "output_type": "stream",
     "text": [
      "Processing books:   5%|▌         | 64/1250 [10:34<2:37:05,  7.95s/it]"
     ]
    },
    {
     "name": "stdout",
     "output_type": "stream",
     "text": [
      "Searching for: The Name of the Wind (The Kingkiller Chronicle, #1) Patrick Rothfuss book review\n"
     ]
    },
    {
     "name": "stderr",
     "output_type": "stream",
     "text": [
      "Processing books:   5%|▌         | 65/1250 [10:35<1:56:55,  5.92s/it]"
     ]
    },
    {
     "name": "stdout",
     "output_type": "stream",
     "text": [
      "Searching for: The Final Empire (Mistborn, #1) Brandon Sanderson book review\n"
     ]
    },
    {
     "name": "stderr",
     "output_type": "stream",
     "text": [
      "Processing books:   5%|▌         | 66/1250 [10:58<3:37:05, 11.00s/it]"
     ]
    },
    {
     "name": "stdout",
     "output_type": "stream",
     "text": [
      "Searching for: The Return of the King (Middle Earth, #4) J.R.R. Tolkien book review\n"
     ]
    },
    {
     "name": "stderr",
     "output_type": "stream",
     "text": [
      "Processing books:   5%|▌         | 67/1250 [11:12<3:55:53, 11.96s/it]"
     ]
    },
    {
     "name": "stdout",
     "output_type": "stream",
     "text": [
      "Searching for: A Court of Mist and Fury (A Court of Thorns and Roses, #2) Sarah J. Maas book review\n"
     ]
    },
    {
     "name": "stderr",
     "output_type": "stream",
     "text": [
      "Processing books:   5%|▌         | 68/1250 [11:23<3:48:31, 11.60s/it]"
     ]
    },
    {
     "name": "stdout",
     "output_type": "stream",
     "text": [
      "Searching for: The Lightning Thief (Percy Jackson and the Olympians, #1) Rick Riordan book review\n"
     ]
    },
    {
     "name": "stderr",
     "output_type": "stream",
     "text": [
      "Processing books:   6%|▌         | 69/1250 [11:37<4:01:31, 12.27s/it]"
     ]
    },
    {
     "name": "stdout",
     "output_type": "stream",
     "text": [
      "Searching for: Shadow and Bone (The Shadow and Bone Trilogy, #1) Leigh Bardugo book review\n"
     ]
    },
    {
     "name": "stderr",
     "output_type": "stream",
     "text": [
      "Processing books:   6%|▌         | 70/1250 [11:48<3:53:45, 11.89s/it]"
     ]
    },
    {
     "name": "stdout",
     "output_type": "stream",
     "text": [
      "Searching for: The Lion, the Witch and the Wardrobe (Chronicles of Narnia, #1) C.S. Lewis book review\n"
     ]
    },
    {
     "name": "stderr",
     "output_type": "stream",
     "text": [
      "Processing books:   6%|▌         | 71/1250 [12:12<5:05:05, 15.53s/it]"
     ]
    },
    {
     "name": "stdout",
     "output_type": "stream",
     "text": [
      "Searching for: The Cruel Prince (The Folk of the Air, #1) Holly Black book review\n"
     ]
    },
    {
     "name": "stderr",
     "output_type": "stream",
     "text": [
      "Processing books:   6%|▌         | 72/1250 [12:21<4:26:04, 13.55s/it]"
     ]
    },
    {
     "name": "stdout",
     "output_type": "stream",
     "text": [
      "Searching for: A Storm of Swords (A Song of Ice and Fire, #3) George R.R. Martin book review\n"
     ]
    },
    {
     "name": "stderr",
     "output_type": "stream",
     "text": [
      "Processing books:   6%|▌         | 73/1250 [12:23<3:20:55, 10.24s/it]"
     ]
    },
    {
     "name": "stdout",
     "output_type": "stream",
     "text": [
      "Searching for: A Feast for Crows (A Song of Ice and Fire, #4) George R.R. Martin book review\n"
     ]
    },
    {
     "name": "stderr",
     "output_type": "stream",
     "text": [
      "Processing books:   6%|▌         | 74/1250 [12:29<2:57:16,  9.04s/it]"
     ]
    },
    {
     "name": "stdout",
     "output_type": "stream",
     "text": [
      "Searching for: The Golden Compass (His Dark Materials, #1) Philip Pullman book review\n"
     ]
    },
    {
     "name": "stderr",
     "output_type": "stream",
     "text": [
      "Processing books:   6%|▌         | 75/1250 [12:37<2:48:27,  8.60s/it]"
     ]
    },
    {
     "name": "stdout",
     "output_type": "stream",
     "text": [
      "Searching for: Eragon (The Inheritance Cycle, #1) Christopher Paolini book review\n"
     ]
    },
    {
     "name": "stderr",
     "output_type": "stream",
     "text": [
      "Processing books:   6%|▌         | 76/1250 [12:47<2:56:47,  9.04s/it]"
     ]
    },
    {
     "name": "stdout",
     "output_type": "stream",
     "text": [
      "Searching for: A Court of Wings and Ruin (A Court of Thorns and Roses, #3) Sarah J. Maas book review\n"
     ]
    },
    {
     "name": "stderr",
     "output_type": "stream",
     "text": [
      "Processing books:   6%|▌         | 77/1250 [12:59<3:15:20,  9.99s/it]"
     ]
    },
    {
     "name": "stdout",
     "output_type": "stream",
     "text": [
      "Searching for: A Dance with Dragons (A Song of Ice and Fire, #5) George R.R. Martin book review\n"
     ]
    },
    {
     "name": "stderr",
     "output_type": "stream",
     "text": [
      "Processing books:   6%|▌         | 78/1250 [13:05<2:52:39,  8.84s/it]"
     ]
    },
    {
     "name": "stdout",
     "output_type": "stream",
     "text": [
      "Searching for: The Night Circus (Hardcover) Erin Morgenstern book review\n"
     ]
    },
    {
     "name": "stderr",
     "output_type": "stream",
     "text": [
      "Processing books:   6%|▋         | 79/1250 [13:25<3:57:53, 12.19s/it]"
     ]
    },
    {
     "name": "stdout",
     "output_type": "stream",
     "text": [
      "Searching for: American Gods (Kindle Edition) Neil Gaiman book review\n"
     ]
    },
    {
     "name": "stderr",
     "output_type": "stream",
     "text": [
      "Processing books:   6%|▋         | 80/1250 [13:35<3:41:30, 11.36s/it]"
     ]
    },
    {
     "name": "stdout",
     "output_type": "stream",
     "text": [
      "Searching for: City of Bones (The Mortal Instruments, #1) Cassandra Clare book review\n"
     ]
    },
    {
     "name": "stderr",
     "output_type": "stream",
     "text": [
      "Processing books:   6%|▋         | 81/1250 [13:38<2:54:14,  8.94s/it]"
     ]
    },
    {
     "name": "stdout",
     "output_type": "stream",
     "text": [
      "Searching for: The Eye of the World (The Wheel of Time, #1) Robert Jordan book review\n"
     ]
    },
    {
     "name": "stderr",
     "output_type": "stream",
     "text": [
      "Processing books:   7%|▋         | 82/1250 [13:39<2:08:17,  6.59s/it]"
     ]
    },
    {
     "name": "stdout",
     "output_type": "stream",
     "text": [
      "Searching for: Twilight (The Twilight Saga, #1) Stephenie Meyer book review\n"
     ]
    },
    {
     "name": "stderr",
     "output_type": "stream",
     "text": [
      "Processing books:   7%|▋         | 83/1250 [13:45<2:04:54,  6.42s/it]"
     ]
    },
    {
     "name": "stdout",
     "output_type": "stream",
     "text": [
      "Searching for: The Way of Kings (The Stormlight Archive, #1) Brandon Sanderson book review\n",
      "Error processing https://www.geeksundergrace.com/books/review-stormlight-archive-the-way-of-kings/: HTTPSConnectionPool(host='www.geeksundergrace.com', port=443): Max retries exceeded with url: /books/review-stormlight-archive-the-way-of-kings/ (Caused by ProtocolError('Connection aborted.', RemoteDisconnected('Remote end closed connection without response')))\n"
     ]
    },
    {
     "name": "stderr",
     "output_type": "stream",
     "text": [
      "Processing books:   7%|▋         | 84/1250 [13:59<2:47:46,  8.63s/it]"
     ]
    },
    {
     "name": "stdout",
     "output_type": "stream",
     "text": [
      "Searching for: Crown of Midnight (Throne of Glass, #2) Sarah J. Maas book review\n"
     ]
    },
    {
     "name": "stderr",
     "output_type": "stream",
     "text": [
      "Processing books:   7%|▋         | 85/1250 [14:04<2:28:33,  7.65s/it]"
     ]
    },
    {
     "name": "stdout",
     "output_type": "stream",
     "text": [
      "Searching for: A Darker Shade of Magic (Shades of Magic, #1) Victoria Schwab book review\n"
     ]
    },
    {
     "name": "stderr",
     "output_type": "stream",
     "text": [
      "Processing books:   7%|▋         | 86/1250 [14:09<2:10:06,  6.71s/it]"
     ]
    },
    {
     "name": "stdout",
     "output_type": "stream",
     "text": [
      "Searching for: Crooked Kingdom (Six of Crows, #2) Leigh Bardugo book review\n"
     ]
    },
    {
     "name": "stderr",
     "output_type": "stream",
     "text": [
      "Processing books:   7%|▋         | 87/1250 [14:18<2:24:53,  7.48s/it]"
     ]
    },
    {
     "name": "stdout",
     "output_type": "stream",
     "text": [
      "Searching for: Good Omens: The Nice and Accurate Prophecies of Agnes Nutter, Witch (Mass Market Paperback) Terry Pratchett book review\n"
     ]
    },
    {
     "name": "stderr",
     "output_type": "stream",
     "text": [
      "Processing books:   7%|▋         | 88/1250 [14:24<2:15:57,  7.02s/it]"
     ]
    },
    {
     "name": "stdout",
     "output_type": "stream",
     "text": [
      "Searching for: The Sea of Monsters (Percy Jackson and the Olympians, #2) Rick Riordan book review\n"
     ]
    },
    {
     "name": "stderr",
     "output_type": "stream",
     "text": [
      "Processing books:   7%|▋         | 89/1250 [14:33<2:28:55,  7.70s/it]"
     ]
    },
    {
     "name": "stdout",
     "output_type": "stream",
     "text": [
      "Searching for: The Well of Ascension (Mistborn, #2) Brandon Sanderson book review\n"
     ]
    },
    {
     "name": "stderr",
     "output_type": "stream",
     "text": [
      "Processing books:   7%|▋         | 90/1250 [14:39<2:13:45,  6.92s/it]"
     ]
    },
    {
     "name": "stdout",
     "output_type": "stream",
     "text": [
      "Searching for: Stardust (Paperback) Neil Gaiman book review\n"
     ]
    },
    {
     "name": "stderr",
     "output_type": "stream",
     "text": [
      "Processing books:   7%|▋         | 91/1250 [14:51<2:48:26,  8.72s/it]"
     ]
    },
    {
     "name": "stdout",
     "output_type": "stream",
     "text": [
      "Searching for: Assassin's Apprentice (Farseer Trilogy, #1) Robin Hobb book review\n"
     ]
    },
    {
     "name": "stderr",
     "output_type": "stream",
     "text": [
      "Processing books:   7%|▋         | 92/1250 [15:00<2:48:39,  8.74s/it]"
     ]
    },
    {
     "name": "stdout",
     "output_type": "stream",
     "text": [
      "Searching for: Siege and Storm (The Shadow and Bone Trilogy, #2) Leigh Bardugo book review\n"
     ]
    },
    {
     "name": "stderr",
     "output_type": "stream",
     "text": [
      "Processing books:   7%|▋         | 93/1250 [15:08<2:43:04,  8.46s/it]"
     ]
    },
    {
     "name": "stdout",
     "output_type": "stream",
     "text": [
      "Searching for: Neverwhere (London Below, #1) Neil Gaiman book review\n"
     ]
    },
    {
     "name": "stderr",
     "output_type": "stream",
     "text": [
      "Processing books:   8%|▊         | 94/1250 [15:26<3:38:32, 11.34s/it]"
     ]
    },
    {
     "name": "stdout",
     "output_type": "stream",
     "text": [
      "Searching for: A Court of Frost and Starlight (A Court of Thorns and Roses, #3.5) Sarah J. Maas book review\n"
     ]
    },
    {
     "name": "stderr",
     "output_type": "stream",
     "text": [
      "Processing books:   8%|▊         | 95/1250 [15:37<3:35:51, 11.21s/it]"
     ]
    },
    {
     "name": "stdout",
     "output_type": "stream",
     "text": [
      "Searching for: The Wicked King (The Folk of the Air, #2) Holly Black book review\n"
     ]
    },
    {
     "name": "stderr",
     "output_type": "stream",
     "text": [
      "Processing books:   8%|▊         | 96/1250 [15:41<2:56:29,  9.18s/it]"
     ]
    },
    {
     "name": "stdout",
     "output_type": "stream",
     "text": [
      "Searching for: The Lord of the Rings (Middle Earth, #2-4) J.R.R. Tolkien book review\n"
     ]
    },
    {
     "name": "stderr",
     "output_type": "stream",
     "text": [
      "Processing books:   8%|▊         | 97/1250 [15:45<2:23:36,  7.47s/it]"
     ]
    },
    {
     "name": "stdout",
     "output_type": "stream",
     "text": [
      "Searching for: The Wise Man’s Fear (The Kingkiller Chronicle, #2) Patrick Rothfuss book review\n"
     ]
    },
    {
     "name": "stderr",
     "output_type": "stream",
     "text": [
      "Processing books:   8%|▊         | 98/1250 [15:46<1:47:46,  5.61s/it]"
     ]
    },
    {
     "name": "stdout",
     "output_type": "stream",
     "text": [
      "Searching for: The Lies of Locke Lamora (Gentleman Bastard, #1) Scott Lynch book review\n"
     ]
    },
    {
     "name": "stderr",
     "output_type": "stream",
     "text": [
      "Processing books:   8%|▊         | 99/1250 [15:55<2:07:11,  6.63s/it]"
     ]
    },
    {
     "name": "stdout",
     "output_type": "stream",
     "text": [
      "Searching for: The Invisible Life of Addie LaRue (Kindle Edition) Victoria Schwab book review\n"
     ]
    },
    {
     "name": "stderr",
     "output_type": "stream",
     "text": [
      "Processing books:   8%|▊         | 100/1250 [16:00<1:55:24,  6.02s/it]"
     ]
    },
    {
     "name": "stdout",
     "output_type": "stream",
     "text": [
      "Searching for: Harry Potter and the Sorcerer’s Stone (Harry Potter, #1) J.K. Rowling book review\n"
     ]
    },
    {
     "name": "stderr",
     "output_type": "stream",
     "text": [
      "Processing books:   8%|▊         | 101/1250 [16:03<1:38:50,  5.16s/it]"
     ]
    },
    {
     "name": "stdout",
     "output_type": "stream",
     "text": [
      "Searching for: Harry Potter and the Chamber of Secrets (Harry Potter, #2) J.K. Rowling book review\n"
     ]
    },
    {
     "name": "stderr",
     "output_type": "stream",
     "text": [
      "Processing books:   8%|▊         | 102/1250 [16:16<2:23:09,  7.48s/it]"
     ]
    },
    {
     "name": "stdout",
     "output_type": "stream",
     "text": [
      "Searching for: Harry Potter and the Prisoner of Azkaban (Harry Potter, #3) J.K. Rowling book review\n"
     ]
    },
    {
     "name": "stderr",
     "output_type": "stream",
     "text": [
      "Processing books:   8%|▊         | 103/1250 [16:36<3:37:13, 11.36s/it]"
     ]
    },
    {
     "name": "stdout",
     "output_type": "stream",
     "text": [
      "Searching for: The Hobbit (The Lord of the Rings, #0) J.R.R. Tolkien book review\n"
     ]
    },
    {
     "name": "stderr",
     "output_type": "stream",
     "text": [
      "Processing books:   8%|▊         | 104/1250 [16:44<3:13:38, 10.14s/it]"
     ]
    },
    {
     "name": "stdout",
     "output_type": "stream",
     "text": [
      "Searching for: Harry Potter and the Goblet of Fire (Harry Potter, #4) J.K. Rowling book review\n"
     ]
    },
    {
     "name": "stderr",
     "output_type": "stream",
     "text": [
      "Processing books:   8%|▊         | 105/1250 [17:04<4:09:36, 13.08s/it]"
     ]
    },
    {
     "name": "stdout",
     "output_type": "stream",
     "text": [
      "Searching for: Harry Potter and the Order of the Phoenix (Harry Potter, #5) J.K. Rowling book review\n"
     ]
    },
    {
     "name": "stderr",
     "output_type": "stream",
     "text": [
      "Processing books:   8%|▊         | 106/1250 [17:21<4:35:59, 14.48s/it]"
     ]
    },
    {
     "name": "stdout",
     "output_type": "stream",
     "text": [
      "Searching for: Harry Potter and the Half-Blood Prince (Harry Potter, #6) J.K. Rowling book review\n"
     ]
    },
    {
     "name": "stderr",
     "output_type": "stream",
     "text": [
      "Processing books:   9%|▊         | 107/1250 [17:35<4:29:29, 14.15s/it]"
     ]
    },
    {
     "name": "stdout",
     "output_type": "stream",
     "text": [
      "Searching for: Harry Potter and the Deathly Hallows (Harry Potter, #7) J.K. Rowling book review\n"
     ]
    },
    {
     "name": "stderr",
     "output_type": "stream",
     "text": [
      "Processing books:   9%|▊         | 108/1250 [17:40<3:41:43, 11.65s/it]"
     ]
    },
    {
     "name": "stdout",
     "output_type": "stream",
     "text": [
      "Searching for: A Game of Thrones (A Song of Ice and Fire, #1) George R.R. Martin book review\n"
     ]
    },
    {
     "name": "stderr",
     "output_type": "stream",
     "text": [
      "Processing books:   9%|▊         | 109/1250 [17:46<3:04:38,  9.71s/it]"
     ]
    },
    {
     "name": "stdout",
     "output_type": "stream",
     "text": [
      "Searching for: The Fellowship of the Ring (Middle Earth, #1) J.R.R. Tolkien book review\n"
     ]
    },
    {
     "name": "stderr",
     "output_type": "stream",
     "text": [
      "Processing books:   9%|▉         | 110/1250 [17:50<2:32:15,  8.01s/it]"
     ]
    },
    {
     "name": "stdout",
     "output_type": "stream",
     "text": [
      "Searching for: A Court of Thorns and Roses (A Court of Thorns and Roses, #1) Sarah J. Maas book review\n"
     ]
    },
    {
     "name": "stderr",
     "output_type": "stream",
     "text": [
      "Processing books:   9%|▉         | 111/1250 [17:58<2:35:39,  8.20s/it]"
     ]
    },
    {
     "name": "stdout",
     "output_type": "stream",
     "text": [
      "Searching for: A Clash of Kings  (A Song of Ice and Fire, #2) George R.R. Martin book review\n"
     ]
    },
    {
     "name": "stderr",
     "output_type": "stream",
     "text": [
      "Processing books:   9%|▉         | 112/1250 [18:01<2:03:57,  6.54s/it]"
     ]
    },
    {
     "name": "stdout",
     "output_type": "stream",
     "text": [
      "Searching for: The Two Towers (Middle Earth, #3) J.R.R. Tolkien book review\n"
     ]
    },
    {
     "name": "stderr",
     "output_type": "stream",
     "text": [
      "Processing books:   9%|▉         | 113/1250 [18:09<2:11:37,  6.95s/it]"
     ]
    },
    {
     "name": "stdout",
     "output_type": "stream",
     "text": [
      "Searching for: Six of Crows (Six of Crows, #1) Leigh Bardugo book review\n"
     ]
    },
    {
     "name": "stderr",
     "output_type": "stream",
     "text": [
      "Processing books:   9%|▉         | 114/1250 [18:16<2:13:32,  7.05s/it]"
     ]
    },
    {
     "name": "stdout",
     "output_type": "stream",
     "text": [
      "Searching for: The Name of the Wind (The Kingkiller Chronicle, #1) Patrick Rothfuss book review\n"
     ]
    },
    {
     "name": "stderr",
     "output_type": "stream",
     "text": [
      "Processing books:   9%|▉         | 115/1250 [18:17<1:39:47,  5.28s/it]"
     ]
    },
    {
     "name": "stdout",
     "output_type": "stream",
     "text": [
      "Searching for: The Final Empire (Mistborn, #1) Brandon Sanderson book review\n"
     ]
    },
    {
     "name": "stderr",
     "output_type": "stream",
     "text": [
      "Processing books:   9%|▉         | 116/1250 [18:36<2:58:05,  9.42s/it]"
     ]
    },
    {
     "name": "stdout",
     "output_type": "stream",
     "text": [
      "Searching for: The Return of the King (Middle Earth, #4) J.R.R. Tolkien book review\n"
     ]
    },
    {
     "name": "stderr",
     "output_type": "stream",
     "text": [
      "Processing books:   9%|▉         | 117/1250 [18:50<3:22:19, 10.71s/it]"
     ]
    },
    {
     "name": "stdout",
     "output_type": "stream",
     "text": [
      "Searching for: A Court of Mist and Fury (A Court of Thorns and Roses, #2) Sarah J. Maas book review\n"
     ]
    },
    {
     "name": "stderr",
     "output_type": "stream",
     "text": [
      "Processing books:   9%|▉         | 118/1250 [18:57<2:58:30,  9.46s/it]"
     ]
    },
    {
     "name": "stdout",
     "output_type": "stream",
     "text": [
      "Searching for: The Lightning Thief (Percy Jackson and the Olympians, #1) Rick Riordan book review\n"
     ]
    },
    {
     "name": "stderr",
     "output_type": "stream",
     "text": [
      "Processing books:  10%|▉         | 119/1250 [19:03<2:39:59,  8.49s/it]"
     ]
    },
    {
     "name": "stdout",
     "output_type": "stream",
     "text": [
      "Searching for: Shadow and Bone (The Shadow and Bone Trilogy, #1) Leigh Bardugo book review\n"
     ]
    },
    {
     "name": "stderr",
     "output_type": "stream",
     "text": [
      "Processing books:  10%|▉         | 120/1250 [19:10<2:31:41,  8.05s/it]"
     ]
    },
    {
     "name": "stdout",
     "output_type": "stream",
     "text": [
      "Searching for: The Lion, the Witch and the Wardrobe (Chronicles of Narnia, #1) C.S. Lewis book review\n"
     ]
    },
    {
     "name": "stderr",
     "output_type": "stream",
     "text": [
      "Processing books:  10%|▉         | 121/1250 [19:27<3:21:01, 10.68s/it]"
     ]
    },
    {
     "name": "stdout",
     "output_type": "stream",
     "text": [
      "Searching for: The Cruel Prince (The Folk of the Air, #1) Holly Black book review\n"
     ]
    },
    {
     "name": "stderr",
     "output_type": "stream",
     "text": [
      "Processing books:  10%|▉         | 122/1250 [19:35<3:08:44, 10.04s/it]"
     ]
    },
    {
     "name": "stdout",
     "output_type": "stream",
     "text": [
      "Searching for: A Storm of Swords (A Song of Ice and Fire, #3) George R.R. Martin book review\n"
     ]
    },
    {
     "name": "stderr",
     "output_type": "stream",
     "text": [
      "Processing books:  10%|▉         | 123/1250 [19:44<2:58:26,  9.50s/it]"
     ]
    },
    {
     "name": "stdout",
     "output_type": "stream",
     "text": [
      "Searching for: A Feast for Crows (A Song of Ice and Fire, #4) George R.R. Martin book review\n"
     ]
    },
    {
     "name": "stderr",
     "output_type": "stream",
     "text": [
      "Processing books:  10%|▉         | 124/1250 [19:49<2:36:10,  8.32s/it]"
     ]
    },
    {
     "name": "stdout",
     "output_type": "stream",
     "text": [
      "Searching for: The Golden Compass (His Dark Materials, #1) Philip Pullman book review\n"
     ]
    },
    {
     "name": "stderr",
     "output_type": "stream",
     "text": [
      "Processing books:  10%|█         | 125/1250 [19:53<2:12:48,  7.08s/it]"
     ]
    },
    {
     "name": "stdout",
     "output_type": "stream",
     "text": [
      "Searching for: Eragon (The Inheritance Cycle, #1) Christopher Paolini book review\n"
     ]
    },
    {
     "name": "stderr",
     "output_type": "stream",
     "text": [
      "Processing books:  10%|█         | 126/1250 [19:57<1:56:05,  6.20s/it]"
     ]
    },
    {
     "name": "stdout",
     "output_type": "stream",
     "text": [
      "Searching for: A Court of Wings and Ruin (A Court of Thorns and Roses, #3) Sarah J. Maas book review\n"
     ]
    },
    {
     "name": "stderr",
     "output_type": "stream",
     "text": [
      "Processing books:  10%|█         | 127/1250 [20:11<2:38:49,  8.49s/it]"
     ]
    },
    {
     "name": "stdout",
     "output_type": "stream",
     "text": [
      "Searching for: A Dance with Dragons (A Song of Ice and Fire, #5) George R.R. Martin book review\n"
     ]
    },
    {
     "name": "stderr",
     "output_type": "stream",
     "text": [
      "Processing books:  10%|█         | 128/1250 [20:19<2:35:41,  8.33s/it]"
     ]
    },
    {
     "name": "stdout",
     "output_type": "stream",
     "text": [
      "Searching for: The Night Circus (Hardcover) Erin Morgenstern book review\n"
     ]
    },
    {
     "name": "stderr",
     "output_type": "stream",
     "text": [
      "Processing books:  10%|█         | 129/1250 [20:38<3:35:04, 11.51s/it]"
     ]
    },
    {
     "name": "stdout",
     "output_type": "stream",
     "text": [
      "Searching for: American Gods (Kindle Edition) Neil Gaiman book review\n"
     ]
    },
    {
     "name": "stderr",
     "output_type": "stream",
     "text": [
      "Processing books:  10%|█         | 130/1250 [20:53<3:50:58, 12.37s/it]"
     ]
    },
    {
     "name": "stdout",
     "output_type": "stream",
     "text": [
      "Searching for: City of Bones (The Mortal Instruments, #1) Cassandra Clare book review\n"
     ]
    },
    {
     "name": "stderr",
     "output_type": "stream",
     "text": [
      "Processing books:  10%|█         | 131/1250 [20:59<3:15:17, 10.47s/it]"
     ]
    },
    {
     "name": "stdout",
     "output_type": "stream",
     "text": [
      "Searching for: The Eye of the World (The Wheel of Time, #1) Robert Jordan book review\n"
     ]
    },
    {
     "name": "stderr",
     "output_type": "stream",
     "text": [
      "Processing books:  11%|█         | 132/1250 [21:00<2:22:43,  7.66s/it]"
     ]
    },
    {
     "name": "stdout",
     "output_type": "stream",
     "text": [
      "Searching for: Twilight (The Twilight Saga, #1) Stephenie Meyer book review\n"
     ]
    },
    {
     "name": "stderr",
     "output_type": "stream",
     "text": [
      "Processing books:  11%|█         | 133/1250 [21:06<2:15:02,  7.25s/it]"
     ]
    },
    {
     "name": "stdout",
     "output_type": "stream",
     "text": [
      "Searching for: The Way of Kings (The Stormlight Archive, #1) Brandon Sanderson book review\n"
     ]
    },
    {
     "name": "stderr",
     "output_type": "stream",
     "text": [
      "Processing books:  11%|█         | 134/1250 [21:09<1:50:10,  5.92s/it]"
     ]
    },
    {
     "name": "stdout",
     "output_type": "stream",
     "text": [
      "Searching for: Crown of Midnight (Throne of Glass, #2) Sarah J. Maas book review\n"
     ]
    },
    {
     "name": "stderr",
     "output_type": "stream",
     "text": [
      "Processing books:  11%|█         | 135/1250 [21:19<2:15:48,  7.31s/it]"
     ]
    },
    {
     "name": "stdout",
     "output_type": "stream",
     "text": [
      "Searching for: A Darker Shade of Magic (Shades of Magic, #1) Victoria Schwab book review\n"
     ]
    },
    {
     "name": "stderr",
     "output_type": "stream",
     "text": [
      "Processing books:  11%|█         | 136/1250 [21:23<1:55:09,  6.20s/it]"
     ]
    },
    {
     "name": "stdout",
     "output_type": "stream",
     "text": [
      "Searching for: Crooked Kingdom (Six of Crows, #2) Leigh Bardugo book review\n"
     ]
    },
    {
     "name": "stderr",
     "output_type": "stream",
     "text": [
      "Processing books:  11%|█         | 137/1250 [21:31<2:06:21,  6.81s/it]"
     ]
    },
    {
     "name": "stdout",
     "output_type": "stream",
     "text": [
      "Searching for: Good Omens: The Nice and Accurate Prophecies of Agnes Nutter, Witch (Mass Market Paperback) Terry Pratchett book review\n"
     ]
    },
    {
     "name": "stderr",
     "output_type": "stream",
     "text": [
      "Processing books:  11%|█         | 138/1250 [21:43<2:34:29,  8.34s/it]"
     ]
    },
    {
     "name": "stdout",
     "output_type": "stream",
     "text": [
      "Searching for: The Sea of Monsters (Percy Jackson and the Olympians, #2) Rick Riordan book review\n"
     ]
    },
    {
     "name": "stderr",
     "output_type": "stream",
     "text": [
      "Processing books:  11%|█         | 139/1250 [21:47<2:10:32,  7.05s/it]"
     ]
    },
    {
     "name": "stdout",
     "output_type": "stream",
     "text": [
      "Searching for: The Well of Ascension (Mistborn, #2) Brandon Sanderson book review\n"
     ]
    },
    {
     "name": "stderr",
     "output_type": "stream",
     "text": [
      "Processing books:  11%|█         | 140/1250 [21:52<1:59:55,  6.48s/it]"
     ]
    },
    {
     "name": "stdout",
     "output_type": "stream",
     "text": [
      "Searching for: Stardust (Paperback) Neil Gaiman book review\n"
     ]
    },
    {
     "name": "stderr",
     "output_type": "stream",
     "text": [
      "Processing books:  11%|█▏        | 141/1250 [22:09<2:56:54,  9.57s/it]"
     ]
    },
    {
     "name": "stdout",
     "output_type": "stream",
     "text": [
      "Searching for: Assassin's Apprentice (Farseer Trilogy, #1) Robin Hobb book review\n"
     ]
    },
    {
     "name": "stderr",
     "output_type": "stream",
     "text": [
      "Processing books:  11%|█▏        | 142/1250 [22:10<2:09:08,  6.99s/it]"
     ]
    },
    {
     "name": "stdout",
     "output_type": "stream",
     "text": [
      "Searching for: Siege and Storm (The Shadow and Bone Trilogy, #2) Leigh Bardugo book review\n"
     ]
    },
    {
     "name": "stderr",
     "output_type": "stream",
     "text": [
      "Processing books:  11%|█▏        | 143/1250 [22:16<2:05:57,  6.83s/it]"
     ]
    },
    {
     "name": "stdout",
     "output_type": "stream",
     "text": [
      "Searching for: Neverwhere (London Below, #1) Neil Gaiman book review\n"
     ]
    },
    {
     "name": "stderr",
     "output_type": "stream",
     "text": [
      "Processing books:  12%|█▏        | 144/1250 [22:35<3:08:26, 10.22s/it]"
     ]
    },
    {
     "name": "stdout",
     "output_type": "stream",
     "text": [
      "Searching for: A Court of Frost and Starlight (A Court of Thorns and Roses, #3.5) Sarah J. Maas book review\n"
     ]
    },
    {
     "name": "stderr",
     "output_type": "stream",
     "text": [
      "Processing books:  12%|█▏        | 145/1250 [22:48<3:27:41, 11.28s/it]"
     ]
    },
    {
     "name": "stdout",
     "output_type": "stream",
     "text": [
      "Searching for: The Wicked King (The Folk of the Air, #2) Holly Black book review\n"
     ]
    },
    {
     "name": "stderr",
     "output_type": "stream",
     "text": [
      "Processing books:  12%|█▏        | 146/1250 [22:55<3:02:34,  9.92s/it]"
     ]
    },
    {
     "name": "stdout",
     "output_type": "stream",
     "text": [
      "Searching for: The Lord of the Rings (Middle Earth, #2-4) J.R.R. Tolkien book review\n"
     ]
    },
    {
     "name": "stderr",
     "output_type": "stream",
     "text": [
      "Processing books:  12%|█▏        | 147/1250 [23:04<2:57:37,  9.66s/it]"
     ]
    },
    {
     "name": "stdout",
     "output_type": "stream",
     "text": [
      "Searching for: The Wise Man’s Fear (The Kingkiller Chronicle, #2) Patrick Rothfuss book review\n"
     ]
    },
    {
     "name": "stderr",
     "output_type": "stream",
     "text": [
      "Processing books:  12%|█▏        | 148/1250 [23:05<2:10:47,  7.12s/it]"
     ]
    },
    {
     "name": "stdout",
     "output_type": "stream",
     "text": [
      "Searching for: The Lies of Locke Lamora (Gentleman Bastard, #1) Scott Lynch book review\n"
     ]
    },
    {
     "name": "stderr",
     "output_type": "stream",
     "text": [
      "Processing books:  12%|█▏        | 149/1250 [23:20<2:51:19,  9.34s/it]"
     ]
    },
    {
     "name": "stdout",
     "output_type": "stream",
     "text": [
      "Searching for: The Invisible Life of Addie LaRue (Kindle Edition) Victoria Schwab book review\n"
     ]
    },
    {
     "name": "stderr",
     "output_type": "stream",
     "text": [
      "Processing books:  12%|█▏        | 150/1250 [23:23<2:17:57,  7.52s/it]"
     ]
    },
    {
     "name": "stdout",
     "output_type": "stream",
     "text": [
      "Searching for: Harry Potter and the Sorcerer’s Stone (Harry Potter, #1) J.K. Rowling book review\n"
     ]
    },
    {
     "name": "stderr",
     "output_type": "stream",
     "text": [
      "Processing books:  12%|█▏        | 151/1250 [23:29<2:10:23,  7.12s/it]"
     ]
    },
    {
     "name": "stdout",
     "output_type": "stream",
     "text": [
      "Searching for: Harry Potter and the Chamber of Secrets (Harry Potter, #2) J.K. Rowling book review\n"
     ]
    },
    {
     "name": "stderr",
     "output_type": "stream",
     "text": [
      "Processing books:  12%|█▏        | 152/1250 [23:45<2:57:29,  9.70s/it]"
     ]
    },
    {
     "name": "stdout",
     "output_type": "stream",
     "text": [
      "Searching for: Harry Potter and the Prisoner of Azkaban (Harry Potter, #3) J.K. Rowling book review\n"
     ]
    },
    {
     "name": "stderr",
     "output_type": "stream",
     "text": [
      "Processing books:  12%|█▏        | 153/1250 [24:06<3:57:44, 13.00s/it]"
     ]
    },
    {
     "name": "stdout",
     "output_type": "stream",
     "text": [
      "Searching for: The Hobbit (The Lord of the Rings, #0) J.R.R. Tolkien book review\n"
     ]
    },
    {
     "name": "stderr",
     "output_type": "stream",
     "text": [
      "Processing books:  12%|█▏        | 154/1250 [24:14<3:32:34, 11.64s/it]"
     ]
    },
    {
     "name": "stdout",
     "output_type": "stream",
     "text": [
      "Searching for: Harry Potter and the Goblet of Fire (Harry Potter, #4) J.K. Rowling book review\n"
     ]
    },
    {
     "name": "stderr",
     "output_type": "stream",
     "text": [
      "Processing books:  12%|█▏        | 155/1250 [24:33<4:13:40, 13.90s/it]"
     ]
    },
    {
     "name": "stdout",
     "output_type": "stream",
     "text": [
      "Searching for: Harry Potter and the Order of the Phoenix (Harry Potter, #5) J.K. Rowling book review\n"
     ]
    },
    {
     "name": "stderr",
     "output_type": "stream",
     "text": [
      "Processing books:  12%|█▏        | 156/1250 [24:47<4:13:18, 13.89s/it]"
     ]
    },
    {
     "name": "stdout",
     "output_type": "stream",
     "text": [
      "Searching for: Harry Potter and the Half-Blood Prince (Harry Potter, #6) J.K. Rowling book review\n"
     ]
    },
    {
     "name": "stderr",
     "output_type": "stream",
     "text": [
      "Processing books:  13%|█▎        | 157/1250 [25:02<4:18:58, 14.22s/it]"
     ]
    },
    {
     "name": "stdout",
     "output_type": "stream",
     "text": [
      "Searching for: Harry Potter and the Deathly Hallows (Harry Potter, #7) J.K. Rowling book review\n"
     ]
    },
    {
     "name": "stderr",
     "output_type": "stream",
     "text": [
      "Processing books:  13%|█▎        | 158/1250 [25:08<3:33:03, 11.71s/it]"
     ]
    },
    {
     "name": "stdout",
     "output_type": "stream",
     "text": [
      "Searching for: A Game of Thrones (A Song of Ice and Fire, #1) George R.R. Martin book review\n"
     ]
    },
    {
     "name": "stderr",
     "output_type": "stream",
     "text": [
      "Processing books:  13%|█▎        | 159/1250 [25:15<3:09:22, 10.42s/it]"
     ]
    },
    {
     "name": "stdout",
     "output_type": "stream",
     "text": [
      "Searching for: The Fellowship of the Ring (Middle Earth, #1) J.R.R. Tolkien book review\n"
     ]
    },
    {
     "name": "stderr",
     "output_type": "stream",
     "text": [
      "Processing books:  13%|█▎        | 160/1250 [25:19<2:32:01,  8.37s/it]"
     ]
    },
    {
     "name": "stdout",
     "output_type": "stream",
     "text": [
      "Searching for: A Court of Thorns and Roses (A Court of Thorns and Roses, #1) Sarah J. Maas book review\n"
     ]
    },
    {
     "name": "stderr",
     "output_type": "stream",
     "text": [
      "Processing books:  13%|█▎        | 161/1250 [25:29<2:37:53,  8.70s/it]"
     ]
    },
    {
     "name": "stdout",
     "output_type": "stream",
     "text": [
      "Searching for: A Clash of Kings  (A Song of Ice and Fire, #2) George R.R. Martin book review\n"
     ]
    },
    {
     "name": "stderr",
     "output_type": "stream",
     "text": [
      "Processing books:  13%|█▎        | 162/1250 [25:33<2:12:24,  7.30s/it]"
     ]
    },
    {
     "name": "stdout",
     "output_type": "stream",
     "text": [
      "Searching for: The Two Towers (Middle Earth, #3) J.R.R. Tolkien book review\n"
     ]
    },
    {
     "name": "stderr",
     "output_type": "stream",
     "text": [
      "Processing books:  13%|█▎        | 163/1250 [25:49<3:01:12, 10.00s/it]"
     ]
    },
    {
     "name": "stdout",
     "output_type": "stream",
     "text": [
      "Searching for: Six of Crows (Six of Crows, #1) Leigh Bardugo book review\n"
     ]
    },
    {
     "name": "stderr",
     "output_type": "stream",
     "text": [
      "Processing books:  13%|█▎        | 164/1250 [25:55<2:39:35,  8.82s/it]"
     ]
    },
    {
     "name": "stdout",
     "output_type": "stream",
     "text": [
      "Searching for: The Name of the Wind (The Kingkiller Chronicle, #1) Patrick Rothfuss book review\n"
     ]
    },
    {
     "name": "stderr",
     "output_type": "stream",
     "text": [
      "Processing books:  13%|█▎        | 165/1250 [25:56<1:57:53,  6.52s/it]"
     ]
    },
    {
     "name": "stdout",
     "output_type": "stream",
     "text": [
      "Searching for: The Final Empire (Mistborn, #1) Brandon Sanderson book review\n"
     ]
    },
    {
     "name": "stderr",
     "output_type": "stream",
     "text": [
      "Processing books:  13%|█▎        | 166/1250 [26:17<3:13:44, 10.72s/it]"
     ]
    },
    {
     "name": "stdout",
     "output_type": "stream",
     "text": [
      "Searching for: The Return of the King (Middle Earth, #4) J.R.R. Tolkien book review\n"
     ]
    },
    {
     "name": "stderr",
     "output_type": "stream",
     "text": [
      "Processing books:  13%|█▎        | 167/1250 [26:28<3:15:17, 10.82s/it]"
     ]
    },
    {
     "name": "stdout",
     "output_type": "stream",
     "text": [
      "Searching for: A Court of Mist and Fury (A Court of Thorns and Roses, #2) Sarah J. Maas book review\n"
     ]
    },
    {
     "name": "stderr",
     "output_type": "stream",
     "text": [
      "Processing books:  13%|█▎        | 168/1250 [26:39<3:19:38, 11.07s/it]"
     ]
    },
    {
     "name": "stdout",
     "output_type": "stream",
     "text": [
      "Searching for: The Lightning Thief (Percy Jackson and the Olympians, #1) Rick Riordan book review\n"
     ]
    },
    {
     "name": "stderr",
     "output_type": "stream",
     "text": [
      "Processing books:  14%|█▎        | 169/1250 [26:48<3:04:11, 10.22s/it]"
     ]
    },
    {
     "name": "stdout",
     "output_type": "stream",
     "text": [
      "Searching for: Shadow and Bone (The Shadow and Bone Trilogy, #1) Leigh Bardugo book review\n"
     ]
    },
    {
     "name": "stderr",
     "output_type": "stream",
     "text": [
      "Processing books:  14%|█▎        | 170/1250 [26:57<2:58:35,  9.92s/it]"
     ]
    },
    {
     "name": "stdout",
     "output_type": "stream",
     "text": [
      "Searching for: The Lion, the Witch and the Wardrobe (Chronicles of Narnia, #1) C.S. Lewis book review\n"
     ]
    },
    {
     "name": "stderr",
     "output_type": "stream",
     "text": [
      "Processing books:  14%|█▎        | 171/1250 [27:14<3:37:22, 12.09s/it]"
     ]
    },
    {
     "name": "stdout",
     "output_type": "stream",
     "text": [
      "Searching for: The Cruel Prince (The Folk of the Air, #1) Holly Black book review\n"
     ]
    },
    {
     "name": "stderr",
     "output_type": "stream",
     "text": [
      "Processing books:  14%|█▍        | 172/1250 [27:24<3:28:25, 11.60s/it]"
     ]
    },
    {
     "name": "stdout",
     "output_type": "stream",
     "text": [
      "Searching for: A Storm of Swords (A Song of Ice and Fire, #3) George R.R. Martin book review\n"
     ]
    },
    {
     "name": "stderr",
     "output_type": "stream",
     "text": [
      "Processing books:  14%|█▍        | 173/1250 [27:28<2:42:27,  9.05s/it]"
     ]
    },
    {
     "name": "stdout",
     "output_type": "stream",
     "text": [
      "Searching for: A Feast for Crows (A Song of Ice and Fire, #4) George R.R. Martin book review\n"
     ]
    },
    {
     "name": "stderr",
     "output_type": "stream",
     "text": [
      "Processing books:  14%|█▍        | 174/1250 [27:33<2:21:42,  7.90s/it]"
     ]
    },
    {
     "name": "stdout",
     "output_type": "stream",
     "text": [
      "Searching for: The Golden Compass (His Dark Materials, #1) Philip Pullman book review\n"
     ]
    },
    {
     "name": "stderr",
     "output_type": "stream",
     "text": [
      "Processing books:  14%|█▍        | 175/1250 [27:39<2:10:46,  7.30s/it]"
     ]
    },
    {
     "name": "stdout",
     "output_type": "stream",
     "text": [
      "Searching for: Eragon (The Inheritance Cycle, #1) Christopher Paolini book review\n"
     ]
    },
    {
     "name": "stderr",
     "output_type": "stream",
     "text": [
      "Processing books:  14%|█▍        | 176/1250 [27:48<2:23:55,  8.04s/it]"
     ]
    },
    {
     "name": "stdout",
     "output_type": "stream",
     "text": [
      "Searching for: A Court of Wings and Ruin (A Court of Thorns and Roses, #3) Sarah J. Maas book review\n"
     ]
    },
    {
     "name": "stderr",
     "output_type": "stream",
     "text": [
      "Processing books:  14%|█▍        | 177/1250 [27:58<2:29:54,  8.38s/it]"
     ]
    },
    {
     "name": "stdout",
     "output_type": "stream",
     "text": [
      "Searching for: A Dance with Dragons (A Song of Ice and Fire, #5) George R.R. Martin book review\n"
     ]
    },
    {
     "name": "stderr",
     "output_type": "stream",
     "text": [
      "Processing books:  14%|█▍        | 178/1250 [28:05<2:22:32,  7.98s/it]"
     ]
    },
    {
     "name": "stdout",
     "output_type": "stream",
     "text": [
      "Searching for: The Night Circus (Hardcover) Erin Morgenstern book review\n"
     ]
    },
    {
     "name": "stderr",
     "output_type": "stream",
     "text": [
      "Processing books:  14%|█▍        | 179/1250 [28:23<3:19:05, 11.15s/it]"
     ]
    },
    {
     "name": "stdout",
     "output_type": "stream",
     "text": [
      "Searching for: American Gods (Kindle Edition) Neil Gaiman book review\n"
     ]
    },
    {
     "name": "stderr",
     "output_type": "stream",
     "text": [
      "Processing books:  14%|█▍        | 180/1250 [28:36<3:29:00, 11.72s/it]"
     ]
    },
    {
     "name": "stdout",
     "output_type": "stream",
     "text": [
      "Searching for: City of Bones (The Mortal Instruments, #1) Cassandra Clare book review\n"
     ]
    },
    {
     "name": "stderr",
     "output_type": "stream",
     "text": [
      "Processing books:  14%|█▍        | 181/1250 [28:41<2:51:22,  9.62s/it]"
     ]
    },
    {
     "name": "stdout",
     "output_type": "stream",
     "text": [
      "Searching for: The Eye of the World (The Wheel of Time, #1) Robert Jordan book review\n"
     ]
    },
    {
     "name": "stderr",
     "output_type": "stream",
     "text": [
      "Processing books:  15%|█▍        | 182/1250 [28:42<2:06:13,  7.09s/it]"
     ]
    },
    {
     "name": "stdout",
     "output_type": "stream",
     "text": [
      "Searching for: Twilight (The Twilight Saga, #1) Stephenie Meyer book review\n"
     ]
    },
    {
     "name": "stderr",
     "output_type": "stream",
     "text": [
      "Processing books:  15%|█▍        | 183/1250 [28:49<2:03:15,  6.93s/it]"
     ]
    },
    {
     "name": "stdout",
     "output_type": "stream",
     "text": [
      "Searching for: The Way of Kings (The Stormlight Archive, #1) Brandon Sanderson book review\n"
     ]
    },
    {
     "name": "stderr",
     "output_type": "stream",
     "text": [
      "Processing books:  15%|█▍        | 184/1250 [28:55<2:00:21,  6.77s/it]"
     ]
    },
    {
     "name": "stdout",
     "output_type": "stream",
     "text": [
      "Searching for: Crown of Midnight (Throne of Glass, #2) Sarah J. Maas book review\n"
     ]
    },
    {
     "name": "stderr",
     "output_type": "stream",
     "text": [
      "Processing books:  15%|█▍        | 185/1250 [29:05<2:18:06,  7.78s/it]"
     ]
    },
    {
     "name": "stdout",
     "output_type": "stream",
     "text": [
      "Searching for: A Darker Shade of Magic (Shades of Magic, #1) Victoria Schwab book review\n"
     ]
    },
    {
     "name": "stderr",
     "output_type": "stream",
     "text": [
      "Processing books:  15%|█▍        | 186/1250 [29:09<1:58:45,  6.70s/it]"
     ]
    },
    {
     "name": "stdout",
     "output_type": "stream",
     "text": [
      "Searching for: Crooked Kingdom (Six of Crows, #2) Leigh Bardugo book review\n"
     ]
    },
    {
     "name": "stderr",
     "output_type": "stream",
     "text": [
      "Processing books:  15%|█▍        | 187/1250 [29:17<2:03:27,  6.97s/it]"
     ]
    },
    {
     "name": "stdout",
     "output_type": "stream",
     "text": [
      "Searching for: Good Omens: The Nice and Accurate Prophecies of Agnes Nutter, Witch (Mass Market Paperback) Terry Pratchett book review\n"
     ]
    },
    {
     "name": "stderr",
     "output_type": "stream",
     "text": [
      "Processing books:  15%|█▌        | 188/1250 [29:20<1:42:10,  5.77s/it]"
     ]
    },
    {
     "name": "stdout",
     "output_type": "stream",
     "text": [
      "Searching for: The Sea of Monsters (Percy Jackson and the Olympians, #2) Rick Riordan book review\n"
     ]
    },
    {
     "name": "stderr",
     "output_type": "stream",
     "text": [
      "Processing books:  15%|█▌        | 189/1250 [29:32<2:16:55,  7.74s/it]"
     ]
    },
    {
     "name": "stdout",
     "output_type": "stream",
     "text": [
      "Searching for: The Well of Ascension (Mistborn, #2) Brandon Sanderson book review\n"
     ]
    },
    {
     "name": "stderr",
     "output_type": "stream",
     "text": [
      "Processing books:  15%|█▌        | 190/1250 [29:33<1:41:08,  5.72s/it]"
     ]
    },
    {
     "name": "stdout",
     "output_type": "stream",
     "text": [
      "Searching for: Stardust (Paperback) Neil Gaiman book review\n"
     ]
    },
    {
     "name": "stderr",
     "output_type": "stream",
     "text": [
      "Processing books:  15%|█▌        | 191/1250 [29:46<2:16:42,  7.75s/it]"
     ]
    },
    {
     "name": "stdout",
     "output_type": "stream",
     "text": [
      "Searching for: Assassin's Apprentice (Farseer Trilogy, #1) Robin Hobb book review\n"
     ]
    },
    {
     "name": "stderr",
     "output_type": "stream",
     "text": [
      "Processing books:  15%|█▌        | 192/1250 [29:47<1:40:52,  5.72s/it]"
     ]
    },
    {
     "name": "stdout",
     "output_type": "stream",
     "text": [
      "Searching for: Siege and Storm (The Shadow and Bone Trilogy, #2) Leigh Bardugo book review\n"
     ]
    },
    {
     "name": "stderr",
     "output_type": "stream",
     "text": [
      "Processing books:  15%|█▌        | 193/1250 [29:51<1:31:28,  5.19s/it]"
     ]
    },
    {
     "name": "stdout",
     "output_type": "stream",
     "text": [
      "Searching for: Neverwhere (London Below, #1) Neil Gaiman book review\n"
     ]
    },
    {
     "name": "stderr",
     "output_type": "stream",
     "text": [
      "Processing books:  16%|█▌        | 194/1250 [30:12<2:54:59,  9.94s/it]"
     ]
    },
    {
     "name": "stdout",
     "output_type": "stream",
     "text": [
      "Searching for: A Court of Frost and Starlight (A Court of Thorns and Roses, #3.5) Sarah J. Maas book review\n"
     ]
    },
    {
     "name": "stderr",
     "output_type": "stream",
     "text": [
      "Processing books:  16%|█▌        | 195/1250 [30:24<3:08:58, 10.75s/it]"
     ]
    },
    {
     "name": "stdout",
     "output_type": "stream",
     "text": [
      "Searching for: The Wicked King (The Folk of the Air, #2) Holly Black book review\n"
     ]
    },
    {
     "name": "stderr",
     "output_type": "stream",
     "text": [
      "Processing books:  16%|█▌        | 196/1250 [30:28<2:32:23,  8.67s/it]"
     ]
    },
    {
     "name": "stdout",
     "output_type": "stream",
     "text": [
      "Searching for: The Lord of the Rings (Middle Earth, #2-4) J.R.R. Tolkien book review\n"
     ]
    },
    {
     "name": "stderr",
     "output_type": "stream",
     "text": [
      "Processing books:  16%|█▌        | 197/1250 [30:36<2:24:48,  8.25s/it]"
     ]
    },
    {
     "name": "stdout",
     "output_type": "stream",
     "text": [
      "Searching for: The Wise Man’s Fear (The Kingkiller Chronicle, #2) Patrick Rothfuss book review\n"
     ]
    },
    {
     "name": "stderr",
     "output_type": "stream",
     "text": [
      "Processing books:  16%|█▌        | 198/1250 [30:36<1:46:11,  6.06s/it]"
     ]
    },
    {
     "name": "stdout",
     "output_type": "stream",
     "text": [
      "Searching for: The Lies of Locke Lamora (Gentleman Bastard, #1) Scott Lynch book review\n"
     ]
    },
    {
     "name": "stderr",
     "output_type": "stream",
     "text": [
      "Processing books:  16%|█▌        | 199/1250 [30:44<1:54:51,  6.56s/it]"
     ]
    },
    {
     "name": "stdout",
     "output_type": "stream",
     "text": [
      "Searching for: The Invisible Life of Addie LaRue (Kindle Edition) Victoria Schwab book review\n"
     ]
    },
    {
     "name": "stderr",
     "output_type": "stream",
     "text": [
      "Processing books:  16%|█▌        | 200/1250 [30:48<1:42:34,  5.86s/it]"
     ]
    },
    {
     "name": "stdout",
     "output_type": "stream",
     "text": [
      "Searching for: Harry Potter and the Sorcerer’s Stone (Harry Potter, #1) J.K. Rowling book review\n"
     ]
    },
    {
     "name": "stderr",
     "output_type": "stream",
     "text": [
      "Processing books:  16%|█▌        | 201/1250 [31:02<2:21:10,  8.07s/it]"
     ]
    },
    {
     "name": "stdout",
     "output_type": "stream",
     "text": [
      "Searching for: Harry Potter and the Chamber of Secrets (Harry Potter, #2) J.K. Rowling book review\n"
     ]
    },
    {
     "name": "stderr",
     "output_type": "stream",
     "text": [
      "Processing books:  16%|█▌        | 202/1250 [31:16<2:55:23, 10.04s/it]"
     ]
    },
    {
     "name": "stdout",
     "output_type": "stream",
     "text": [
      "Searching for: Harry Potter and the Prisoner of Azkaban (Harry Potter, #3) J.K. Rowling book review\n"
     ]
    },
    {
     "name": "stderr",
     "output_type": "stream",
     "text": [
      "Processing books:  16%|█▌        | 203/1250 [31:29<3:09:03, 10.83s/it]"
     ]
    },
    {
     "name": "stdout",
     "output_type": "stream",
     "text": [
      "Searching for: The Hobbit (The Lord of the Rings, #0) J.R.R. Tolkien book review\n"
     ]
    },
    {
     "name": "stderr",
     "output_type": "stream",
     "text": [
      "Processing books:  16%|█▋        | 204/1250 [31:36<2:49:15,  9.71s/it]"
     ]
    },
    {
     "name": "stdout",
     "output_type": "stream",
     "text": [
      "Searching for: Harry Potter and the Goblet of Fire (Harry Potter, #4) J.K. Rowling book review\n"
     ]
    },
    {
     "name": "stderr",
     "output_type": "stream",
     "text": [
      "Processing books:  16%|█▋        | 205/1250 [31:54<3:30:39, 12.09s/it]"
     ]
    },
    {
     "name": "stdout",
     "output_type": "stream",
     "text": [
      "Searching for: Harry Potter and the Order of the Phoenix (Harry Potter, #5) J.K. Rowling book review\n"
     ]
    },
    {
     "name": "stderr",
     "output_type": "stream",
     "text": [
      "Processing books:  16%|█▋        | 206/1250 [32:15<4:19:59, 14.94s/it]"
     ]
    },
    {
     "name": "stdout",
     "output_type": "stream",
     "text": [
      "Searching for: Harry Potter and the Half-Blood Prince (Harry Potter, #6) J.K. Rowling book review\n"
     ]
    },
    {
     "name": "stderr",
     "output_type": "stream",
     "text": [
      "Processing books:  17%|█▋        | 207/1250 [32:31<4:21:55, 15.07s/it]"
     ]
    },
    {
     "name": "stdout",
     "output_type": "stream",
     "text": [
      "Searching for: Harry Potter and the Deathly Hallows (Harry Potter, #7) J.K. Rowling book review\n"
     ]
    },
    {
     "name": "stderr",
     "output_type": "stream",
     "text": [
      "Processing books:  17%|█▋        | 208/1250 [32:43<4:05:56, 14.16s/it]"
     ]
    },
    {
     "name": "stdout",
     "output_type": "stream",
     "text": [
      "Searching for: A Game of Thrones (A Song of Ice and Fire, #1) George R.R. Martin book review\n"
     ]
    },
    {
     "name": "stderr",
     "output_type": "stream",
     "text": [
      "Processing books:  17%|█▋        | 209/1250 [32:47<3:14:37, 11.22s/it]"
     ]
    },
    {
     "name": "stdout",
     "output_type": "stream",
     "text": [
      "Searching for: The Fellowship of the Ring (Middle Earth, #1) J.R.R. Tolkien book review\n"
     ]
    },
    {
     "name": "stderr",
     "output_type": "stream",
     "text": [
      "Processing books:  17%|█▋        | 210/1250 [32:50<2:29:21,  8.62s/it]"
     ]
    },
    {
     "name": "stdout",
     "output_type": "stream",
     "text": [
      "Searching for: A Court of Thorns and Roses (A Court of Thorns and Roses, #1) Sarah J. Maas book review\n"
     ]
    },
    {
     "name": "stderr",
     "output_type": "stream",
     "text": [
      "Processing books:  17%|█▋        | 211/1250 [32:54<2:08:38,  7.43s/it]"
     ]
    },
    {
     "name": "stdout",
     "output_type": "stream",
     "text": [
      "Searching for: A Clash of Kings  (A Song of Ice and Fire, #2) George R.R. Martin book review\n"
     ]
    },
    {
     "name": "stderr",
     "output_type": "stream",
     "text": [
      "Processing books:  17%|█▋        | 212/1250 [32:57<1:43:30,  5.98s/it]"
     ]
    },
    {
     "name": "stdout",
     "output_type": "stream",
     "text": [
      "Searching for: The Two Towers (Middle Earth, #3) J.R.R. Tolkien book review\n"
     ]
    },
    {
     "name": "stderr",
     "output_type": "stream",
     "text": [
      "Processing books:  17%|█▋        | 213/1250 [33:11<2:28:13,  8.58s/it]"
     ]
    },
    {
     "name": "stdout",
     "output_type": "stream",
     "text": [
      "Searching for: Six of Crows (Six of Crows, #1) Leigh Bardugo book review\n"
     ]
    },
    {
     "name": "stderr",
     "output_type": "stream",
     "text": [
      "Processing books:  17%|█▋        | 214/1250 [33:15<1:59:38,  6.93s/it]"
     ]
    },
    {
     "name": "stdout",
     "output_type": "stream",
     "text": [
      "Searching for: The Name of the Wind (The Kingkiller Chronicle, #1) Patrick Rothfuss book review\n"
     ]
    },
    {
     "name": "stderr",
     "output_type": "stream",
     "text": [
      "Processing books:  17%|█▋        | 215/1250 [33:16<1:29:12,  5.17s/it]"
     ]
    },
    {
     "name": "stdout",
     "output_type": "stream",
     "text": [
      "Searching for: The Final Empire (Mistborn, #1) Brandon Sanderson book review\n"
     ]
    },
    {
     "name": "stderr",
     "output_type": "stream",
     "text": [
      "Processing books:  17%|█▋        | 216/1250 [33:37<2:52:42, 10.02s/it]"
     ]
    },
    {
     "name": "stdout",
     "output_type": "stream",
     "text": [
      "Searching for: The Return of the King (Middle Earth, #4) J.R.R. Tolkien book review\n"
     ]
    },
    {
     "name": "stderr",
     "output_type": "stream",
     "text": [
      "Processing books:  17%|█▋        | 217/1250 [33:57<3:41:40, 12.88s/it]"
     ]
    },
    {
     "name": "stdout",
     "output_type": "stream",
     "text": [
      "Searching for: A Court of Mist and Fury (A Court of Thorns and Roses, #2) Sarah J. Maas book review\n"
     ]
    },
    {
     "name": "stderr",
     "output_type": "stream",
     "text": [
      "Processing books:  17%|█▋        | 218/1250 [34:05<3:20:47, 11.67s/it]"
     ]
    },
    {
     "name": "stdout",
     "output_type": "stream",
     "text": [
      "Searching for: The Lightning Thief (Percy Jackson and the Olympians, #1) Rick Riordan book review\n"
     ]
    },
    {
     "name": "stderr",
     "output_type": "stream",
     "text": [
      "Processing books:  18%|█▊        | 219/1250 [34:13<3:01:18, 10.55s/it]"
     ]
    },
    {
     "name": "stdout",
     "output_type": "stream",
     "text": [
      "Searching for: Shadow and Bone (The Shadow and Bone Trilogy, #1) Leigh Bardugo book review\n"
     ]
    },
    {
     "name": "stderr",
     "output_type": "stream",
     "text": [
      "Processing books:  18%|█▊        | 220/1250 [34:20<2:40:46,  9.37s/it]"
     ]
    },
    {
     "name": "stdout",
     "output_type": "stream",
     "text": [
      "Searching for: The Lion, the Witch and the Wardrobe (Chronicles of Narnia, #1) C.S. Lewis book review\n"
     ]
    },
    {
     "name": "stderr",
     "output_type": "stream",
     "text": [
      "Processing books:  18%|█▊        | 221/1250 [34:41<3:40:46, 12.87s/it]"
     ]
    },
    {
     "name": "stdout",
     "output_type": "stream",
     "text": [
      "Searching for: The Cruel Prince (The Folk of the Air, #1) Holly Black book review\n"
     ]
    },
    {
     "name": "stderr",
     "output_type": "stream",
     "text": [
      "Processing books:  18%|█▊        | 222/1250 [34:48<3:08:13, 10.99s/it]"
     ]
    },
    {
     "name": "stdout",
     "output_type": "stream",
     "text": [
      "Searching for: A Storm of Swords (A Song of Ice and Fire, #3) George R.R. Martin book review\n"
     ]
    },
    {
     "name": "stderr",
     "output_type": "stream",
     "text": [
      "Processing books:  18%|█▊        | 223/1250 [34:51<2:29:27,  8.73s/it]"
     ]
    },
    {
     "name": "stdout",
     "output_type": "stream",
     "text": [
      "Searching for: A Feast for Crows (A Song of Ice and Fire, #4) George R.R. Martin book review\n"
     ]
    },
    {
     "name": "stderr",
     "output_type": "stream",
     "text": [
      "Processing books:  18%|█▊        | 224/1250 [34:57<2:15:13,  7.91s/it]"
     ]
    },
    {
     "name": "stdout",
     "output_type": "stream",
     "text": [
      "Searching for: The Golden Compass (His Dark Materials, #1) Philip Pullman book review\n"
     ]
    },
    {
     "name": "stderr",
     "output_type": "stream",
     "text": [
      "Processing books:  18%|█▊        | 225/1250 [35:04<2:10:18,  7.63s/it]"
     ]
    },
    {
     "name": "stdout",
     "output_type": "stream",
     "text": [
      "Searching for: Eragon (The Inheritance Cycle, #1) Christopher Paolini book review\n"
     ]
    },
    {
     "name": "stderr",
     "output_type": "stream",
     "text": [
      "Processing books:  18%|█▊        | 226/1250 [35:11<2:09:06,  7.56s/it]"
     ]
    },
    {
     "name": "stdout",
     "output_type": "stream",
     "text": [
      "Searching for: A Court of Wings and Ruin (A Court of Thorns and Roses, #3) Sarah J. Maas book review\n"
     ]
    },
    {
     "name": "stderr",
     "output_type": "stream",
     "text": [
      "Processing books:  18%|█▊        | 227/1250 [35:21<2:20:52,  8.26s/it]"
     ]
    },
    {
     "name": "stdout",
     "output_type": "stream",
     "text": [
      "Searching for: A Dance with Dragons (A Song of Ice and Fire, #5) George R.R. Martin book review\n"
     ]
    },
    {
     "name": "stderr",
     "output_type": "stream",
     "text": [
      "Processing books:  18%|█▊        | 228/1250 [35:28<2:11:27,  7.72s/it]"
     ]
    },
    {
     "name": "stdout",
     "output_type": "stream",
     "text": [
      "Searching for: The Night Circus (Hardcover) Erin Morgenstern book review\n"
     ]
    },
    {
     "name": "stderr",
     "output_type": "stream",
     "text": [
      "Processing books:  18%|█▊        | 229/1250 [35:54<3:43:55, 13.16s/it]"
     ]
    },
    {
     "name": "stdout",
     "output_type": "stream",
     "text": [
      "Searching for: American Gods (Kindle Edition) Neil Gaiman book review\n"
     ]
    },
    {
     "name": "stderr",
     "output_type": "stream",
     "text": [
      "Processing books:  18%|█▊        | 230/1250 [35:59<3:06:24, 10.96s/it]"
     ]
    },
    {
     "name": "stdout",
     "output_type": "stream",
     "text": [
      "Searching for: City of Bones (The Mortal Instruments, #1) Cassandra Clare book review\n"
     ]
    },
    {
     "name": "stderr",
     "output_type": "stream",
     "text": [
      "Processing books:  18%|█▊        | 231/1250 [36:05<2:39:25,  9.39s/it]"
     ]
    },
    {
     "name": "stdout",
     "output_type": "stream",
     "text": [
      "Searching for: The Eye of the World (The Wheel of Time, #1) Robert Jordan book review\n"
     ]
    },
    {
     "name": "stderr",
     "output_type": "stream",
     "text": [
      "Processing books:  19%|█▊        | 232/1250 [36:06<1:56:13,  6.85s/it]"
     ]
    },
    {
     "name": "stdout",
     "output_type": "stream",
     "text": [
      "Searching for: Twilight (The Twilight Saga, #1) Stephenie Meyer book review\n"
     ]
    },
    {
     "name": "stderr",
     "output_type": "stream",
     "text": [
      "Processing books:  19%|█▊        | 233/1250 [36:09<1:35:04,  5.61s/it]"
     ]
    },
    {
     "name": "stdout",
     "output_type": "stream",
     "text": [
      "Searching for: The Way of Kings (The Stormlight Archive, #1) Brandon Sanderson book review\n",
      "Error processing https://www.geeksundergrace.com/books/review-stormlight-archive-the-way-of-kings/: HTTPSConnectionPool(host='www.geeksundergrace.com', port=443): Max retries exceeded with url: /books/review-stormlight-archive-the-way-of-kings/ (Caused by ProtocolError('Connection aborted.', RemoteDisconnected('Remote end closed connection without response')))\n"
     ]
    },
    {
     "name": "stderr",
     "output_type": "stream",
     "text": [
      "Processing books:  19%|█▊        | 234/1250 [36:21<2:10:58,  7.74s/it]"
     ]
    },
    {
     "name": "stdout",
     "output_type": "stream",
     "text": [
      "Searching for: Crown of Midnight (Throne of Glass, #2) Sarah J. Maas book review\n"
     ]
    },
    {
     "name": "stderr",
     "output_type": "stream",
     "text": [
      "Processing books:  19%|█▉        | 235/1250 [37:27<7:04:06, 25.07s/it]"
     ]
    },
    {
     "name": "stdout",
     "output_type": "stream",
     "text": [
      "Searching for: A Darker Shade of Magic (Shades of Magic, #1) Victoria Schwab book review\n"
     ]
    },
    {
     "name": "stderr",
     "output_type": "stream",
     "text": [
      "Processing books:  19%|█▉        | 236/1250 [37:31<5:16:44, 18.74s/it]"
     ]
    },
    {
     "name": "stdout",
     "output_type": "stream",
     "text": [
      "Searching for: Crooked Kingdom (Six of Crows, #2) Leigh Bardugo book review\n"
     ]
    },
    {
     "name": "stderr",
     "output_type": "stream",
     "text": [
      "Processing books:  19%|█▉        | 237/1250 [37:35<4:01:13, 14.29s/it]"
     ]
    },
    {
     "name": "stdout",
     "output_type": "stream",
     "text": [
      "Searching for: Good Omens: The Nice and Accurate Prophecies of Agnes Nutter, Witch (Mass Market Paperback) Terry Pratchett book review\n"
     ]
    },
    {
     "name": "stderr",
     "output_type": "stream",
     "text": [
      "Processing books:  19%|█▉        | 238/1250 [37:51<4:08:15, 14.72s/it]"
     ]
    },
    {
     "name": "stdout",
     "output_type": "stream",
     "text": [
      "Searching for: The Sea of Monsters (Percy Jackson and the Olympians, #2) Rick Riordan book review\n"
     ]
    },
    {
     "name": "stderr",
     "output_type": "stream",
     "text": [
      "Processing books:  19%|█▉        | 239/1250 [38:01<3:45:00, 13.35s/it]"
     ]
    },
    {
     "name": "stdout",
     "output_type": "stream",
     "text": [
      "Searching for: The Well of Ascension (Mistborn, #2) Brandon Sanderson book review\n"
     ]
    },
    {
     "name": "stderr",
     "output_type": "stream",
     "text": [
      "Processing books:  19%|█▉        | 240/1250 [38:05<2:59:35, 10.67s/it]"
     ]
    },
    {
     "name": "stdout",
     "output_type": "stream",
     "text": [
      "Searching for: Stardust (Paperback) Neil Gaiman book review\n"
     ]
    },
    {
     "name": "stderr",
     "output_type": "stream",
     "text": [
      "Processing books:  19%|█▉        | 241/1250 [38:16<3:00:27, 10.73s/it]"
     ]
    },
    {
     "name": "stdout",
     "output_type": "stream",
     "text": [
      "Searching for: Assassin's Apprentice (Farseer Trilogy, #1) Robin Hobb book review\n"
     ]
    },
    {
     "name": "stderr",
     "output_type": "stream",
     "text": [
      "Processing books:  19%|█▉        | 242/1250 [38:17<2:11:25,  7.82s/it]"
     ]
    },
    {
     "name": "stdout",
     "output_type": "stream",
     "text": [
      "Searching for: Siege and Storm (The Shadow and Bone Trilogy, #2) Leigh Bardugo book review\n"
     ]
    },
    {
     "name": "stderr",
     "output_type": "stream",
     "text": [
      "Processing books:  19%|█▉        | 243/1250 [38:24<2:07:58,  7.63s/it]"
     ]
    },
    {
     "name": "stdout",
     "output_type": "stream",
     "text": [
      "Searching for: Neverwhere (London Below, #1) Neil Gaiman book review\n"
     ]
    },
    {
     "name": "stderr",
     "output_type": "stream",
     "text": [
      "Processing books:  20%|█▉        | 244/1250 [38:39<2:42:38,  9.70s/it]"
     ]
    },
    {
     "name": "stdout",
     "output_type": "stream",
     "text": [
      "Searching for: A Court of Frost and Starlight (A Court of Thorns and Roses, #3.5) Sarah J. Maas book review\n"
     ]
    },
    {
     "name": "stderr",
     "output_type": "stream",
     "text": [
      "Processing books:  20%|█▉        | 245/1250 [38:53<3:05:22, 11.07s/it]"
     ]
    },
    {
     "name": "stdout",
     "output_type": "stream",
     "text": [
      "Searching for: The Wicked King (The Folk of the Air, #2) Holly Black book review\n"
     ]
    },
    {
     "name": "stderr",
     "output_type": "stream",
     "text": [
      "Processing books:  20%|█▉        | 246/1250 [38:58<2:32:15,  9.10s/it]"
     ]
    },
    {
     "name": "stdout",
     "output_type": "stream",
     "text": [
      "Searching for: The Lord of the Rings (Middle Earth, #2-4) J.R.R. Tolkien book review\n"
     ]
    },
    {
     "name": "stderr",
     "output_type": "stream",
     "text": [
      "Processing books:  20%|█▉        | 247/1250 [39:06<2:27:06,  8.80s/it]"
     ]
    },
    {
     "name": "stdout",
     "output_type": "stream",
     "text": [
      "Searching for: The Wise Man’s Fear (The Kingkiller Chronicle, #2) Patrick Rothfuss book review\n"
     ]
    },
    {
     "name": "stderr",
     "output_type": "stream",
     "text": [
      "Processing books:  20%|█▉        | 248/1250 [39:07<1:48:08,  6.48s/it]"
     ]
    },
    {
     "name": "stdout",
     "output_type": "stream",
     "text": [
      "Searching for: The Lies of Locke Lamora (Gentleman Bastard, #1) Scott Lynch book review\n"
     ]
    },
    {
     "name": "stderr",
     "output_type": "stream",
     "text": [
      "Processing books:  20%|█▉        | 249/1250 [39:18<2:10:12,  7.81s/it]"
     ]
    },
    {
     "name": "stdout",
     "output_type": "stream",
     "text": [
      "Searching for: The Invisible Life of Addie LaRue (Kindle Edition) Victoria Schwab book review\n"
     ]
    },
    {
     "name": "stderr",
     "output_type": "stream",
     "text": [
      "Processing books:  20%|██        | 250/1250 [39:21<1:45:44,  6.34s/it]"
     ]
    },
    {
     "name": "stdout",
     "output_type": "stream",
     "text": [
      "Searching for: Harry Potter and the Sorcerer’s Stone (Harry Potter, #1) J.K. Rowling book review\n"
     ]
    },
    {
     "name": "stderr",
     "output_type": "stream",
     "text": [
      "Processing books:  20%|██        | 251/1250 [39:28<1:51:45,  6.71s/it]"
     ]
    },
    {
     "name": "stdout",
     "output_type": "stream",
     "text": [
      "Searching for: Harry Potter and the Chamber of Secrets (Harry Potter, #2) J.K. Rowling book review\n"
     ]
    },
    {
     "name": "stderr",
     "output_type": "stream",
     "text": [
      "Processing books:  20%|██        | 252/1250 [39:41<2:23:53,  8.65s/it]"
     ]
    },
    {
     "name": "stdout",
     "output_type": "stream",
     "text": [
      "Searching for: Harry Potter and the Prisoner of Azkaban (Harry Potter, #3) J.K. Rowling book review\n"
     ]
    },
    {
     "name": "stderr",
     "output_type": "stream",
     "text": [
      "Processing books:  20%|██        | 253/1250 [39:59<3:08:09, 11.32s/it]"
     ]
    },
    {
     "name": "stdout",
     "output_type": "stream",
     "text": [
      "Searching for: The Hobbit (The Lord of the Rings, #0) J.R.R. Tolkien book review\n"
     ]
    },
    {
     "name": "stderr",
     "output_type": "stream",
     "text": [
      "Processing books:  20%|██        | 254/1250 [40:04<2:39:27,  9.61s/it]"
     ]
    },
    {
     "name": "stdout",
     "output_type": "stream",
     "text": [
      "Searching for: Harry Potter and the Goblet of Fire (Harry Potter, #4) J.K. Rowling book review\n"
     ]
    },
    {
     "name": "stderr",
     "output_type": "stream",
     "text": [
      "Processing books:  20%|██        | 255/1250 [40:27<3:41:40, 13.37s/it]"
     ]
    },
    {
     "name": "stdout",
     "output_type": "stream",
     "text": [
      "Searching for: Harry Potter and the Order of the Phoenix (Harry Potter, #5) J.K. Rowling book review\n"
     ]
    },
    {
     "name": "stderr",
     "output_type": "stream",
     "text": [
      "Processing books:  20%|██        | 256/1250 [40:43<3:54:06, 14.13s/it]"
     ]
    },
    {
     "name": "stdout",
     "output_type": "stream",
     "text": [
      "Searching for: Harry Potter and the Half-Blood Prince (Harry Potter, #6) J.K. Rowling book review\n"
     ]
    },
    {
     "name": "stderr",
     "output_type": "stream",
     "text": [
      "Processing books:  21%|██        | 257/1250 [40:56<3:51:36, 13.99s/it]"
     ]
    },
    {
     "name": "stdout",
     "output_type": "stream",
     "text": [
      "Searching for: Harry Potter and the Deathly Hallows (Harry Potter, #7) J.K. Rowling book review\n"
     ]
    },
    {
     "name": "stderr",
     "output_type": "stream",
     "text": [
      "Processing books:  21%|██        | 258/1250 [41:03<3:17:12, 11.93s/it]"
     ]
    },
    {
     "name": "stdout",
     "output_type": "stream",
     "text": [
      "Searching for: A Game of Thrones (A Song of Ice and Fire, #1) George R.R. Martin book review\n"
     ]
    },
    {
     "name": "stderr",
     "output_type": "stream",
     "text": [
      "Processing books:  21%|██        | 259/1250 [41:11<2:56:26, 10.68s/it]"
     ]
    },
    {
     "name": "stdout",
     "output_type": "stream",
     "text": [
      "Searching for: The Fellowship of the Ring (Middle Earth, #1) J.R.R. Tolkien book review\n"
     ]
    },
    {
     "name": "stderr",
     "output_type": "stream",
     "text": [
      "Processing books:  21%|██        | 260/1250 [41:15<2:22:34,  8.64s/it]"
     ]
    },
    {
     "name": "stdout",
     "output_type": "stream",
     "text": [
      "Searching for: A Court of Thorns and Roses (A Court of Thorns and Roses, #1) Sarah J. Maas book review\n"
     ]
    },
    {
     "name": "stderr",
     "output_type": "stream",
     "text": [
      "Processing books:  21%|██        | 261/1250 [41:24<2:24:08,  8.74s/it]"
     ]
    },
    {
     "name": "stdout",
     "output_type": "stream",
     "text": [
      "Searching for: A Clash of Kings  (A Song of Ice and Fire, #2) George R.R. Martin book review\n"
     ]
    },
    {
     "name": "stderr",
     "output_type": "stream",
     "text": [
      "Processing books:  21%|██        | 262/1250 [41:26<1:53:14,  6.88s/it]"
     ]
    },
    {
     "name": "stdout",
     "output_type": "stream",
     "text": [
      "Searching for: The Two Towers (Middle Earth, #3) J.R.R. Tolkien book review\n"
     ]
    },
    {
     "name": "stderr",
     "output_type": "stream",
     "text": [
      "Processing books:  21%|██        | 263/1250 [41:40<2:28:17,  9.01s/it]"
     ]
    },
    {
     "name": "stdout",
     "output_type": "stream",
     "text": [
      "Searching for: Six of Crows (Six of Crows, #1) Leigh Bardugo book review\n"
     ]
    },
    {
     "name": "stderr",
     "output_type": "stream",
     "text": [
      "Processing books:  21%|██        | 264/1250 [41:44<2:00:14,  7.32s/it]"
     ]
    },
    {
     "name": "stdout",
     "output_type": "stream",
     "text": [
      "Searching for: The Name of the Wind (The Kingkiller Chronicle, #1) Patrick Rothfuss book review\n"
     ]
    },
    {
     "name": "stderr",
     "output_type": "stream",
     "text": [
      "Processing books:  21%|██        | 265/1250 [41:45<1:29:17,  5.44s/it]"
     ]
    },
    {
     "name": "stdout",
     "output_type": "stream",
     "text": [
      "Searching for: The Final Empire (Mistborn, #1) Brandon Sanderson book review\n"
     ]
    },
    {
     "name": "stderr",
     "output_type": "stream",
     "text": [
      "Processing books:  21%|██▏       | 266/1250 [42:05<2:43:21,  9.96s/it]"
     ]
    },
    {
     "name": "stdout",
     "output_type": "stream",
     "text": [
      "Searching for: The Return of the King (Middle Earth, #4) J.R.R. Tolkien book review\n"
     ]
    },
    {
     "name": "stderr",
     "output_type": "stream",
     "text": [
      "Processing books:  21%|██▏       | 267/1250 [42:28<3:47:03, 13.86s/it]"
     ]
    },
    {
     "name": "stdout",
     "output_type": "stream",
     "text": [
      "Searching for: A Court of Mist and Fury (A Court of Thorns and Roses, #2) Sarah J. Maas book review\n"
     ]
    },
    {
     "name": "stderr",
     "output_type": "stream",
     "text": [
      "Processing books:  21%|██▏       | 268/1250 [42:36<3:14:21, 11.87s/it]"
     ]
    },
    {
     "name": "stdout",
     "output_type": "stream",
     "text": [
      "Searching for: The Lightning Thief (Percy Jackson and the Olympians, #1) Rick Riordan book review\n"
     ]
    },
    {
     "name": "stderr",
     "output_type": "stream",
     "text": [
      "Processing books:  22%|██▏       | 269/1250 [42:43<2:51:19, 10.48s/it]"
     ]
    },
    {
     "name": "stdout",
     "output_type": "stream",
     "text": [
      "Searching for: Shadow and Bone (The Shadow and Bone Trilogy, #1) Leigh Bardugo book review\n"
     ]
    },
    {
     "name": "stderr",
     "output_type": "stream",
     "text": [
      "Processing books:  22%|██▏       | 270/1250 [42:53<2:49:23, 10.37s/it]"
     ]
    },
    {
     "name": "stdout",
     "output_type": "stream",
     "text": [
      "Searching for: The Lion, the Witch and the Wardrobe (Chronicles of Narnia, #1) C.S. Lewis book review\n"
     ]
    },
    {
     "name": "stderr",
     "output_type": "stream",
     "text": [
      "Processing books:  22%|██▏       | 271/1250 [43:14<3:41:52, 13.60s/it]"
     ]
    },
    {
     "name": "stdout",
     "output_type": "stream",
     "text": [
      "Searching for: The Cruel Prince (The Folk of the Air, #1) Holly Black book review\n"
     ]
    },
    {
     "name": "stderr",
     "output_type": "stream",
     "text": [
      "Processing books:  22%|██▏       | 272/1250 [43:26<3:33:15, 13.08s/it]"
     ]
    },
    {
     "name": "stdout",
     "output_type": "stream",
     "text": [
      "Searching for: A Storm of Swords (A Song of Ice and Fire, #3) George R.R. Martin book review\n"
     ]
    },
    {
     "name": "stderr",
     "output_type": "stream",
     "text": [
      "Processing books:  22%|██▏       | 273/1250 [43:29<2:46:16, 10.21s/it]"
     ]
    },
    {
     "name": "stdout",
     "output_type": "stream",
     "text": [
      "Searching for: A Feast for Crows (A Song of Ice and Fire, #4) George R.R. Martin book review\n"
     ]
    },
    {
     "name": "stderr",
     "output_type": "stream",
     "text": [
      "Processing books:  22%|██▏       | 274/1250 [43:37<2:34:39,  9.51s/it]"
     ]
    },
    {
     "name": "stdout",
     "output_type": "stream",
     "text": [
      "Searching for: The Golden Compass (His Dark Materials, #1) Philip Pullman book review\n"
     ]
    },
    {
     "name": "stderr",
     "output_type": "stream",
     "text": [
      "Processing books:  22%|██▏       | 275/1250 [43:44<2:19:39,  8.59s/it]"
     ]
    },
    {
     "name": "stdout",
     "output_type": "stream",
     "text": [
      "Searching for: Eragon (The Inheritance Cycle, #1) Christopher Paolini book review\n"
     ]
    },
    {
     "name": "stderr",
     "output_type": "stream",
     "text": [
      "Processing books:  22%|██▏       | 276/1250 [43:49<2:04:39,  7.68s/it]"
     ]
    },
    {
     "name": "stdout",
     "output_type": "stream",
     "text": [
      "Searching for: A Court of Wings and Ruin (A Court of Thorns and Roses, #3) Sarah J. Maas book review\n"
     ]
    },
    {
     "name": "stderr",
     "output_type": "stream",
     "text": [
      "Processing books:  22%|██▏       | 277/1250 [44:02<2:29:20,  9.21s/it]"
     ]
    },
    {
     "name": "stdout",
     "output_type": "stream",
     "text": [
      "Searching for: A Dance with Dragons (A Song of Ice and Fire, #5) George R.R. Martin book review\n"
     ]
    },
    {
     "name": "stderr",
     "output_type": "stream",
     "text": [
      "Processing books:  22%|██▏       | 278/1250 [44:13<2:37:23,  9.72s/it]"
     ]
    },
    {
     "name": "stdout",
     "output_type": "stream",
     "text": [
      "Searching for: The Night Circus (Hardcover) Erin Morgenstern book review\n"
     ]
    },
    {
     "name": "stderr",
     "output_type": "stream",
     "text": [
      "Processing books:  22%|██▏       | 279/1250 [44:33<3:25:56, 12.73s/it]"
     ]
    },
    {
     "name": "stdout",
     "output_type": "stream",
     "text": [
      "Searching for: American Gods (Kindle Edition) Neil Gaiman book review\n"
     ]
    },
    {
     "name": "stderr",
     "output_type": "stream",
     "text": [
      "Processing books:  22%|██▏       | 280/1250 [44:45<3:25:37, 12.72s/it]"
     ]
    },
    {
     "name": "stdout",
     "output_type": "stream",
     "text": [
      "Searching for: City of Bones (The Mortal Instruments, #1) Cassandra Clare book review\n"
     ]
    },
    {
     "name": "stderr",
     "output_type": "stream",
     "text": [
      "Processing books:  22%|██▏       | 281/1250 [44:52<2:54:38, 10.81s/it]"
     ]
    },
    {
     "name": "stdout",
     "output_type": "stream",
     "text": [
      "Searching for: The Eye of the World (The Wheel of Time, #1) Robert Jordan book review\n"
     ]
    },
    {
     "name": "stderr",
     "output_type": "stream",
     "text": [
      "Processing books:  23%|██▎       | 282/1250 [44:53<2:07:58,  7.93s/it]"
     ]
    },
    {
     "name": "stdout",
     "output_type": "stream",
     "text": [
      "Searching for: Twilight (The Twilight Saga, #1) Stephenie Meyer book review\n"
     ]
    },
    {
     "name": "stderr",
     "output_type": "stream",
     "text": [
      "Processing books:  23%|██▎       | 283/1250 [44:58<1:54:40,  7.12s/it]"
     ]
    },
    {
     "name": "stdout",
     "output_type": "stream",
     "text": [
      "Searching for: The Way of Kings (The Stormlight Archive, #1) Brandon Sanderson book review\n",
      "Error processing https://www.geeksundergrace.com/books/review-stormlight-archive-the-way-of-kings/: HTTPSConnectionPool(host='www.geeksundergrace.com', port=443): Max retries exceeded with url: /books/review-stormlight-archive-the-way-of-kings/ (Caused by ProtocolError('Connection aborted.', RemoteDisconnected('Remote end closed connection without response')))\n"
     ]
    },
    {
     "name": "stderr",
     "output_type": "stream",
     "text": [
      "Processing books:  23%|██▎       | 284/1250 [45:10<2:15:21,  8.41s/it]"
     ]
    },
    {
     "name": "stdout",
     "output_type": "stream",
     "text": [
      "Searching for: Crown of Midnight (Throne of Glass, #2) Sarah J. Maas book review\n"
     ]
    },
    {
     "name": "stderr",
     "output_type": "stream",
     "text": [
      "Processing books:  23%|██▎       | 285/1250 [45:17<2:11:23,  8.17s/it]"
     ]
    },
    {
     "name": "stdout",
     "output_type": "stream",
     "text": [
      "Searching for: A Darker Shade of Magic (Shades of Magic, #1) Victoria Schwab book review\n"
     ]
    },
    {
     "name": "stderr",
     "output_type": "stream",
     "text": [
      "Processing books:  23%|██▎       | 286/1250 [45:20<1:45:49,  6.59s/it]"
     ]
    },
    {
     "name": "stdout",
     "output_type": "stream",
     "text": [
      "Searching for: Crooked Kingdom (Six of Crows, #2) Leigh Bardugo book review\n"
     ]
    },
    {
     "name": "stderr",
     "output_type": "stream",
     "text": [
      "Processing books:  23%|██▎       | 287/1250 [45:32<2:09:12,  8.05s/it]"
     ]
    },
    {
     "name": "stdout",
     "output_type": "stream",
     "text": [
      "Searching for: Good Omens: The Nice and Accurate Prophecies of Agnes Nutter, Witch (Mass Market Paperback) Terry Pratchett book review\n"
     ]
    },
    {
     "name": "stderr",
     "output_type": "stream",
     "text": [
      "Processing books:  23%|██▎       | 288/1250 [45:38<1:59:37,  7.46s/it]"
     ]
    },
    {
     "name": "stdout",
     "output_type": "stream",
     "text": [
      "Searching for: The Sea of Monsters (Percy Jackson and the Olympians, #2) Rick Riordan book review\n"
     ]
    },
    {
     "name": "stderr",
     "output_type": "stream",
     "text": [
      "Processing books:  23%|██▎       | 289/1250 [45:47<2:07:20,  7.95s/it]"
     ]
    },
    {
     "name": "stdout",
     "output_type": "stream",
     "text": [
      "Searching for: The Well of Ascension (Mistborn, #2) Brandon Sanderson book review\n"
     ]
    },
    {
     "name": "stderr",
     "output_type": "stream",
     "text": [
      "Processing books:  23%|██▎       | 290/1250 [45:51<1:49:28,  6.84s/it]"
     ]
    },
    {
     "name": "stdout",
     "output_type": "stream",
     "text": [
      "Searching for: Stardust (Paperback) Neil Gaiman book review\n"
     ]
    },
    {
     "name": "stderr",
     "output_type": "stream",
     "text": [
      "Processing books:  23%|██▎       | 291/1250 [46:04<2:18:06,  8.64s/it]"
     ]
    },
    {
     "name": "stdout",
     "output_type": "stream",
     "text": [
      "Searching for: Assassin's Apprentice (Farseer Trilogy, #1) Robin Hobb book review\n"
     ]
    },
    {
     "name": "stderr",
     "output_type": "stream",
     "text": [
      "Processing books:  23%|██▎       | 292/1250 [46:05<1:41:41,  6.37s/it]"
     ]
    },
    {
     "name": "stdout",
     "output_type": "stream",
     "text": [
      "Searching for: Siege and Storm (The Shadow and Bone Trilogy, #2) Leigh Bardugo book review\n"
     ]
    },
    {
     "name": "stderr",
     "output_type": "stream",
     "text": [
      "Processing books:  23%|██▎       | 293/1250 [46:08<1:25:51,  5.38s/it]"
     ]
    },
    {
     "name": "stdout",
     "output_type": "stream",
     "text": [
      "Searching for: Neverwhere (London Below, #1) Neil Gaiman book review\n"
     ]
    },
    {
     "name": "stderr",
     "output_type": "stream",
     "text": [
      "Processing books:  24%|██▎       | 294/1250 [46:40<3:31:12, 13.26s/it]"
     ]
    },
    {
     "name": "stdout",
     "output_type": "stream",
     "text": [
      "Searching for: A Court of Frost and Starlight (A Court of Thorns and Roses, #3.5) Sarah J. Maas book review\n"
     ]
    },
    {
     "name": "stderr",
     "output_type": "stream",
     "text": [
      "Processing books:  24%|██▎       | 295/1250 [46:53<3:32:26, 13.35s/it]"
     ]
    },
    {
     "name": "stdout",
     "output_type": "stream",
     "text": [
      "Searching for: The Wicked King (The Folk of the Air, #2) Holly Black book review\n"
     ]
    },
    {
     "name": "stderr",
     "output_type": "stream",
     "text": [
      "Processing books:  24%|██▎       | 296/1250 [47:01<3:07:54, 11.82s/it]"
     ]
    },
    {
     "name": "stdout",
     "output_type": "stream",
     "text": [
      "Searching for: The Lord of the Rings (Middle Earth, #2-4) J.R.R. Tolkien book review\n"
     ]
    },
    {
     "name": "stderr",
     "output_type": "stream",
     "text": [
      "Processing books:  24%|██▍       | 297/1250 [47:10<2:52:13, 10.84s/it]"
     ]
    },
    {
     "name": "stdout",
     "output_type": "stream",
     "text": [
      "Searching for: The Wise Man’s Fear (The Kingkiller Chronicle, #2) Patrick Rothfuss book review\n"
     ]
    },
    {
     "name": "stderr",
     "output_type": "stream",
     "text": [
      "Processing books:  24%|██▍       | 298/1250 [47:11<2:04:46,  7.86s/it]"
     ]
    },
    {
     "name": "stdout",
     "output_type": "stream",
     "text": [
      "Searching for: The Lies of Locke Lamora (Gentleman Bastard, #1) Scott Lynch book review\n"
     ]
    },
    {
     "name": "stderr",
     "output_type": "stream",
     "text": [
      "Processing books:  24%|██▍       | 299/1250 [47:17<1:57:48,  7.43s/it]"
     ]
    },
    {
     "name": "stdout",
     "output_type": "stream",
     "text": [
      "Searching for: The Invisible Life of Addie LaRue (Kindle Edition) Victoria Schwab book review\n"
     ]
    },
    {
     "name": "stderr",
     "output_type": "stream",
     "text": [
      "Processing books:  24%|██▍       | 300/1250 [47:21<1:37:38,  6.17s/it]"
     ]
    },
    {
     "name": "stdout",
     "output_type": "stream",
     "text": [
      "Searching for: Harry Potter and the Sorcerer’s Stone (Harry Potter, #1) J.K. Rowling book review\n"
     ]
    },
    {
     "name": "stderr",
     "output_type": "stream",
     "text": [
      "Processing books:  24%|██▍       | 301/1250 [47:29<1:48:54,  6.89s/it]"
     ]
    },
    {
     "name": "stdout",
     "output_type": "stream",
     "text": [
      "Searching for: Harry Potter and the Chamber of Secrets (Harry Potter, #2) J.K. Rowling book review\n"
     ]
    },
    {
     "name": "stderr",
     "output_type": "stream",
     "text": [
      "Processing books:  24%|██▍       | 302/1250 [47:42<2:16:17,  8.63s/it]"
     ]
    },
    {
     "name": "stdout",
     "output_type": "stream",
     "text": [
      "Searching for: Harry Potter and the Prisoner of Azkaban (Harry Potter, #3) J.K. Rowling book review\n"
     ]
    },
    {
     "name": "stderr",
     "output_type": "stream",
     "text": [
      "Processing books:  24%|██▍       | 303/1250 [48:02<3:12:02, 12.17s/it]"
     ]
    },
    {
     "name": "stdout",
     "output_type": "stream",
     "text": [
      "Searching for: The Hobbit (The Lord of the Rings, #0) J.R.R. Tolkien book review\n"
     ]
    },
    {
     "name": "stderr",
     "output_type": "stream",
     "text": [
      "Processing books:  24%|██▍       | 304/1250 [48:08<2:39:48, 10.14s/it]"
     ]
    },
    {
     "name": "stdout",
     "output_type": "stream",
     "text": [
      "Searching for: Harry Potter and the Goblet of Fire (Harry Potter, #4) J.K. Rowling book review\n"
     ]
    },
    {
     "name": "stderr",
     "output_type": "stream",
     "text": [
      "Processing books:  24%|██▍       | 305/1250 [48:27<3:22:19, 12.85s/it]"
     ]
    },
    {
     "name": "stdout",
     "output_type": "stream",
     "text": [
      "Searching for: Harry Potter and the Order of the Phoenix (Harry Potter, #5) J.K. Rowling book review\n"
     ]
    },
    {
     "name": "stderr",
     "output_type": "stream",
     "text": [
      "Processing books:  24%|██▍       | 306/1250 [48:42<3:31:18, 13.43s/it]"
     ]
    },
    {
     "name": "stdout",
     "output_type": "stream",
     "text": [
      "Searching for: Harry Potter and the Half-Blood Prince (Harry Potter, #6) J.K. Rowling book review\n"
     ]
    },
    {
     "name": "stderr",
     "output_type": "stream",
     "text": [
      "Processing books:  25%|██▍       | 307/1250 [48:55<3:30:25, 13.39s/it]"
     ]
    },
    {
     "name": "stdout",
     "output_type": "stream",
     "text": [
      "Searching for: Harry Potter and the Deathly Hallows (Harry Potter, #7) J.K. Rowling book review\n"
     ]
    },
    {
     "name": "stderr",
     "output_type": "stream",
     "text": [
      "Processing books:  25%|██▍       | 308/1250 [49:04<3:07:42, 11.96s/it]"
     ]
    },
    {
     "name": "stdout",
     "output_type": "stream",
     "text": [
      "Searching for: A Game of Thrones (A Song of Ice and Fire, #1) George R.R. Martin book review\n"
     ]
    },
    {
     "name": "stderr",
     "output_type": "stream",
     "text": [
      "Processing books:  25%|██▍       | 309/1250 [49:07<2:27:09,  9.38s/it]"
     ]
    },
    {
     "name": "stdout",
     "output_type": "stream",
     "text": [
      "Searching for: The Fellowship of the Ring (Middle Earth, #1) J.R.R. Tolkien book review\n"
     ]
    },
    {
     "name": "stderr",
     "output_type": "stream",
     "text": [
      "Processing books:  25%|██▍       | 310/1250 [49:11<1:59:49,  7.65s/it]"
     ]
    },
    {
     "name": "stdout",
     "output_type": "stream",
     "text": [
      "Searching for: A Court of Thorns and Roses (A Court of Thorns and Roses, #1) Sarah J. Maas book review\n"
     ]
    },
    {
     "name": "stderr",
     "output_type": "stream",
     "text": [
      "Processing books:  25%|██▍       | 311/1250 [49:21<2:11:16,  8.39s/it]"
     ]
    },
    {
     "name": "stdout",
     "output_type": "stream",
     "text": [
      "Searching for: A Clash of Kings  (A Song of Ice and Fire, #2) George R.R. Martin book review\n"
     ]
    },
    {
     "name": "stderr",
     "output_type": "stream",
     "text": [
      "Processing books:  25%|██▍       | 312/1250 [49:24<1:47:25,  6.87s/it]"
     ]
    },
    {
     "name": "stdout",
     "output_type": "stream",
     "text": [
      "Searching for: The Two Towers (Middle Earth, #3) J.R.R. Tolkien book review\n"
     ]
    },
    {
     "name": "stderr",
     "output_type": "stream",
     "text": [
      "Processing books:  25%|██▌       | 313/1250 [49:32<1:50:41,  7.09s/it]"
     ]
    },
    {
     "name": "stdout",
     "output_type": "stream",
     "text": [
      "Searching for: Six of Crows (Six of Crows, #1) Leigh Bardugo book review\n"
     ]
    },
    {
     "name": "stderr",
     "output_type": "stream",
     "text": [
      "Processing books:  25%|██▌       | 314/1250 [49:35<1:34:24,  6.05s/it]"
     ]
    },
    {
     "name": "stdout",
     "output_type": "stream",
     "text": [
      "Searching for: The Name of the Wind (The Kingkiller Chronicle, #1) Patrick Rothfuss book review\n"
     ]
    },
    {
     "name": "stderr",
     "output_type": "stream",
     "text": [
      "Processing books:  25%|██▌       | 315/1250 [49:36<1:11:10,  4.57s/it]"
     ]
    },
    {
     "name": "stdout",
     "output_type": "stream",
     "text": [
      "Searching for: The Final Empire (Mistborn, #1) Brandon Sanderson book review\n"
     ]
    },
    {
     "name": "stderr",
     "output_type": "stream",
     "text": [
      "Processing books:  25%|██▌       | 316/1250 [49:52<2:02:38,  7.88s/it]"
     ]
    },
    {
     "name": "stdout",
     "output_type": "stream",
     "text": [
      "Searching for: The Return of the King (Middle Earth, #4) J.R.R. Tolkien book review\n"
     ]
    },
    {
     "name": "stderr",
     "output_type": "stream",
     "text": [
      "Processing books:  25%|██▌       | 317/1250 [50:05<2:27:55,  9.51s/it]"
     ]
    },
    {
     "name": "stdout",
     "output_type": "stream",
     "text": [
      "Searching for: A Court of Mist and Fury (A Court of Thorns and Roses, #2) Sarah J. Maas book review\n"
     ]
    },
    {
     "name": "stderr",
     "output_type": "stream",
     "text": [
      "Processing books:  25%|██▌       | 318/1250 [50:17<2:36:56, 10.10s/it]"
     ]
    },
    {
     "name": "stdout",
     "output_type": "stream",
     "text": [
      "Searching for: The Lightning Thief (Percy Jackson and the Olympians, #1) Rick Riordan book review\n"
     ]
    },
    {
     "name": "stderr",
     "output_type": "stream",
     "text": [
      "Processing books:  26%|██▌       | 319/1250 [50:25<2:27:54,  9.53s/it]"
     ]
    },
    {
     "name": "stdout",
     "output_type": "stream",
     "text": [
      "Searching for: Shadow and Bone (The Shadow and Bone Trilogy, #1) Leigh Bardugo book review\n"
     ]
    },
    {
     "name": "stderr",
     "output_type": "stream",
     "text": [
      "Processing books:  26%|██▌       | 320/1250 [50:31<2:11:21,  8.47s/it]"
     ]
    },
    {
     "name": "stdout",
     "output_type": "stream",
     "text": [
      "Searching for: The Lion, the Witch and the Wardrobe (Chronicles of Narnia, #1) C.S. Lewis book review\n"
     ]
    },
    {
     "name": "stderr",
     "output_type": "stream",
     "text": [
      "Processing books:  26%|██▌       | 321/1250 [50:43<2:29:18,  9.64s/it]"
     ]
    },
    {
     "name": "stdout",
     "output_type": "stream",
     "text": [
      "Searching for: The Cruel Prince (The Folk of the Air, #1) Holly Black book review\n"
     ]
    },
    {
     "name": "stderr",
     "output_type": "stream",
     "text": [
      "Processing books:  26%|██▌       | 322/1250 [50:49<2:09:09,  8.35s/it]"
     ]
    },
    {
     "name": "stdout",
     "output_type": "stream",
     "text": [
      "Searching for: A Storm of Swords (A Song of Ice and Fire, #3) George R.R. Martin book review\n"
     ]
    },
    {
     "name": "stderr",
     "output_type": "stream",
     "text": [
      "Processing books:  26%|██▌       | 323/1250 [50:52<1:43:53,  6.72s/it]"
     ]
    },
    {
     "name": "stdout",
     "output_type": "stream",
     "text": [
      "Searching for: A Feast for Crows (A Song of Ice and Fire, #4) George R.R. Martin book review\n"
     ]
    },
    {
     "name": "stderr",
     "output_type": "stream",
     "text": [
      "Processing books:  26%|██▌       | 324/1250 [50:59<1:45:36,  6.84s/it]"
     ]
    },
    {
     "name": "stdout",
     "output_type": "stream",
     "text": [
      "Searching for: The Golden Compass (His Dark Materials, #1) Philip Pullman book review\n"
     ]
    },
    {
     "name": "stderr",
     "output_type": "stream",
     "text": [
      "Processing books:  26%|██▌       | 325/1250 [51:05<1:43:56,  6.74s/it]"
     ]
    },
    {
     "name": "stdout",
     "output_type": "stream",
     "text": [
      "Searching for: Eragon (The Inheritance Cycle, #1) Christopher Paolini book review\n"
     ]
    },
    {
     "name": "stderr",
     "output_type": "stream",
     "text": [
      "Processing books:  26%|██▌       | 326/1250 [51:11<1:39:10,  6.44s/it]"
     ]
    },
    {
     "name": "stdout",
     "output_type": "stream",
     "text": [
      "Searching for: A Court of Wings and Ruin (A Court of Thorns and Roses, #3) Sarah J. Maas book review\n"
     ]
    },
    {
     "name": "stderr",
     "output_type": "stream",
     "text": [
      "Processing books:  26%|██▌       | 327/1250 [51:20<1:49:45,  7.13s/it]"
     ]
    },
    {
     "name": "stdout",
     "output_type": "stream",
     "text": [
      "Searching for: A Dance with Dragons (A Song of Ice and Fire, #5) George R.R. Martin book review\n"
     ]
    },
    {
     "name": "stderr",
     "output_type": "stream",
     "text": [
      "Processing books:  26%|██▌       | 328/1250 [51:28<1:53:12,  7.37s/it]"
     ]
    },
    {
     "name": "stdout",
     "output_type": "stream",
     "text": [
      "Searching for: The Night Circus (Hardcover) Erin Morgenstern book review\n"
     ]
    },
    {
     "name": "stderr",
     "output_type": "stream",
     "text": [
      "Processing books:  26%|██▋       | 329/1250 [51:43<2:30:02,  9.77s/it]"
     ]
    },
    {
     "name": "stdout",
     "output_type": "stream",
     "text": [
      "Searching for: American Gods (Kindle Edition) Neil Gaiman book review\n"
     ]
    },
    {
     "name": "stderr",
     "output_type": "stream",
     "text": [
      "Processing books:  26%|██▋       | 330/1250 [51:59<2:59:11, 11.69s/it]"
     ]
    },
    {
     "name": "stdout",
     "output_type": "stream",
     "text": [
      "Searching for: City of Bones (The Mortal Instruments, #1) Cassandra Clare book review\n"
     ]
    },
    {
     "name": "stderr",
     "output_type": "stream",
     "text": [
      "Processing books:  26%|██▋       | 331/1250 [52:02<2:18:44,  9.06s/it]"
     ]
    },
    {
     "name": "stdout",
     "output_type": "stream",
     "text": [
      "Searching for: The Eye of the World (The Wheel of Time, #1) Robert Jordan book review\n"
     ]
    },
    {
     "name": "stderr",
     "output_type": "stream",
     "text": [
      "Processing books:  27%|██▋       | 332/1250 [52:06<1:55:44,  7.56s/it]"
     ]
    },
    {
     "name": "stdout",
     "output_type": "stream",
     "text": [
      "Searching for: Twilight (The Twilight Saga, #1) Stephenie Meyer book review\n"
     ]
    },
    {
     "name": "stderr",
     "output_type": "stream",
     "text": [
      "Processing books:  27%|██▋       | 333/1250 [52:12<1:45:49,  6.92s/it]"
     ]
    },
    {
     "name": "stdout",
     "output_type": "stream",
     "text": [
      "Searching for: The Way of Kings (The Stormlight Archive, #1) Brandon Sanderson book review\n",
      "Error processing https://www.geeksundergrace.com/books/review-stormlight-archive-the-way-of-kings/: HTTPSConnectionPool(host='www.geeksundergrace.com', port=443): Max retries exceeded with url: /books/review-stormlight-archive-the-way-of-kings/ (Caused by ProtocolError('Connection aborted.', RemoteDisconnected('Remote end closed connection without response')))\n"
     ]
    },
    {
     "name": "stderr",
     "output_type": "stream",
     "text": [
      "Processing books:  27%|██▋       | 334/1250 [52:24<2:12:46,  8.70s/it]"
     ]
    },
    {
     "name": "stdout",
     "output_type": "stream",
     "text": [
      "Searching for: Crown of Midnight (Throne of Glass, #2) Sarah J. Maas book review\n"
     ]
    },
    {
     "name": "stderr",
     "output_type": "stream",
     "text": [
      "Processing books:  27%|██▋       | 335/1250 [52:33<2:11:11,  8.60s/it]"
     ]
    },
    {
     "name": "stdout",
     "output_type": "stream",
     "text": [
      "Searching for: A Darker Shade of Magic (Shades of Magic, #1) Victoria Schwab book review\n"
     ]
    },
    {
     "name": "stderr",
     "output_type": "stream",
     "text": [
      "Processing books:  27%|██▋       | 336/1250 [52:37<1:50:49,  7.28s/it]"
     ]
    },
    {
     "name": "stdout",
     "output_type": "stream",
     "text": [
      "Searching for: Crooked Kingdom (Six of Crows, #2) Leigh Bardugo book review\n"
     ]
    },
    {
     "name": "stderr",
     "output_type": "stream",
     "text": [
      "Processing books:  27%|██▋       | 337/1250 [52:44<1:49:22,  7.19s/it]"
     ]
    },
    {
     "name": "stdout",
     "output_type": "stream",
     "text": [
      "Searching for: Good Omens: The Nice and Accurate Prophecies of Agnes Nutter, Witch (Mass Market Paperback) Terry Pratchett book review\n"
     ]
    },
    {
     "name": "stderr",
     "output_type": "stream",
     "text": [
      "Processing books:  27%|██▋       | 338/1250 [52:51<1:47:12,  7.05s/it]"
     ]
    },
    {
     "name": "stdout",
     "output_type": "stream",
     "text": [
      "Searching for: The Sea of Monsters (Percy Jackson and the Olympians, #2) Rick Riordan book review\n"
     ]
    },
    {
     "name": "stderr",
     "output_type": "stream",
     "text": [
      "Processing books:  27%|██▋       | 339/1250 [53:00<1:58:01,  7.77s/it]"
     ]
    },
    {
     "name": "stdout",
     "output_type": "stream",
     "text": [
      "Searching for: The Well of Ascension (Mistborn, #2) Brandon Sanderson book review\n"
     ]
    },
    {
     "name": "stderr",
     "output_type": "stream",
     "text": [
      "Processing books:  27%|██▋       | 340/1250 [53:03<1:33:47,  6.18s/it]"
     ]
    },
    {
     "name": "stdout",
     "output_type": "stream",
     "text": [
      "Searching for: Stardust (Paperback) Neil Gaiman book review\n"
     ]
    },
    {
     "name": "stderr",
     "output_type": "stream",
     "text": [
      "Processing books:  27%|██▋       | 341/1250 [53:18<2:15:43,  8.96s/it]"
     ]
    },
    {
     "name": "stdout",
     "output_type": "stream",
     "text": [
      "Searching for: Assassin's Apprentice (Farseer Trilogy, #1) Robin Hobb book review\n"
     ]
    },
    {
     "name": "stderr",
     "output_type": "stream",
     "text": [
      "Processing books:  27%|██▋       | 342/1250 [53:19<1:39:25,  6.57s/it]"
     ]
    },
    {
     "name": "stdout",
     "output_type": "stream",
     "text": [
      "Searching for: Siege and Storm (The Shadow and Bone Trilogy, #2) Leigh Bardugo book review\n"
     ]
    },
    {
     "name": "stderr",
     "output_type": "stream",
     "text": [
      "Processing books:  27%|██▋       | 343/1250 [53:26<1:42:56,  6.81s/it]"
     ]
    },
    {
     "name": "stdout",
     "output_type": "stream",
     "text": [
      "Searching for: Neverwhere (London Below, #1) Neil Gaiman book review\n"
     ]
    },
    {
     "name": "stderr",
     "output_type": "stream",
     "text": [
      "Processing books:  28%|██▊       | 344/1250 [53:53<3:13:11, 12.79s/it]"
     ]
    },
    {
     "name": "stdout",
     "output_type": "stream",
     "text": [
      "Searching for: A Court of Frost and Starlight (A Court of Thorns and Roses, #3.5) Sarah J. Maas book review\n"
     ]
    },
    {
     "name": "stderr",
     "output_type": "stream",
     "text": [
      "Processing books:  28%|██▊       | 345/1250 [54:08<3:21:45, 13.38s/it]"
     ]
    },
    {
     "name": "stdout",
     "output_type": "stream",
     "text": [
      "Searching for: The Wicked King (The Folk of the Air, #2) Holly Black book review\n"
     ]
    },
    {
     "name": "stderr",
     "output_type": "stream",
     "text": [
      "Processing books:  28%|██▊       | 346/1250 [54:13<2:42:03, 10.76s/it]"
     ]
    },
    {
     "name": "stdout",
     "output_type": "stream",
     "text": [
      "Searching for: The Lord of the Rings (Middle Earth, #2-4) J.R.R. Tolkien book review\n"
     ]
    },
    {
     "name": "stderr",
     "output_type": "stream",
     "text": [
      "Processing books:  28%|██▊       | 347/1250 [54:22<2:35:44, 10.35s/it]"
     ]
    },
    {
     "name": "stdout",
     "output_type": "stream",
     "text": [
      "Searching for: The Wise Man’s Fear (The Kingkiller Chronicle, #2) Patrick Rothfuss book review\n"
     ]
    },
    {
     "name": "stderr",
     "output_type": "stream",
     "text": [
      "Processing books:  28%|██▊       | 348/1250 [54:23<1:53:58,  7.58s/it]"
     ]
    },
    {
     "name": "stdout",
     "output_type": "stream",
     "text": [
      "Searching for: The Lies of Locke Lamora (Gentleman Bastard, #1) Scott Lynch book review\n"
     ]
    },
    {
     "name": "stderr",
     "output_type": "stream",
     "text": [
      "Processing books:  28%|██▊       | 349/1250 [54:31<1:57:15,  7.81s/it]"
     ]
    },
    {
     "name": "stdout",
     "output_type": "stream",
     "text": [
      "Searching for: The Invisible Life of Addie LaRue (Kindle Edition) Victoria Schwab book review\n"
     ]
    },
    {
     "name": "stderr",
     "output_type": "stream",
     "text": [
      "Processing books:  28%|██▊       | 350/1250 [54:35<1:40:20,  6.69s/it]"
     ]
    },
    {
     "name": "stdout",
     "output_type": "stream",
     "text": [
      "Searching for: Harry Potter and the Sorcerer’s Stone (Harry Potter, #1) J.K. Rowling book review\n"
     ]
    },
    {
     "name": "stderr",
     "output_type": "stream",
     "text": [
      "Processing books:  28%|██▊       | 351/1250 [54:45<1:53:47,  7.59s/it]"
     ]
    },
    {
     "name": "stdout",
     "output_type": "stream",
     "text": [
      "Searching for: Harry Potter and the Chamber of Secrets (Harry Potter, #2) J.K. Rowling book review\n"
     ]
    },
    {
     "name": "stderr",
     "output_type": "stream",
     "text": [
      "Processing books:  28%|██▊       | 352/1250 [55:00<2:24:37,  9.66s/it]"
     ]
    },
    {
     "name": "stdout",
     "output_type": "stream",
     "text": [
      "Searching for: Harry Potter and the Prisoner of Azkaban (Harry Potter, #3) J.K. Rowling book review\n"
     ]
    },
    {
     "name": "stderr",
     "output_type": "stream",
     "text": [
      "Processing books:  28%|██▊       | 353/1250 [55:14<2:45:09, 11.05s/it]"
     ]
    },
    {
     "name": "stdout",
     "output_type": "stream",
     "text": [
      "Searching for: The Hobbit (The Lord of the Rings, #0) J.R.R. Tolkien book review\n"
     ]
    },
    {
     "name": "stderr",
     "output_type": "stream",
     "text": [
      "Processing books:  28%|██▊       | 354/1250 [55:19<2:18:58,  9.31s/it]"
     ]
    },
    {
     "name": "stdout",
     "output_type": "stream",
     "text": [
      "Searching for: Harry Potter and the Goblet of Fire (Harry Potter, #4) J.K. Rowling book review\n"
     ]
    },
    {
     "name": "stderr",
     "output_type": "stream",
     "text": [
      "Processing books:  28%|██▊       | 355/1250 [55:38<3:02:31, 12.24s/it]"
     ]
    },
    {
     "name": "stdout",
     "output_type": "stream",
     "text": [
      "Searching for: Harry Potter and the Order of the Phoenix (Harry Potter, #5) J.K. Rowling book review\n"
     ]
    },
    {
     "name": "stderr",
     "output_type": "stream",
     "text": [
      "Processing books:  28%|██▊       | 356/1250 [55:57<3:32:37, 14.27s/it]"
     ]
    },
    {
     "name": "stdout",
     "output_type": "stream",
     "text": [
      "Searching for: Harry Potter and the Half-Blood Prince (Harry Potter, #6) J.K. Rowling book review\n"
     ]
    },
    {
     "name": "stderr",
     "output_type": "stream",
     "text": [
      "Processing books:  29%|██▊       | 357/1250 [56:15<3:46:48, 15.24s/it]"
     ]
    },
    {
     "name": "stdout",
     "output_type": "stream",
     "text": [
      "Searching for: Harry Potter and the Deathly Hallows (Harry Potter, #7) J.K. Rowling book review\n"
     ]
    },
    {
     "name": "stderr",
     "output_type": "stream",
     "text": [
      "Processing books:  29%|██▊       | 358/1250 [56:25<3:24:00, 13.72s/it]"
     ]
    },
    {
     "name": "stdout",
     "output_type": "stream",
     "text": [
      "Searching for: A Game of Thrones (A Song of Ice and Fire, #1) George R.R. Martin book review\n"
     ]
    },
    {
     "name": "stderr",
     "output_type": "stream",
     "text": [
      "Processing books:  29%|██▊       | 359/1250 [56:31<2:47:55, 11.31s/it]"
     ]
    },
    {
     "name": "stdout",
     "output_type": "stream",
     "text": [
      "Searching for: The Fellowship of the Ring (Middle Earth, #1) J.R.R. Tolkien book review\n"
     ]
    },
    {
     "name": "stderr",
     "output_type": "stream",
     "text": [
      "Processing books:  29%|██▉       | 360/1250 [56:34<2:14:04,  9.04s/it]"
     ]
    },
    {
     "name": "stdout",
     "output_type": "stream",
     "text": [
      "Searching for: A Court of Thorns and Roses (A Court of Thorns and Roses, #1) Sarah J. Maas book review\n"
     ]
    },
    {
     "name": "stderr",
     "output_type": "stream",
     "text": [
      "Processing books:  29%|██▉       | 361/1250 [56:44<2:16:37,  9.22s/it]"
     ]
    },
    {
     "name": "stdout",
     "output_type": "stream",
     "text": [
      "Searching for: A Clash of Kings  (A Song of Ice and Fire, #2) George R.R. Martin book review\n"
     ]
    },
    {
     "name": "stderr",
     "output_type": "stream",
     "text": [
      "Processing books:  29%|██▉       | 362/1250 [56:47<1:46:29,  7.20s/it]"
     ]
    },
    {
     "name": "stdout",
     "output_type": "stream",
     "text": [
      "Searching for: The Two Towers (Middle Earth, #3) J.R.R. Tolkien book review\n"
     ]
    },
    {
     "name": "stderr",
     "output_type": "stream",
     "text": [
      "Processing books:  29%|██▉       | 363/1250 [57:01<2:16:38,  9.24s/it]"
     ]
    },
    {
     "name": "stdout",
     "output_type": "stream",
     "text": [
      "Searching for: Six of Crows (Six of Crows, #1) Leigh Bardugo book review\n"
     ]
    },
    {
     "name": "stderr",
     "output_type": "stream",
     "text": [
      "Processing books:  29%|██▉       | 364/1250 [57:04<1:52:43,  7.63s/it]"
     ]
    },
    {
     "name": "stdout",
     "output_type": "stream",
     "text": [
      "Searching for: The Name of the Wind (The Kingkiller Chronicle, #1) Patrick Rothfuss book review\n"
     ]
    },
    {
     "name": "stderr",
     "output_type": "stream",
     "text": [
      "Processing books:  29%|██▉       | 365/1250 [57:06<1:23:38,  5.67s/it]"
     ]
    },
    {
     "name": "stdout",
     "output_type": "stream",
     "text": [
      "Searching for: The Final Empire (Mistborn, #1) Brandon Sanderson book review\n"
     ]
    },
    {
     "name": "stderr",
     "output_type": "stream",
     "text": [
      "Processing books:  29%|██▉       | 366/1250 [57:23<2:16:06,  9.24s/it]"
     ]
    },
    {
     "name": "stdout",
     "output_type": "stream",
     "text": [
      "Searching for: The Return of the King (Middle Earth, #4) J.R.R. Tolkien book review\n"
     ]
    },
    {
     "name": "stderr",
     "output_type": "stream",
     "text": [
      "Processing books:  29%|██▉       | 367/1250 [57:38<2:42:51, 11.07s/it]"
     ]
    },
    {
     "name": "stdout",
     "output_type": "stream",
     "text": [
      "Searching for: A Court of Mist and Fury (A Court of Thorns and Roses, #2) Sarah J. Maas book review\n"
     ]
    },
    {
     "name": "stderr",
     "output_type": "stream",
     "text": [
      "Processing books:  29%|██▉       | 368/1250 [57:48<2:35:08, 10.55s/it]"
     ]
    },
    {
     "name": "stdout",
     "output_type": "stream",
     "text": [
      "Searching for: The Lightning Thief (Percy Jackson and the Olympians, #1) Rick Riordan book review\n"
     ]
    },
    {
     "name": "stderr",
     "output_type": "stream",
     "text": [
      "Processing books:  30%|██▉       | 369/1250 [57:56<2:26:52, 10.00s/it]"
     ]
    },
    {
     "name": "stdout",
     "output_type": "stream",
     "text": [
      "Searching for: Shadow and Bone (The Shadow and Bone Trilogy, #1) Leigh Bardugo book review\n"
     ]
    },
    {
     "name": "stderr",
     "output_type": "stream",
     "text": [
      "Processing books:  30%|██▉       | 370/1250 [58:02<2:05:23,  8.55s/it]"
     ]
    },
    {
     "name": "stdout",
     "output_type": "stream",
     "text": [
      "Searching for: The Lion, the Witch and the Wardrobe (Chronicles of Narnia, #1) C.S. Lewis book review\n"
     ]
    },
    {
     "name": "stderr",
     "output_type": "stream",
     "text": [
      "Processing books:  30%|██▉       | 371/1250 [58:24<3:05:11, 12.64s/it]"
     ]
    },
    {
     "name": "stdout",
     "output_type": "stream",
     "text": [
      "Searching for: The Cruel Prince (The Folk of the Air, #1) Holly Black book review\n"
     ]
    },
    {
     "name": "stderr",
     "output_type": "stream",
     "text": [
      "Processing books:  30%|██▉       | 372/1250 [58:31<2:41:57, 11.07s/it]"
     ]
    },
    {
     "name": "stdout",
     "output_type": "stream",
     "text": [
      "Searching for: A Storm of Swords (A Song of Ice and Fire, #3) George R.R. Martin book review\n"
     ]
    },
    {
     "name": "stderr",
     "output_type": "stream",
     "text": [
      "Processing books:  30%|██▉       | 373/1250 [58:36<2:12:53,  9.09s/it]"
     ]
    },
    {
     "name": "stdout",
     "output_type": "stream",
     "text": [
      "Searching for: A Feast for Crows (A Song of Ice and Fire, #4) George R.R. Martin book review\n"
     ]
    },
    {
     "name": "stderr",
     "output_type": "stream",
     "text": [
      "Processing books:  30%|██▉       | 374/1250 [58:41<1:57:06,  8.02s/it]"
     ]
    },
    {
     "name": "stdout",
     "output_type": "stream",
     "text": [
      "Searching for: The Golden Compass (His Dark Materials, #1) Philip Pullman book review\n"
     ]
    },
    {
     "name": "stderr",
     "output_type": "stream",
     "text": [
      "Processing books:  30%|███       | 375/1250 [58:48<1:49:57,  7.54s/it]"
     ]
    },
    {
     "name": "stdout",
     "output_type": "stream",
     "text": [
      "Searching for: Eragon (The Inheritance Cycle, #1) Christopher Paolini book review\n"
     ]
    },
    {
     "name": "stderr",
     "output_type": "stream",
     "text": [
      "Processing books:  30%|███       | 376/1250 [58:57<1:56:43,  8.01s/it]"
     ]
    },
    {
     "name": "stdout",
     "output_type": "stream",
     "text": [
      "Searching for: A Court of Wings and Ruin (A Court of Thorns and Roses, #3) Sarah J. Maas book review\n"
     ]
    },
    {
     "name": "stderr",
     "output_type": "stream",
     "text": [
      "Processing books:  30%|███       | 377/1250 [59:04<1:55:07,  7.91s/it]"
     ]
    },
    {
     "name": "stdout",
     "output_type": "stream",
     "text": [
      "Searching for: A Dance with Dragons (A Song of Ice and Fire, #5) George R.R. Martin book review\n"
     ]
    },
    {
     "name": "stderr",
     "output_type": "stream",
     "text": [
      "Processing books:  30%|███       | 378/1250 [59:12<1:53:28,  7.81s/it]"
     ]
    },
    {
     "name": "stdout",
     "output_type": "stream",
     "text": [
      "Searching for: The Night Circus (Hardcover) Erin Morgenstern book review\n"
     ]
    },
    {
     "name": "stderr",
     "output_type": "stream",
     "text": [
      "Processing books:  30%|███       | 379/1250 [59:36<3:04:21, 12.70s/it]"
     ]
    },
    {
     "name": "stdout",
     "output_type": "stream",
     "text": [
      "Searching for: American Gods (Kindle Edition) Neil Gaiman book review\n"
     ]
    },
    {
     "name": "stderr",
     "output_type": "stream",
     "text": [
      "Processing books:  30%|███       | 380/1250 [59:45<2:48:03, 11.59s/it]"
     ]
    },
    {
     "name": "stdout",
     "output_type": "stream",
     "text": [
      "Searching for: City of Bones (The Mortal Instruments, #1) Cassandra Clare book review\n"
     ]
    },
    {
     "name": "stderr",
     "output_type": "stream",
     "text": [
      "Processing books:  30%|███       | 381/1250 [59:51<2:23:15,  9.89s/it]"
     ]
    },
    {
     "name": "stdout",
     "output_type": "stream",
     "text": [
      "Searching for: The Eye of the World (The Wheel of Time, #1) Robert Jordan book review\n"
     ]
    },
    {
     "name": "stderr",
     "output_type": "stream",
     "text": [
      "Processing books:  31%|███       | 382/1250 [59:52<1:44:49,  7.25s/it]"
     ]
    },
    {
     "name": "stdout",
     "output_type": "stream",
     "text": [
      "Searching for: Twilight (The Twilight Saga, #1) Stephenie Meyer book review\n"
     ]
    },
    {
     "name": "stderr",
     "output_type": "stream",
     "text": [
      "Processing books:  31%|███       | 383/1250 [59:58<1:37:10,  6.73s/it]"
     ]
    },
    {
     "name": "stdout",
     "output_type": "stream",
     "text": [
      "Searching for: The Way of Kings (The Stormlight Archive, #1) Brandon Sanderson book review\n",
      "Error processing https://www.geeksundergrace.com/books/review-stormlight-archive-the-way-of-kings/: HTTPSConnectionPool(host='www.geeksundergrace.com', port=443): Max retries exceeded with url: /books/review-stormlight-archive-the-way-of-kings/ (Caused by ProtocolError('Connection aborted.', RemoteDisconnected('Remote end closed connection without response')))\n"
     ]
    },
    {
     "name": "stderr",
     "output_type": "stream",
     "text": [
      "Processing books:  31%|███       | 384/1250 [1:00:10<1:59:26,  8.28s/it]"
     ]
    },
    {
     "name": "stdout",
     "output_type": "stream",
     "text": [
      "Searching for: Crown of Midnight (Throne of Glass, #2) Sarah J. Maas book review\n"
     ]
    },
    {
     "name": "stderr",
     "output_type": "stream",
     "text": [
      "Processing books:  31%|███       | 385/1250 [1:00:16<1:49:27,  7.59s/it]"
     ]
    },
    {
     "name": "stdout",
     "output_type": "stream",
     "text": [
      "Searching for: A Darker Shade of Magic (Shades of Magic, #1) Victoria Schwab book review\n"
     ]
    },
    {
     "name": "stderr",
     "output_type": "stream",
     "text": [
      "Processing books:  31%|███       | 386/1250 [1:00:18<1:27:17,  6.06s/it]"
     ]
    },
    {
     "name": "stdout",
     "output_type": "stream",
     "text": [
      "Searching for: Crooked Kingdom (Six of Crows, #2) Leigh Bardugo book review\n"
     ]
    },
    {
     "name": "stderr",
     "output_type": "stream",
     "text": [
      "Processing books:  31%|███       | 387/1250 [1:00:31<1:59:02,  8.28s/it]"
     ]
    },
    {
     "name": "stdout",
     "output_type": "stream",
     "text": [
      "Searching for: Good Omens: The Nice and Accurate Prophecies of Agnes Nutter, Witch (Mass Market Paperback) Terry Pratchett book review\n"
     ]
    },
    {
     "name": "stderr",
     "output_type": "stream",
     "text": [
      "Processing books:  31%|███       | 388/1250 [1:00:38<1:50:32,  7.69s/it]"
     ]
    },
    {
     "name": "stdout",
     "output_type": "stream",
     "text": [
      "Searching for: The Sea of Monsters (Percy Jackson and the Olympians, #2) Rick Riordan book review\n"
     ]
    },
    {
     "name": "stderr",
     "output_type": "stream",
     "text": [
      "Processing books:  31%|███       | 389/1250 [1:00:47<1:57:46,  8.21s/it]"
     ]
    },
    {
     "name": "stdout",
     "output_type": "stream",
     "text": [
      "Searching for: The Well of Ascension (Mistborn, #2) Brandon Sanderson book review\n"
     ]
    },
    {
     "name": "stderr",
     "output_type": "stream",
     "text": [
      "Processing books:  31%|███       | 390/1250 [1:00:52<1:42:25,  7.15s/it]"
     ]
    },
    {
     "name": "stdout",
     "output_type": "stream",
     "text": [
      "Searching for: Stardust (Paperback) Neil Gaiman book review\n"
     ]
    },
    {
     "name": "stderr",
     "output_type": "stream",
     "text": [
      "Processing books:  31%|███▏      | 391/1250 [1:01:06<2:11:21,  9.18s/it]"
     ]
    },
    {
     "name": "stdout",
     "output_type": "stream",
     "text": [
      "Searching for: Assassin's Apprentice (Farseer Trilogy, #1) Robin Hobb book review\n"
     ]
    },
    {
     "name": "stderr",
     "output_type": "stream",
     "text": [
      "Processing books:  31%|███▏      | 392/1250 [1:01:07<1:36:08,  6.72s/it]"
     ]
    },
    {
     "name": "stdout",
     "output_type": "stream",
     "text": [
      "Searching for: Siege and Storm (The Shadow and Bone Trilogy, #2) Leigh Bardugo book review\n"
     ]
    },
    {
     "name": "stderr",
     "output_type": "stream",
     "text": [
      "Processing books:  31%|███▏      | 393/1250 [1:01:14<1:36:03,  6.72s/it]"
     ]
    },
    {
     "name": "stdout",
     "output_type": "stream",
     "text": [
      "Searching for: Neverwhere (London Below, #1) Neil Gaiman book review\n"
     ]
    },
    {
     "name": "stderr",
     "output_type": "stream",
     "text": [
      "Processing books:  32%|███▏      | 394/1250 [1:01:34<2:36:31, 10.97s/it]"
     ]
    },
    {
     "name": "stdout",
     "output_type": "stream",
     "text": [
      "Searching for: A Court of Frost and Starlight (A Court of Thorns and Roses, #3.5) Sarah J. Maas book review\n"
     ]
    },
    {
     "name": "stderr",
     "output_type": "stream",
     "text": [
      "Processing books:  32%|███▏      | 395/1250 [1:01:47<2:42:49, 11.43s/it]"
     ]
    },
    {
     "name": "stdout",
     "output_type": "stream",
     "text": [
      "Searching for: The Wicked King (The Folk of the Air, #2) Holly Black book review\n"
     ]
    },
    {
     "name": "stderr",
     "output_type": "stream",
     "text": [
      "Processing books:  32%|███▏      | 396/1250 [1:01:50<2:08:51,  9.05s/it]"
     ]
    },
    {
     "name": "stdout",
     "output_type": "stream",
     "text": [
      "Searching for: The Lord of the Rings (Middle Earth, #2-4) J.R.R. Tolkien book review\n"
     ]
    },
    {
     "name": "stderr",
     "output_type": "stream",
     "text": [
      "Processing books:  32%|███▏      | 397/1250 [1:01:58<2:02:43,  8.63s/it]"
     ]
    },
    {
     "name": "stdout",
     "output_type": "stream",
     "text": [
      "Searching for: The Wise Man’s Fear (The Kingkiller Chronicle, #2) Patrick Rothfuss book review\n"
     ]
    },
    {
     "name": "stderr",
     "output_type": "stream",
     "text": [
      "Processing books:  32%|███▏      | 398/1250 [1:01:59<1:30:05,  6.34s/it]"
     ]
    },
    {
     "name": "stdout",
     "output_type": "stream",
     "text": [
      "Searching for: The Lies of Locke Lamora (Gentleman Bastard, #1) Scott Lynch book review\n"
     ]
    },
    {
     "name": "stderr",
     "output_type": "stream",
     "text": [
      "Processing books:  32%|███▏      | 399/1250 [1:02:07<1:37:53,  6.90s/it]"
     ]
    },
    {
     "name": "stdout",
     "output_type": "stream",
     "text": [
      "Searching for: The Invisible Life of Addie LaRue (Kindle Edition) Victoria Schwab book review\n"
     ]
    },
    {
     "name": "stderr",
     "output_type": "stream",
     "text": [
      "Processing books:  32%|███▏      | 400/1250 [1:02:11<1:23:48,  5.92s/it]"
     ]
    },
    {
     "name": "stdout",
     "output_type": "stream",
     "text": [
      "Searching for: Harry Potter and the Sorcerer’s Stone (Harry Potter, #1) J.K. Rowling book review\n"
     ]
    },
    {
     "name": "stderr",
     "output_type": "stream",
     "text": [
      "Processing books:  32%|███▏      | 401/1250 [1:02:25<2:00:37,  8.53s/it]"
     ]
    },
    {
     "name": "stdout",
     "output_type": "stream",
     "text": [
      "Searching for: Harry Potter and the Chamber of Secrets (Harry Potter, #2) J.K. Rowling book review\n"
     ]
    },
    {
     "name": "stderr",
     "output_type": "stream",
     "text": [
      "Processing books:  32%|███▏      | 402/1250 [1:02:43<2:37:19, 11.13s/it]"
     ]
    },
    {
     "name": "stdout",
     "output_type": "stream",
     "text": [
      "Searching for: Harry Potter and the Prisoner of Azkaban (Harry Potter, #3) J.K. Rowling book review\n"
     ]
    },
    {
     "name": "stderr",
     "output_type": "stream",
     "text": [
      "Processing books:  32%|███▏      | 403/1250 [1:03:02<3:13:45, 13.73s/it]"
     ]
    },
    {
     "name": "stdout",
     "output_type": "stream",
     "text": [
      "Searching for: The Hobbit (The Lord of the Rings, #0) J.R.R. Tolkien book review\n"
     ]
    },
    {
     "name": "stderr",
     "output_type": "stream",
     "text": [
      "Processing books:  32%|███▏      | 404/1250 [1:03:10<2:46:34, 11.81s/it]"
     ]
    },
    {
     "name": "stdout",
     "output_type": "stream",
     "text": [
      "Searching for: Harry Potter and the Goblet of Fire (Harry Potter, #4) J.K. Rowling book review\n"
     ]
    },
    {
     "name": "stderr",
     "output_type": "stream",
     "text": [
      "Processing books:  32%|███▏      | 405/1250 [1:03:32<3:29:16, 14.86s/it]"
     ]
    },
    {
     "name": "stdout",
     "output_type": "stream",
     "text": [
      "Searching for: Harry Potter and the Order of the Phoenix (Harry Potter, #5) J.K. Rowling book review\n"
     ]
    },
    {
     "name": "stderr",
     "output_type": "stream",
     "text": [
      "Processing books:  32%|███▏      | 406/1250 [1:03:50<3:45:10, 16.01s/it]"
     ]
    },
    {
     "name": "stdout",
     "output_type": "stream",
     "text": [
      "Searching for: Harry Potter and the Half-Blood Prince (Harry Potter, #6) J.K. Rowling book review\n"
     ]
    },
    {
     "name": "stderr",
     "output_type": "stream",
     "text": [
      "Processing books:  33%|███▎      | 407/1250 [1:04:05<3:38:43, 15.57s/it]"
     ]
    },
    {
     "name": "stdout",
     "output_type": "stream",
     "text": [
      "Searching for: Harry Potter and the Deathly Hallows (Harry Potter, #7) J.K. Rowling book review\n"
     ]
    },
    {
     "name": "stderr",
     "output_type": "stream",
     "text": [
      "Processing books:  33%|███▎      | 408/1250 [1:04:14<3:11:18, 13.63s/it]"
     ]
    },
    {
     "name": "stdout",
     "output_type": "stream",
     "text": [
      "Searching for: A Game of Thrones (A Song of Ice and Fire, #1) George R.R. Martin book review\n"
     ]
    },
    {
     "name": "stderr",
     "output_type": "stream",
     "text": [
      "Processing books:  33%|███▎      | 409/1250 [1:04:20<2:38:20, 11.30s/it]"
     ]
    },
    {
     "name": "stdout",
     "output_type": "stream",
     "text": [
      "Searching for: The Fellowship of the Ring (Middle Earth, #1) J.R.R. Tolkien book review\n"
     ]
    },
    {
     "name": "stderr",
     "output_type": "stream",
     "text": [
      "Processing books:  33%|███▎      | 410/1250 [1:04:23<2:01:24,  8.67s/it]"
     ]
    },
    {
     "name": "stdout",
     "output_type": "stream",
     "text": [
      "Searching for: A Court of Thorns and Roses (A Court of Thorns and Roses, #1) Sarah J. Maas book review\n"
     ]
    },
    {
     "name": "stderr",
     "output_type": "stream",
     "text": [
      "Processing books:  33%|███▎      | 411/1250 [1:04:33<2:08:04,  9.16s/it]"
     ]
    },
    {
     "name": "stdout",
     "output_type": "stream",
     "text": [
      "Searching for: A Clash of Kings  (A Song of Ice and Fire, #2) George R.R. Martin book review\n"
     ]
    },
    {
     "name": "stderr",
     "output_type": "stream",
     "text": [
      "Processing books:  33%|███▎      | 412/1250 [1:04:37<1:46:36,  7.63s/it]"
     ]
    },
    {
     "name": "stdout",
     "output_type": "stream",
     "text": [
      "Searching for: The Two Towers (Middle Earth, #3) J.R.R. Tolkien book review\n"
     ]
    },
    {
     "name": "stderr",
     "output_type": "stream",
     "text": [
      "Processing books:  33%|███▎      | 413/1250 [1:04:49<2:03:52,  8.88s/it]"
     ]
    },
    {
     "name": "stdout",
     "output_type": "stream",
     "text": [
      "Searching for: Six of Crows (Six of Crows, #1) Leigh Bardugo book review\n"
     ]
    },
    {
     "name": "stderr",
     "output_type": "stream",
     "text": [
      "Processing books:  33%|███▎      | 414/1250 [1:04:53<1:44:38,  7.51s/it]"
     ]
    },
    {
     "name": "stdout",
     "output_type": "stream",
     "text": [
      "Searching for: The Name of the Wind (The Kingkiller Chronicle, #1) Patrick Rothfuss book review\n"
     ]
    },
    {
     "name": "stderr",
     "output_type": "stream",
     "text": [
      "Processing books:  33%|███▎      | 415/1250 [1:04:54<1:18:11,  5.62s/it]"
     ]
    },
    {
     "name": "stdout",
     "output_type": "stream",
     "text": [
      "Searching for: The Final Empire (Mistborn, #1) Brandon Sanderson book review\n"
     ]
    },
    {
     "name": "stderr",
     "output_type": "stream",
     "text": [
      "Processing books:  33%|███▎      | 416/1250 [1:05:03<1:32:33,  6.66s/it]"
     ]
    },
    {
     "name": "stdout",
     "output_type": "stream",
     "text": [
      "Searching for: The Return of the King (Middle Earth, #4) J.R.R. Tolkien book review\n"
     ]
    },
    {
     "name": "stderr",
     "output_type": "stream",
     "text": [
      "Processing books:  33%|███▎      | 417/1250 [1:05:17<2:02:48,  8.85s/it]"
     ]
    },
    {
     "name": "stdout",
     "output_type": "stream",
     "text": [
      "Searching for: A Court of Mist and Fury (A Court of Thorns and Roses, #2) Sarah J. Maas book review\n"
     ]
    },
    {
     "name": "stderr",
     "output_type": "stream",
     "text": [
      "Processing books:  33%|███▎      | 418/1250 [1:05:23<1:50:02,  7.94s/it]"
     ]
    },
    {
     "name": "stdout",
     "output_type": "stream",
     "text": [
      "Searching for: The Lightning Thief (Percy Jackson and the Olympians, #1) Rick Riordan book review\n"
     ]
    },
    {
     "name": "stderr",
     "output_type": "stream",
     "text": [
      "Processing books:  34%|███▎      | 419/1250 [1:05:30<1:47:19,  7.75s/it]"
     ]
    },
    {
     "name": "stdout",
     "output_type": "stream",
     "text": [
      "Searching for: Shadow and Bone (The Shadow and Bone Trilogy, #1) Leigh Bardugo book review\n"
     ]
    },
    {
     "name": "stderr",
     "output_type": "stream",
     "text": [
      "Processing books:  34%|███▎      | 420/1250 [1:05:38<1:44:49,  7.58s/it]"
     ]
    },
    {
     "name": "stdout",
     "output_type": "stream",
     "text": [
      "Searching for: The Lion, the Witch and the Wardrobe (Chronicles of Narnia, #1) C.S. Lewis book review\n"
     ]
    },
    {
     "name": "stderr",
     "output_type": "stream",
     "text": [
      "Processing books:  34%|███▎      | 421/1250 [1:05:56<2:31:33, 10.97s/it]"
     ]
    },
    {
     "name": "stdout",
     "output_type": "stream",
     "text": [
      "Searching for: The Cruel Prince (The Folk of the Air, #1) Holly Black book review\n"
     ]
    },
    {
     "name": "stderr",
     "output_type": "stream",
     "text": [
      "Processing books:  34%|███▍      | 422/1250 [1:06:05<2:20:36, 10.19s/it]"
     ]
    },
    {
     "name": "stdout",
     "output_type": "stream",
     "text": [
      "Searching for: A Storm of Swords (A Song of Ice and Fire, #3) George R.R. Martin book review\n"
     ]
    },
    {
     "name": "stderr",
     "output_type": "stream",
     "text": [
      "Processing books:  34%|███▍      | 423/1250 [1:06:07<1:48:38,  7.88s/it]"
     ]
    },
    {
     "name": "stdout",
     "output_type": "stream",
     "text": [
      "Searching for: A Feast for Crows (A Song of Ice and Fire, #4) George R.R. Martin book review\n"
     ]
    },
    {
     "name": "stderr",
     "output_type": "stream",
     "text": [
      "Processing books:  34%|███▍      | 424/1250 [1:06:13<1:40:16,  7.28s/it]"
     ]
    },
    {
     "name": "stdout",
     "output_type": "stream",
     "text": [
      "Searching for: The Golden Compass (His Dark Materials, #1) Philip Pullman book review\n"
     ]
    },
    {
     "name": "stderr",
     "output_type": "stream",
     "text": [
      "Processing books:  34%|███▍      | 425/1250 [1:06:20<1:39:54,  7.27s/it]"
     ]
    },
    {
     "name": "stdout",
     "output_type": "stream",
     "text": [
      "Searching for: Eragon (The Inheritance Cycle, #1) Christopher Paolini book review\n"
     ]
    },
    {
     "name": "stderr",
     "output_type": "stream",
     "text": [
      "Processing books:  34%|███▍      | 426/1250 [1:06:24<1:22:53,  6.04s/it]"
     ]
    },
    {
     "name": "stdout",
     "output_type": "stream",
     "text": [
      "Searching for: A Court of Wings and Ruin (A Court of Thorns and Roses, #3) Sarah J. Maas book review\n"
     ]
    },
    {
     "name": "stderr",
     "output_type": "stream",
     "text": [
      "Processing books:  34%|███▍      | 427/1250 [1:06:36<1:48:52,  7.94s/it]"
     ]
    },
    {
     "name": "stdout",
     "output_type": "stream",
     "text": [
      "Searching for: A Dance with Dragons (A Song of Ice and Fire, #5) George R.R. Martin book review\n"
     ]
    },
    {
     "name": "stderr",
     "output_type": "stream",
     "text": [
      "Processing books:  34%|███▍      | 428/1250 [1:06:40<1:33:35,  6.83s/it]"
     ]
    },
    {
     "name": "stdout",
     "output_type": "stream",
     "text": [
      "Searching for: The Night Circus (Hardcover) Erin Morgenstern book review\n"
     ]
    },
    {
     "name": "stderr",
     "output_type": "stream",
     "text": [
      "Processing books:  34%|███▍      | 429/1250 [1:06:59<2:24:35, 10.57s/it]"
     ]
    },
    {
     "name": "stdout",
     "output_type": "stream",
     "text": [
      "Searching for: American Gods (Kindle Edition) Neil Gaiman book review\n"
     ]
    },
    {
     "name": "stderr",
     "output_type": "stream",
     "text": [
      "Processing books:  34%|███▍      | 430/1250 [1:07:11<2:30:17, 11.00s/it]"
     ]
    },
    {
     "name": "stdout",
     "output_type": "stream",
     "text": [
      "Searching for: City of Bones (The Mortal Instruments, #1) Cassandra Clare book review\n"
     ]
    },
    {
     "name": "stderr",
     "output_type": "stream",
     "text": [
      "Processing books:  34%|███▍      | 431/1250 [1:07:17<2:07:21,  9.33s/it]"
     ]
    },
    {
     "name": "stdout",
     "output_type": "stream",
     "text": [
      "Searching for: The Eye of the World (The Wheel of Time, #1) Robert Jordan book review\n"
     ]
    },
    {
     "name": "stderr",
     "output_type": "stream",
     "text": [
      "Processing books:  35%|███▍      | 432/1250 [1:07:18<1:33:19,  6.85s/it]"
     ]
    },
    {
     "name": "stdout",
     "output_type": "stream",
     "text": [
      "Searching for: Twilight (The Twilight Saga, #1) Stephenie Meyer book review\n"
     ]
    },
    {
     "name": "stderr",
     "output_type": "stream",
     "text": [
      "Processing books:  35%|███▍      | 433/1250 [1:07:23<1:25:25,  6.27s/it]"
     ]
    },
    {
     "name": "stdout",
     "output_type": "stream",
     "text": [
      "Searching for: The Way of Kings (The Stormlight Archive, #1) Brandon Sanderson book review\n"
     ]
    },
    {
     "name": "stderr",
     "output_type": "stream",
     "text": [
      "Processing books:  35%|███▍      | 434/1250 [1:07:27<1:16:34,  5.63s/it]"
     ]
    },
    {
     "name": "stdout",
     "output_type": "stream",
     "text": [
      "Searching for: Crown of Midnight (Throne of Glass, #2) Sarah J. Maas book review\n"
     ]
    },
    {
     "name": "stderr",
     "output_type": "stream",
     "text": [
      "Processing books:  35%|███▍      | 435/1250 [1:07:37<1:35:09,  7.01s/it]"
     ]
    },
    {
     "name": "stdout",
     "output_type": "stream",
     "text": [
      "Searching for: A Darker Shade of Magic (Shades of Magic, #1) Victoria Schwab book review\n"
     ]
    },
    {
     "name": "stderr",
     "output_type": "stream",
     "text": [
      "Processing books:  35%|███▍      | 436/1250 [1:07:40<1:18:19,  5.77s/it]"
     ]
    },
    {
     "name": "stdout",
     "output_type": "stream",
     "text": [
      "Searching for: Crooked Kingdom (Six of Crows, #2) Leigh Bardugo book review\n"
     ]
    },
    {
     "name": "stderr",
     "output_type": "stream",
     "text": [
      "Processing books:  35%|███▍      | 437/1250 [1:07:43<1:04:41,  4.77s/it]"
     ]
    },
    {
     "name": "stdout",
     "output_type": "stream",
     "text": [
      "Searching for: Good Omens: The Nice and Accurate Prophecies of Agnes Nutter, Witch (Mass Market Paperback) Terry Pratchett book review\n"
     ]
    },
    {
     "name": "stderr",
     "output_type": "stream",
     "text": [
      "Processing books:  35%|███▌      | 438/1250 [1:07:51<1:20:53,  5.98s/it]"
     ]
    },
    {
     "name": "stdout",
     "output_type": "stream",
     "text": [
      "Searching for: The Sea of Monsters (Percy Jackson and the Olympians, #2) Rick Riordan book review\n"
     ]
    },
    {
     "name": "stderr",
     "output_type": "stream",
     "text": [
      "Processing books:  35%|███▌      | 439/1250 [1:07:59<1:26:05,  6.37s/it]"
     ]
    },
    {
     "name": "stdout",
     "output_type": "stream",
     "text": [
      "Searching for: The Well of Ascension (Mistborn, #2) Brandon Sanderson book review\n"
     ]
    },
    {
     "name": "stderr",
     "output_type": "stream",
     "text": [
      "Processing books:  35%|███▌      | 440/1250 [1:08:04<1:22:32,  6.11s/it]"
     ]
    },
    {
     "name": "stdout",
     "output_type": "stream",
     "text": [
      "Searching for: Stardust (Paperback) Neil Gaiman book review\n"
     ]
    },
    {
     "name": "stderr",
     "output_type": "stream",
     "text": [
      "Processing books:  35%|███▌      | 441/1250 [1:08:16<1:45:53,  7.85s/it]"
     ]
    },
    {
     "name": "stdout",
     "output_type": "stream",
     "text": [
      "Searching for: Assassin's Apprentice (Farseer Trilogy, #1) Robin Hobb book review\n"
     ]
    },
    {
     "name": "stderr",
     "output_type": "stream",
     "text": [
      "Processing books:  35%|███▌      | 442/1250 [1:08:17<1:18:16,  5.81s/it]"
     ]
    },
    {
     "name": "stdout",
     "output_type": "stream",
     "text": [
      "Searching for: Siege and Storm (The Shadow and Bone Trilogy, #2) Leigh Bardugo book review\n"
     ]
    },
    {
     "name": "stderr",
     "output_type": "stream",
     "text": [
      "Processing books:  35%|███▌      | 443/1250 [1:08:24<1:23:48,  6.23s/it]"
     ]
    },
    {
     "name": "stdout",
     "output_type": "stream",
     "text": [
      "Searching for: Neverwhere (London Below, #1) Neil Gaiman book review\n"
     ]
    },
    {
     "name": "stderr",
     "output_type": "stream",
     "text": [
      "Processing books:  36%|███▌      | 444/1250 [1:08:42<2:09:15,  9.62s/it]"
     ]
    },
    {
     "name": "stdout",
     "output_type": "stream",
     "text": [
      "Searching for: A Court of Frost and Starlight (A Court of Thorns and Roses, #3.5) Sarah J. Maas book review\n"
     ]
    },
    {
     "name": "stderr",
     "output_type": "stream",
     "text": [
      "Processing books:  36%|███▌      | 445/1250 [1:08:56<2:27:35, 11.00s/it]"
     ]
    },
    {
     "name": "stdout",
     "output_type": "stream",
     "text": [
      "Searching for: The Wicked King (The Folk of the Air, #2) Holly Black book review\n"
     ]
    },
    {
     "name": "stderr",
     "output_type": "stream",
     "text": [
      "Processing books:  36%|███▌      | 446/1250 [1:09:00<1:57:44,  8.79s/it]"
     ]
    },
    {
     "name": "stdout",
     "output_type": "stream",
     "text": [
      "Searching for: The Lord of the Rings (Middle Earth, #2-4) J.R.R. Tolkien book review\n"
     ]
    },
    {
     "name": "stderr",
     "output_type": "stream",
     "text": [
      "Processing books:  36%|███▌      | 447/1250 [1:09:08<1:54:19,  8.54s/it]"
     ]
    },
    {
     "name": "stdout",
     "output_type": "stream",
     "text": [
      "Searching for: The Wise Man’s Fear (The Kingkiller Chronicle, #2) Patrick Rothfuss book review\n"
     ]
    },
    {
     "name": "stderr",
     "output_type": "stream",
     "text": [
      "Processing books:  36%|███▌      | 448/1250 [1:09:09<1:23:58,  6.28s/it]"
     ]
    },
    {
     "name": "stdout",
     "output_type": "stream",
     "text": [
      "Searching for: The Lies of Locke Lamora (Gentleman Bastard, #1) Scott Lynch book review\n"
     ]
    },
    {
     "name": "stderr",
     "output_type": "stream",
     "text": [
      "Processing books:  36%|███▌      | 449/1250 [1:09:19<1:37:59,  7.34s/it]"
     ]
    },
    {
     "name": "stdout",
     "output_type": "stream",
     "text": [
      "Searching for: The Invisible Life of Addie LaRue (Kindle Edition) Victoria Schwab book review\n"
     ]
    },
    {
     "name": "stderr",
     "output_type": "stream",
     "text": [
      "Processing books:  36%|███▌      | 450/1250 [1:09:26<1:36:39,  7.25s/it]"
     ]
    },
    {
     "name": "stdout",
     "output_type": "stream",
     "text": [
      "Searching for: Harry Potter and the Sorcerer’s Stone (Harry Potter, #1) J.K. Rowling book review\n"
     ]
    },
    {
     "name": "stderr",
     "output_type": "stream",
     "text": [
      "Processing books:  36%|███▌      | 451/1250 [1:09:33<1:36:07,  7.22s/it]"
     ]
    },
    {
     "name": "stdout",
     "output_type": "stream",
     "text": [
      "Searching for: Harry Potter and the Chamber of Secrets (Harry Potter, #2) J.K. Rowling book review\n"
     ]
    },
    {
     "name": "stderr",
     "output_type": "stream",
     "text": [
      "Processing books:  36%|███▌      | 452/1250 [1:09:46<2:00:19,  9.05s/it]"
     ]
    },
    {
     "name": "stdout",
     "output_type": "stream",
     "text": [
      "Searching for: Harry Potter and the Prisoner of Azkaban (Harry Potter, #3) J.K. Rowling book review\n"
     ]
    },
    {
     "name": "stderr",
     "output_type": "stream",
     "text": [
      "Processing books:  36%|███▌      | 453/1250 [1:10:04<2:35:54, 11.74s/it]"
     ]
    },
    {
     "name": "stdout",
     "output_type": "stream",
     "text": [
      "Searching for: The Hobbit (The Lord of the Rings, #0) J.R.R. Tolkien book review\n"
     ]
    },
    {
     "name": "stderr",
     "output_type": "stream",
     "text": [
      "Processing books:  36%|███▋      | 454/1250 [1:10:12<2:18:47, 10.46s/it]"
     ]
    },
    {
     "name": "stdout",
     "output_type": "stream",
     "text": [
      "Searching for: Harry Potter and the Goblet of Fire (Harry Potter, #4) J.K. Rowling book review\n"
     ]
    },
    {
     "name": "stderr",
     "output_type": "stream",
     "text": [
      "Processing books:  36%|███▋      | 455/1250 [1:10:32<3:00:18, 13.61s/it]"
     ]
    },
    {
     "name": "stdout",
     "output_type": "stream",
     "text": [
      "Searching for: Harry Potter and the Order of the Phoenix (Harry Potter, #5) J.K. Rowling book review\n"
     ]
    },
    {
     "name": "stderr",
     "output_type": "stream",
     "text": [
      "Processing books:  36%|███▋      | 456/1250 [1:10:41<2:38:30, 11.98s/it]"
     ]
    },
    {
     "name": "stdout",
     "output_type": "stream",
     "text": [
      "Searching for: Harry Potter and the Half-Blood Prince (Harry Potter, #6) J.K. Rowling book review\n"
     ]
    },
    {
     "name": "stderr",
     "output_type": "stream",
     "text": [
      "Processing books:  37%|███▋      | 457/1250 [1:10:52<2:34:03, 11.66s/it]"
     ]
    },
    {
     "name": "stdout",
     "output_type": "stream",
     "text": [
      "Searching for: Harry Potter and the Deathly Hallows (Harry Potter, #7) J.K. Rowling book review\n"
     ]
    },
    {
     "name": "stderr",
     "output_type": "stream",
     "text": [
      "Processing books:  37%|███▋      | 458/1250 [1:11:00<2:19:24, 10.56s/it]"
     ]
    },
    {
     "name": "stdout",
     "output_type": "stream",
     "text": [
      "Searching for: A Game of Thrones (A Song of Ice and Fire, #1) George R.R. Martin book review\n"
     ]
    },
    {
     "name": "stderr",
     "output_type": "stream",
     "text": [
      "Processing books:  37%|███▋      | 459/1250 [1:11:04<1:56:14,  8.82s/it]"
     ]
    },
    {
     "name": "stdout",
     "output_type": "stream",
     "text": [
      "Searching for: The Fellowship of the Ring (Middle Earth, #1) J.R.R. Tolkien book review\n"
     ]
    },
    {
     "name": "stderr",
     "output_type": "stream",
     "text": [
      "Processing books:  37%|███▋      | 460/1250 [1:11:09<1:38:05,  7.45s/it]"
     ]
    },
    {
     "name": "stdout",
     "output_type": "stream",
     "text": [
      "Searching for: A Court of Thorns and Roses (A Court of Thorns and Roses, #1) Sarah J. Maas book review\n"
     ]
    },
    {
     "name": "stderr",
     "output_type": "stream",
     "text": [
      "Processing books:  37%|███▋      | 461/1250 [1:11:15<1:34:37,  7.20s/it]"
     ]
    },
    {
     "name": "stdout",
     "output_type": "stream",
     "text": [
      "Searching for: A Clash of Kings  (A Song of Ice and Fire, #2) George R.R. Martin book review\n"
     ]
    },
    {
     "name": "stderr",
     "output_type": "stream",
     "text": [
      "Processing books:  37%|███▋      | 462/1250 [1:11:18<1:16:42,  5.84s/it]"
     ]
    },
    {
     "name": "stdout",
     "output_type": "stream",
     "text": [
      "Searching for: The Two Towers (Middle Earth, #3) J.R.R. Tolkien book review\n"
     ]
    },
    {
     "name": "stderr",
     "output_type": "stream",
     "text": [
      "Processing books:  37%|███▋      | 463/1250 [1:11:33<1:52:47,  8.60s/it]"
     ]
    },
    {
     "name": "stdout",
     "output_type": "stream",
     "text": [
      "Searching for: Six of Crows (Six of Crows, #1) Leigh Bardugo book review\n"
     ]
    },
    {
     "name": "stderr",
     "output_type": "stream",
     "text": [
      "Processing books:  37%|███▋      | 464/1250 [1:11:37<1:36:16,  7.35s/it]"
     ]
    },
    {
     "name": "stdout",
     "output_type": "stream",
     "text": [
      "Searching for: The Name of the Wind (The Kingkiller Chronicle, #1) Patrick Rothfuss book review\n"
     ]
    },
    {
     "name": "stderr",
     "output_type": "stream",
     "text": [
      "Processing books:  37%|███▋      | 465/1250 [1:11:38<1:11:46,  5.49s/it]"
     ]
    },
    {
     "name": "stdout",
     "output_type": "stream",
     "text": [
      "Searching for: The Final Empire (Mistborn, #1) Brandon Sanderson book review\n"
     ]
    },
    {
     "name": "stderr",
     "output_type": "stream",
     "text": [
      "Processing books:  37%|███▋      | 466/1250 [1:11:52<1:43:04,  7.89s/it]"
     ]
    },
    {
     "name": "stdout",
     "output_type": "stream",
     "text": [
      "Searching for: The Return of the King (Middle Earth, #4) J.R.R. Tolkien book review\n"
     ]
    },
    {
     "name": "stderr",
     "output_type": "stream",
     "text": [
      "Processing books:  37%|███▋      | 467/1250 [1:12:00<1:42:23,  7.85s/it]"
     ]
    },
    {
     "name": "stdout",
     "output_type": "stream",
     "text": [
      "Searching for: A Court of Mist and Fury (A Court of Thorns and Roses, #2) Sarah J. Maas book review\n"
     ]
    },
    {
     "name": "stderr",
     "output_type": "stream",
     "text": [
      "Processing books:  37%|███▋      | 468/1250 [1:12:05<1:33:11,  7.15s/it]"
     ]
    },
    {
     "name": "stdout",
     "output_type": "stream",
     "text": [
      "Searching for: The Lightning Thief (Percy Jackson and the Olympians, #1) Rick Riordan book review\n"
     ]
    },
    {
     "name": "stderr",
     "output_type": "stream",
     "text": [
      "Processing books:  38%|███▊      | 469/1250 [1:12:12<1:30:36,  6.96s/it]"
     ]
    },
    {
     "name": "stdout",
     "output_type": "stream",
     "text": [
      "Searching for: Shadow and Bone (The Shadow and Bone Trilogy, #1) Leigh Bardugo book review\n"
     ]
    },
    {
     "name": "stderr",
     "output_type": "stream",
     "text": [
      "Processing books:  38%|███▊      | 470/1250 [1:12:17<1:25:39,  6.59s/it]"
     ]
    },
    {
     "name": "stdout",
     "output_type": "stream",
     "text": [
      "Searching for: The Lion, the Witch and the Wardrobe (Chronicles of Narnia, #1) C.S. Lewis book review\n"
     ]
    },
    {
     "name": "stderr",
     "output_type": "stream",
     "text": [
      "Processing books:  38%|███▊      | 471/1250 [1:12:33<1:58:58,  9.16s/it]"
     ]
    },
    {
     "name": "stdout",
     "output_type": "stream",
     "text": [
      "Searching for: The Cruel Prince (The Folk of the Air, #1) Holly Black book review\n"
     ]
    },
    {
     "name": "stderr",
     "output_type": "stream",
     "text": [
      "Processing books:  38%|███▊      | 472/1250 [1:12:38<1:44:14,  8.04s/it]"
     ]
    },
    {
     "name": "stdout",
     "output_type": "stream",
     "text": [
      "Searching for: A Storm of Swords (A Song of Ice and Fire, #3) George R.R. Martin book review\n"
     ]
    },
    {
     "name": "stderr",
     "output_type": "stream",
     "text": [
      "Processing books:  38%|███▊      | 473/1250 [1:12:46<1:41:54,  7.87s/it]"
     ]
    },
    {
     "name": "stdout",
     "output_type": "stream",
     "text": [
      "Searching for: A Feast for Crows (A Song of Ice and Fire, #4) George R.R. Martin book review\n"
     ]
    },
    {
     "name": "stderr",
     "output_type": "stream",
     "text": [
      "Processing books:  38%|███▊      | 474/1250 [1:12:53<1:39:24,  7.69s/it]"
     ]
    },
    {
     "name": "stdout",
     "output_type": "stream",
     "text": [
      "Searching for: The Golden Compass (His Dark Materials, #1) Philip Pullman book review\n"
     ]
    },
    {
     "name": "stderr",
     "output_type": "stream",
     "text": [
      "Processing books:  38%|███▊      | 475/1250 [1:12:58<1:31:14,  7.06s/it]"
     ]
    },
    {
     "name": "stdout",
     "output_type": "stream",
     "text": [
      "Searching for: Eragon (The Inheritance Cycle, #1) Christopher Paolini book review\n"
     ]
    },
    {
     "name": "stderr",
     "output_type": "stream",
     "text": [
      "Processing books:  38%|███▊      | 476/1250 [1:13:07<1:38:42,  7.65s/it]"
     ]
    },
    {
     "name": "stdout",
     "output_type": "stream",
     "text": [
      "Searching for: A Court of Wings and Ruin (A Court of Thorns and Roses, #3) Sarah J. Maas book review\n"
     ]
    },
    {
     "name": "stderr",
     "output_type": "stream",
     "text": [
      "Processing books:  38%|███▊      | 477/1250 [1:13:21<2:01:57,  9.47s/it]"
     ]
    },
    {
     "name": "stdout",
     "output_type": "stream",
     "text": [
      "Searching for: A Dance with Dragons (A Song of Ice and Fire, #5) George R.R. Martin book review\n"
     ]
    },
    {
     "name": "stderr",
     "output_type": "stream",
     "text": [
      "Processing books:  38%|███▊      | 478/1250 [1:13:31<2:04:30,  9.68s/it]"
     ]
    },
    {
     "name": "stdout",
     "output_type": "stream",
     "text": [
      "Searching for: The Night Circus (Hardcover) Erin Morgenstern book review\n"
     ]
    },
    {
     "name": "stderr",
     "output_type": "stream",
     "text": [
      "Processing books:  38%|███▊      | 479/1250 [1:13:46<2:23:14, 11.15s/it]"
     ]
    },
    {
     "name": "stdout",
     "output_type": "stream",
     "text": [
      "Searching for: American Gods (Kindle Edition) Neil Gaiman book review\n"
     ]
    },
    {
     "name": "stderr",
     "output_type": "stream",
     "text": [
      "Processing books:  38%|███▊      | 480/1250 [1:13:57<2:24:45, 11.28s/it]"
     ]
    },
    {
     "name": "stdout",
     "output_type": "stream",
     "text": [
      "Searching for: City of Bones (The Mortal Instruments, #1) Cassandra Clare book review\n"
     ]
    },
    {
     "name": "stderr",
     "output_type": "stream",
     "text": [
      "Processing books:  38%|███▊      | 481/1250 [1:14:00<1:50:27,  8.62s/it]"
     ]
    },
    {
     "name": "stdout",
     "output_type": "stream",
     "text": [
      "Searching for: The Eye of the World (The Wheel of Time, #1) Robert Jordan book review\n"
     ]
    },
    {
     "name": "stderr",
     "output_type": "stream",
     "text": [
      "Processing books:  39%|███▊      | 482/1250 [1:14:06<1:41:42,  7.95s/it]"
     ]
    },
    {
     "name": "stdout",
     "output_type": "stream",
     "text": [
      "Searching for: Twilight (The Twilight Saga, #1) Stephenie Meyer book review\n"
     ]
    },
    {
     "name": "stderr",
     "output_type": "stream",
     "text": [
      "Processing books:  39%|███▊      | 483/1250 [1:14:12<1:33:41,  7.33s/it]"
     ]
    },
    {
     "name": "stdout",
     "output_type": "stream",
     "text": [
      "Searching for: The Way of Kings (The Stormlight Archive, #1) Brandon Sanderson book review\n"
     ]
    },
    {
     "name": "stderr",
     "output_type": "stream",
     "text": [
      "Processing books:  39%|███▊      | 484/1250 [1:14:18<1:27:54,  6.89s/it]"
     ]
    },
    {
     "name": "stdout",
     "output_type": "stream",
     "text": [
      "Searching for: Crown of Midnight (Throne of Glass, #2) Sarah J. Maas book review\n"
     ]
    },
    {
     "name": "stderr",
     "output_type": "stream",
     "text": [
      "Processing books:  39%|███▉      | 485/1250 [1:14:26<1:32:35,  7.26s/it]"
     ]
    },
    {
     "name": "stdout",
     "output_type": "stream",
     "text": [
      "Searching for: A Darker Shade of Magic (Shades of Magic, #1) Victoria Schwab book review\n"
     ]
    },
    {
     "name": "stderr",
     "output_type": "stream",
     "text": [
      "Processing books:  39%|███▉      | 486/1250 [1:14:34<1:33:44,  7.36s/it]"
     ]
    },
    {
     "name": "stdout",
     "output_type": "stream",
     "text": [
      "Searching for: Crooked Kingdom (Six of Crows, #2) Leigh Bardugo book review\n"
     ]
    },
    {
     "name": "stderr",
     "output_type": "stream",
     "text": [
      "Processing books:  39%|███▉      | 487/1250 [1:14:37<1:16:52,  6.05s/it]"
     ]
    },
    {
     "name": "stdout",
     "output_type": "stream",
     "text": [
      "Searching for: Good Omens: The Nice and Accurate Prophecies of Agnes Nutter, Witch (Mass Market Paperback) Terry Pratchett book review\n"
     ]
    },
    {
     "name": "stderr",
     "output_type": "stream",
     "text": [
      "Processing books:  39%|███▉      | 488/1250 [1:14:40<1:06:50,  5.26s/it]"
     ]
    },
    {
     "name": "stdout",
     "output_type": "stream",
     "text": [
      "Searching for: The Sea of Monsters (Percy Jackson and the Olympians, #2) Rick Riordan book review\n"
     ]
    },
    {
     "name": "stderr",
     "output_type": "stream",
     "text": [
      "Processing books:  39%|███▉      | 489/1250 [1:14:47<1:14:27,  5.87s/it]"
     ]
    },
    {
     "name": "stdout",
     "output_type": "stream",
     "text": [
      "Searching for: The Well of Ascension (Mistborn, #2) Brandon Sanderson book review\n"
     ]
    },
    {
     "name": "stderr",
     "output_type": "stream",
     "text": [
      "Processing books:  39%|███▉      | 490/1250 [1:14:51<1:05:31,  5.17s/it]"
     ]
    },
    {
     "name": "stdout",
     "output_type": "stream",
     "text": [
      "Searching for: Stardust (Paperback) Neil Gaiman book review\n"
     ]
    },
    {
     "name": "stderr",
     "output_type": "stream",
     "text": [
      "Processing books:  39%|███▉      | 491/1250 [1:15:07<1:46:23,  8.41s/it]"
     ]
    },
    {
     "name": "stdout",
     "output_type": "stream",
     "text": [
      "Searching for: Assassin's Apprentice (Farseer Trilogy, #1) Robin Hobb book review\n"
     ]
    },
    {
     "name": "stderr",
     "output_type": "stream",
     "text": [
      "Processing books:  39%|███▉      | 492/1250 [1:15:08<1:18:29,  6.21s/it]"
     ]
    },
    {
     "name": "stdout",
     "output_type": "stream",
     "text": [
      "Searching for: Siege and Storm (The Shadow and Bone Trilogy, #2) Leigh Bardugo book review\n"
     ]
    },
    {
     "name": "stderr",
     "output_type": "stream",
     "text": [
      "Processing books:  39%|███▉      | 493/1250 [1:15:12<1:11:47,  5.69s/it]"
     ]
    },
    {
     "name": "stdout",
     "output_type": "stream",
     "text": [
      "Searching for: Neverwhere (London Below, #1) Neil Gaiman book review\n"
     ]
    },
    {
     "name": "stderr",
     "output_type": "stream",
     "text": [
      "Processing books:  40%|███▉      | 494/1250 [1:15:38<2:27:35, 11.71s/it]"
     ]
    },
    {
     "name": "stdout",
     "output_type": "stream",
     "text": [
      "Searching for: A Court of Frost and Starlight (A Court of Thorns and Roses, #3.5) Sarah J. Maas book review\n"
     ]
    },
    {
     "name": "stderr",
     "output_type": "stream",
     "text": [
      "Processing books:  40%|███▉      | 495/1250 [1:15:51<2:31:46, 12.06s/it]"
     ]
    },
    {
     "name": "stdout",
     "output_type": "stream",
     "text": [
      "Searching for: The Wicked King (The Folk of the Air, #2) Holly Black book review\n"
     ]
    },
    {
     "name": "stderr",
     "output_type": "stream",
     "text": [
      "Processing books:  40%|███▉      | 496/1250 [1:15:55<2:00:55,  9.62s/it]"
     ]
    },
    {
     "name": "stdout",
     "output_type": "stream",
     "text": [
      "Searching for: The Lord of the Rings (Middle Earth, #2-4) J.R.R. Tolkien book review\n"
     ]
    },
    {
     "name": "stderr",
     "output_type": "stream",
     "text": [
      "Processing books:  40%|███▉      | 497/1250 [1:16:07<2:11:16, 10.46s/it]"
     ]
    },
    {
     "name": "stdout",
     "output_type": "stream",
     "text": [
      "Searching for: The Wise Man’s Fear (The Kingkiller Chronicle, #2) Patrick Rothfuss book review\n"
     ]
    },
    {
     "name": "stderr",
     "output_type": "stream",
     "text": [
      "Processing books:  40%|███▉      | 498/1250 [1:16:08<1:35:06,  7.59s/it]"
     ]
    },
    {
     "name": "stdout",
     "output_type": "stream",
     "text": [
      "Searching for: The Lies of Locke Lamora (Gentleman Bastard, #1) Scott Lynch book review\n"
     ]
    },
    {
     "name": "stderr",
     "output_type": "stream",
     "text": [
      "Processing books:  40%|███▉      | 499/1250 [1:16:15<1:30:35,  7.24s/it]"
     ]
    },
    {
     "name": "stdout",
     "output_type": "stream",
     "text": [
      "Searching for: The Invisible Life of Addie LaRue (Kindle Edition) Victoria Schwab book review\n"
     ]
    },
    {
     "name": "stderr",
     "output_type": "stream",
     "text": [
      "Processing books:  40%|████      | 500/1250 [1:16:18<1:16:30,  6.12s/it]"
     ]
    },
    {
     "name": "stdout",
     "output_type": "stream",
     "text": [
      "Searching for: Harry Potter and the Sorcerer’s Stone (Harry Potter, #1) J.K. Rowling book review\n"
     ]
    },
    {
     "name": "stderr",
     "output_type": "stream",
     "text": [
      "Processing books:  40%|████      | 501/1250 [1:16:24<1:16:29,  6.13s/it]"
     ]
    },
    {
     "name": "stdout",
     "output_type": "stream",
     "text": [
      "Searching for: Harry Potter and the Chamber of Secrets (Harry Potter, #2) J.K. Rowling book review\n"
     ]
    },
    {
     "name": "stderr",
     "output_type": "stream",
     "text": [
      "Processing books:  40%|████      | 502/1250 [1:16:41<1:53:40,  9.12s/it]"
     ]
    },
    {
     "name": "stdout",
     "output_type": "stream",
     "text": [
      "Searching for: Harry Potter and the Prisoner of Azkaban (Harry Potter, #3) J.K. Rowling book review\n"
     ]
    },
    {
     "name": "stderr",
     "output_type": "stream",
     "text": [
      "Processing books:  40%|████      | 503/1250 [1:16:55<2:12:15, 10.62s/it]"
     ]
    },
    {
     "name": "stdout",
     "output_type": "stream",
     "text": [
      "Searching for: The Hobbit (The Lord of the Rings, #0) J.R.R. Tolkien book review\n"
     ]
    },
    {
     "name": "stderr",
     "output_type": "stream",
     "text": [
      "Processing books:  40%|████      | 504/1250 [1:17:06<2:15:53, 10.93s/it]"
     ]
    },
    {
     "name": "stdout",
     "output_type": "stream",
     "text": [
      "Searching for: Harry Potter and the Goblet of Fire (Harry Potter, #4) J.K. Rowling book review\n"
     ]
    },
    {
     "name": "stderr",
     "output_type": "stream",
     "text": [
      "Processing books:  40%|████      | 505/1250 [1:17:20<2:25:03, 11.68s/it]"
     ]
    },
    {
     "name": "stdout",
     "output_type": "stream",
     "text": [
      "Searching for: Harry Potter and the Order of the Phoenix (Harry Potter, #5) J.K. Rowling book review\n"
     ]
    },
    {
     "name": "stderr",
     "output_type": "stream",
     "text": [
      "Processing books:  40%|████      | 506/1250 [1:17:39<2:52:51, 13.94s/it]"
     ]
    },
    {
     "name": "stdout",
     "output_type": "stream",
     "text": [
      "Searching for: Harry Potter and the Half-Blood Prince (Harry Potter, #6) J.K. Rowling book review\n"
     ]
    },
    {
     "name": "stderr",
     "output_type": "stream",
     "text": [
      "Processing books:  41%|████      | 507/1250 [1:17:53<2:53:18, 13.99s/it]"
     ]
    },
    {
     "name": "stdout",
     "output_type": "stream",
     "text": [
      "Searching for: Harry Potter and the Deathly Hallows (Harry Potter, #7) J.K. Rowling book review\n"
     ]
    },
    {
     "name": "stderr",
     "output_type": "stream",
     "text": [
      "Processing books:  41%|████      | 508/1250 [1:18:04<2:43:16, 13.20s/it]"
     ]
    },
    {
     "name": "stdout",
     "output_type": "stream",
     "text": [
      "Searching for: A Game of Thrones (A Song of Ice and Fire, #1) George R.R. Martin book review\n"
     ]
    },
    {
     "name": "stderr",
     "output_type": "stream",
     "text": [
      "Processing books:  41%|████      | 509/1250 [1:18:12<2:23:02, 11.58s/it]"
     ]
    },
    {
     "name": "stdout",
     "output_type": "stream",
     "text": [
      "Searching for: The Fellowship of the Ring (Middle Earth, #1) J.R.R. Tolkien book review\n"
     ]
    },
    {
     "name": "stderr",
     "output_type": "stream",
     "text": [
      "Processing books:  41%|████      | 510/1250 [1:18:16<1:54:43,  9.30s/it]"
     ]
    },
    {
     "name": "stdout",
     "output_type": "stream",
     "text": [
      "Searching for: A Court of Thorns and Roses (A Court of Thorns and Roses, #1) Sarah J. Maas book review\n"
     ]
    },
    {
     "name": "stderr",
     "output_type": "stream",
     "text": [
      "Processing books:  41%|████      | 511/1250 [1:18:24<1:47:52,  8.76s/it]"
     ]
    },
    {
     "name": "stdout",
     "output_type": "stream",
     "text": [
      "Searching for: A Clash of Kings  (A Song of Ice and Fire, #2) George R.R. Martin book review\n"
     ]
    },
    {
     "name": "stderr",
     "output_type": "stream",
     "text": [
      "Processing books:  41%|████      | 512/1250 [1:18:27<1:28:03,  7.16s/it]"
     ]
    },
    {
     "name": "stdout",
     "output_type": "stream",
     "text": [
      "Searching for: The Two Towers (Middle Earth, #3) J.R.R. Tolkien book review\n"
     ]
    },
    {
     "name": "stderr",
     "output_type": "stream",
     "text": [
      "Processing books:  41%|████      | 513/1250 [1:18:41<1:53:09,  9.21s/it]"
     ]
    },
    {
     "name": "stdout",
     "output_type": "stream",
     "text": [
      "Searching for: Six of Crows (Six of Crows, #1) Leigh Bardugo book review\n"
     ]
    },
    {
     "name": "stderr",
     "output_type": "stream",
     "text": [
      "Processing books:  41%|████      | 514/1250 [1:18:45<1:34:31,  7.71s/it]"
     ]
    },
    {
     "name": "stdout",
     "output_type": "stream",
     "text": [
      "Searching for: The Name of the Wind (The Kingkiller Chronicle, #1) Patrick Rothfuss book review\n"
     ]
    },
    {
     "name": "stderr",
     "output_type": "stream",
     "text": [
      "Processing books:  41%|████      | 515/1250 [1:18:46<1:10:17,  5.74s/it]"
     ]
    },
    {
     "name": "stdout",
     "output_type": "stream",
     "text": [
      "Searching for: The Final Empire (Mistborn, #1) Brandon Sanderson book review\n"
     ]
    },
    {
     "name": "stderr",
     "output_type": "stream",
     "text": [
      "Processing books:  41%|████▏     | 516/1250 [1:19:17<2:42:52, 13.31s/it]"
     ]
    },
    {
     "name": "stdout",
     "output_type": "stream",
     "text": [
      "Searching for: The Return of the King (Middle Earth, #4) J.R.R. Tolkien book review\n"
     ]
    },
    {
     "name": "stderr",
     "output_type": "stream",
     "text": [
      "Processing books:  41%|████▏     | 517/1250 [1:19:25<2:19:59, 11.46s/it]"
     ]
    },
    {
     "name": "stdout",
     "output_type": "stream",
     "text": [
      "Searching for: A Court of Mist and Fury (A Court of Thorns and Roses, #2) Sarah J. Maas book review\n"
     ]
    },
    {
     "name": "stderr",
     "output_type": "stream",
     "text": [
      "Processing books:  41%|████▏     | 518/1250 [1:19:32<2:03:44, 10.14s/it]"
     ]
    },
    {
     "name": "stdout",
     "output_type": "stream",
     "text": [
      "Searching for: The Lightning Thief (Percy Jackson and the Olympians, #1) Rick Riordan book review\n"
     ]
    },
    {
     "name": "stderr",
     "output_type": "stream",
     "text": [
      "Processing books:  42%|████▏     | 519/1250 [1:19:38<1:48:17,  8.89s/it]"
     ]
    },
    {
     "name": "stdout",
     "output_type": "stream",
     "text": [
      "Searching for: Shadow and Bone (The Shadow and Bone Trilogy, #1) Leigh Bardugo book review\n"
     ]
    },
    {
     "name": "stderr",
     "output_type": "stream",
     "text": [
      "Processing books:  42%|████▏     | 520/1250 [1:19:47<1:50:41,  9.10s/it]"
     ]
    },
    {
     "name": "stdout",
     "output_type": "stream",
     "text": [
      "Searching for: The Lion, the Witch and the Wardrobe (Chronicles of Narnia, #1) C.S. Lewis book review\n"
     ]
    },
    {
     "name": "stderr",
     "output_type": "stream",
     "text": [
      "Processing books:  42%|████▏     | 521/1250 [1:20:03<2:13:21, 10.98s/it]"
     ]
    },
    {
     "name": "stdout",
     "output_type": "stream",
     "text": [
      "Searching for: The Cruel Prince (The Folk of the Air, #1) Holly Black book review\n"
     ]
    },
    {
     "name": "stderr",
     "output_type": "stream",
     "text": [
      "Processing books:  42%|████▏     | 522/1250 [1:20:13<2:09:47, 10.70s/it]"
     ]
    },
    {
     "name": "stdout",
     "output_type": "stream",
     "text": [
      "Searching for: A Storm of Swords (A Song of Ice and Fire, #3) George R.R. Martin book review\n"
     ]
    },
    {
     "name": "stderr",
     "output_type": "stream",
     "text": [
      "Processing books:  42%|████▏     | 523/1250 [1:20:18<1:51:24,  9.19s/it]"
     ]
    },
    {
     "name": "stdout",
     "output_type": "stream",
     "text": [
      "Searching for: A Feast for Crows (A Song of Ice and Fire, #4) George R.R. Martin book review\n"
     ]
    },
    {
     "name": "stderr",
     "output_type": "stream",
     "text": [
      "Processing books:  42%|████▏     | 524/1250 [1:20:24<1:39:22,  8.21s/it]"
     ]
    },
    {
     "name": "stdout",
     "output_type": "stream",
     "text": [
      "Searching for: The Golden Compass (His Dark Materials, #1) Philip Pullman book review\n"
     ]
    },
    {
     "name": "stderr",
     "output_type": "stream",
     "text": [
      "Processing books:  42%|████▏     | 525/1250 [1:20:31<1:34:15,  7.80s/it]"
     ]
    },
    {
     "name": "stdout",
     "output_type": "stream",
     "text": [
      "Searching for: Eragon (The Inheritance Cycle, #1) Christopher Paolini book review\n"
     ]
    },
    {
     "name": "stderr",
     "output_type": "stream",
     "text": [
      "Processing books:  42%|████▏     | 526/1250 [1:20:39<1:33:11,  7.72s/it]"
     ]
    },
    {
     "name": "stdout",
     "output_type": "stream",
     "text": [
      "Searching for: A Court of Wings and Ruin (A Court of Thorns and Roses, #3) Sarah J. Maas book review\n"
     ]
    },
    {
     "name": "stderr",
     "output_type": "stream",
     "text": [
      "Processing books:  42%|████▏     | 527/1250 [1:20:49<1:42:33,  8.51s/it]"
     ]
    },
    {
     "name": "stdout",
     "output_type": "stream",
     "text": [
      "Searching for: A Dance with Dragons (A Song of Ice and Fire, #5) George R.R. Martin book review\n"
     ]
    },
    {
     "name": "stderr",
     "output_type": "stream",
     "text": [
      "Processing books:  42%|████▏     | 528/1250 [1:20:57<1:42:25,  8.51s/it]"
     ]
    },
    {
     "name": "stdout",
     "output_type": "stream",
     "text": [
      "Searching for: The Night Circus (Hardcover) Erin Morgenstern book review\n"
     ]
    },
    {
     "name": "stderr",
     "output_type": "stream",
     "text": [
      "Processing books:  42%|████▏     | 529/1250 [1:21:14<2:11:20, 10.93s/it]"
     ]
    },
    {
     "name": "stdout",
     "output_type": "stream",
     "text": [
      "Searching for: American Gods (Kindle Edition) Neil Gaiman book review\n"
     ]
    },
    {
     "name": "stderr",
     "output_type": "stream",
     "text": [
      "Processing books:  42%|████▏     | 530/1250 [1:21:24<2:07:14, 10.60s/it]"
     ]
    },
    {
     "name": "stdout",
     "output_type": "stream",
     "text": [
      "Searching for: City of Bones (The Mortal Instruments, #1) Cassandra Clare book review\n"
     ]
    },
    {
     "name": "stderr",
     "output_type": "stream",
     "text": [
      "Processing books:  42%|████▏     | 531/1250 [1:21:28<1:43:04,  8.60s/it]"
     ]
    },
    {
     "name": "stdout",
     "output_type": "stream",
     "text": [
      "Searching for: The Eye of the World (The Wheel of Time, #1) Robert Jordan book review\n"
     ]
    },
    {
     "name": "stderr",
     "output_type": "stream",
     "text": [
      "Processing books:  43%|████▎     | 532/1250 [1:21:29<1:15:49,  6.34s/it]"
     ]
    },
    {
     "name": "stdout",
     "output_type": "stream",
     "text": [
      "Searching for: Twilight (The Twilight Saga, #1) Stephenie Meyer book review\n"
     ]
    },
    {
     "name": "stderr",
     "output_type": "stream",
     "text": [
      "Processing books:  43%|████▎     | 533/1250 [1:21:36<1:17:39,  6.50s/it]"
     ]
    },
    {
     "name": "stdout",
     "output_type": "stream",
     "text": [
      "Searching for: The Way of Kings (The Stormlight Archive, #1) Brandon Sanderson book review\n"
     ]
    },
    {
     "name": "stderr",
     "output_type": "stream",
     "text": [
      "Processing books:  43%|████▎     | 534/1250 [1:21:40<1:10:02,  5.87s/it]"
     ]
    },
    {
     "name": "stdout",
     "output_type": "stream",
     "text": [
      "Searching for: Crown of Midnight (Throne of Glass, #2) Sarah J. Maas book review\n"
     ]
    },
    {
     "name": "stderr",
     "output_type": "stream",
     "text": [
      "Processing books:  43%|████▎     | 535/1250 [1:21:47<1:14:44,  6.27s/it]"
     ]
    },
    {
     "name": "stdout",
     "output_type": "stream",
     "text": [
      "Searching for: A Darker Shade of Magic (Shades of Magic, #1) Victoria Schwab book review\n"
     ]
    },
    {
     "name": "stderr",
     "output_type": "stream",
     "text": [
      "Processing books:  43%|████▎     | 536/1250 [1:21:52<1:07:35,  5.68s/it]"
     ]
    },
    {
     "name": "stdout",
     "output_type": "stream",
     "text": [
      "Searching for: Crooked Kingdom (Six of Crows, #2) Leigh Bardugo book review\n"
     ]
    },
    {
     "name": "stderr",
     "output_type": "stream",
     "text": [
      "Processing books:  43%|████▎     | 537/1250 [1:21:59<1:11:57,  6.06s/it]"
     ]
    },
    {
     "name": "stdout",
     "output_type": "stream",
     "text": [
      "Searching for: Good Omens: The Nice and Accurate Prophecies of Agnes Nutter, Witch (Mass Market Paperback) Terry Pratchett book review\n"
     ]
    },
    {
     "name": "stderr",
     "output_type": "stream",
     "text": [
      "Processing books:  43%|████▎     | 538/1250 [1:22:03<1:04:53,  5.47s/it]"
     ]
    },
    {
     "name": "stdout",
     "output_type": "stream",
     "text": [
      "Searching for: The Sea of Monsters (Percy Jackson and the Olympians, #2) Rick Riordan book review\n"
     ]
    },
    {
     "name": "stderr",
     "output_type": "stream",
     "text": [
      "Processing books:  43%|████▎     | 539/1250 [1:22:08<1:02:45,  5.30s/it]"
     ]
    },
    {
     "name": "stdout",
     "output_type": "stream",
     "text": [
      "Searching for: The Well of Ascension (Mistborn, #2) Brandon Sanderson book review\n"
     ]
    },
    {
     "name": "stderr",
     "output_type": "stream",
     "text": [
      "Processing books:  43%|████▎     | 540/1250 [1:22:11<57:06,  4.83s/it]  "
     ]
    },
    {
     "name": "stdout",
     "output_type": "stream",
     "text": [
      "Searching for: Stardust (Paperback) Neil Gaiman book review\n"
     ]
    },
    {
     "name": "stderr",
     "output_type": "stream",
     "text": [
      "Processing books:  43%|████▎     | 541/1250 [1:22:27<1:35:58,  8.12s/it]"
     ]
    },
    {
     "name": "stdout",
     "output_type": "stream",
     "text": [
      "Searching for: Assassin's Apprentice (Farseer Trilogy, #1) Robin Hobb book review\n"
     ]
    },
    {
     "name": "stderr",
     "output_type": "stream",
     "text": [
      "Processing books:  43%|████▎     | 542/1250 [1:22:28<1:11:07,  6.03s/it]"
     ]
    },
    {
     "name": "stdout",
     "output_type": "stream",
     "text": [
      "Searching for: Siege and Storm (The Shadow and Bone Trilogy, #2) Leigh Bardugo book review\n"
     ]
    },
    {
     "name": "stderr",
     "output_type": "stream",
     "text": [
      "Processing books:  43%|████▎     | 543/1250 [1:22:31<58:50,  4.99s/it]  "
     ]
    },
    {
     "name": "stdout",
     "output_type": "stream",
     "text": [
      "Searching for: Neverwhere (London Below, #1) Neil Gaiman book review\n"
     ]
    },
    {
     "name": "stderr",
     "output_type": "stream",
     "text": [
      "Processing books:  44%|████▎     | 544/1250 [1:22:57<2:11:52, 11.21s/it]"
     ]
    },
    {
     "name": "stdout",
     "output_type": "stream",
     "text": [
      "Searching for: A Court of Frost and Starlight (A Court of Thorns and Roses, #3.5) Sarah J. Maas book review\n"
     ]
    },
    {
     "name": "stderr",
     "output_type": "stream",
     "text": [
      "Processing books:  44%|████▎     | 545/1250 [1:23:33<3:40:03, 18.73s/it]"
     ]
    },
    {
     "name": "stdout",
     "output_type": "stream",
     "text": [
      "Searching for: The Wicked King (The Folk of the Air, #2) Holly Black book review\n"
     ]
    },
    {
     "name": "stderr",
     "output_type": "stream",
     "text": [
      "Processing books:  44%|████▎     | 546/1250 [1:23:38<2:53:29, 14.79s/it]"
     ]
    },
    {
     "name": "stdout",
     "output_type": "stream",
     "text": [
      "Searching for: The Lord of the Rings (Middle Earth, #2-4) J.R.R. Tolkien book review\n"
     ]
    },
    {
     "name": "stderr",
     "output_type": "stream",
     "text": [
      "Processing books:  44%|████▍     | 547/1250 [1:23:48<2:34:03, 13.15s/it]"
     ]
    },
    {
     "name": "stdout",
     "output_type": "stream",
     "text": [
      "Searching for: The Wise Man’s Fear (The Kingkiller Chronicle, #2) Patrick Rothfuss book review\n"
     ]
    },
    {
     "name": "stderr",
     "output_type": "stream",
     "text": [
      "Processing books:  44%|████▍     | 548/1250 [1:23:49<1:51:26,  9.52s/it]"
     ]
    },
    {
     "name": "stdout",
     "output_type": "stream",
     "text": [
      "Searching for: The Lies of Locke Lamora (Gentleman Bastard, #1) Scott Lynch book review\n"
     ]
    },
    {
     "name": "stderr",
     "output_type": "stream",
     "text": [
      "Processing books:  44%|████▍     | 549/1250 [1:23:58<1:51:14,  9.52s/it]"
     ]
    },
    {
     "name": "stdout",
     "output_type": "stream",
     "text": [
      "Searching for: The Invisible Life of Addie LaRue (Kindle Edition) Victoria Schwab book review\n"
     ]
    },
    {
     "name": "stderr",
     "output_type": "stream",
     "text": [
      "Processing books:  44%|████▍     | 550/1250 [1:24:01<1:27:44,  7.52s/it]"
     ]
    },
    {
     "name": "stdout",
     "output_type": "stream",
     "text": [
      "Searching for: Harry Potter and the Sorcerer’s Stone (Harry Potter, #1) J.K. Rowling book review\n"
     ]
    },
    {
     "name": "stderr",
     "output_type": "stream",
     "text": [
      "Processing books:  44%|████▍     | 551/1250 [1:24:09<1:28:33,  7.60s/it]"
     ]
    },
    {
     "name": "stdout",
     "output_type": "stream",
     "text": [
      "Searching for: Harry Potter and the Chamber of Secrets (Harry Potter, #2) J.K. Rowling book review\n"
     ]
    },
    {
     "name": "stderr",
     "output_type": "stream",
     "text": [
      "Processing books:  44%|████▍     | 552/1250 [1:24:20<1:41:25,  8.72s/it]"
     ]
    },
    {
     "name": "stdout",
     "output_type": "stream",
     "text": [
      "Searching for: Harry Potter and the Prisoner of Azkaban (Harry Potter, #3) J.K. Rowling book review\n"
     ]
    },
    {
     "name": "stderr",
     "output_type": "stream",
     "text": [
      "Processing books:  44%|████▍     | 553/1250 [1:24:41<2:22:00, 12.23s/it]"
     ]
    },
    {
     "name": "stdout",
     "output_type": "stream",
     "text": [
      "Searching for: The Hobbit (The Lord of the Rings, #0) J.R.R. Tolkien book review\n"
     ]
    },
    {
     "name": "stderr",
     "output_type": "stream",
     "text": [
      "Processing books:  44%|████▍     | 554/1250 [1:24:50<2:12:55, 11.46s/it]"
     ]
    },
    {
     "name": "stdout",
     "output_type": "stream",
     "text": [
      "Searching for: Harry Potter and the Goblet of Fire (Harry Potter, #4) J.K. Rowling book review\n"
     ]
    },
    {
     "name": "stderr",
     "output_type": "stream",
     "text": [
      "Processing books:  44%|████▍     | 555/1250 [1:25:05<2:23:37, 12.40s/it]"
     ]
    },
    {
     "name": "stdout",
     "output_type": "stream",
     "text": [
      "Searching for: Harry Potter and the Order of the Phoenix (Harry Potter, #5) J.K. Rowling book review\n"
     ]
    },
    {
     "name": "stderr",
     "output_type": "stream",
     "text": [
      "Processing books:  44%|████▍     | 556/1250 [1:25:20<2:31:15, 13.08s/it]"
     ]
    },
    {
     "name": "stdout",
     "output_type": "stream",
     "text": [
      "Searching for: Harry Potter and the Half-Blood Prince (Harry Potter, #6) J.K. Rowling book review\n"
     ]
    },
    {
     "name": "stderr",
     "output_type": "stream",
     "text": [
      "Processing books:  45%|████▍     | 557/1250 [1:25:35<2:40:25, 13.89s/it]"
     ]
    },
    {
     "name": "stdout",
     "output_type": "stream",
     "text": [
      "Searching for: Harry Potter and the Deathly Hallows (Harry Potter, #7) J.K. Rowling book review\n"
     ]
    },
    {
     "name": "stderr",
     "output_type": "stream",
     "text": [
      "Processing books:  45%|████▍     | 558/1250 [1:25:46<2:29:00, 12.92s/it]"
     ]
    },
    {
     "name": "stdout",
     "output_type": "stream",
     "text": [
      "Searching for: A Game of Thrones (A Song of Ice and Fire, #1) George R.R. Martin book review\n"
     ]
    },
    {
     "name": "stderr",
     "output_type": "stream",
     "text": [
      "Processing books:  45%|████▍     | 559/1250 [1:25:49<1:53:38,  9.87s/it]"
     ]
    },
    {
     "name": "stdout",
     "output_type": "stream",
     "text": [
      "Searching for: The Fellowship of the Ring (Middle Earth, #1) J.R.R. Tolkien book review\n"
     ]
    },
    {
     "name": "stderr",
     "output_type": "stream",
     "text": [
      "Processing books:  45%|████▍     | 560/1250 [1:25:52<1:29:57,  7.82s/it]"
     ]
    },
    {
     "name": "stdout",
     "output_type": "stream",
     "text": [
      "Searching for: A Court of Thorns and Roses (A Court of Thorns and Roses, #1) Sarah J. Maas book review\n"
     ]
    },
    {
     "name": "stderr",
     "output_type": "stream",
     "text": [
      "Processing books:  45%|████▍     | 561/1250 [1:25:59<1:26:51,  7.56s/it]"
     ]
    },
    {
     "name": "stdout",
     "output_type": "stream",
     "text": [
      "Searching for: A Clash of Kings  (A Song of Ice and Fire, #2) George R.R. Martin book review\n"
     ]
    },
    {
     "name": "stderr",
     "output_type": "stream",
     "text": [
      "Processing books:  45%|████▍     | 562/1250 [1:26:01<1:09:54,  6.10s/it]"
     ]
    },
    {
     "name": "stdout",
     "output_type": "stream",
     "text": [
      "Searching for: The Two Towers (Middle Earth, #3) J.R.R. Tolkien book review\n"
     ]
    },
    {
     "name": "stderr",
     "output_type": "stream",
     "text": [
      "Processing books:  45%|████▌     | 563/1250 [1:26:16<1:38:14,  8.58s/it]"
     ]
    },
    {
     "name": "stdout",
     "output_type": "stream",
     "text": [
      "Searching for: Six of Crows (Six of Crows, #1) Leigh Bardugo book review\n"
     ]
    },
    {
     "name": "stderr",
     "output_type": "stream",
     "text": [
      "Processing books:  45%|████▌     | 564/1250 [1:26:20<1:22:22,  7.21s/it]"
     ]
    },
    {
     "name": "stdout",
     "output_type": "stream",
     "text": [
      "Searching for: The Name of the Wind (The Kingkiller Chronicle, #1) Patrick Rothfuss book review\n"
     ]
    },
    {
     "name": "stderr",
     "output_type": "stream",
     "text": [
      "Processing books:  45%|████▌     | 565/1250 [1:26:21<1:01:13,  5.36s/it]"
     ]
    },
    {
     "name": "stdout",
     "output_type": "stream",
     "text": [
      "Searching for: The Final Empire (Mistborn, #1) Brandon Sanderson book review\n"
     ]
    },
    {
     "name": "stderr",
     "output_type": "stream",
     "text": [
      "Processing books:  45%|████▌     | 566/1250 [1:26:43<1:58:54, 10.43s/it]"
     ]
    },
    {
     "name": "stdout",
     "output_type": "stream",
     "text": [
      "Searching for: The Return of the King (Middle Earth, #4) J.R.R. Tolkien book review\n"
     ]
    },
    {
     "name": "stderr",
     "output_type": "stream",
     "text": [
      "Processing books:  45%|████▌     | 567/1250 [1:26:54<2:01:45, 10.70s/it]"
     ]
    },
    {
     "name": "stdout",
     "output_type": "stream",
     "text": [
      "Searching for: A Court of Mist and Fury (A Court of Thorns and Roses, #2) Sarah J. Maas book review\n"
     ]
    },
    {
     "name": "stderr",
     "output_type": "stream",
     "text": [
      "Processing books:  45%|████▌     | 568/1250 [1:27:54<4:47:30, 25.29s/it]"
     ]
    },
    {
     "name": "stdout",
     "output_type": "stream",
     "text": [
      "Searching for: The Lightning Thief (Percy Jackson and the Olympians, #1) Rick Riordan book review\n"
     ]
    },
    {
     "name": "stderr",
     "output_type": "stream",
     "text": [
      "Processing books:  46%|████▌     | 569/1250 [1:28:02<3:47:03, 20.00s/it]"
     ]
    },
    {
     "name": "stdout",
     "output_type": "stream",
     "text": [
      "Searching for: Shadow and Bone (The Shadow and Bone Trilogy, #1) Leigh Bardugo book review\n"
     ]
    },
    {
     "name": "stderr",
     "output_type": "stream",
     "text": [
      "Processing books:  46%|████▌     | 570/1250 [1:28:07<2:56:23, 15.56s/it]"
     ]
    },
    {
     "name": "stdout",
     "output_type": "stream",
     "text": [
      "Searching for: The Lion, the Witch and the Wardrobe (Chronicles of Narnia, #1) C.S. Lewis book review\n"
     ]
    },
    {
     "name": "stderr",
     "output_type": "stream",
     "text": [
      "Processing books:  46%|████▌     | 571/1250 [1:28:27<3:12:45, 17.03s/it]"
     ]
    },
    {
     "name": "stdout",
     "output_type": "stream",
     "text": [
      "Searching for: The Cruel Prince (The Folk of the Air, #1) Holly Black book review\n"
     ]
    },
    {
     "name": "stderr",
     "output_type": "stream",
     "text": [
      "Processing books:  46%|████▌     | 572/1250 [1:28:33<2:34:33, 13.68s/it]"
     ]
    },
    {
     "name": "stdout",
     "output_type": "stream",
     "text": [
      "Searching for: A Storm of Swords (A Song of Ice and Fire, #3) George R.R. Martin book review\n"
     ]
    },
    {
     "name": "stderr",
     "output_type": "stream",
     "text": [
      "Processing books:  46%|████▌     | 573/1250 [1:28:36<1:57:41, 10.43s/it]"
     ]
    },
    {
     "name": "stdout",
     "output_type": "stream",
     "text": [
      "Searching for: A Feast for Crows (A Song of Ice and Fire, #4) George R.R. Martin book review\n"
     ]
    },
    {
     "name": "stderr",
     "output_type": "stream",
     "text": [
      "Processing books:  46%|████▌     | 574/1250 [1:28:41<1:39:05,  8.80s/it]"
     ]
    },
    {
     "name": "stdout",
     "output_type": "stream",
     "text": [
      "Searching for: The Golden Compass (His Dark Materials, #1) Philip Pullman book review\n"
     ]
    },
    {
     "name": "stderr",
     "output_type": "stream",
     "text": [
      "Processing books:  46%|████▌     | 575/1250 [1:28:50<1:41:27,  9.02s/it]"
     ]
    },
    {
     "name": "stdout",
     "output_type": "stream",
     "text": [
      "Searching for: Eragon (The Inheritance Cycle, #1) Christopher Paolini book review\n"
     ]
    },
    {
     "name": "stderr",
     "output_type": "stream",
     "text": [
      "Processing books:  46%|████▌     | 576/1250 [1:28:53<1:18:55,  7.03s/it]"
     ]
    },
    {
     "name": "stdout",
     "output_type": "stream",
     "text": [
      "Searching for: A Court of Wings and Ruin (A Court of Thorns and Roses, #3) Sarah J. Maas book review\n"
     ]
    },
    {
     "name": "stderr",
     "output_type": "stream",
     "text": [
      "Processing books:  46%|████▌     | 577/1250 [1:29:15<2:09:36, 11.55s/it]"
     ]
    },
    {
     "name": "stdout",
     "output_type": "stream",
     "text": [
      "Searching for: A Dance with Dragons (A Song of Ice and Fire, #5) George R.R. Martin book review\n"
     ]
    },
    {
     "name": "stderr",
     "output_type": "stream",
     "text": [
      "Processing books:  46%|████▌     | 578/1250 [1:29:23<1:57:51, 10.52s/it]"
     ]
    },
    {
     "name": "stdout",
     "output_type": "stream",
     "text": [
      "Searching for: The Night Circus (Hardcover) Erin Morgenstern book review\n"
     ]
    },
    {
     "name": "stderr",
     "output_type": "stream",
     "text": [
      "Processing books:  46%|████▋     | 579/1250 [1:29:46<2:40:31, 14.35s/it]"
     ]
    },
    {
     "name": "stdout",
     "output_type": "stream",
     "text": [
      "Searching for: American Gods (Kindle Edition) Neil Gaiman book review\n"
     ]
    },
    {
     "name": "stderr",
     "output_type": "stream",
     "text": [
      "Processing books:  46%|████▋     | 580/1250 [1:29:57<2:28:30, 13.30s/it]"
     ]
    },
    {
     "name": "stdout",
     "output_type": "stream",
     "text": [
      "Searching for: City of Bones (The Mortal Instruments, #1) Cassandra Clare book review\n"
     ]
    },
    {
     "name": "stderr",
     "output_type": "stream",
     "text": [
      "Processing books:  46%|████▋     | 581/1250 [1:30:00<1:54:13, 10.24s/it]"
     ]
    },
    {
     "name": "stdout",
     "output_type": "stream",
     "text": [
      "Searching for: The Eye of the World (The Wheel of Time, #1) Robert Jordan book review\n"
     ]
    },
    {
     "name": "stderr",
     "output_type": "stream",
     "text": [
      "Processing books:  47%|████▋     | 582/1250 [1:30:01<1:23:28,  7.50s/it]"
     ]
    },
    {
     "name": "stdout",
     "output_type": "stream",
     "text": [
      "Searching for: Twilight (The Twilight Saga, #1) Stephenie Meyer book review\n"
     ]
    },
    {
     "name": "stderr",
     "output_type": "stream",
     "text": [
      "Processing books:  47%|████▋     | 583/1250 [1:30:11<1:31:04,  8.19s/it]"
     ]
    },
    {
     "name": "stdout",
     "output_type": "stream",
     "text": [
      "Searching for: The Way of Kings (The Stormlight Archive, #1) Brandon Sanderson book review\n",
      "Error processing https://www.geeksundergrace.com/books/review-stormlight-archive-the-way-of-kings/: HTTPSConnectionPool(host='www.geeksundergrace.com', port=443): Max retries exceeded with url: /books/review-stormlight-archive-the-way-of-kings/ (Caused by ProtocolError('Connection aborted.', RemoteDisconnected('Remote end closed connection without response')))\n"
     ]
    },
    {
     "name": "stderr",
     "output_type": "stream",
     "text": [
      "Processing books:  47%|████▋     | 584/1250 [1:30:23<1:44:14,  9.39s/it]"
     ]
    },
    {
     "name": "stdout",
     "output_type": "stream",
     "text": [
      "Searching for: Crown of Midnight (Throne of Glass, #2) Sarah J. Maas book review\n"
     ]
    },
    {
     "name": "stderr",
     "output_type": "stream",
     "text": [
      "Processing books:  47%|████▋     | 585/1250 [1:30:29<1:33:06,  8.40s/it]"
     ]
    },
    {
     "name": "stdout",
     "output_type": "stream",
     "text": [
      "Searching for: A Darker Shade of Magic (Shades of Magic, #1) Victoria Schwab book review\n"
     ]
    },
    {
     "name": "stderr",
     "output_type": "stream",
     "text": [
      "Processing books:  47%|████▋     | 586/1250 [1:30:34<1:18:52,  7.13s/it]"
     ]
    },
    {
     "name": "stdout",
     "output_type": "stream",
     "text": [
      "Searching for: Crooked Kingdom (Six of Crows, #2) Leigh Bardugo book review\n"
     ]
    },
    {
     "name": "stderr",
     "output_type": "stream",
     "text": [
      "Processing books:  47%|████▋     | 587/1250 [1:30:39<1:12:28,  6.56s/it]"
     ]
    },
    {
     "name": "stdout",
     "output_type": "stream",
     "text": [
      "Searching for: Good Omens: The Nice and Accurate Prophecies of Agnes Nutter, Witch (Mass Market Paperback) Terry Pratchett book review\n"
     ]
    },
    {
     "name": "stderr",
     "output_type": "stream",
     "text": [
      "Processing books:  47%|████▋     | 588/1250 [1:30:40<54:12,  4.91s/it]  "
     ]
    },
    {
     "name": "stdout",
     "output_type": "stream",
     "text": [
      "Searching for: The Sea of Monsters (Percy Jackson and the Olympians, #2) Rick Riordan book review\n"
     ]
    },
    {
     "name": "stderr",
     "output_type": "stream",
     "text": [
      "Processing books:  47%|████▋     | 589/1250 [1:30:47<59:56,  5.44s/it]"
     ]
    },
    {
     "name": "stdout",
     "output_type": "stream",
     "text": [
      "Searching for: The Well of Ascension (Mistborn, #2) Brandon Sanderson book review\n"
     ]
    },
    {
     "name": "stderr",
     "output_type": "stream",
     "text": [
      "Processing books:  47%|████▋     | 590/1250 [1:30:54<1:05:19,  5.94s/it]"
     ]
    },
    {
     "name": "stdout",
     "output_type": "stream",
     "text": [
      "Searching for: Stardust (Paperback) Neil Gaiman book review\n"
     ]
    },
    {
     "name": "stderr",
     "output_type": "stream",
     "text": [
      "Processing books:  47%|████▋     | 591/1250 [1:31:06<1:26:02,  7.83s/it]"
     ]
    },
    {
     "name": "stdout",
     "output_type": "stream",
     "text": [
      "Searching for: Assassin's Apprentice (Farseer Trilogy, #1) Robin Hobb book review\n"
     ]
    },
    {
     "name": "stderr",
     "output_type": "stream",
     "text": [
      "Processing books:  47%|████▋     | 592/1250 [1:31:07<1:03:28,  5.79s/it]"
     ]
    },
    {
     "name": "stdout",
     "output_type": "stream",
     "text": [
      "Searching for: Siege and Storm (The Shadow and Bone Trilogy, #2) Leigh Bardugo book review\n"
     ]
    },
    {
     "name": "stderr",
     "output_type": "stream",
     "text": [
      "Processing books:  47%|████▋     | 593/1250 [1:31:10<52:58,  4.84s/it]  "
     ]
    },
    {
     "name": "stdout",
     "output_type": "stream",
     "text": [
      "Searching for: Neverwhere (London Below, #1) Neil Gaiman book review\n"
     ]
    },
    {
     "name": "stderr",
     "output_type": "stream",
     "text": [
      "Processing books:  48%|████▊     | 594/1250 [1:31:31<1:46:40,  9.76s/it]"
     ]
    },
    {
     "name": "stdout",
     "output_type": "stream",
     "text": [
      "Searching for: A Court of Frost and Starlight (A Court of Thorns and Roses, #3.5) Sarah J. Maas book review\n"
     ]
    },
    {
     "name": "stderr",
     "output_type": "stream",
     "text": [
      "Processing books:  48%|████▊     | 595/1250 [1:31:57<2:38:46, 14.54s/it]"
     ]
    },
    {
     "name": "stdout",
     "output_type": "stream",
     "text": [
      "Searching for: The Wicked King (The Folk of the Air, #2) Holly Black book review\n"
     ]
    },
    {
     "name": "stderr",
     "output_type": "stream",
     "text": [
      "Processing books:  48%|████▊     | 596/1250 [1:31:59<2:00:35, 11.06s/it]"
     ]
    },
    {
     "name": "stdout",
     "output_type": "stream",
     "text": [
      "Searching for: The Lord of the Rings (Middle Earth, #2-4) J.R.R. Tolkien book review\n"
     ]
    },
    {
     "name": "stderr",
     "output_type": "stream",
     "text": [
      "Processing books:  48%|████▊     | 597/1250 [1:32:07<1:49:42, 10.08s/it]"
     ]
    },
    {
     "name": "stdout",
     "output_type": "stream",
     "text": [
      "Searching for: The Wise Man’s Fear (The Kingkiller Chronicle, #2) Patrick Rothfuss book review\n"
     ]
    },
    {
     "name": "stderr",
     "output_type": "stream",
     "text": [
      "Processing books:  48%|████▊     | 598/1250 [1:32:08<1:20:10,  7.38s/it]"
     ]
    },
    {
     "name": "stdout",
     "output_type": "stream",
     "text": [
      "Searching for: The Lies of Locke Lamora (Gentleman Bastard, #1) Scott Lynch book review\n"
     ]
    },
    {
     "name": "stderr",
     "output_type": "stream",
     "text": [
      "Processing books:  48%|████▊     | 599/1250 [1:32:15<1:18:49,  7.27s/it]"
     ]
    },
    {
     "name": "stdout",
     "output_type": "stream",
     "text": [
      "Searching for: The Invisible Life of Addie LaRue (Kindle Edition) Victoria Schwab book review\n"
     ]
    },
    {
     "name": "stderr",
     "output_type": "stream",
     "text": [
      "Processing books:  48%|████▊     | 600/1250 [1:32:19<1:06:28,  6.14s/it]"
     ]
    },
    {
     "name": "stdout",
     "output_type": "stream",
     "text": [
      "Searching for: Harry Potter and the Sorcerer’s Stone (Harry Potter, #1) J.K. Rowling book review\n"
     ]
    },
    {
     "name": "stderr",
     "output_type": "stream",
     "text": [
      "Processing books:  48%|████▊     | 601/1250 [1:32:28<1:17:23,  7.15s/it]"
     ]
    },
    {
     "name": "stdout",
     "output_type": "stream",
     "text": [
      "Searching for: Harry Potter and the Chamber of Secrets (Harry Potter, #2) J.K. Rowling book review\n"
     ]
    },
    {
     "name": "stderr",
     "output_type": "stream",
     "text": [
      "Processing books:  48%|████▊     | 602/1250 [1:32:43<1:41:40,  9.41s/it]"
     ]
    },
    {
     "name": "stdout",
     "output_type": "stream",
     "text": [
      "Searching for: Harry Potter and the Prisoner of Azkaban (Harry Potter, #3) J.K. Rowling book review\n"
     ]
    },
    {
     "name": "stderr",
     "output_type": "stream",
     "text": [
      "Processing books:  48%|████▊     | 603/1250 [1:32:59<2:03:15, 11.43s/it]"
     ]
    },
    {
     "name": "stdout",
     "output_type": "stream",
     "text": [
      "Searching for: The Hobbit (The Lord of the Rings, #0) J.R.R. Tolkien book review\n"
     ]
    },
    {
     "name": "stderr",
     "output_type": "stream",
     "text": [
      "Processing books:  48%|████▊     | 604/1250 [1:33:04<1:42:35,  9.53s/it]"
     ]
    },
    {
     "name": "stdout",
     "output_type": "stream",
     "text": [
      "Searching for: Harry Potter and the Goblet of Fire (Harry Potter, #4) J.K. Rowling book review\n"
     ]
    },
    {
     "name": "stderr",
     "output_type": "stream",
     "text": [
      "Processing books:  48%|████▊     | 605/1250 [1:33:26<2:21:25, 13.16s/it]"
     ]
    },
    {
     "name": "stdout",
     "output_type": "stream",
     "text": [
      "Searching for: Harry Potter and the Order of the Phoenix (Harry Potter, #5) J.K. Rowling book review\n"
     ]
    },
    {
     "name": "stderr",
     "output_type": "stream",
     "text": [
      "Processing books:  48%|████▊     | 606/1250 [1:33:44<2:37:10, 14.64s/it]"
     ]
    },
    {
     "name": "stdout",
     "output_type": "stream",
     "text": [
      "Searching for: Harry Potter and the Half-Blood Prince (Harry Potter, #6) J.K. Rowling book review\n"
     ]
    },
    {
     "name": "stderr",
     "output_type": "stream",
     "text": [
      "Processing books:  49%|████▊     | 607/1250 [1:34:02<2:47:29, 15.63s/it]"
     ]
    },
    {
     "name": "stdout",
     "output_type": "stream",
     "text": [
      "Searching for: Harry Potter and the Deathly Hallows (Harry Potter, #7) J.K. Rowling book review\n"
     ]
    },
    {
     "name": "stderr",
     "output_type": "stream",
     "text": [
      "Processing books:  49%|████▊     | 608/1250 [1:34:13<2:32:27, 14.25s/it]"
     ]
    },
    {
     "name": "stdout",
     "output_type": "stream",
     "text": [
      "Searching for: A Game of Thrones (A Song of Ice and Fire, #1) George R.R. Martin book review\n"
     ]
    },
    {
     "name": "stderr",
     "output_type": "stream",
     "text": [
      "Processing books:  49%|████▊     | 609/1250 [1:34:21<2:12:39, 12.42s/it]"
     ]
    },
    {
     "name": "stdout",
     "output_type": "stream",
     "text": [
      "Searching for: The Fellowship of the Ring (Middle Earth, #1) J.R.R. Tolkien book review\n"
     ]
    },
    {
     "name": "stderr",
     "output_type": "stream",
     "text": [
      "Processing books:  49%|████▉     | 610/1250 [1:34:25<1:45:03,  9.85s/it]"
     ]
    },
    {
     "name": "stdout",
     "output_type": "stream",
     "text": [
      "Searching for: A Court of Thorns and Roses (A Court of Thorns and Roses, #1) Sarah J. Maas book review\n"
     ]
    },
    {
     "name": "stderr",
     "output_type": "stream",
     "text": [
      "Processing books:  49%|████▉     | 611/1250 [1:34:31<1:31:49,  8.62s/it]"
     ]
    },
    {
     "name": "stdout",
     "output_type": "stream",
     "text": [
      "Searching for: A Clash of Kings  (A Song of Ice and Fire, #2) George R.R. Martin book review\n"
     ]
    },
    {
     "name": "stderr",
     "output_type": "stream",
     "text": [
      "Processing books:  49%|████▉     | 612/1250 [1:34:35<1:17:32,  7.29s/it]"
     ]
    },
    {
     "name": "stdout",
     "output_type": "stream",
     "text": [
      "Searching for: The Two Towers (Middle Earth, #3) J.R.R. Tolkien book review\n"
     ]
    },
    {
     "name": "stderr",
     "output_type": "stream",
     "text": [
      "Processing books:  49%|████▉     | 613/1250 [1:34:48<1:36:44,  9.11s/it]"
     ]
    },
    {
     "name": "stdout",
     "output_type": "stream",
     "text": [
      "Searching for: Six of Crows (Six of Crows, #1) Leigh Bardugo book review\n"
     ]
    },
    {
     "name": "stderr",
     "output_type": "stream",
     "text": [
      "Processing books:  49%|████▉     | 614/1250 [1:34:51<1:16:49,  7.25s/it]"
     ]
    },
    {
     "name": "stdout",
     "output_type": "stream",
     "text": [
      "Searching for: The Name of the Wind (The Kingkiller Chronicle, #1) Patrick Rothfuss book review\n"
     ]
    },
    {
     "name": "stderr",
     "output_type": "stream",
     "text": [
      "Processing books:  49%|████▉     | 615/1250 [1:34:52<57:28,  5.43s/it]  "
     ]
    },
    {
     "name": "stdout",
     "output_type": "stream",
     "text": [
      "Searching for: The Final Empire (Mistborn, #1) Brandon Sanderson book review\n"
     ]
    },
    {
     "name": "stderr",
     "output_type": "stream",
     "text": [
      "Processing books:  49%|████▉     | 616/1250 [1:35:11<1:38:26,  9.32s/it]"
     ]
    },
    {
     "name": "stdout",
     "output_type": "stream",
     "text": [
      "Searching for: The Return of the King (Middle Earth, #4) J.R.R. Tolkien book review\n"
     ]
    },
    {
     "name": "stderr",
     "output_type": "stream",
     "text": [
      "Processing books:  49%|████▉     | 617/1250 [1:35:24<1:50:05, 10.43s/it]"
     ]
    },
    {
     "name": "stdout",
     "output_type": "stream",
     "text": [
      "Searching for: A Court of Mist and Fury (A Court of Thorns and Roses, #2) Sarah J. Maas book review\n"
     ]
    },
    {
     "name": "stderr",
     "output_type": "stream",
     "text": [
      "Processing books:  49%|████▉     | 618/1250 [1:35:35<1:53:45, 10.80s/it]"
     ]
    },
    {
     "name": "stdout",
     "output_type": "stream",
     "text": [
      "Searching for: The Lightning Thief (Percy Jackson and the Olympians, #1) Rick Riordan book review\n"
     ]
    },
    {
     "name": "stderr",
     "output_type": "stream",
     "text": [
      "Processing books:  50%|████▉     | 619/1250 [1:35:47<1:55:30, 10.98s/it]"
     ]
    },
    {
     "name": "stdout",
     "output_type": "stream",
     "text": [
      "Searching for: Shadow and Bone (The Shadow and Bone Trilogy, #1) Leigh Bardugo book review\n"
     ]
    },
    {
     "name": "stderr",
     "output_type": "stream",
     "text": [
      "Processing books:  50%|████▉     | 620/1250 [1:35:52<1:38:16,  9.36s/it]"
     ]
    },
    {
     "name": "stdout",
     "output_type": "stream",
     "text": [
      "Searching for: The Lion, the Witch and the Wardrobe (Chronicles of Narnia, #1) C.S. Lewis book review\n"
     ]
    },
    {
     "name": "stderr",
     "output_type": "stream",
     "text": [
      "Processing books:  50%|████▉     | 621/1250 [1:36:09<2:00:51, 11.53s/it]"
     ]
    },
    {
     "name": "stdout",
     "output_type": "stream",
     "text": [
      "Searching for: The Cruel Prince (The Folk of the Air, #1) Holly Black book review\n"
     ]
    },
    {
     "name": "stderr",
     "output_type": "stream",
     "text": [
      "Processing books:  50%|████▉     | 622/1250 [1:36:24<2:12:26, 12.65s/it]"
     ]
    },
    {
     "name": "stdout",
     "output_type": "stream",
     "text": [
      "Searching for: A Storm of Swords (A Song of Ice and Fire, #3) George R.R. Martin book review\n"
     ]
    },
    {
     "name": "stderr",
     "output_type": "stream",
     "text": [
      "Processing books:  50%|████▉     | 623/1250 [1:36:28<1:43:33,  9.91s/it]"
     ]
    },
    {
     "name": "stdout",
     "output_type": "stream",
     "text": [
      "Searching for: A Feast for Crows (A Song of Ice and Fire, #4) George R.R. Martin book review\n"
     ]
    },
    {
     "name": "stderr",
     "output_type": "stream",
     "text": [
      "Processing books:  50%|████▉     | 624/1250 [1:36:33<1:27:33,  8.39s/it]"
     ]
    },
    {
     "name": "stdout",
     "output_type": "stream",
     "text": [
      "Searching for: The Golden Compass (His Dark Materials, #1) Philip Pullman book review\n"
     ]
    },
    {
     "name": "stderr",
     "output_type": "stream",
     "text": [
      "Processing books:  50%|█████     | 625/1250 [1:36:39<1:20:56,  7.77s/it]"
     ]
    },
    {
     "name": "stdout",
     "output_type": "stream",
     "text": [
      "Searching for: Eragon (The Inheritance Cycle, #1) Christopher Paolini book review\n"
     ]
    },
    {
     "name": "stderr",
     "output_type": "stream",
     "text": [
      "Processing books:  50%|█████     | 626/1250 [1:36:45<1:16:35,  7.36s/it]"
     ]
    },
    {
     "name": "stdout",
     "output_type": "stream",
     "text": [
      "Searching for: A Court of Wings and Ruin (A Court of Thorns and Roses, #3) Sarah J. Maas book review\n"
     ]
    },
    {
     "name": "stderr",
     "output_type": "stream",
     "text": [
      "Processing books:  50%|█████     | 627/1250 [1:36:56<1:26:56,  8.37s/it]"
     ]
    },
    {
     "name": "stdout",
     "output_type": "stream",
     "text": [
      "Searching for: A Dance with Dragons (A Song of Ice and Fire, #5) George R.R. Martin book review\n"
     ]
    },
    {
     "name": "stderr",
     "output_type": "stream",
     "text": [
      "Processing books:  50%|█████     | 628/1250 [1:37:03<1:21:26,  7.86s/it]"
     ]
    },
    {
     "name": "stdout",
     "output_type": "stream",
     "text": [
      "Searching for: The Night Circus (Hardcover) Erin Morgenstern book review\n"
     ]
    },
    {
     "name": "stderr",
     "output_type": "stream",
     "text": [
      "Processing books:  50%|█████     | 629/1250 [1:37:20<1:50:50, 10.71s/it]"
     ]
    },
    {
     "name": "stdout",
     "output_type": "stream",
     "text": [
      "Searching for: American Gods (Kindle Edition) Neil Gaiman book review\n"
     ]
    },
    {
     "name": "stderr",
     "output_type": "stream",
     "text": [
      "Processing books:  50%|█████     | 630/1250 [1:37:31<1:50:12, 10.66s/it]"
     ]
    },
    {
     "name": "stdout",
     "output_type": "stream",
     "text": [
      "Searching for: City of Bones (The Mortal Instruments, #1) Cassandra Clare book review\n"
     ]
    },
    {
     "name": "stderr",
     "output_type": "stream",
     "text": [
      "Processing books:  50%|█████     | 631/1250 [1:37:35<1:31:23,  8.86s/it]"
     ]
    },
    {
     "name": "stdout",
     "output_type": "stream",
     "text": [
      "Searching for: The Eye of the World (The Wheel of Time, #1) Robert Jordan book review\n"
     ]
    },
    {
     "name": "stderr",
     "output_type": "stream",
     "text": [
      "Processing books:  51%|█████     | 632/1250 [1:37:36<1:07:22,  6.54s/it]"
     ]
    },
    {
     "name": "stdout",
     "output_type": "stream",
     "text": [
      "Searching for: Twilight (The Twilight Saga, #1) Stephenie Meyer book review\n"
     ]
    },
    {
     "name": "stderr",
     "output_type": "stream",
     "text": [
      "Processing books:  51%|█████     | 633/1250 [1:37:44<1:10:23,  6.85s/it]"
     ]
    },
    {
     "name": "stdout",
     "output_type": "stream",
     "text": [
      "Searching for: The Way of Kings (The Stormlight Archive, #1) Brandon Sanderson book review\n"
     ]
    },
    {
     "name": "stderr",
     "output_type": "stream",
     "text": [
      "Processing books:  51%|█████     | 634/1250 [1:37:52<1:12:17,  7.04s/it]"
     ]
    },
    {
     "name": "stdout",
     "output_type": "stream",
     "text": [
      "Searching for: Crown of Midnight (Throne of Glass, #2) Sarah J. Maas book review\n"
     ]
    },
    {
     "name": "stderr",
     "output_type": "stream",
     "text": [
      "Processing books:  51%|█████     | 635/1250 [1:38:04<1:29:55,  8.77s/it]"
     ]
    },
    {
     "name": "stdout",
     "output_type": "stream",
     "text": [
      "Searching for: A Darker Shade of Magic (Shades of Magic, #1) Victoria Schwab book review\n"
     ]
    },
    {
     "name": "stderr",
     "output_type": "stream",
     "text": [
      "Processing books:  51%|█████     | 636/1250 [1:38:12<1:27:55,  8.59s/it]"
     ]
    },
    {
     "name": "stdout",
     "output_type": "stream",
     "text": [
      "Searching for: Crooked Kingdom (Six of Crows, #2) Leigh Bardugo book review\n"
     ]
    },
    {
     "name": "stderr",
     "output_type": "stream",
     "text": [
      "Processing books:  51%|█████     | 637/1250 [1:38:22<1:29:45,  8.79s/it]"
     ]
    },
    {
     "name": "stdout",
     "output_type": "stream",
     "text": [
      "Searching for: Good Omens: The Nice and Accurate Prophecies of Agnes Nutter, Witch (Mass Market Paperback) Terry Pratchett book review\n"
     ]
    },
    {
     "name": "stderr",
     "output_type": "stream",
     "text": [
      "Processing books:  51%|█████     | 638/1250 [1:38:30<1:27:05,  8.54s/it]"
     ]
    },
    {
     "name": "stdout",
     "output_type": "stream",
     "text": [
      "Searching for: The Sea of Monsters (Percy Jackson and the Olympians, #2) Rick Riordan book review\n"
     ]
    },
    {
     "name": "stderr",
     "output_type": "stream",
     "text": [
      "Processing books:  51%|█████     | 639/1250 [1:38:38<1:25:25,  8.39s/it]"
     ]
    },
    {
     "name": "stdout",
     "output_type": "stream",
     "text": [
      "Searching for: The Well of Ascension (Mistborn, #2) Brandon Sanderson book review\n"
     ]
    },
    {
     "name": "stderr",
     "output_type": "stream",
     "text": [
      "Processing books:  51%|█████     | 640/1250 [1:38:46<1:26:15,  8.48s/it]"
     ]
    },
    {
     "name": "stdout",
     "output_type": "stream",
     "text": [
      "Searching for: Stardust (Paperback) Neil Gaiman book review\n"
     ]
    },
    {
     "name": "stderr",
     "output_type": "stream",
     "text": [
      "Processing books:  51%|█████▏    | 641/1250 [1:39:02<1:49:10, 10.76s/it]"
     ]
    },
    {
     "name": "stdout",
     "output_type": "stream",
     "text": [
      "Searching for: Assassin's Apprentice (Farseer Trilogy, #1) Robin Hobb book review\n"
     ]
    },
    {
     "name": "stderr",
     "output_type": "stream",
     "text": [
      "Processing books:  51%|█████▏    | 642/1250 [1:39:04<1:19:39,  7.86s/it]"
     ]
    },
    {
     "name": "stdout",
     "output_type": "stream",
     "text": [
      "Searching for: Siege and Storm (The Shadow and Bone Trilogy, #2) Leigh Bardugo book review\n"
     ]
    },
    {
     "name": "stderr",
     "output_type": "stream",
     "text": [
      "Processing books:  51%|█████▏    | 643/1250 [1:39:13<1:22:42,  8.18s/it]"
     ]
    },
    {
     "name": "stdout",
     "output_type": "stream",
     "text": [
      "Searching for: Neverwhere (London Below, #1) Neil Gaiman book review\n"
     ]
    },
    {
     "name": "stderr",
     "output_type": "stream",
     "text": [
      "Processing books:  52%|█████▏    | 644/1250 [1:39:35<2:04:45, 12.35s/it]"
     ]
    },
    {
     "name": "stdout",
     "output_type": "stream",
     "text": [
      "Searching for: A Court of Frost and Starlight (A Court of Thorns and Roses, #3.5) Sarah J. Maas book review\n"
     ]
    },
    {
     "name": "stderr",
     "output_type": "stream",
     "text": [
      "Processing books:  52%|█████▏    | 645/1250 [1:39:52<2:20:01, 13.89s/it]"
     ]
    },
    {
     "name": "stdout",
     "output_type": "stream",
     "text": [
      "Searching for: The Wicked King (The Folk of the Air, #2) Holly Black book review\n"
     ]
    },
    {
     "name": "stderr",
     "output_type": "stream",
     "text": [
      "Processing books:  52%|█████▏    | 646/1250 [1:39:56<1:50:31, 10.98s/it]"
     ]
    },
    {
     "name": "stdout",
     "output_type": "stream",
     "text": [
      "Searching for: The Lord of the Rings (Middle Earth, #2-4) J.R.R. Tolkien book review\n"
     ]
    },
    {
     "name": "stderr",
     "output_type": "stream",
     "text": [
      "Processing books:  52%|█████▏    | 647/1250 [1:40:04<1:40:38, 10.01s/it]"
     ]
    },
    {
     "name": "stdout",
     "output_type": "stream",
     "text": [
      "Searching for: The Wise Man’s Fear (The Kingkiller Chronicle, #2) Patrick Rothfuss book review\n"
     ]
    },
    {
     "name": "stderr",
     "output_type": "stream",
     "text": [
      "Processing books:  52%|█████▏    | 648/1250 [1:40:05<1:13:40,  7.34s/it]"
     ]
    },
    {
     "name": "stdout",
     "output_type": "stream",
     "text": [
      "Searching for: The Lies of Locke Lamora (Gentleman Bastard, #1) Scott Lynch book review\n"
     ]
    },
    {
     "name": "stderr",
     "output_type": "stream",
     "text": [
      "Processing books:  52%|█████▏    | 649/1250 [1:40:12<1:10:38,  7.05s/it]"
     ]
    },
    {
     "name": "stdout",
     "output_type": "stream",
     "text": [
      "Searching for: The Invisible Life of Addie LaRue (Kindle Edition) Victoria Schwab book review\n"
     ]
    },
    {
     "name": "stderr",
     "output_type": "stream",
     "text": [
      "Processing books:  52%|█████▏    | 650/1250 [1:40:13<52:26,  5.24s/it]  "
     ]
    },
    {
     "name": "stdout",
     "output_type": "stream",
     "text": [
      "Searching for: Harry Potter and the Sorcerer’s Stone (Harry Potter, #1) J.K. Rowling book review\n"
     ]
    },
    {
     "name": "stderr",
     "output_type": "stream",
     "text": [
      "Processing books:  52%|█████▏    | 651/1250 [1:40:24<1:10:15,  7.04s/it]"
     ]
    },
    {
     "name": "stdout",
     "output_type": "stream",
     "text": [
      "Searching for: Harry Potter and the Chamber of Secrets (Harry Potter, #2) J.K. Rowling book review\n"
     ]
    },
    {
     "name": "stderr",
     "output_type": "stream",
     "text": [
      "Processing books:  52%|█████▏    | 652/1250 [1:40:39<1:33:17,  9.36s/it]"
     ]
    },
    {
     "name": "stdout",
     "output_type": "stream",
     "text": [
      "Searching for: Harry Potter and the Prisoner of Azkaban (Harry Potter, #3) J.K. Rowling book review\n"
     ]
    },
    {
     "name": "stderr",
     "output_type": "stream",
     "text": [
      "Processing books:  52%|█████▏    | 653/1250 [1:41:00<2:09:50, 13.05s/it]"
     ]
    },
    {
     "name": "stdout",
     "output_type": "stream",
     "text": [
      "Searching for: The Hobbit (The Lord of the Rings, #0) J.R.R. Tolkien book review\n"
     ]
    },
    {
     "name": "stderr",
     "output_type": "stream",
     "text": [
      "Processing books:  52%|█████▏    | 654/1250 [1:41:09<1:55:29, 11.63s/it]"
     ]
    },
    {
     "name": "stdout",
     "output_type": "stream",
     "text": [
      "Searching for: Harry Potter and the Goblet of Fire (Harry Potter, #4) J.K. Rowling book review\n"
     ]
    },
    {
     "name": "stderr",
     "output_type": "stream",
     "text": [
      "Processing books:  52%|█████▏    | 655/1250 [1:41:29<2:20:41, 14.19s/it]"
     ]
    },
    {
     "name": "stdout",
     "output_type": "stream",
     "text": [
      "Searching for: Harry Potter and the Order of the Phoenix (Harry Potter, #5) J.K. Rowling book review\n"
     ]
    },
    {
     "name": "stderr",
     "output_type": "stream",
     "text": [
      "Processing books:  52%|█████▏    | 656/1250 [1:41:49<2:38:54, 16.05s/it]"
     ]
    },
    {
     "name": "stdout",
     "output_type": "stream",
     "text": [
      "Searching for: Harry Potter and the Half-Blood Prince (Harry Potter, #6) J.K. Rowling book review\n"
     ]
    },
    {
     "name": "stderr",
     "output_type": "stream",
     "text": [
      "Processing books:  53%|█████▎    | 657/1250 [1:42:05<2:39:04, 16.10s/it]"
     ]
    },
    {
     "name": "stdout",
     "output_type": "stream",
     "text": [
      "Searching for: Harry Potter and the Deathly Hallows (Harry Potter, #7) J.K. Rowling book review\n"
     ]
    },
    {
     "name": "stderr",
     "output_type": "stream",
     "text": [
      "Processing books:  53%|█████▎    | 658/1250 [1:42:12<2:10:38, 13.24s/it]"
     ]
    },
    {
     "name": "stdout",
     "output_type": "stream",
     "text": [
      "Searching for: A Game of Thrones (A Song of Ice and Fire, #1) George R.R. Martin book review\n"
     ]
    },
    {
     "name": "stderr",
     "output_type": "stream",
     "text": [
      "Processing books:  53%|█████▎    | 659/1250 [1:42:18<1:50:25, 11.21s/it]"
     ]
    },
    {
     "name": "stdout",
     "output_type": "stream",
     "text": [
      "Searching for: The Fellowship of the Ring (Middle Earth, #1) J.R.R. Tolkien book review\n"
     ]
    },
    {
     "name": "stderr",
     "output_type": "stream",
     "text": [
      "Processing books:  53%|█████▎    | 660/1250 [1:42:19<1:20:17,  8.17s/it]"
     ]
    },
    {
     "name": "stdout",
     "output_type": "stream",
     "text": [
      "Searching for: A Court of Thorns and Roses (A Court of Thorns and Roses, #1) Sarah J. Maas book review\n"
     ]
    },
    {
     "name": "stderr",
     "output_type": "stream",
     "text": [
      "Processing books:  53%|█████▎    | 661/1250 [1:42:25<1:13:42,  7.51s/it]"
     ]
    },
    {
     "name": "stdout",
     "output_type": "stream",
     "text": [
      "Searching for: A Clash of Kings  (A Song of Ice and Fire, #2) George R.R. Martin book review\n"
     ]
    },
    {
     "name": "stderr",
     "output_type": "stream",
     "text": [
      "Processing books:  53%|█████▎    | 662/1250 [1:42:31<1:06:52,  6.82s/it]"
     ]
    },
    {
     "name": "stdout",
     "output_type": "stream",
     "text": [
      "Searching for: The Two Towers (Middle Earth, #3) J.R.R. Tolkien book review\n"
     ]
    },
    {
     "name": "stderr",
     "output_type": "stream",
     "text": [
      "Processing books:  53%|█████▎    | 663/1250 [1:42:45<1:30:07,  9.21s/it]"
     ]
    },
    {
     "name": "stdout",
     "output_type": "stream",
     "text": [
      "Searching for: Six of Crows (Six of Crows, #1) Leigh Bardugo book review\n"
     ]
    },
    {
     "name": "stderr",
     "output_type": "stream",
     "text": [
      "Processing books:  53%|█████▎    | 664/1250 [1:42:50<1:15:12,  7.70s/it]"
     ]
    },
    {
     "name": "stdout",
     "output_type": "stream",
     "text": [
      "Searching for: The Name of the Wind (The Kingkiller Chronicle, #1) Patrick Rothfuss book review\n"
     ]
    },
    {
     "name": "stderr",
     "output_type": "stream",
     "text": [
      "Processing books:  53%|█████▎    | 665/1250 [1:42:51<56:01,  5.75s/it]  "
     ]
    },
    {
     "name": "stdout",
     "output_type": "stream",
     "text": [
      "Searching for: The Final Empire (Mistborn, #1) Brandon Sanderson book review\n"
     ]
    },
    {
     "name": "stderr",
     "output_type": "stream",
     "text": [
      "Processing books:  53%|█████▎    | 666/1250 [1:43:09<1:31:23,  9.39s/it]"
     ]
    },
    {
     "name": "stdout",
     "output_type": "stream",
     "text": [
      "Searching for: The Return of the King (Middle Earth, #4) J.R.R. Tolkien book review\n"
     ]
    },
    {
     "name": "stderr",
     "output_type": "stream",
     "text": [
      "Processing books:  53%|█████▎    | 667/1250 [1:43:27<1:58:00, 12.15s/it]"
     ]
    },
    {
     "name": "stdout",
     "output_type": "stream",
     "text": [
      "Searching for: A Court of Mist and Fury (A Court of Thorns and Roses, #2) Sarah J. Maas book review\n"
     ]
    },
    {
     "name": "stderr",
     "output_type": "stream",
     "text": [
      "Processing books:  53%|█████▎    | 668/1250 [1:43:34<1:41:42, 10.49s/it]"
     ]
    },
    {
     "name": "stdout",
     "output_type": "stream",
     "text": [
      "Searching for: The Lightning Thief (Percy Jackson and the Olympians, #1) Rick Riordan book review\n"
     ]
    },
    {
     "name": "stderr",
     "output_type": "stream",
     "text": [
      "Processing books:  54%|█████▎    | 669/1250 [1:43:43<1:36:50, 10.00s/it]"
     ]
    },
    {
     "name": "stdout",
     "output_type": "stream",
     "text": [
      "Searching for: Shadow and Bone (The Shadow and Bone Trilogy, #1) Leigh Bardugo book review\n"
     ]
    },
    {
     "name": "stderr",
     "output_type": "stream",
     "text": [
      "Processing books:  54%|█████▎    | 670/1250 [1:43:49<1:25:09,  8.81s/it]"
     ]
    },
    {
     "name": "stdout",
     "output_type": "stream",
     "text": [
      "Searching for: The Lion, the Witch and the Wardrobe (Chronicles of Narnia, #1) C.S. Lewis book review\n"
     ]
    },
    {
     "name": "stderr",
     "output_type": "stream",
     "text": [
      "Processing books:  54%|█████▎    | 671/1250 [1:44:02<1:38:59, 10.26s/it]"
     ]
    },
    {
     "name": "stdout",
     "output_type": "stream",
     "text": [
      "Searching for: The Cruel Prince (The Folk of the Air, #1) Holly Black book review\n"
     ]
    },
    {
     "name": "stderr",
     "output_type": "stream",
     "text": [
      "Processing books:  54%|█████▍    | 672/1250 [1:44:18<1:54:57, 11.93s/it]"
     ]
    },
    {
     "name": "stdout",
     "output_type": "stream",
     "text": [
      "Searching for: A Storm of Swords (A Song of Ice and Fire, #3) George R.R. Martin book review\n"
     ]
    },
    {
     "name": "stderr",
     "output_type": "stream",
     "text": [
      "Processing books:  54%|█████▍    | 673/1250 [1:44:21<1:29:36,  9.32s/it]"
     ]
    },
    {
     "name": "stdout",
     "output_type": "stream",
     "text": [
      "Searching for: A Feast for Crows (A Song of Ice and Fire, #4) George R.R. Martin book review\n"
     ]
    },
    {
     "name": "stderr",
     "output_type": "stream",
     "text": [
      "Processing books:  54%|█████▍    | 674/1250 [1:44:26<1:14:39,  7.78s/it]"
     ]
    },
    {
     "name": "stdout",
     "output_type": "stream",
     "text": [
      "Searching for: The Golden Compass (His Dark Materials, #1) Philip Pullman book review\n"
     ]
    },
    {
     "name": "stderr",
     "output_type": "stream",
     "text": [
      "Processing books:  54%|█████▍    | 675/1250 [1:44:33<1:12:49,  7.60s/it]"
     ]
    },
    {
     "name": "stdout",
     "output_type": "stream",
     "text": [
      "Searching for: Eragon (The Inheritance Cycle, #1) Christopher Paolini book review\n"
     ]
    },
    {
     "name": "stderr",
     "output_type": "stream",
     "text": [
      "Processing books:  54%|█████▍    | 676/1250 [1:44:42<1:17:58,  8.15s/it]"
     ]
    },
    {
     "name": "stdout",
     "output_type": "stream",
     "text": [
      "Searching for: A Court of Wings and Ruin (A Court of Thorns and Roses, #3) Sarah J. Maas book review\n"
     ]
    },
    {
     "name": "stderr",
     "output_type": "stream",
     "text": [
      "Processing books:  54%|█████▍    | 677/1250 [1:44:53<1:26:04,  9.01s/it]"
     ]
    },
    {
     "name": "stdout",
     "output_type": "stream",
     "text": [
      "Searching for: A Dance with Dragons (A Song of Ice and Fire, #5) George R.R. Martin book review\n"
     ]
    },
    {
     "name": "stderr",
     "output_type": "stream",
     "text": [
      "Processing books:  54%|█████▍    | 678/1250 [1:45:04<1:31:38,  9.61s/it]"
     ]
    },
    {
     "name": "stdout",
     "output_type": "stream",
     "text": [
      "Searching for: The Night Circus (Hardcover) Erin Morgenstern book review\n"
     ]
    },
    {
     "name": "stderr",
     "output_type": "stream",
     "text": [
      "Processing books:  54%|█████▍    | 679/1250 [1:45:21<1:51:18, 11.70s/it]"
     ]
    },
    {
     "name": "stdout",
     "output_type": "stream",
     "text": [
      "Searching for: American Gods (Kindle Edition) Neil Gaiman book review\n"
     ]
    },
    {
     "name": "stderr",
     "output_type": "stream",
     "text": [
      "Processing books:  54%|█████▍    | 680/1250 [1:45:31<1:47:08, 11.28s/it]"
     ]
    },
    {
     "name": "stdout",
     "output_type": "stream",
     "text": [
      "Searching for: City of Bones (The Mortal Instruments, #1) Cassandra Clare book review\n"
     ]
    },
    {
     "name": "stderr",
     "output_type": "stream",
     "text": [
      "Processing books:  54%|█████▍    | 681/1250 [1:45:35<1:25:26,  9.01s/it]"
     ]
    },
    {
     "name": "stdout",
     "output_type": "stream",
     "text": [
      "Searching for: The Eye of the World (The Wheel of Time, #1) Robert Jordan book review\n"
     ]
    },
    {
     "name": "stderr",
     "output_type": "stream",
     "text": [
      "Processing books:  55%|█████▍    | 682/1250 [1:45:36<1:02:33,  6.61s/it]"
     ]
    },
    {
     "name": "stdout",
     "output_type": "stream",
     "text": [
      "Searching for: Twilight (The Twilight Saga, #1) Stephenie Meyer book review\n"
     ]
    },
    {
     "name": "stderr",
     "output_type": "stream",
     "text": [
      "Processing books:  55%|█████▍    | 683/1250 [1:45:43<1:04:03,  6.78s/it]"
     ]
    },
    {
     "name": "stdout",
     "output_type": "stream",
     "text": [
      "Searching for: The Way of Kings (The Stormlight Archive, #1) Brandon Sanderson book review\n"
     ]
    },
    {
     "name": "stderr",
     "output_type": "stream",
     "text": [
      "Processing books:  55%|█████▍    | 684/1250 [1:45:47<55:41,  5.90s/it]  "
     ]
    },
    {
     "name": "stdout",
     "output_type": "stream",
     "text": [
      "Searching for: Crown of Midnight (Throne of Glass, #2) Sarah J. Maas book review\n"
     ]
    },
    {
     "name": "stderr",
     "output_type": "stream",
     "text": [
      "Processing books:  55%|█████▍    | 685/1250 [1:45:52<52:19,  5.56s/it]"
     ]
    },
    {
     "name": "stdout",
     "output_type": "stream",
     "text": [
      "Searching for: A Darker Shade of Magic (Shades of Magic, #1) Victoria Schwab book review\n"
     ]
    },
    {
     "name": "stderr",
     "output_type": "stream",
     "text": [
      "Processing books:  55%|█████▍    | 686/1250 [1:45:55<45:40,  4.86s/it]"
     ]
    },
    {
     "name": "stdout",
     "output_type": "stream",
     "text": [
      "Searching for: Crooked Kingdom (Six of Crows, #2) Leigh Bardugo book review\n"
     ]
    },
    {
     "name": "stderr",
     "output_type": "stream",
     "text": [
      "Processing books:  55%|█████▍    | 687/1250 [1:46:00<47:11,  5.03s/it]"
     ]
    },
    {
     "name": "stdout",
     "output_type": "stream",
     "text": [
      "Searching for: Good Omens: The Nice and Accurate Prophecies of Agnes Nutter, Witch (Mass Market Paperback) Terry Pratchett book review\n"
     ]
    },
    {
     "name": "stderr",
     "output_type": "stream",
     "text": [
      "Processing books:  55%|█████▌    | 688/1250 [1:46:12<1:05:37,  7.01s/it]"
     ]
    },
    {
     "name": "stdout",
     "output_type": "stream",
     "text": [
      "Searching for: The Sea of Monsters (Percy Jackson and the Olympians, #2) Rick Riordan book review\n"
     ]
    },
    {
     "name": "stderr",
     "output_type": "stream",
     "text": [
      "Processing books:  55%|█████▌    | 689/1250 [1:46:21<1:12:36,  7.77s/it]"
     ]
    },
    {
     "name": "stdout",
     "output_type": "stream",
     "text": [
      "Searching for: The Well of Ascension (Mistborn, #2) Brandon Sanderson book review\n"
     ]
    },
    {
     "name": "stderr",
     "output_type": "stream",
     "text": [
      "Processing books:  55%|█████▌    | 690/1250 [1:46:26<1:02:28,  6.69s/it]"
     ]
    },
    {
     "name": "stdout",
     "output_type": "stream",
     "text": [
      "Searching for: Stardust (Paperback) Neil Gaiman book review\n"
     ]
    },
    {
     "name": "stderr",
     "output_type": "stream",
     "text": [
      "Processing books:  55%|█████▌    | 691/1250 [1:46:38<1:19:13,  8.50s/it]"
     ]
    },
    {
     "name": "stdout",
     "output_type": "stream",
     "text": [
      "Searching for: Assassin's Apprentice (Farseer Trilogy, #1) Robin Hobb book review\n"
     ]
    },
    {
     "name": "stderr",
     "output_type": "stream",
     "text": [
      "Processing books:  55%|█████▌    | 692/1250 [1:46:39<58:04,  6.25s/it]  "
     ]
    },
    {
     "name": "stdout",
     "output_type": "stream",
     "text": [
      "Searching for: Siege and Storm (The Shadow and Bone Trilogy, #2) Leigh Bardugo book review\n"
     ]
    },
    {
     "name": "stderr",
     "output_type": "stream",
     "text": [
      "Processing books:  55%|█████▌    | 693/1250 [1:46:43<51:20,  5.53s/it]"
     ]
    },
    {
     "name": "stdout",
     "output_type": "stream",
     "text": [
      "Searching for: Neverwhere (London Below, #1) Neil Gaiman book review\n"
     ]
    },
    {
     "name": "stderr",
     "output_type": "stream",
     "text": [
      "Processing books:  56%|█████▌    | 694/1250 [1:47:04<1:33:55, 10.14s/it]"
     ]
    },
    {
     "name": "stdout",
     "output_type": "stream",
     "text": [
      "Searching for: A Court of Frost and Starlight (A Court of Thorns and Roses, #3.5) Sarah J. Maas book review\n"
     ]
    },
    {
     "name": "stderr",
     "output_type": "stream",
     "text": [
      "Processing books:  56%|█████▌    | 695/1250 [1:47:16<1:38:52, 10.69s/it]"
     ]
    },
    {
     "name": "stdout",
     "output_type": "stream",
     "text": [
      "Searching for: The Wicked King (The Folk of the Air, #2) Holly Black book review\n"
     ]
    },
    {
     "name": "stderr",
     "output_type": "stream",
     "text": [
      "Processing books:  56%|█████▌    | 696/1250 [1:47:17<1:11:57,  7.79s/it]"
     ]
    },
    {
     "name": "stdout",
     "output_type": "stream",
     "text": [
      "Searching for: The Lord of the Rings (Middle Earth, #2-4) J.R.R. Tolkien book review\n"
     ]
    },
    {
     "name": "stderr",
     "output_type": "stream",
     "text": [
      "Processing books:  56%|█████▌    | 697/1250 [1:47:33<1:33:48, 10.18s/it]"
     ]
    },
    {
     "name": "stdout",
     "output_type": "stream",
     "text": [
      "Searching for: The Wise Man’s Fear (The Kingkiller Chronicle, #2) Patrick Rothfuss book review\n"
     ]
    },
    {
     "name": "stderr",
     "output_type": "stream",
     "text": [
      "Processing books:  56%|█████▌    | 698/1250 [1:47:34<1:08:20,  7.43s/it]"
     ]
    },
    {
     "name": "stdout",
     "output_type": "stream",
     "text": [
      "Searching for: The Lies of Locke Lamora (Gentleman Bastard, #1) Scott Lynch book review\n"
     ]
    },
    {
     "name": "stderr",
     "output_type": "stream",
     "text": [
      "Processing books:  56%|█████▌    | 699/1250 [1:47:44<1:16:05,  8.29s/it]"
     ]
    },
    {
     "name": "stdout",
     "output_type": "stream",
     "text": [
      "Searching for: The Invisible Life of Addie LaRue (Kindle Edition) Victoria Schwab book review\n"
     ]
    },
    {
     "name": "stderr",
     "output_type": "stream",
     "text": [
      "Processing books:  56%|█████▌    | 700/1250 [1:47:49<1:06:10,  7.22s/it]"
     ]
    },
    {
     "name": "stdout",
     "output_type": "stream",
     "text": [
      "Searching for: Harry Potter and the Sorcerer’s Stone (Harry Potter, #1) J.K. Rowling book review\n"
     ]
    },
    {
     "name": "stderr",
     "output_type": "stream",
     "text": [
      "Processing books:  56%|█████▌    | 701/1250 [1:47:53<58:24,  6.38s/it]  "
     ]
    },
    {
     "name": "stdout",
     "output_type": "stream",
     "text": [
      "Searching for: Harry Potter and the Chamber of Secrets (Harry Potter, #2) J.K. Rowling book review\n"
     ]
    },
    {
     "name": "stderr",
     "output_type": "stream",
     "text": [
      "Processing books:  56%|█████▌    | 702/1250 [1:48:07<1:18:38,  8.61s/it]"
     ]
    },
    {
     "name": "stdout",
     "output_type": "stream",
     "text": [
      "Searching for: Harry Potter and the Prisoner of Azkaban (Harry Potter, #3) J.K. Rowling book review\n"
     ]
    },
    {
     "name": "stderr",
     "output_type": "stream",
     "text": [
      "Processing books:  56%|█████▌    | 703/1250 [1:48:23<1:39:48, 10.95s/it]"
     ]
    },
    {
     "name": "stdout",
     "output_type": "stream",
     "text": [
      "Searching for: The Hobbit (The Lord of the Rings, #0) J.R.R. Tolkien book review\n"
     ]
    },
    {
     "name": "stderr",
     "output_type": "stream",
     "text": [
      "Processing books:  56%|█████▋    | 704/1250 [1:48:26<1:17:07,  8.47s/it]"
     ]
    },
    {
     "name": "stdout",
     "output_type": "stream",
     "text": [
      "Searching for: Harry Potter and the Goblet of Fire (Harry Potter, #4) J.K. Rowling book review\n"
     ]
    },
    {
     "name": "stderr",
     "output_type": "stream",
     "text": [
      "Processing books:  56%|█████▋    | 705/1250 [1:48:43<1:40:35, 11.07s/it]"
     ]
    },
    {
     "name": "stdout",
     "output_type": "stream",
     "text": [
      "Searching for: Harry Potter and the Order of the Phoenix (Harry Potter, #5) J.K. Rowling book review\n"
     ]
    },
    {
     "name": "stderr",
     "output_type": "stream",
     "text": [
      "Processing books:  56%|█████▋    | 706/1250 [1:48:55<1:43:22, 11.40s/it]"
     ]
    },
    {
     "name": "stdout",
     "output_type": "stream",
     "text": [
      "Searching for: Harry Potter and the Half-Blood Prince (Harry Potter, #6) J.K. Rowling book review\n"
     ]
    },
    {
     "name": "stderr",
     "output_type": "stream",
     "text": [
      "Processing books:  57%|█████▋    | 707/1250 [1:49:11<1:53:58, 12.59s/it]"
     ]
    },
    {
     "name": "stdout",
     "output_type": "stream",
     "text": [
      "Searching for: Harry Potter and the Deathly Hallows (Harry Potter, #7) J.K. Rowling book review\n"
     ]
    },
    {
     "name": "stderr",
     "output_type": "stream",
     "text": [
      "Processing books:  57%|█████▋    | 708/1250 [1:49:20<1:43:26, 11.45s/it]"
     ]
    },
    {
     "name": "stdout",
     "output_type": "stream",
     "text": [
      "Searching for: A Game of Thrones (A Song of Ice and Fire, #1) George R.R. Martin book review\n"
     ]
    },
    {
     "name": "stderr",
     "output_type": "stream",
     "text": [
      "Processing books:  57%|█████▋    | 709/1250 [1:49:27<1:31:32, 10.15s/it]"
     ]
    },
    {
     "name": "stdout",
     "output_type": "stream",
     "text": [
      "Searching for: The Fellowship of the Ring (Middle Earth, #1) J.R.R. Tolkien book review\n"
     ]
    },
    {
     "name": "stderr",
     "output_type": "stream",
     "text": [
      "Processing books:  57%|█████▋    | 710/1250 [1:49:31<1:15:11,  8.35s/it]"
     ]
    },
    {
     "name": "stdout",
     "output_type": "stream",
     "text": [
      "Searching for: A Court of Thorns and Roses (A Court of Thorns and Roses, #1) Sarah J. Maas book review\n"
     ]
    },
    {
     "name": "stderr",
     "output_type": "stream",
     "text": [
      "Processing books:  57%|█████▋    | 711/1250 [1:49:39<1:14:04,  8.25s/it]"
     ]
    },
    {
     "name": "stdout",
     "output_type": "stream",
     "text": [
      "Searching for: A Clash of Kings  (A Song of Ice and Fire, #2) George R.R. Martin book review\n"
     ]
    },
    {
     "name": "stderr",
     "output_type": "stream",
     "text": [
      "Processing books:  57%|█████▋    | 712/1250 [1:49:42<58:44,  6.55s/it]  "
     ]
    },
    {
     "name": "stdout",
     "output_type": "stream",
     "text": [
      "Searching for: The Two Towers (Middle Earth, #3) J.R.R. Tolkien book review\n"
     ]
    },
    {
     "name": "stderr",
     "output_type": "stream",
     "text": [
      "Processing books:  57%|█████▋    | 713/1250 [1:49:56<1:19:48,  8.92s/it]"
     ]
    },
    {
     "name": "stdout",
     "output_type": "stream",
     "text": [
      "Searching for: Six of Crows (Six of Crows, #1) Leigh Bardugo book review\n"
     ]
    },
    {
     "name": "stderr",
     "output_type": "stream",
     "text": [
      "Processing books:  57%|█████▋    | 714/1250 [1:50:00<1:07:01,  7.50s/it]"
     ]
    },
    {
     "name": "stdout",
     "output_type": "stream",
     "text": [
      "Searching for: The Name of the Wind (The Kingkiller Chronicle, #1) Patrick Rothfuss book review\n"
     ]
    },
    {
     "name": "stderr",
     "output_type": "stream",
     "text": [
      "Processing books:  57%|█████▋    | 715/1250 [1:50:01<49:42,  5.57s/it]  "
     ]
    },
    {
     "name": "stdout",
     "output_type": "stream",
     "text": [
      "Searching for: The Final Empire (Mistborn, #1) Brandon Sanderson book review\n"
     ]
    },
    {
     "name": "stderr",
     "output_type": "stream",
     "text": [
      "Processing books:  57%|█████▋    | 716/1250 [1:50:18<1:19:07,  8.89s/it]"
     ]
    },
    {
     "name": "stdout",
     "output_type": "stream",
     "text": [
      "Searching for: The Return of the King (Middle Earth, #4) J.R.R. Tolkien book review\n"
     ]
    },
    {
     "name": "stderr",
     "output_type": "stream",
     "text": [
      "Processing books:  57%|█████▋    | 717/1250 [1:50:29<1:25:28,  9.62s/it]"
     ]
    },
    {
     "name": "stdout",
     "output_type": "stream",
     "text": [
      "Searching for: A Court of Mist and Fury (A Court of Thorns and Roses, #2) Sarah J. Maas book review\n"
     ]
    },
    {
     "name": "stderr",
     "output_type": "stream",
     "text": [
      "Processing books:  57%|█████▋    | 718/1250 [1:50:39<1:25:32,  9.65s/it]"
     ]
    },
    {
     "name": "stdout",
     "output_type": "stream",
     "text": [
      "Searching for: The Lightning Thief (Percy Jackson and the Olympians, #1) Rick Riordan book review\n"
     ]
    },
    {
     "name": "stderr",
     "output_type": "stream",
     "text": [
      "Processing books:  58%|█████▊    | 719/1250 [1:50:47<1:20:05,  9.05s/it]"
     ]
    },
    {
     "name": "stdout",
     "output_type": "stream",
     "text": [
      "Searching for: Shadow and Bone (The Shadow and Bone Trilogy, #1) Leigh Bardugo book review\n"
     ]
    },
    {
     "name": "stderr",
     "output_type": "stream",
     "text": [
      "Processing books:  58%|█████▊    | 720/1250 [1:50:52<1:10:37,  7.99s/it]"
     ]
    },
    {
     "name": "stdout",
     "output_type": "stream",
     "text": [
      "Searching for: The Lion, the Witch and the Wardrobe (Chronicles of Narnia, #1) C.S. Lewis book review\n"
     ]
    },
    {
     "name": "stderr",
     "output_type": "stream",
     "text": [
      "Processing books:  58%|█████▊    | 721/1250 [1:51:09<1:33:25, 10.60s/it]"
     ]
    },
    {
     "name": "stdout",
     "output_type": "stream",
     "text": [
      "Searching for: The Cruel Prince (The Folk of the Air, #1) Holly Black book review\n"
     ]
    },
    {
     "name": "stderr",
     "output_type": "stream",
     "text": [
      "Processing books:  58%|█████▊    | 722/1250 [1:51:18<1:28:48, 10.09s/it]"
     ]
    },
    {
     "name": "stdout",
     "output_type": "stream",
     "text": [
      "Searching for: A Storm of Swords (A Song of Ice and Fire, #3) George R.R. Martin book review\n"
     ]
    },
    {
     "name": "stderr",
     "output_type": "stream",
     "text": [
      "Processing books:  58%|█████▊    | 723/1250 [1:51:21<1:11:10,  8.10s/it]"
     ]
    },
    {
     "name": "stdout",
     "output_type": "stream",
     "text": [
      "Searching for: A Feast for Crows (A Song of Ice and Fire, #4) George R.R. Martin book review\n"
     ]
    },
    {
     "name": "stderr",
     "output_type": "stream",
     "text": [
      "Processing books:  58%|█████▊    | 724/1250 [1:51:26<1:02:13,  7.10s/it]"
     ]
    },
    {
     "name": "stdout",
     "output_type": "stream",
     "text": [
      "Searching for: The Golden Compass (His Dark Materials, #1) Philip Pullman book review\n"
     ]
    },
    {
     "name": "stderr",
     "output_type": "stream",
     "text": [
      "Processing books:  58%|█████▊    | 725/1250 [1:51:31<56:25,  6.45s/it]  "
     ]
    },
    {
     "name": "stdout",
     "output_type": "stream",
     "text": [
      "Searching for: Eragon (The Inheritance Cycle, #1) Christopher Paolini book review\n"
     ]
    },
    {
     "name": "stderr",
     "output_type": "stream",
     "text": [
      "Processing books:  58%|█████▊    | 726/1250 [1:51:40<1:03:21,  7.26s/it]"
     ]
    },
    {
     "name": "stdout",
     "output_type": "stream",
     "text": [
      "Searching for: A Court of Wings and Ruin (A Court of Thorns and Roses, #3) Sarah J. Maas book review\n"
     ]
    },
    {
     "name": "stderr",
     "output_type": "stream",
     "text": [
      "Processing books:  58%|█████▊    | 727/1250 [1:51:44<55:37,  6.38s/it]  "
     ]
    },
    {
     "name": "stdout",
     "output_type": "stream",
     "text": [
      "Searching for: A Dance with Dragons (A Song of Ice and Fire, #5) George R.R. Martin book review\n"
     ]
    },
    {
     "name": "stderr",
     "output_type": "stream",
     "text": [
      "Processing books:  58%|█████▊    | 728/1250 [1:51:53<1:01:57,  7.12s/it]"
     ]
    },
    {
     "name": "stdout",
     "output_type": "stream",
     "text": [
      "Searching for: The Night Circus (Hardcover) Erin Morgenstern book review\n"
     ]
    },
    {
     "name": "stderr",
     "output_type": "stream",
     "text": [
      "Processing books:  58%|█████▊    | 729/1250 [1:52:10<1:26:53, 10.01s/it]"
     ]
    },
    {
     "name": "stdout",
     "output_type": "stream",
     "text": [
      "Searching for: American Gods (Kindle Edition) Neil Gaiman book review\n"
     ]
    },
    {
     "name": "stderr",
     "output_type": "stream",
     "text": [
      "Processing books:  58%|█████▊    | 730/1250 [1:52:20<1:27:09, 10.06s/it]"
     ]
    },
    {
     "name": "stdout",
     "output_type": "stream",
     "text": [
      "Searching for: City of Bones (The Mortal Instruments, #1) Cassandra Clare book review\n"
     ]
    },
    {
     "name": "stderr",
     "output_type": "stream",
     "text": [
      "Processing books:  58%|█████▊    | 731/1250 [1:52:23<1:08:31,  7.92s/it]"
     ]
    },
    {
     "name": "stdout",
     "output_type": "stream",
     "text": [
      "Searching for: The Eye of the World (The Wheel of Time, #1) Robert Jordan book review\n"
     ]
    },
    {
     "name": "stderr",
     "output_type": "stream",
     "text": [
      "Processing books:  59%|█████▊    | 732/1250 [1:52:27<58:58,  6.83s/it]  "
     ]
    },
    {
     "name": "stdout",
     "output_type": "stream",
     "text": [
      "Searching for: Twilight (The Twilight Saga, #1) Stephenie Meyer book review\n"
     ]
    },
    {
     "name": "stderr",
     "output_type": "stream",
     "text": [
      "Processing books:  59%|█████▊    | 733/1250 [1:52:34<57:30,  6.67s/it]"
     ]
    },
    {
     "name": "stdout",
     "output_type": "stream",
     "text": [
      "Searching for: The Way of Kings (The Stormlight Archive, #1) Brandon Sanderson book review\n",
      "Error processing https://www.geeksundergrace.com/books/review-stormlight-archive-the-way-of-kings/: HTTPSConnectionPool(host='www.geeksundergrace.com', port=443): Max retries exceeded with url: /books/review-stormlight-archive-the-way-of-kings/ (Caused by ProtocolError('Connection aborted.', RemoteDisconnected('Remote end closed connection without response')))\n"
     ]
    },
    {
     "name": "stderr",
     "output_type": "stream",
     "text": [
      "Processing books:  59%|█████▊    | 734/1250 [1:52:47<1:13:50,  8.59s/it]"
     ]
    },
    {
     "name": "stdout",
     "output_type": "stream",
     "text": [
      "Searching for: Crown of Midnight (Throne of Glass, #2) Sarah J. Maas book review\n"
     ]
    },
    {
     "name": "stderr",
     "output_type": "stream",
     "text": [
      "Processing books:  59%|█████▉    | 735/1250 [1:52:54<1:09:52,  8.14s/it]"
     ]
    },
    {
     "name": "stdout",
     "output_type": "stream",
     "text": [
      "Searching for: A Darker Shade of Magic (Shades of Magic, #1) Victoria Schwab book review\n"
     ]
    },
    {
     "name": "stderr",
     "output_type": "stream",
     "text": [
      "Processing books:  59%|█████▉    | 736/1250 [1:53:01<1:06:56,  7.81s/it]"
     ]
    },
    {
     "name": "stdout",
     "output_type": "stream",
     "text": [
      "Searching for: Crooked Kingdom (Six of Crows, #2) Leigh Bardugo book review\n"
     ]
    },
    {
     "name": "stderr",
     "output_type": "stream",
     "text": [
      "Processing books:  59%|█████▉    | 737/1250 [1:53:08<1:05:27,  7.66s/it]"
     ]
    },
    {
     "name": "stdout",
     "output_type": "stream",
     "text": [
      "Searching for: Good Omens: The Nice and Accurate Prophecies of Agnes Nutter, Witch (Mass Market Paperback) Terry Pratchett book review\n"
     ]
    },
    {
     "name": "stderr",
     "output_type": "stream",
     "text": [
      "Processing books:  59%|█████▉    | 738/1250 [1:53:15<1:02:38,  7.34s/it]"
     ]
    },
    {
     "name": "stdout",
     "output_type": "stream",
     "text": [
      "Searching for: The Sea of Monsters (Percy Jackson and the Olympians, #2) Rick Riordan book review\n"
     ]
    },
    {
     "name": "stderr",
     "output_type": "stream",
     "text": [
      "Processing books:  59%|█████▉    | 739/1250 [1:53:24<1:08:41,  8.07s/it]"
     ]
    },
    {
     "name": "stdout",
     "output_type": "stream",
     "text": [
      "Searching for: The Well of Ascension (Mistborn, #2) Brandon Sanderson book review\n"
     ]
    },
    {
     "name": "stderr",
     "output_type": "stream",
     "text": [
      "Processing books:  59%|█████▉    | 740/1250 [1:53:31<1:03:27,  7.47s/it]"
     ]
    },
    {
     "name": "stdout",
     "output_type": "stream",
     "text": [
      "Searching for: Stardust (Paperback) Neil Gaiman book review\n"
     ]
    },
    {
     "name": "stderr",
     "output_type": "stream",
     "text": [
      "Processing books:  59%|█████▉    | 741/1250 [1:53:47<1:25:25, 10.07s/it]"
     ]
    },
    {
     "name": "stdout",
     "output_type": "stream",
     "text": [
      "Searching for: Assassin's Apprentice (Farseer Trilogy, #1) Robin Hobb book review\n"
     ]
    },
    {
     "name": "stderr",
     "output_type": "stream",
     "text": [
      "Processing books:  59%|█████▉    | 742/1250 [1:53:48<1:02:05,  7.33s/it]"
     ]
    },
    {
     "name": "stdout",
     "output_type": "stream",
     "text": [
      "Searching for: Siege and Storm (The Shadow and Bone Trilogy, #2) Leigh Bardugo book review\n"
     ]
    },
    {
     "name": "stderr",
     "output_type": "stream",
     "text": [
      "Processing books:  59%|█████▉    | 743/1250 [1:53:55<1:02:14,  7.37s/it]"
     ]
    },
    {
     "name": "stdout",
     "output_type": "stream",
     "text": [
      "Searching for: Neverwhere (London Below, #1) Neil Gaiman book review\n"
     ]
    },
    {
     "name": "stderr",
     "output_type": "stream",
     "text": [
      "Processing books:  60%|█████▉    | 744/1250 [1:54:14<1:31:53, 10.90s/it]"
     ]
    },
    {
     "name": "stdout",
     "output_type": "stream",
     "text": [
      "Searching for: A Court of Frost and Starlight (A Court of Thorns and Roses, #3.5) Sarah J. Maas book review\n"
     ]
    },
    {
     "name": "stderr",
     "output_type": "stream",
     "text": [
      "Processing books:  60%|█████▉    | 745/1250 [1:54:30<1:44:42, 12.44s/it]"
     ]
    },
    {
     "name": "stdout",
     "output_type": "stream",
     "text": [
      "Searching for: The Wicked King (The Folk of the Air, #2) Holly Black book review\n"
     ]
    },
    {
     "name": "stderr",
     "output_type": "stream",
     "text": [
      "Processing books:  60%|█████▉    | 746/1250 [1:54:34<1:21:24,  9.69s/it]"
     ]
    },
    {
     "name": "stdout",
     "output_type": "stream",
     "text": [
      "Searching for: The Lord of the Rings (Middle Earth, #2-4) J.R.R. Tolkien book review\n"
     ]
    },
    {
     "name": "stderr",
     "output_type": "stream",
     "text": [
      "Processing books:  60%|█████▉    | 747/1250 [1:54:40<1:13:38,  8.79s/it]"
     ]
    },
    {
     "name": "stdout",
     "output_type": "stream",
     "text": [
      "Searching for: The Wise Man’s Fear (The Kingkiller Chronicle, #2) Patrick Rothfuss book review\n"
     ]
    },
    {
     "name": "stderr",
     "output_type": "stream",
     "text": [
      "Processing books:  60%|█████▉    | 748/1250 [1:54:41<54:03,  6.46s/it]  "
     ]
    },
    {
     "name": "stdout",
     "output_type": "stream",
     "text": [
      "Searching for: The Lies of Locke Lamora (Gentleman Bastard, #1) Scott Lynch book review\n"
     ]
    },
    {
     "name": "stderr",
     "output_type": "stream",
     "text": [
      "Processing books:  60%|█████▉    | 749/1250 [1:54:53<1:08:15,  8.17s/it]"
     ]
    },
    {
     "name": "stdout",
     "output_type": "stream",
     "text": [
      "Searching for: The Invisible Life of Addie LaRue (Kindle Edition) Victoria Schwab book review\n"
     ]
    },
    {
     "name": "stderr",
     "output_type": "stream",
     "text": [
      "Processing books:  60%|██████    | 750/1250 [1:54:58<1:00:03,  7.21s/it]"
     ]
    },
    {
     "name": "stdout",
     "output_type": "stream",
     "text": [
      "Searching for: Harry Potter and the Sorcerer’s Stone (Harry Potter, #1) J.K. Rowling book review\n"
     ]
    },
    {
     "name": "stderr",
     "output_type": "stream",
     "text": [
      "Processing books:  60%|██████    | 751/1250 [1:55:07<1:02:49,  7.55s/it]"
     ]
    },
    {
     "name": "stdout",
     "output_type": "stream",
     "text": [
      "Searching for: Harry Potter and the Chamber of Secrets (Harry Potter, #2) J.K. Rowling book review\n"
     ]
    },
    {
     "name": "stderr",
     "output_type": "stream",
     "text": [
      "Processing books:  60%|██████    | 752/1250 [1:55:23<1:25:31, 10.30s/it]"
     ]
    },
    {
     "name": "stdout",
     "output_type": "stream",
     "text": [
      "Searching for: Harry Potter and the Prisoner of Azkaban (Harry Potter, #3) J.K. Rowling book review\n"
     ]
    },
    {
     "name": "stderr",
     "output_type": "stream",
     "text": [
      "Processing books:  60%|██████    | 753/1250 [1:55:40<1:40:38, 12.15s/it]"
     ]
    },
    {
     "name": "stdout",
     "output_type": "stream",
     "text": [
      "Searching for: The Hobbit (The Lord of the Rings, #0) J.R.R. Tolkien book review\n"
     ]
    },
    {
     "name": "stderr",
     "output_type": "stream",
     "text": [
      "Processing books:  60%|██████    | 754/1250 [1:55:50<1:35:46, 11.59s/it]"
     ]
    },
    {
     "name": "stdout",
     "output_type": "stream",
     "text": [
      "Searching for: Harry Potter and the Goblet of Fire (Harry Potter, #4) J.K. Rowling book review\n"
     ]
    },
    {
     "name": "stderr",
     "output_type": "stream",
     "text": [
      "Processing books:  60%|██████    | 755/1250 [1:56:07<1:48:38, 13.17s/it]"
     ]
    },
    {
     "name": "stdout",
     "output_type": "stream",
     "text": [
      "Searching for: Harry Potter and the Order of the Phoenix (Harry Potter, #5) J.K. Rowling book review\n"
     ]
    },
    {
     "name": "stderr",
     "output_type": "stream",
     "text": [
      "Processing books:  60%|██████    | 756/1250 [1:56:17<1:41:17, 12.30s/it]"
     ]
    },
    {
     "name": "stdout",
     "output_type": "stream",
     "text": [
      "Searching for: Harry Potter and the Half-Blood Prince (Harry Potter, #6) J.K. Rowling book review\n"
     ]
    },
    {
     "name": "stderr",
     "output_type": "stream",
     "text": [
      "Processing books:  61%|██████    | 757/1250 [1:56:30<1:43:04, 12.54s/it]"
     ]
    },
    {
     "name": "stdout",
     "output_type": "stream",
     "text": [
      "Searching for: Harry Potter and the Deathly Hallows (Harry Potter, #7) J.K. Rowling book review\n"
     ]
    },
    {
     "name": "stderr",
     "output_type": "stream",
     "text": [
      "Processing books:  61%|██████    | 758/1250 [1:56:36<1:26:26, 10.54s/it]"
     ]
    },
    {
     "name": "stdout",
     "output_type": "stream",
     "text": [
      "Searching for: A Game of Thrones (A Song of Ice and Fire, #1) George R.R. Martin book review\n"
     ]
    },
    {
     "name": "stderr",
     "output_type": "stream",
     "text": [
      "Processing books:  61%|██████    | 759/1250 [1:56:44<1:19:48,  9.75s/it]"
     ]
    },
    {
     "name": "stdout",
     "output_type": "stream",
     "text": [
      "Searching for: The Fellowship of the Ring (Middle Earth, #1) J.R.R. Tolkien book review\n"
     ]
    },
    {
     "name": "stderr",
     "output_type": "stream",
     "text": [
      "Processing books:  61%|██████    | 760/1250 [1:56:49<1:06:28,  8.14s/it]"
     ]
    },
    {
     "name": "stdout",
     "output_type": "stream",
     "text": [
      "Searching for: A Court of Thorns and Roses (A Court of Thorns and Roses, #1) Sarah J. Maas book review\n"
     ]
    },
    {
     "name": "stderr",
     "output_type": "stream",
     "text": [
      "Processing books:  61%|██████    | 761/1250 [1:56:59<1:11:05,  8.72s/it]"
     ]
    },
    {
     "name": "stdout",
     "output_type": "stream",
     "text": [
      "Searching for: A Clash of Kings  (A Song of Ice and Fire, #2) George R.R. Martin book review\n"
     ]
    },
    {
     "name": "stderr",
     "output_type": "stream",
     "text": [
      "Processing books:  61%|██████    | 762/1250 [1:57:02<56:52,  6.99s/it]  "
     ]
    },
    {
     "name": "stdout",
     "output_type": "stream",
     "text": [
      "Searching for: The Two Towers (Middle Earth, #3) J.R.R. Tolkien book review\n"
     ]
    },
    {
     "name": "stderr",
     "output_type": "stream",
     "text": [
      "Processing books:  61%|██████    | 763/1250 [1:57:14<1:10:46,  8.72s/it]"
     ]
    },
    {
     "name": "stdout",
     "output_type": "stream",
     "text": [
      "Searching for: Six of Crows (Six of Crows, #1) Leigh Bardugo book review\n"
     ]
    },
    {
     "name": "stderr",
     "output_type": "stream",
     "text": [
      "Processing books:  61%|██████    | 764/1250 [1:57:19<1:00:15,  7.44s/it]"
     ]
    },
    {
     "name": "stdout",
     "output_type": "stream",
     "text": [
      "Searching for: The Name of the Wind (The Kingkiller Chronicle, #1) Patrick Rothfuss book review\n"
     ]
    },
    {
     "name": "stderr",
     "output_type": "stream",
     "text": [
      "Processing books:  61%|██████    | 765/1250 [1:57:20<44:47,  5.54s/it]  "
     ]
    },
    {
     "name": "stdout",
     "output_type": "stream",
     "text": [
      "Searching for: The Final Empire (Mistborn, #1) Brandon Sanderson book review\n"
     ]
    },
    {
     "name": "stderr",
     "output_type": "stream",
     "text": [
      "Processing books:  61%|██████▏   | 766/1250 [1:57:35<1:08:32,  8.50s/it]"
     ]
    },
    {
     "name": "stdout",
     "output_type": "stream",
     "text": [
      "Searching for: The Return of the King (Middle Earth, #4) J.R.R. Tolkien book review\n"
     ]
    },
    {
     "name": "stderr",
     "output_type": "stream",
     "text": [
      "Processing books:  61%|██████▏   | 767/1250 [1:57:46<1:13:52,  9.18s/it]"
     ]
    },
    {
     "name": "stdout",
     "output_type": "stream",
     "text": [
      "Searching for: A Court of Mist and Fury (A Court of Thorns and Roses, #2) Sarah J. Maas book review\n"
     ]
    },
    {
     "name": "stderr",
     "output_type": "stream",
     "text": [
      "Processing books:  61%|██████▏   | 768/1250 [1:57:53<1:07:39,  8.42s/it]"
     ]
    },
    {
     "name": "stdout",
     "output_type": "stream",
     "text": [
      "Searching for: The Lightning Thief (Percy Jackson and the Olympians, #1) Rick Riordan book review\n"
     ]
    },
    {
     "name": "stderr",
     "output_type": "stream",
     "text": [
      "Processing books:  62%|██████▏   | 769/1250 [1:57:57<57:45,  7.20s/it]  "
     ]
    },
    {
     "name": "stdout",
     "output_type": "stream",
     "text": [
      "Searching for: Shadow and Bone (The Shadow and Bone Trilogy, #1) Leigh Bardugo book review\n"
     ]
    },
    {
     "name": "stderr",
     "output_type": "stream",
     "text": [
      "Processing books:  62%|██████▏   | 770/1250 [1:58:04<57:25,  7.18s/it]"
     ]
    },
    {
     "name": "stdout",
     "output_type": "stream",
     "text": [
      "Searching for: The Lion, the Witch and the Wardrobe (Chronicles of Narnia, #1) C.S. Lewis book review\n"
     ]
    },
    {
     "name": "stderr",
     "output_type": "stream",
     "text": [
      "Processing books:  62%|██████▏   | 771/1250 [1:58:20<1:18:58,  9.89s/it]"
     ]
    },
    {
     "name": "stdout",
     "output_type": "stream",
     "text": [
      "Searching for: The Cruel Prince (The Folk of the Air, #1) Holly Black book review\n"
     ]
    },
    {
     "name": "stderr",
     "output_type": "stream",
     "text": [
      "Processing books:  62%|██████▏   | 772/1250 [1:58:31<1:20:19, 10.08s/it]"
     ]
    },
    {
     "name": "stdout",
     "output_type": "stream",
     "text": [
      "Searching for: A Storm of Swords (A Song of Ice and Fire, #3) George R.R. Martin book review\n"
     ]
    },
    {
     "name": "stderr",
     "output_type": "stream",
     "text": [
      "Processing books:  62%|██████▏   | 773/1250 [1:58:37<1:11:04,  8.94s/it]"
     ]
    },
    {
     "name": "stdout",
     "output_type": "stream",
     "text": [
      "Searching for: A Feast for Crows (A Song of Ice and Fire, #4) George R.R. Martin book review\n"
     ]
    },
    {
     "name": "stderr",
     "output_type": "stream",
     "text": [
      "Processing books:  62%|██████▏   | 774/1250 [1:58:44<1:04:48,  8.17s/it]"
     ]
    },
    {
     "name": "stdout",
     "output_type": "stream",
     "text": [
      "Searching for: The Golden Compass (His Dark Materials, #1) Philip Pullman book review\n"
     ]
    },
    {
     "name": "stderr",
     "output_type": "stream",
     "text": [
      "Processing books:  62%|██████▏   | 775/1250 [1:58:53<1:08:35,  8.66s/it]"
     ]
    },
    {
     "name": "stdout",
     "output_type": "stream",
     "text": [
      "Searching for: Eragon (The Inheritance Cycle, #1) Christopher Paolini book review\n"
     ]
    },
    {
     "name": "stderr",
     "output_type": "stream",
     "text": [
      "Processing books:  62%|██████▏   | 776/1250 [1:58:59<1:01:06,  7.73s/it]"
     ]
    },
    {
     "name": "stdout",
     "output_type": "stream",
     "text": [
      "Searching for: A Court of Wings and Ruin (A Court of Thorns and Roses, #3) Sarah J. Maas book review\n"
     ]
    },
    {
     "name": "stderr",
     "output_type": "stream",
     "text": [
      "Processing books:  62%|██████▏   | 777/1250 [1:59:12<1:12:33,  9.20s/it]"
     ]
    },
    {
     "name": "stdout",
     "output_type": "stream",
     "text": [
      "Searching for: A Dance with Dragons (A Song of Ice and Fire, #5) George R.R. Martin book review\n"
     ]
    },
    {
     "name": "stderr",
     "output_type": "stream",
     "text": [
      "Processing books:  62%|██████▏   | 778/1250 [1:59:20<1:10:29,  8.96s/it]"
     ]
    },
    {
     "name": "stdout",
     "output_type": "stream",
     "text": [
      "Searching for: The Night Circus (Hardcover) Erin Morgenstern book review\n"
     ]
    },
    {
     "name": "stderr",
     "output_type": "stream",
     "text": [
      "Processing books:  62%|██████▏   | 779/1250 [1:59:47<1:52:28, 14.33s/it]"
     ]
    },
    {
     "name": "stdout",
     "output_type": "stream",
     "text": [
      "Searching for: American Gods (Kindle Edition) Neil Gaiman book review\n"
     ]
    },
    {
     "name": "stderr",
     "output_type": "stream",
     "text": [
      "Processing books:  62%|██████▏   | 780/1250 [1:59:58<1:43:51, 13.26s/it]"
     ]
    },
    {
     "name": "stdout",
     "output_type": "stream",
     "text": [
      "Searching for: City of Bones (The Mortal Instruments, #1) Cassandra Clare book review\n"
     ]
    },
    {
     "name": "stderr",
     "output_type": "stream",
     "text": [
      "Processing books:  62%|██████▏   | 781/1250 [2:00:02<1:23:21, 10.66s/it]"
     ]
    },
    {
     "name": "stdout",
     "output_type": "stream",
     "text": [
      "Searching for: The Eye of the World (The Wheel of Time, #1) Robert Jordan book review\n"
     ]
    },
    {
     "name": "stderr",
     "output_type": "stream",
     "text": [
      "Processing books:  63%|██████▎   | 782/1250 [2:00:03<1:00:47,  7.79s/it]"
     ]
    },
    {
     "name": "stdout",
     "output_type": "stream",
     "text": [
      "Searching for: Twilight (The Twilight Saga, #1) Stephenie Meyer book review\n"
     ]
    },
    {
     "name": "stderr",
     "output_type": "stream",
     "text": [
      "Processing books:  63%|██████▎   | 783/1250 [2:00:06<49:48,  6.40s/it]  "
     ]
    },
    {
     "name": "stdout",
     "output_type": "stream",
     "text": [
      "Searching for: The Way of Kings (The Stormlight Archive, #1) Brandon Sanderson book review\n"
     ]
    },
    {
     "name": "stderr",
     "output_type": "stream",
     "text": [
      "Processing books:  63%|██████▎   | 784/1250 [2:00:10<44:08,  5.68s/it]"
     ]
    },
    {
     "name": "stdout",
     "output_type": "stream",
     "text": [
      "Searching for: Crown of Midnight (Throne of Glass, #2) Sarah J. Maas book review\n"
     ]
    },
    {
     "name": "stderr",
     "output_type": "stream",
     "text": [
      "Processing books:  63%|██████▎   | 785/1250 [2:00:14<39:08,  5.05s/it]"
     ]
    },
    {
     "name": "stdout",
     "output_type": "stream",
     "text": [
      "Searching for: A Darker Shade of Magic (Shades of Magic, #1) Victoria Schwab book review\n"
     ]
    },
    {
     "name": "stderr",
     "output_type": "stream",
     "text": [
      "Processing books:  63%|██████▎   | 786/1250 [2:00:20<40:35,  5.25s/it]"
     ]
    },
    {
     "name": "stdout",
     "output_type": "stream",
     "text": [
      "Searching for: Crooked Kingdom (Six of Crows, #2) Leigh Bardugo book review\n"
     ]
    },
    {
     "name": "stderr",
     "output_type": "stream",
     "text": [
      "Processing books:  63%|██████▎   | 787/1250 [2:00:23<35:11,  4.56s/it]"
     ]
    },
    {
     "name": "stdout",
     "output_type": "stream",
     "text": [
      "Searching for: Good Omens: The Nice and Accurate Prophecies of Agnes Nutter, Witch (Mass Market Paperback) Terry Pratchett book review\n"
     ]
    },
    {
     "name": "stderr",
     "output_type": "stream",
     "text": [
      "Processing books:  63%|██████▎   | 788/1250 [2:00:32<45:27,  5.90s/it]"
     ]
    },
    {
     "name": "stdout",
     "output_type": "stream",
     "text": [
      "Searching for: The Sea of Monsters (Percy Jackson and the Olympians, #2) Rick Riordan book review\n"
     ]
    },
    {
     "name": "stderr",
     "output_type": "stream",
     "text": [
      "Processing books:  63%|██████▎   | 789/1250 [2:00:43<58:30,  7.62s/it]"
     ]
    },
    {
     "name": "stdout",
     "output_type": "stream",
     "text": [
      "Searching for: The Well of Ascension (Mistborn, #2) Brandon Sanderson book review\n"
     ]
    },
    {
     "name": "stderr",
     "output_type": "stream",
     "text": [
      "Processing books:  63%|██████▎   | 790/1250 [2:00:47<49:15,  6.43s/it]"
     ]
    },
    {
     "name": "stdout",
     "output_type": "stream",
     "text": [
      "Searching for: Stardust (Paperback) Neil Gaiman book review\n"
     ]
    },
    {
     "name": "stderr",
     "output_type": "stream",
     "text": [
      "Processing books:  63%|██████▎   | 791/1250 [2:01:01<1:06:11,  8.65s/it]"
     ]
    },
    {
     "name": "stdout",
     "output_type": "stream",
     "text": [
      "Searching for: Assassin's Apprentice (Farseer Trilogy, #1) Robin Hobb book review\n"
     ]
    },
    {
     "name": "stderr",
     "output_type": "stream",
     "text": [
      "Processing books:  63%|██████▎   | 792/1250 [2:01:02<48:37,  6.37s/it]  "
     ]
    },
    {
     "name": "stdout",
     "output_type": "stream",
     "text": [
      "Searching for: Siege and Storm (The Shadow and Bone Trilogy, #2) Leigh Bardugo book review\n"
     ]
    },
    {
     "name": "stderr",
     "output_type": "stream",
     "text": [
      "Processing books:  63%|██████▎   | 793/1250 [2:01:05<41:53,  5.50s/it]"
     ]
    },
    {
     "name": "stdout",
     "output_type": "stream",
     "text": [
      "Searching for: Neverwhere (London Below, #1) Neil Gaiman book review\n"
     ]
    },
    {
     "name": "stderr",
     "output_type": "stream",
     "text": [
      "Processing books:  64%|██████▎   | 794/1250 [2:01:32<1:30:07, 11.86s/it]"
     ]
    },
    {
     "name": "stdout",
     "output_type": "stream",
     "text": [
      "Searching for: A Court of Frost and Starlight (A Court of Thorns and Roses, #3.5) Sarah J. Maas book review\n"
     ]
    },
    {
     "name": "stderr",
     "output_type": "stream",
     "text": [
      "Processing books:  64%|██████▎   | 795/1250 [2:01:46<1:35:37, 12.61s/it]"
     ]
    },
    {
     "name": "stdout",
     "output_type": "stream",
     "text": [
      "Searching for: The Wicked King (The Folk of the Air, #2) Holly Black book review\n"
     ]
    },
    {
     "name": "stderr",
     "output_type": "stream",
     "text": [
      "Processing books:  64%|██████▎   | 796/1250 [2:01:49<1:12:03,  9.52s/it]"
     ]
    },
    {
     "name": "stdout",
     "output_type": "stream",
     "text": [
      "Searching for: The Lord of the Rings (Middle Earth, #2-4) J.R.R. Tolkien book review\n"
     ]
    },
    {
     "name": "stderr",
     "output_type": "stream",
     "text": [
      "Processing books:  64%|██████▍   | 797/1250 [2:02:01<1:18:54, 10.45s/it]"
     ]
    },
    {
     "name": "stdout",
     "output_type": "stream",
     "text": [
      "Searching for: The Wise Man’s Fear (The Kingkiller Chronicle, #2) Patrick Rothfuss book review\n"
     ]
    },
    {
     "name": "stderr",
     "output_type": "stream",
     "text": [
      "Processing books:  64%|██████▍   | 798/1250 [2:02:03<57:37,  7.65s/it]  "
     ]
    },
    {
     "name": "stdout",
     "output_type": "stream",
     "text": [
      "Searching for: The Lies of Locke Lamora (Gentleman Bastard, #1) Scott Lynch book review\n"
     ]
    },
    {
     "name": "stderr",
     "output_type": "stream",
     "text": [
      "Processing books:  64%|██████▍   | 799/1250 [2:02:13<1:03:03,  8.39s/it]"
     ]
    },
    {
     "name": "stdout",
     "output_type": "stream",
     "text": [
      "Searching for: The Invisible Life of Addie LaRue (Kindle Edition) Victoria Schwab book review\n"
     ]
    },
    {
     "name": "stderr",
     "output_type": "stream",
     "text": [
      "Processing books:  64%|██████▍   | 800/1250 [2:02:16<52:16,  6.97s/it]  "
     ]
    },
    {
     "name": "stdout",
     "output_type": "stream",
     "text": [
      "Searching for: Harry Potter and the Sorcerer’s Stone (Harry Potter, #1) J.K. Rowling book review\n"
     ]
    },
    {
     "name": "stderr",
     "output_type": "stream",
     "text": [
      "Processing books:  64%|██████▍   | 801/1250 [2:02:31<1:09:21,  9.27s/it]"
     ]
    },
    {
     "name": "stdout",
     "output_type": "stream",
     "text": [
      "Searching for: Harry Potter and the Chamber of Secrets (Harry Potter, #2) J.K. Rowling book review\n"
     ]
    },
    {
     "name": "stderr",
     "output_type": "stream",
     "text": [
      "Processing books:  64%|██████▍   | 802/1250 [2:02:42<1:12:57,  9.77s/it]"
     ]
    },
    {
     "name": "stdout",
     "output_type": "stream",
     "text": [
      "Searching for: Harry Potter and the Prisoner of Azkaban (Harry Potter, #3) J.K. Rowling book review\n"
     ]
    },
    {
     "name": "stderr",
     "output_type": "stream",
     "text": [
      "Processing books:  64%|██████▍   | 803/1250 [2:03:00<1:31:20, 12.26s/it]"
     ]
    },
    {
     "name": "stdout",
     "output_type": "stream",
     "text": [
      "Searching for: The Hobbit (The Lord of the Rings, #0) J.R.R. Tolkien book review\n"
     ]
    },
    {
     "name": "stderr",
     "output_type": "stream",
     "text": [
      "Processing books:  64%|██████▍   | 804/1250 [2:03:05<1:14:33, 10.03s/it]"
     ]
    },
    {
     "name": "stdout",
     "output_type": "stream",
     "text": [
      "Searching for: Harry Potter and the Goblet of Fire (Harry Potter, #4) J.K. Rowling book review\n"
     ]
    },
    {
     "name": "stderr",
     "output_type": "stream",
     "text": [
      "Processing books:  64%|██████▍   | 805/1250 [2:03:18<1:22:10, 11.08s/it]"
     ]
    },
    {
     "name": "stdout",
     "output_type": "stream",
     "text": [
      "Searching for: Harry Potter and the Order of the Phoenix (Harry Potter, #5) J.K. Rowling book review\n"
     ]
    },
    {
     "name": "stderr",
     "output_type": "stream",
     "text": [
      "Processing books:  64%|██████▍   | 806/1250 [2:03:36<1:37:31, 13.18s/it]"
     ]
    },
    {
     "name": "stdout",
     "output_type": "stream",
     "text": [
      "Searching for: Harry Potter and the Half-Blood Prince (Harry Potter, #6) J.K. Rowling book review\n"
     ]
    },
    {
     "name": "stderr",
     "output_type": "stream",
     "text": [
      "Processing books:  65%|██████▍   | 807/1250 [2:03:51<1:40:12, 13.57s/it]"
     ]
    },
    {
     "name": "stdout",
     "output_type": "stream",
     "text": [
      "Searching for: Harry Potter and the Deathly Hallows (Harry Potter, #7) J.K. Rowling book review\n"
     ]
    },
    {
     "name": "stderr",
     "output_type": "stream",
     "text": [
      "Processing books:  65%|██████▍   | 808/1250 [2:03:59<1:27:33, 11.88s/it]"
     ]
    },
    {
     "name": "stdout",
     "output_type": "stream",
     "text": [
      "Searching for: A Game of Thrones (A Song of Ice and Fire, #1) George R.R. Martin book review\n"
     ]
    },
    {
     "name": "stderr",
     "output_type": "stream",
     "text": [
      "Processing books:  65%|██████▍   | 809/1250 [2:04:06<1:16:13, 10.37s/it]"
     ]
    },
    {
     "name": "stdout",
     "output_type": "stream",
     "text": [
      "Searching for: The Fellowship of the Ring (Middle Earth, #1) J.R.R. Tolkien book review\n"
     ]
    },
    {
     "name": "stderr",
     "output_type": "stream",
     "text": [
      "Processing books:  65%|██████▍   | 810/1250 [2:04:09<1:00:31,  8.25s/it]"
     ]
    },
    {
     "name": "stdout",
     "output_type": "stream",
     "text": [
      "Searching for: A Court of Thorns and Roses (A Court of Thorns and Roses, #1) Sarah J. Maas book review\n"
     ]
    },
    {
     "name": "stderr",
     "output_type": "stream",
     "text": [
      "Processing books:  65%|██████▍   | 811/1250 [2:04:16<58:15,  7.96s/it]  "
     ]
    },
    {
     "name": "stdout",
     "output_type": "stream",
     "text": [
      "Searching for: A Clash of Kings  (A Song of Ice and Fire, #2) George R.R. Martin book review\n"
     ]
    },
    {
     "name": "stderr",
     "output_type": "stream",
     "text": [
      "Processing books:  65%|██████▍   | 812/1250 [2:04:19<45:43,  6.26s/it]"
     ]
    },
    {
     "name": "stdout",
     "output_type": "stream",
     "text": [
      "Searching for: The Two Towers (Middle Earth, #3) J.R.R. Tolkien book review\n"
     ]
    },
    {
     "name": "stderr",
     "output_type": "stream",
     "text": [
      "Processing books:  65%|██████▌   | 813/1250 [2:04:26<48:32,  6.67s/it]"
     ]
    },
    {
     "name": "stdout",
     "output_type": "stream",
     "text": [
      "Searching for: Six of Crows (Six of Crows, #1) Leigh Bardugo book review\n"
     ]
    },
    {
     "name": "stderr",
     "output_type": "stream",
     "text": [
      "Processing books:  65%|██████▌   | 814/1250 [2:04:29<39:46,  5.47s/it]"
     ]
    },
    {
     "name": "stdout",
     "output_type": "stream",
     "text": [
      "Searching for: The Name of the Wind (The Kingkiller Chronicle, #1) Patrick Rothfuss book review\n"
     ]
    },
    {
     "name": "stderr",
     "output_type": "stream",
     "text": [
      "Processing books:  65%|██████▌   | 815/1250 [2:04:30<30:22,  4.19s/it]"
     ]
    },
    {
     "name": "stdout",
     "output_type": "stream",
     "text": [
      "Searching for: The Final Empire (Mistborn, #1) Brandon Sanderson book review\n"
     ]
    },
    {
     "name": "stderr",
     "output_type": "stream",
     "text": [
      "Processing books:  65%|██████▌   | 816/1250 [2:04:49<1:02:14,  8.61s/it]"
     ]
    },
    {
     "name": "stdout",
     "output_type": "stream",
     "text": [
      "Searching for: The Return of the King (Middle Earth, #4) J.R.R. Tolkien book review\n"
     ]
    },
    {
     "name": "stderr",
     "output_type": "stream",
     "text": [
      "Processing books:  65%|██████▌   | 817/1250 [2:04:58<1:03:48,  8.84s/it]"
     ]
    },
    {
     "name": "stdout",
     "output_type": "stream",
     "text": [
      "Searching for: A Court of Mist and Fury (A Court of Thorns and Roses, #2) Sarah J. Maas book review\n"
     ]
    },
    {
     "name": "stderr",
     "output_type": "stream",
     "text": [
      "Processing books:  65%|██████▌   | 818/1250 [2:05:06<1:01:48,  8.58s/it]"
     ]
    },
    {
     "name": "stdout",
     "output_type": "stream",
     "text": [
      "Searching for: The Lightning Thief (Percy Jackson and the Olympians, #1) Rick Riordan book review\n"
     ]
    },
    {
     "name": "stderr",
     "output_type": "stream",
     "text": [
      "Processing books:  66%|██████▌   | 819/1250 [2:05:16<1:03:46,  8.88s/it]"
     ]
    },
    {
     "name": "stdout",
     "output_type": "stream",
     "text": [
      "Searching for: Shadow and Bone (The Shadow and Bone Trilogy, #1) Leigh Bardugo book review\n"
     ]
    },
    {
     "name": "stderr",
     "output_type": "stream",
     "text": [
      "Processing books:  66%|██████▌   | 820/1250 [2:05:24<1:02:23,  8.71s/it]"
     ]
    },
    {
     "name": "stdout",
     "output_type": "stream",
     "text": [
      "Searching for: The Lion, the Witch and the Wardrobe (Chronicles of Narnia, #1) C.S. Lewis book review\n"
     ]
    },
    {
     "name": "stderr",
     "output_type": "stream",
     "text": [
      "Processing books:  66%|██████▌   | 821/1250 [2:05:39<1:14:48, 10.46s/it]"
     ]
    },
    {
     "name": "stdout",
     "output_type": "stream",
     "text": [
      "Searching for: The Cruel Prince (The Folk of the Air, #1) Holly Black book review\n"
     ]
    },
    {
     "name": "stderr",
     "output_type": "stream",
     "text": [
      "Processing books:  66%|██████▌   | 822/1250 [2:05:54<1:25:15, 11.95s/it]"
     ]
    },
    {
     "name": "stdout",
     "output_type": "stream",
     "text": [
      "Searching for: A Storm of Swords (A Song of Ice and Fire, #3) George R.R. Martin book review\n"
     ]
    },
    {
     "name": "stderr",
     "output_type": "stream",
     "text": [
      "Processing books:  66%|██████▌   | 823/1250 [2:05:58<1:07:56,  9.55s/it]"
     ]
    },
    {
     "name": "stdout",
     "output_type": "stream",
     "text": [
      "Searching for: A Feast for Crows (A Song of Ice and Fire, #4) George R.R. Martin book review\n"
     ]
    },
    {
     "name": "stderr",
     "output_type": "stream",
     "text": [
      "Processing books:  66%|██████▌   | 824/1250 [2:06:05<1:01:24,  8.65s/it]"
     ]
    },
    {
     "name": "stdout",
     "output_type": "stream",
     "text": [
      "Searching for: The Golden Compass (His Dark Materials, #1) Philip Pullman book review\n"
     ]
    },
    {
     "name": "stderr",
     "output_type": "stream",
     "text": [
      "Processing books:  66%|██████▌   | 825/1250 [2:06:10<53:40,  7.58s/it]  "
     ]
    },
    {
     "name": "stdout",
     "output_type": "stream",
     "text": [
      "Searching for: Eragon (The Inheritance Cycle, #1) Christopher Paolini book review\n"
     ]
    },
    {
     "name": "stderr",
     "output_type": "stream",
     "text": [
      "Processing books:  66%|██████▌   | 826/1250 [2:06:18<55:33,  7.86s/it]"
     ]
    },
    {
     "name": "stdout",
     "output_type": "stream",
     "text": [
      "Searching for: A Court of Wings and Ruin (A Court of Thorns and Roses, #3) Sarah J. Maas book review\n"
     ]
    },
    {
     "name": "stderr",
     "output_type": "stream",
     "text": [
      "Processing books:  66%|██████▌   | 827/1250 [2:06:26<54:12,  7.69s/it]"
     ]
    },
    {
     "name": "stdout",
     "output_type": "stream",
     "text": [
      "Searching for: A Dance with Dragons (A Song of Ice and Fire, #5) George R.R. Martin book review\n"
     ]
    },
    {
     "name": "stderr",
     "output_type": "stream",
     "text": [
      "Processing books:  66%|██████▌   | 828/1250 [2:06:33<53:04,  7.55s/it]"
     ]
    },
    {
     "name": "stdout",
     "output_type": "stream",
     "text": [
      "Searching for: The Night Circus (Hardcover) Erin Morgenstern book review\n"
     ]
    },
    {
     "name": "stderr",
     "output_type": "stream",
     "text": [
      "Processing books:  66%|██████▋   | 829/1250 [2:06:49<1:10:25, 10.04s/it]"
     ]
    },
    {
     "name": "stdout",
     "output_type": "stream",
     "text": [
      "Searching for: American Gods (Kindle Edition) Neil Gaiman book review\n"
     ]
    },
    {
     "name": "stderr",
     "output_type": "stream",
     "text": [
      "Processing books:  66%|██████▋   | 830/1250 [2:06:59<1:11:02, 10.15s/it]"
     ]
    },
    {
     "name": "stdout",
     "output_type": "stream",
     "text": [
      "Searching for: City of Bones (The Mortal Instruments, #1) Cassandra Clare book review\n"
     ]
    },
    {
     "name": "stderr",
     "output_type": "stream",
     "text": [
      "Processing books:  66%|██████▋   | 831/1250 [2:07:03<58:46,  8.42s/it]  "
     ]
    },
    {
     "name": "stdout",
     "output_type": "stream",
     "text": [
      "Searching for: The Eye of the World (The Wheel of Time, #1) Robert Jordan book review\n"
     ]
    },
    {
     "name": "stderr",
     "output_type": "stream",
     "text": [
      "Processing books:  67%|██████▋   | 832/1250 [2:07:07<47:41,  6.85s/it]"
     ]
    },
    {
     "name": "stdout",
     "output_type": "stream",
     "text": [
      "Searching for: Twilight (The Twilight Saga, #1) Stephenie Meyer book review\n"
     ]
    },
    {
     "name": "stderr",
     "output_type": "stream",
     "text": [
      "Processing books:  67%|██████▋   | 833/1250 [2:07:13<47:43,  6.87s/it]"
     ]
    },
    {
     "name": "stdout",
     "output_type": "stream",
     "text": [
      "Searching for: The Way of Kings (The Stormlight Archive, #1) Brandon Sanderson book review\n",
      "Error processing https://www.geeksundergrace.com/books/review-stormlight-archive-the-way-of-kings/: HTTPSConnectionPool(host='www.geeksundergrace.com', port=443): Max retries exceeded with url: /books/review-stormlight-archive-the-way-of-kings/ (Caused by ProtocolError('Connection aborted.', RemoteDisconnected('Remote end closed connection without response')))\n"
     ]
    },
    {
     "name": "stderr",
     "output_type": "stream",
     "text": [
      "Processing books:  67%|██████▋   | 834/1250 [2:07:30<1:07:02,  9.67s/it]"
     ]
    },
    {
     "name": "stdout",
     "output_type": "stream",
     "text": [
      "Searching for: Crown of Midnight (Throne of Glass, #2) Sarah J. Maas book review\n"
     ]
    },
    {
     "name": "stderr",
     "output_type": "stream",
     "text": [
      "Processing books:  67%|██████▋   | 835/1250 [2:07:40<1:08:26,  9.89s/it]"
     ]
    },
    {
     "name": "stdout",
     "output_type": "stream",
     "text": [
      "Searching for: A Darker Shade of Magic (Shades of Magic, #1) Victoria Schwab book review\n"
     ]
    },
    {
     "name": "stderr",
     "output_type": "stream",
     "text": [
      "Processing books:  67%|██████▋   | 836/1250 [2:07:44<55:37,  8.06s/it]  "
     ]
    },
    {
     "name": "stdout",
     "output_type": "stream",
     "text": [
      "Searching for: Crooked Kingdom (Six of Crows, #2) Leigh Bardugo book review\n"
     ]
    },
    {
     "name": "stderr",
     "output_type": "stream",
     "text": [
      "Processing books:  67%|██████▋   | 837/1250 [2:07:51<54:22,  7.90s/it]"
     ]
    },
    {
     "name": "stdout",
     "output_type": "stream",
     "text": [
      "Searching for: Good Omens: The Nice and Accurate Prophecies of Agnes Nutter, Witch (Mass Market Paperback) Terry Pratchett book review\n"
     ]
    },
    {
     "name": "stderr",
     "output_type": "stream",
     "text": [
      "Processing books:  67%|██████▋   | 838/1250 [2:07:56<46:57,  6.84s/it]"
     ]
    },
    {
     "name": "stdout",
     "output_type": "stream",
     "text": [
      "Searching for: The Sea of Monsters (Percy Jackson and the Olympians, #2) Rick Riordan book review\n"
     ]
    },
    {
     "name": "stderr",
     "output_type": "stream",
     "text": [
      "Processing books:  67%|██████▋   | 839/1250 [2:08:04<48:51,  7.13s/it]"
     ]
    },
    {
     "name": "stdout",
     "output_type": "stream",
     "text": [
      "Searching for: The Well of Ascension (Mistborn, #2) Brandon Sanderson book review\n"
     ]
    },
    {
     "name": "stderr",
     "output_type": "stream",
     "text": [
      "Processing books:  67%|██████▋   | 840/1250 [2:08:09<45:23,  6.64s/it]"
     ]
    },
    {
     "name": "stdout",
     "output_type": "stream",
     "text": [
      "Searching for: Stardust (Paperback) Neil Gaiman book review\n"
     ]
    },
    {
     "name": "stderr",
     "output_type": "stream",
     "text": [
      "Processing books:  67%|██████▋   | 841/1250 [2:08:31<1:16:31, 11.23s/it]"
     ]
    },
    {
     "name": "stdout",
     "output_type": "stream",
     "text": [
      "Searching for: Assassin's Apprentice (Farseer Trilogy, #1) Robin Hobb book review\n"
     ]
    },
    {
     "name": "stderr",
     "output_type": "stream",
     "text": [
      "Processing books:  67%|██████▋   | 842/1250 [2:08:32<55:47,  8.21s/it]  "
     ]
    },
    {
     "name": "stdout",
     "output_type": "stream",
     "text": [
      "Searching for: Siege and Storm (The Shadow and Bone Trilogy, #2) Leigh Bardugo book review\n"
     ]
    },
    {
     "name": "stderr",
     "output_type": "stream",
     "text": [
      "Processing books:  67%|██████▋   | 843/1250 [2:08:38<50:57,  7.51s/it]"
     ]
    },
    {
     "name": "stdout",
     "output_type": "stream",
     "text": [
      "Searching for: Neverwhere (London Below, #1) Neil Gaiman book review\n"
     ]
    },
    {
     "name": "stderr",
     "output_type": "stream",
     "text": [
      "Processing books:  68%|██████▊   | 844/1250 [2:08:56<1:11:36, 10.58s/it]"
     ]
    },
    {
     "name": "stdout",
     "output_type": "stream",
     "text": [
      "Searching for: A Court of Frost and Starlight (A Court of Thorns and Roses, #3.5) Sarah J. Maas book review\n"
     ]
    },
    {
     "name": "stderr",
     "output_type": "stream",
     "text": [
      "Processing books:  68%|██████▊   | 845/1250 [2:09:15<1:28:14, 13.07s/it]"
     ]
    },
    {
     "name": "stdout",
     "output_type": "stream",
     "text": [
      "Searching for: The Wicked King (The Folk of the Air, #2) Holly Black book review\n"
     ]
    },
    {
     "name": "stderr",
     "output_type": "stream",
     "text": [
      "Processing books:  68%|██████▊   | 846/1250 [2:09:18<1:09:12, 10.28s/it]"
     ]
    },
    {
     "name": "stdout",
     "output_type": "stream",
     "text": [
      "Searching for: The Lord of the Rings (Middle Earth, #2-4) J.R.R. Tolkien book review\n"
     ]
    },
    {
     "name": "stderr",
     "output_type": "stream",
     "text": [
      "Processing books:  68%|██████▊   | 847/1250 [2:09:23<57:40,  8.59s/it]  "
     ]
    },
    {
     "name": "stdout",
     "output_type": "stream",
     "text": [
      "Searching for: The Wise Man’s Fear (The Kingkiller Chronicle, #2) Patrick Rothfuss book review\n"
     ]
    },
    {
     "name": "stderr",
     "output_type": "stream",
     "text": [
      "Processing books:  68%|██████▊   | 848/1250 [2:09:24<42:24,  6.33s/it]"
     ]
    },
    {
     "name": "stdout",
     "output_type": "stream",
     "text": [
      "Searching for: The Lies of Locke Lamora (Gentleman Bastard, #1) Scott Lynch book review\n"
     ]
    },
    {
     "name": "stderr",
     "output_type": "stream",
     "text": [
      "Processing books:  68%|██████▊   | 849/1250 [2:09:33<46:40,  6.98s/it]"
     ]
    },
    {
     "name": "stdout",
     "output_type": "stream",
     "text": [
      "Searching for: The Invisible Life of Addie LaRue (Kindle Edition) Victoria Schwab book review\n"
     ]
    },
    {
     "name": "stderr",
     "output_type": "stream",
     "text": [
      "Processing books:  68%|██████▊   | 850/1250 [2:09:36<40:00,  6.00s/it]"
     ]
    },
    {
     "name": "stdout",
     "output_type": "stream",
     "text": [
      "Searching for: Harry Potter and the Sorcerer’s Stone (Harry Potter, #1) J.K. Rowling book review\n"
     ]
    },
    {
     "name": "stderr",
     "output_type": "stream",
     "text": [
      "Processing books:  68%|██████▊   | 851/1250 [2:09:43<41:06,  6.18s/it]"
     ]
    },
    {
     "name": "stdout",
     "output_type": "stream",
     "text": [
      "Searching for: Harry Potter and the Chamber of Secrets (Harry Potter, #2) J.K. Rowling book review\n"
     ]
    },
    {
     "name": "stderr",
     "output_type": "stream",
     "text": [
      "Processing books:  68%|██████▊   | 852/1250 [2:09:59<1:00:18,  9.09s/it]"
     ]
    },
    {
     "name": "stdout",
     "output_type": "stream",
     "text": [
      "Searching for: Harry Potter and the Prisoner of Azkaban (Harry Potter, #3) J.K. Rowling book review\n"
     ]
    },
    {
     "name": "stderr",
     "output_type": "stream",
     "text": [
      "Processing books:  68%|██████▊   | 853/1250 [2:10:17<1:18:27, 11.86s/it]"
     ]
    },
    {
     "name": "stdout",
     "output_type": "stream",
     "text": [
      "Searching for: The Hobbit (The Lord of the Rings, #0) J.R.R. Tolkien book review\n"
     ]
    },
    {
     "name": "stderr",
     "output_type": "stream",
     "text": [
      "Processing books:  68%|██████▊   | 854/1250 [2:10:23<1:05:55,  9.99s/it]"
     ]
    },
    {
     "name": "stdout",
     "output_type": "stream",
     "text": [
      "Searching for: Harry Potter and the Goblet of Fire (Harry Potter, #4) J.K. Rowling book review\n"
     ]
    },
    {
     "name": "stderr",
     "output_type": "stream",
     "text": [
      "Processing books:  68%|██████▊   | 855/1250 [2:10:43<1:25:33, 13.00s/it]"
     ]
    },
    {
     "name": "stdout",
     "output_type": "stream",
     "text": [
      "Searching for: Harry Potter and the Order of the Phoenix (Harry Potter, #5) J.K. Rowling book review\n"
     ]
    },
    {
     "name": "stderr",
     "output_type": "stream",
     "text": [
      "Processing books:  68%|██████▊   | 856/1250 [2:10:58<1:29:41, 13.66s/it]"
     ]
    },
    {
     "name": "stdout",
     "output_type": "stream",
     "text": [
      "Searching for: Harry Potter and the Half-Blood Prince (Harry Potter, #6) J.K. Rowling book review\n"
     ]
    },
    {
     "name": "stderr",
     "output_type": "stream",
     "text": [
      "Processing books:  69%|██████▊   | 857/1250 [2:11:14<1:33:11, 14.23s/it]"
     ]
    },
    {
     "name": "stdout",
     "output_type": "stream",
     "text": [
      "Searching for: Harry Potter and the Deathly Hallows (Harry Potter, #7) J.K. Rowling book review\n"
     ]
    },
    {
     "name": "stderr",
     "output_type": "stream",
     "text": [
      "Processing books:  69%|██████▊   | 858/1250 [2:11:22<1:21:31, 12.48s/it]"
     ]
    },
    {
     "name": "stdout",
     "output_type": "stream",
     "text": [
      "Searching for: A Game of Thrones (A Song of Ice and Fire, #1) George R.R. Martin book review\n"
     ]
    },
    {
     "name": "stderr",
     "output_type": "stream",
     "text": [
      "Processing books:  69%|██████▊   | 859/1250 [2:11:25<1:03:45,  9.78s/it]"
     ]
    },
    {
     "name": "stdout",
     "output_type": "stream",
     "text": [
      "Searching for: The Fellowship of the Ring (Middle Earth, #1) J.R.R. Tolkien book review\n"
     ]
    },
    {
     "name": "stderr",
     "output_type": "stream",
     "text": [
      "Processing books:  69%|██████▉   | 860/1250 [2:11:27<46:39,  7.18s/it]  "
     ]
    },
    {
     "name": "stdout",
     "output_type": "stream",
     "text": [
      "Searching for: A Court of Thorns and Roses (A Court of Thorns and Roses, #1) Sarah J. Maas book review\n"
     ]
    },
    {
     "name": "stderr",
     "output_type": "stream",
     "text": [
      "Processing books:  69%|██████▉   | 861/1250 [2:11:34<47:06,  7.27s/it]"
     ]
    },
    {
     "name": "stdout",
     "output_type": "stream",
     "text": [
      "Searching for: A Clash of Kings  (A Song of Ice and Fire, #2) George R.R. Martin book review\n"
     ]
    },
    {
     "name": "stderr",
     "output_type": "stream",
     "text": [
      "Processing books:  69%|██████▉   | 862/1250 [2:11:38<39:59,  6.18s/it]"
     ]
    },
    {
     "name": "stdout",
     "output_type": "stream",
     "text": [
      "Searching for: The Two Towers (Middle Earth, #3) J.R.R. Tolkien book review\n"
     ]
    },
    {
     "name": "stderr",
     "output_type": "stream",
     "text": [
      "Processing books:  69%|██████▉   | 863/1250 [2:11:51<53:26,  8.28s/it]"
     ]
    },
    {
     "name": "stdout",
     "output_type": "stream",
     "text": [
      "Searching for: Six of Crows (Six of Crows, #1) Leigh Bardugo book review\n"
     ]
    },
    {
     "name": "stderr",
     "output_type": "stream",
     "text": [
      "Processing books:  69%|██████▉   | 864/1250 [2:11:55<44:55,  6.98s/it]"
     ]
    },
    {
     "name": "stdout",
     "output_type": "stream",
     "text": [
      "Searching for: The Name of the Wind (The Kingkiller Chronicle, #1) Patrick Rothfuss book review\n"
     ]
    },
    {
     "name": "stderr",
     "output_type": "stream",
     "text": [
      "Processing books:  69%|██████▉   | 865/1250 [2:11:56<33:32,  5.23s/it]"
     ]
    },
    {
     "name": "stdout",
     "output_type": "stream",
     "text": [
      "Searching for: The Final Empire (Mistborn, #1) Brandon Sanderson book review\n"
     ]
    },
    {
     "name": "stderr",
     "output_type": "stream",
     "text": [
      "Processing books:  69%|██████▉   | 866/1250 [2:12:16<1:01:07,  9.55s/it]"
     ]
    },
    {
     "name": "stdout",
     "output_type": "stream",
     "text": [
      "Searching for: The Return of the King (Middle Earth, #4) J.R.R. Tolkien book review\n"
     ]
    },
    {
     "name": "stderr",
     "output_type": "stream",
     "text": [
      "Processing books:  69%|██████▉   | 867/1250 [2:12:27<1:04:56, 10.17s/it]"
     ]
    },
    {
     "name": "stdout",
     "output_type": "stream",
     "text": [
      "Searching for: A Court of Mist and Fury (A Court of Thorns and Roses, #2) Sarah J. Maas book review\n"
     ]
    },
    {
     "name": "stderr",
     "output_type": "stream",
     "text": [
      "Processing books:  69%|██████▉   | 868/1250 [2:12:34<58:17,  9.16s/it]  "
     ]
    },
    {
     "name": "stdout",
     "output_type": "stream",
     "text": [
      "Searching for: The Lightning Thief (Percy Jackson and the Olympians, #1) Rick Riordan book review\n"
     ]
    },
    {
     "name": "stderr",
     "output_type": "stream",
     "text": [
      "Processing books:  70%|██████▉   | 869/1250 [2:12:39<50:35,  7.97s/it]"
     ]
    },
    {
     "name": "stdout",
     "output_type": "stream",
     "text": [
      "Searching for: Shadow and Bone (The Shadow and Bone Trilogy, #1) Leigh Bardugo book review\n"
     ]
    },
    {
     "name": "stderr",
     "output_type": "stream",
     "text": [
      "Processing books:  70%|██████▉   | 870/1250 [2:12:48<51:37,  8.15s/it]"
     ]
    },
    {
     "name": "stdout",
     "output_type": "stream",
     "text": [
      "Searching for: The Lion, the Witch and the Wardrobe (Chronicles of Narnia, #1) C.S. Lewis book review\n"
     ]
    },
    {
     "name": "stderr",
     "output_type": "stream",
     "text": [
      "Processing books:  70%|██████▉   | 871/1250 [2:13:06<1:10:36, 11.18s/it]"
     ]
    },
    {
     "name": "stdout",
     "output_type": "stream",
     "text": [
      "Searching for: The Cruel Prince (The Folk of the Air, #1) Holly Black book review\n"
     ]
    },
    {
     "name": "stderr",
     "output_type": "stream",
     "text": [
      "Processing books:  70%|██████▉   | 872/1250 [2:13:24<1:22:20, 13.07s/it]"
     ]
    },
    {
     "name": "stdout",
     "output_type": "stream",
     "text": [
      "Searching for: A Storm of Swords (A Song of Ice and Fire, #3) George R.R. Martin book review\n"
     ]
    },
    {
     "name": "stderr",
     "output_type": "stream",
     "text": [
      "Processing books:  70%|██████▉   | 873/1250 [2:13:28<1:05:24, 10.41s/it]"
     ]
    },
    {
     "name": "stdout",
     "output_type": "stream",
     "text": [
      "Searching for: A Feast for Crows (A Song of Ice and Fire, #4) George R.R. Martin book review\n"
     ]
    },
    {
     "name": "stderr",
     "output_type": "stream",
     "text": [
      "Processing books:  70%|██████▉   | 874/1250 [2:13:36<1:01:18,  9.78s/it]"
     ]
    },
    {
     "name": "stdout",
     "output_type": "stream",
     "text": [
      "Searching for: The Golden Compass (His Dark Materials, #1) Philip Pullman book review\n"
     ]
    },
    {
     "name": "stderr",
     "output_type": "stream",
     "text": [
      "Processing books:  70%|███████   | 875/1250 [2:13:45<1:00:01,  9.60s/it]"
     ]
    },
    {
     "name": "stdout",
     "output_type": "stream",
     "text": [
      "Searching for: Eragon (The Inheritance Cycle, #1) Christopher Paolini book review\n"
     ]
    },
    {
     "name": "stderr",
     "output_type": "stream",
     "text": [
      "Processing books:  70%|███████   | 876/1250 [2:13:54<57:48,  9.27s/it]  "
     ]
    },
    {
     "name": "stdout",
     "output_type": "stream",
     "text": [
      "Searching for: A Court of Wings and Ruin (A Court of Thorns and Roses, #3) Sarah J. Maas book review\n"
     ]
    },
    {
     "name": "stderr",
     "output_type": "stream",
     "text": [
      "Processing books:  70%|███████   | 877/1250 [2:14:01<54:34,  8.78s/it]"
     ]
    },
    {
     "name": "stdout",
     "output_type": "stream",
     "text": [
      "Searching for: A Dance with Dragons (A Song of Ice and Fire, #5) George R.R. Martin book review\n"
     ]
    },
    {
     "name": "stderr",
     "output_type": "stream",
     "text": [
      "Processing books:  70%|███████   | 878/1250 [2:14:08<50:54,  8.21s/it]"
     ]
    },
    {
     "name": "stdout",
     "output_type": "stream",
     "text": [
      "Searching for: The Night Circus (Hardcover) Erin Morgenstern book review\n"
     ]
    },
    {
     "name": "stderr",
     "output_type": "stream",
     "text": [
      "Processing books:  70%|███████   | 879/1250 [2:14:30<1:15:25, 12.20s/it]"
     ]
    },
    {
     "name": "stdout",
     "output_type": "stream",
     "text": [
      "Searching for: American Gods (Kindle Edition) Neil Gaiman book review\n"
     ]
    },
    {
     "name": "stderr",
     "output_type": "stream",
     "text": [
      "Processing books:  70%|███████   | 880/1250 [2:14:40<1:10:43, 11.47s/it]"
     ]
    },
    {
     "name": "stdout",
     "output_type": "stream",
     "text": [
      "Searching for: City of Bones (The Mortal Instruments, #1) Cassandra Clare book review\n"
     ]
    },
    {
     "name": "stderr",
     "output_type": "stream",
     "text": [
      "Processing books:  70%|███████   | 881/1250 [2:14:45<58:50,  9.57s/it]  "
     ]
    },
    {
     "name": "stdout",
     "output_type": "stream",
     "text": [
      "Searching for: The Eye of the World (The Wheel of Time, #1) Robert Jordan book review\n"
     ]
    },
    {
     "name": "stderr",
     "output_type": "stream",
     "text": [
      "Processing books:  71%|███████   | 882/1250 [2:14:46<43:07,  7.03s/it]"
     ]
    },
    {
     "name": "stdout",
     "output_type": "stream",
     "text": [
      "Searching for: Twilight (The Twilight Saga, #1) Stephenie Meyer book review\n"
     ]
    },
    {
     "name": "stderr",
     "output_type": "stream",
     "text": [
      "Processing books:  71%|███████   | 883/1250 [2:14:52<41:27,  6.78s/it]"
     ]
    },
    {
     "name": "stdout",
     "output_type": "stream",
     "text": [
      "Searching for: The Way of Kings (The Stormlight Archive, #1) Brandon Sanderson book review\n"
     ]
    },
    {
     "name": "stderr",
     "output_type": "stream",
     "text": [
      "Processing books:  71%|███████   | 884/1250 [2:14:58<40:03,  6.57s/it]"
     ]
    },
    {
     "name": "stdout",
     "output_type": "stream",
     "text": [
      "Searching for: Crown of Midnight (Throne of Glass, #2) Sarah J. Maas book review\n"
     ]
    },
    {
     "name": "stderr",
     "output_type": "stream",
     "text": [
      "Processing books:  71%|███████   | 885/1250 [2:15:06<43:18,  7.12s/it]"
     ]
    },
    {
     "name": "stdout",
     "output_type": "stream",
     "text": [
      "Searching for: A Darker Shade of Magic (Shades of Magic, #1) Victoria Schwab book review\n"
     ]
    },
    {
     "name": "stderr",
     "output_type": "stream",
     "text": [
      "Processing books:  71%|███████   | 886/1250 [2:15:15<46:15,  7.62s/it]"
     ]
    },
    {
     "name": "stdout",
     "output_type": "stream",
     "text": [
      "Searching for: Crooked Kingdom (Six of Crows, #2) Leigh Bardugo book review\n"
     ]
    },
    {
     "name": "stderr",
     "output_type": "stream",
     "text": [
      "Processing books:  71%|███████   | 887/1250 [2:15:22<45:13,  7.47s/it]"
     ]
    },
    {
     "name": "stdout",
     "output_type": "stream",
     "text": [
      "Searching for: Good Omens: The Nice and Accurate Prophecies of Agnes Nutter, Witch (Mass Market Paperback) Terry Pratchett book review\n"
     ]
    },
    {
     "name": "stderr",
     "output_type": "stream",
     "text": [
      "Processing books:  71%|███████   | 888/1250 [2:15:29<44:30,  7.38s/it]"
     ]
    },
    {
     "name": "stdout",
     "output_type": "stream",
     "text": [
      "Searching for: The Sea of Monsters (Percy Jackson and the Olympians, #2) Rick Riordan book review\n"
     ]
    },
    {
     "name": "stderr",
     "output_type": "stream",
     "text": [
      "Processing books:  71%|███████   | 889/1250 [2:15:38<46:09,  7.67s/it]"
     ]
    },
    {
     "name": "stdout",
     "output_type": "stream",
     "text": [
      "Searching for: The Well of Ascension (Mistborn, #2) Brandon Sanderson book review\n"
     ]
    },
    {
     "name": "stderr",
     "output_type": "stream",
     "text": [
      "Processing books:  71%|███████   | 890/1250 [2:15:42<38:57,  6.49s/it]"
     ]
    },
    {
     "name": "stdout",
     "output_type": "stream",
     "text": [
      "Searching for: Stardust (Paperback) Neil Gaiman book review\n"
     ]
    },
    {
     "name": "stderr",
     "output_type": "stream",
     "text": [
      "Processing books:  71%|███████▏  | 891/1250 [2:15:59<58:23,  9.76s/it]"
     ]
    },
    {
     "name": "stdout",
     "output_type": "stream",
     "text": [
      "Searching for: Assassin's Apprentice (Farseer Trilogy, #1) Robin Hobb book review\n"
     ]
    },
    {
     "name": "stderr",
     "output_type": "stream",
     "text": [
      "Processing books:  71%|███████▏  | 892/1250 [2:16:00<42:37,  7.14s/it]"
     ]
    },
    {
     "name": "stdout",
     "output_type": "stream",
     "text": [
      "Searching for: Siege and Storm (The Shadow and Bone Trilogy, #2) Leigh Bardugo book review\n"
     ]
    },
    {
     "name": "stderr",
     "output_type": "stream",
     "text": [
      "Processing books:  71%|███████▏  | 893/1250 [2:16:08<44:39,  7.51s/it]"
     ]
    },
    {
     "name": "stdout",
     "output_type": "stream",
     "text": [
      "Searching for: Neverwhere (London Below, #1) Neil Gaiman book review\n"
     ]
    },
    {
     "name": "stderr",
     "output_type": "stream",
     "text": [
      "Processing books:  72%|███████▏  | 894/1250 [2:16:39<1:26:26, 14.57s/it]"
     ]
    },
    {
     "name": "stdout",
     "output_type": "stream",
     "text": [
      "Searching for: A Court of Frost and Starlight (A Court of Thorns and Roses, #3.5) Sarah J. Maas book review\n"
     ]
    },
    {
     "name": "stderr",
     "output_type": "stream",
     "text": [
      "Processing books:  72%|███████▏  | 895/1250 [2:16:55<1:27:13, 14.74s/it]"
     ]
    },
    {
     "name": "stdout",
     "output_type": "stream",
     "text": [
      "Searching for: The Wicked King (The Folk of the Air, #2) Holly Black book review\n"
     ]
    },
    {
     "name": "stderr",
     "output_type": "stream",
     "text": [
      "Processing books:  72%|███████▏  | 896/1250 [2:17:01<1:12:42, 12.32s/it]"
     ]
    },
    {
     "name": "stdout",
     "output_type": "stream",
     "text": [
      "Searching for: The Lord of the Rings (Middle Earth, #2-4) J.R.R. Tolkien book review\n"
     ]
    },
    {
     "name": "stderr",
     "output_type": "stream",
     "text": [
      "Processing books:  72%|███████▏  | 897/1250 [2:17:07<1:00:32, 10.29s/it]"
     ]
    },
    {
     "name": "stdout",
     "output_type": "stream",
     "text": [
      "Searching for: The Wise Man’s Fear (The Kingkiller Chronicle, #2) Patrick Rothfuss book review\n"
     ]
    },
    {
     "name": "stderr",
     "output_type": "stream",
     "text": [
      "Processing books:  72%|███████▏  | 898/1250 [2:17:08<44:14,  7.54s/it]  "
     ]
    },
    {
     "name": "stdout",
     "output_type": "stream",
     "text": [
      "Searching for: The Lies of Locke Lamora (Gentleman Bastard, #1) Scott Lynch book review\n"
     ]
    },
    {
     "name": "stderr",
     "output_type": "stream",
     "text": [
      "Processing books:  72%|███████▏  | 899/1250 [2:17:13<39:11,  6.70s/it]"
     ]
    },
    {
     "name": "stdout",
     "output_type": "stream",
     "text": [
      "Searching for: The Invisible Life of Addie LaRue (Kindle Edition) Victoria Schwab book review\n"
     ]
    },
    {
     "name": "stderr",
     "output_type": "stream",
     "text": [
      "Processing books:  72%|███████▏  | 900/1250 [2:17:17<34:27,  5.91s/it]"
     ]
    },
    {
     "name": "stdout",
     "output_type": "stream",
     "text": [
      "Searching for: Harry Potter and the Sorcerer’s Stone (Harry Potter, #1) J.K. Rowling book review\n"
     ]
    },
    {
     "name": "stderr",
     "output_type": "stream",
     "text": [
      "Processing books:  72%|███████▏  | 901/1250 [2:17:23<35:38,  6.13s/it]"
     ]
    },
    {
     "name": "stdout",
     "output_type": "stream",
     "text": [
      "Searching for: Harry Potter and the Chamber of Secrets (Harry Potter, #2) J.K. Rowling book review\n"
     ]
    },
    {
     "name": "stderr",
     "output_type": "stream",
     "text": [
      "Processing books:  72%|███████▏  | 902/1250 [2:17:33<40:54,  7.05s/it]"
     ]
    },
    {
     "name": "stdout",
     "output_type": "stream",
     "text": [
      "Searching for: Harry Potter and the Prisoner of Azkaban (Harry Potter, #3) J.K. Rowling book review\n"
     ]
    },
    {
     "name": "stderr",
     "output_type": "stream",
     "text": [
      "Processing books:  72%|███████▏  | 903/1250 [2:17:52<1:02:12, 10.76s/it]"
     ]
    },
    {
     "name": "stdout",
     "output_type": "stream",
     "text": [
      "Searching for: The Hobbit (The Lord of the Rings, #0) J.R.R. Tolkien book review\n"
     ]
    },
    {
     "name": "stderr",
     "output_type": "stream",
     "text": [
      "Processing books:  72%|███████▏  | 904/1250 [2:18:13<1:20:24, 13.94s/it]"
     ]
    },
    {
     "name": "stdout",
     "output_type": "stream",
     "text": [
      "Searching for: Harry Potter and the Goblet of Fire (Harry Potter, #4) J.K. Rowling book review\n"
     ]
    },
    {
     "name": "stderr",
     "output_type": "stream",
     "text": [
      "Processing books:  72%|███████▏  | 905/1250 [2:18:22<1:11:03, 12.36s/it]"
     ]
    },
    {
     "name": "stdout",
     "output_type": "stream",
     "text": [
      "Searching for: Harry Potter and the Order of the Phoenix (Harry Potter, #5) J.K. Rowling book review\n"
     ]
    },
    {
     "name": "stderr",
     "output_type": "stream",
     "text": [
      "Processing books:  72%|███████▏  | 906/1250 [2:18:39<1:19:40, 13.90s/it]"
     ]
    },
    {
     "name": "stdout",
     "output_type": "stream",
     "text": [
      "Searching for: Harry Potter and the Half-Blood Prince (Harry Potter, #6) J.K. Rowling book review\n"
     ]
    },
    {
     "name": "stderr",
     "output_type": "stream",
     "text": [
      "Processing books:  73%|███████▎  | 907/1250 [2:18:54<1:20:56, 14.16s/it]"
     ]
    },
    {
     "name": "stdout",
     "output_type": "stream",
     "text": [
      "Searching for: Harry Potter and the Deathly Hallows (Harry Potter, #7) J.K. Rowling book review\n"
     ]
    },
    {
     "name": "stderr",
     "output_type": "stream",
     "text": [
      "Processing books:  73%|███████▎  | 908/1250 [2:19:01<1:08:21, 11.99s/it]"
     ]
    },
    {
     "name": "stdout",
     "output_type": "stream",
     "text": [
      "Searching for: A Game of Thrones (A Song of Ice and Fire, #1) George R.R. Martin book review\n"
     ]
    },
    {
     "name": "stderr",
     "output_type": "stream",
     "text": [
      "Processing books:  73%|███████▎  | 909/1250 [2:19:08<58:49, 10.35s/it]  "
     ]
    },
    {
     "name": "stdout",
     "output_type": "stream",
     "text": [
      "Searching for: The Fellowship of the Ring (Middle Earth, #1) J.R.R. Tolkien book review\n"
     ]
    },
    {
     "name": "stderr",
     "output_type": "stream",
     "text": [
      "Processing books:  73%|███████▎  | 910/1250 [2:19:10<45:32,  8.04s/it]"
     ]
    },
    {
     "name": "stdout",
     "output_type": "stream",
     "text": [
      "Searching for: A Court of Thorns and Roses (A Court of Thorns and Roses, #1) Sarah J. Maas book review\n"
     ]
    },
    {
     "name": "stderr",
     "output_type": "stream",
     "text": [
      "Processing books:  73%|███████▎  | 911/1250 [2:19:18<44:23,  7.86s/it]"
     ]
    },
    {
     "name": "stdout",
     "output_type": "stream",
     "text": [
      "Searching for: A Clash of Kings  (A Song of Ice and Fire, #2) George R.R. Martin book review\n"
     ]
    },
    {
     "name": "stderr",
     "output_type": "stream",
     "text": [
      "Processing books:  73%|███████▎  | 912/1250 [2:19:20<35:05,  6.23s/it]"
     ]
    },
    {
     "name": "stdout",
     "output_type": "stream",
     "text": [
      "Searching for: The Two Towers (Middle Earth, #3) J.R.R. Tolkien book review\n"
     ]
    },
    {
     "name": "stderr",
     "output_type": "stream",
     "text": [
      "Processing books:  73%|███████▎  | 913/1250 [2:19:34<48:16,  8.60s/it]"
     ]
    },
    {
     "name": "stdout",
     "output_type": "stream",
     "text": [
      "Searching for: Six of Crows (Six of Crows, #1) Leigh Bardugo book review\n"
     ]
    },
    {
     "name": "stderr",
     "output_type": "stream",
     "text": [
      "Processing books:  73%|███████▎  | 914/1250 [2:19:40<42:59,  7.68s/it]"
     ]
    },
    {
     "name": "stdout",
     "output_type": "stream",
     "text": [
      "Searching for: The Name of the Wind (The Kingkiller Chronicle, #1) Patrick Rothfuss book review\n"
     ]
    },
    {
     "name": "stderr",
     "output_type": "stream",
     "text": [
      "Processing books:  73%|███████▎  | 915/1250 [2:19:41<31:42,  5.68s/it]"
     ]
    },
    {
     "name": "stdout",
     "output_type": "stream",
     "text": [
      "Searching for: The Final Empire (Mistborn, #1) Brandon Sanderson book review\n"
     ]
    },
    {
     "name": "stderr",
     "output_type": "stream",
     "text": [
      "Processing books:  73%|███████▎  | 916/1250 [2:19:59<52:34,  9.44s/it]"
     ]
    },
    {
     "name": "stdout",
     "output_type": "stream",
     "text": [
      "Searching for: The Return of the King (Middle Earth, #4) J.R.R. Tolkien book review\n"
     ]
    },
    {
     "name": "stderr",
     "output_type": "stream",
     "text": [
      "Processing books:  73%|███████▎  | 917/1250 [2:20:08<52:16,  9.42s/it]"
     ]
    },
    {
     "name": "stdout",
     "output_type": "stream",
     "text": [
      "Searching for: A Court of Mist and Fury (A Court of Thorns and Roses, #2) Sarah J. Maas book review\n"
     ]
    },
    {
     "name": "stderr",
     "output_type": "stream",
     "text": [
      "Processing books:  73%|███████▎  | 918/1250 [2:20:14<45:18,  8.19s/it]"
     ]
    },
    {
     "name": "stdout",
     "output_type": "stream",
     "text": [
      "Searching for: The Lightning Thief (Percy Jackson and the Olympians, #1) Rick Riordan book review\n"
     ]
    },
    {
     "name": "stderr",
     "output_type": "stream",
     "text": [
      "Processing books:  74%|███████▎  | 919/1250 [2:20:26<51:03,  9.25s/it]"
     ]
    },
    {
     "name": "stdout",
     "output_type": "stream",
     "text": [
      "Searching for: Shadow and Bone (The Shadow and Bone Trilogy, #1) Leigh Bardugo book review\n"
     ]
    },
    {
     "name": "stderr",
     "output_type": "stream",
     "text": [
      "Processing books:  74%|███████▎  | 920/1250 [2:20:31<44:08,  8.02s/it]"
     ]
    },
    {
     "name": "stdout",
     "output_type": "stream",
     "text": [
      "Searching for: The Lion, the Witch and the Wardrobe (Chronicles of Narnia, #1) C.S. Lewis book review\n"
     ]
    },
    {
     "name": "stderr",
     "output_type": "stream",
     "text": [
      "Processing books:  74%|███████▎  | 921/1250 [2:20:49<1:01:19, 11.18s/it]"
     ]
    },
    {
     "name": "stdout",
     "output_type": "stream",
     "text": [
      "Searching for: The Cruel Prince (The Folk of the Air, #1) Holly Black book review\n"
     ]
    },
    {
     "name": "stderr",
     "output_type": "stream",
     "text": [
      "Processing books:  74%|███████▍  | 922/1250 [2:20:59<59:21, 10.86s/it]  "
     ]
    },
    {
     "name": "stdout",
     "output_type": "stream",
     "text": [
      "Searching for: A Storm of Swords (A Song of Ice and Fire, #3) George R.R. Martin book review\n"
     ]
    },
    {
     "name": "stderr",
     "output_type": "stream",
     "text": [
      "Processing books:  74%|███████▍  | 923/1250 [2:21:06<52:17,  9.60s/it]"
     ]
    },
    {
     "name": "stdout",
     "output_type": "stream",
     "text": [
      "Searching for: A Feast for Crows (A Song of Ice and Fire, #4) George R.R. Martin book review\n"
     ]
    },
    {
     "name": "stderr",
     "output_type": "stream",
     "text": [
      "Processing books:  74%|███████▍  | 924/1250 [2:21:11<45:28,  8.37s/it]"
     ]
    },
    {
     "name": "stdout",
     "output_type": "stream",
     "text": [
      "Searching for: The Golden Compass (His Dark Materials, #1) Philip Pullman book review\n"
     ]
    },
    {
     "name": "stderr",
     "output_type": "stream",
     "text": [
      "Processing books:  74%|███████▍  | 925/1250 [2:21:19<43:24,  8.01s/it]"
     ]
    },
    {
     "name": "stdout",
     "output_type": "stream",
     "text": [
      "Searching for: Eragon (The Inheritance Cycle, #1) Christopher Paolini book review\n"
     ]
    },
    {
     "name": "stderr",
     "output_type": "stream",
     "text": [
      "Processing books:  74%|███████▍  | 926/1250 [2:21:26<42:11,  7.81s/it]"
     ]
    },
    {
     "name": "stdout",
     "output_type": "stream",
     "text": [
      "Searching for: A Court of Wings and Ruin (A Court of Thorns and Roses, #3) Sarah J. Maas book review\n"
     ]
    },
    {
     "name": "stderr",
     "output_type": "stream",
     "text": [
      "Processing books:  74%|███████▍  | 927/1250 [2:21:37<47:22,  8.80s/it]"
     ]
    },
    {
     "name": "stdout",
     "output_type": "stream",
     "text": [
      "Searching for: A Dance with Dragons (A Song of Ice and Fire, #5) George R.R. Martin book review\n"
     ]
    },
    {
     "name": "stderr",
     "output_type": "stream",
     "text": [
      "Processing books:  74%|███████▍  | 928/1250 [2:21:46<46:38,  8.69s/it]"
     ]
    },
    {
     "name": "stdout",
     "output_type": "stream",
     "text": [
      "Searching for: The Night Circus (Hardcover) Erin Morgenstern book review\n"
     ]
    },
    {
     "name": "stderr",
     "output_type": "stream",
     "text": [
      "Processing books:  74%|███████▍  | 929/1250 [2:22:03<1:01:15, 11.45s/it]"
     ]
    },
    {
     "name": "stdout",
     "output_type": "stream",
     "text": [
      "Searching for: American Gods (Kindle Edition) Neil Gaiman book review\n"
     ]
    },
    {
     "name": "stderr",
     "output_type": "stream",
     "text": [
      "Processing books:  74%|███████▍  | 930/1250 [2:22:14<59:24, 11.14s/it]  "
     ]
    },
    {
     "name": "stdout",
     "output_type": "stream",
     "text": [
      "Searching for: City of Bones (The Mortal Instruments, #1) Cassandra Clare book review\n"
     ]
    },
    {
     "name": "stderr",
     "output_type": "stream",
     "text": [
      "Processing books:  74%|███████▍  | 931/1250 [2:22:18<47:34,  8.95s/it]"
     ]
    },
    {
     "name": "stdout",
     "output_type": "stream",
     "text": [
      "Searching for: The Eye of the World (The Wheel of Time, #1) Robert Jordan book review\n"
     ]
    },
    {
     "name": "stderr",
     "output_type": "stream",
     "text": [
      "Processing books:  75%|███████▍  | 932/1250 [2:22:19<35:00,  6.61s/it]"
     ]
    },
    {
     "name": "stdout",
     "output_type": "stream",
     "text": [
      "Searching for: Twilight (The Twilight Saga, #1) Stephenie Meyer book review\n"
     ]
    },
    {
     "name": "stderr",
     "output_type": "stream",
     "text": [
      "Processing books:  75%|███████▍  | 933/1250 [2:22:23<30:20,  5.74s/it]"
     ]
    },
    {
     "name": "stdout",
     "output_type": "stream",
     "text": [
      "Searching for: The Way of Kings (The Stormlight Archive, #1) Brandon Sanderson book review\n",
      "Error processing https://www.geeksundergrace.com/books/review-stormlight-archive-the-way-of-kings/: HTTPSConnectionPool(host='www.geeksundergrace.com', port=443): Max retries exceeded with url: /books/review-stormlight-archive-the-way-of-kings/ (Caused by ProtocolError('Connection aborted.', RemoteDisconnected('Remote end closed connection without response')))\n"
     ]
    },
    {
     "name": "stderr",
     "output_type": "stream",
     "text": [
      "Processing books:  75%|███████▍  | 934/1250 [2:22:34<39:53,  7.58s/it]"
     ]
    },
    {
     "name": "stdout",
     "output_type": "stream",
     "text": [
      "Searching for: Crown of Midnight (Throne of Glass, #2) Sarah J. Maas book review\n"
     ]
    },
    {
     "name": "stderr",
     "output_type": "stream",
     "text": [
      "Processing books:  75%|███████▍  | 935/1250 [2:22:41<37:46,  7.20s/it]"
     ]
    },
    {
     "name": "stdout",
     "output_type": "stream",
     "text": [
      "Searching for: A Darker Shade of Magic (Shades of Magic, #1) Victoria Schwab book review\n"
     ]
    },
    {
     "name": "stderr",
     "output_type": "stream",
     "text": [
      "Processing books:  75%|███████▍  | 936/1250 [2:22:46<33:52,  6.47s/it]"
     ]
    },
    {
     "name": "stdout",
     "output_type": "stream",
     "text": [
      "Searching for: Crooked Kingdom (Six of Crows, #2) Leigh Bardugo book review\n"
     ]
    },
    {
     "name": "stderr",
     "output_type": "stream",
     "text": [
      "Processing books:  75%|███████▍  | 937/1250 [2:22:52<34:25,  6.60s/it]"
     ]
    },
    {
     "name": "stdout",
     "output_type": "stream",
     "text": [
      "Searching for: Good Omens: The Nice and Accurate Prophecies of Agnes Nutter, Witch (Mass Market Paperback) Terry Pratchett book review\n"
     ]
    },
    {
     "name": "stderr",
     "output_type": "stream",
     "text": [
      "Processing books:  75%|███████▌  | 938/1250 [2:22:56<29:08,  5.61s/it]"
     ]
    },
    {
     "name": "stdout",
     "output_type": "stream",
     "text": [
      "Searching for: The Sea of Monsters (Percy Jackson and the Olympians, #2) Rick Riordan book review\n"
     ]
    },
    {
     "name": "stderr",
     "output_type": "stream",
     "text": [
      "Processing books:  75%|███████▌  | 939/1250 [2:23:02<29:37,  5.72s/it]"
     ]
    },
    {
     "name": "stdout",
     "output_type": "stream",
     "text": [
      "Searching for: The Well of Ascension (Mistborn, #2) Brandon Sanderson book review\n"
     ]
    },
    {
     "name": "stderr",
     "output_type": "stream",
     "text": [
      "Processing books:  75%|███████▌  | 940/1250 [2:23:06<26:49,  5.19s/it]"
     ]
    },
    {
     "name": "stdout",
     "output_type": "stream",
     "text": [
      "Searching for: Stardust (Paperback) Neil Gaiman book review\n"
     ]
    },
    {
     "name": "stderr",
     "output_type": "stream",
     "text": [
      "Processing books:  75%|███████▌  | 941/1250 [2:23:20<40:44,  7.91s/it]"
     ]
    },
    {
     "name": "stdout",
     "output_type": "stream",
     "text": [
      "Searching for: Assassin's Apprentice (Farseer Trilogy, #1) Robin Hobb book review\n"
     ]
    },
    {
     "name": "stderr",
     "output_type": "stream",
     "text": [
      "Processing books:  75%|███████▌  | 942/1250 [2:23:21<30:05,  5.86s/it]"
     ]
    },
    {
     "name": "stdout",
     "output_type": "stream",
     "text": [
      "Searching for: Siege and Storm (The Shadow and Bone Trilogy, #2) Leigh Bardugo book review\n"
     ]
    },
    {
     "name": "stderr",
     "output_type": "stream",
     "text": [
      "Processing books:  75%|███████▌  | 943/1250 [2:23:27<29:53,  5.84s/it]"
     ]
    },
    {
     "name": "stdout",
     "output_type": "stream",
     "text": [
      "Searching for: Neverwhere (London Below, #1) Neil Gaiman book review\n"
     ]
    },
    {
     "name": "stderr",
     "output_type": "stream",
     "text": [
      "Processing books:  76%|███████▌  | 944/1250 [2:23:56<1:05:39, 12.87s/it]"
     ]
    },
    {
     "name": "stdout",
     "output_type": "stream",
     "text": [
      "Searching for: A Court of Frost and Starlight (A Court of Thorns and Roses, #3.5) Sarah J. Maas book review\n"
     ]
    },
    {
     "name": "stderr",
     "output_type": "stream",
     "text": [
      "Processing books:  76%|███████▌  | 945/1250 [2:24:10<1:07:29, 13.28s/it]"
     ]
    },
    {
     "name": "stdout",
     "output_type": "stream",
     "text": [
      "Searching for: The Wicked King (The Folk of the Air, #2) Holly Black book review\n"
     ]
    },
    {
     "name": "stderr",
     "output_type": "stream",
     "text": [
      "Processing books:  76%|███████▌  | 946/1250 [2:24:14<53:22, 10.53s/it]  "
     ]
    },
    {
     "name": "stdout",
     "output_type": "stream",
     "text": [
      "Searching for: The Lord of the Rings (Middle Earth, #2-4) J.R.R. Tolkien book review\n"
     ]
    },
    {
     "name": "stderr",
     "output_type": "stream",
     "text": [
      "Processing books:  76%|███████▌  | 947/1250 [2:24:25<53:14, 10.54s/it]"
     ]
    },
    {
     "name": "stdout",
     "output_type": "stream",
     "text": [
      "Searching for: The Wise Man’s Fear (The Kingkiller Chronicle, #2) Patrick Rothfuss book review\n"
     ]
    },
    {
     "name": "stderr",
     "output_type": "stream",
     "text": [
      "Processing books:  76%|███████▌  | 948/1250 [2:24:26<38:40,  7.68s/it]"
     ]
    },
    {
     "name": "stdout",
     "output_type": "stream",
     "text": [
      "Searching for: The Lies of Locke Lamora (Gentleman Bastard, #1) Scott Lynch book review\n"
     ]
    },
    {
     "name": "stderr",
     "output_type": "stream",
     "text": [
      "Processing books:  76%|███████▌  | 949/1250 [2:24:32<36:40,  7.31s/it]"
     ]
    },
    {
     "name": "stdout",
     "output_type": "stream",
     "text": [
      "Searching for: The Invisible Life of Addie LaRue (Kindle Edition) Victoria Schwab book review\n"
     ]
    },
    {
     "name": "stderr",
     "output_type": "stream",
     "text": [
      "Processing books:  76%|███████▌  | 950/1250 [2:24:36<30:19,  6.07s/it]"
     ]
    },
    {
     "name": "stdout",
     "output_type": "stream",
     "text": [
      "Searching for: Harry Potter and the Sorcerer’s Stone (Harry Potter, #1) J.K. Rowling book review\n"
     ]
    },
    {
     "name": "stderr",
     "output_type": "stream",
     "text": [
      "Processing books:  76%|███████▌  | 951/1250 [2:24:45<34:31,  6.93s/it]"
     ]
    },
    {
     "name": "stdout",
     "output_type": "stream",
     "text": [
      "Searching for: Harry Potter and the Chamber of Secrets (Harry Potter, #2) J.K. Rowling book review\n"
     ]
    },
    {
     "name": "stderr",
     "output_type": "stream",
     "text": [
      "Processing books:  76%|███████▌  | 952/1250 [2:24:59<45:15,  9.11s/it]"
     ]
    },
    {
     "name": "stdout",
     "output_type": "stream",
     "text": [
      "Searching for: Harry Potter and the Prisoner of Azkaban (Harry Potter, #3) J.K. Rowling book review\n"
     ]
    },
    {
     "name": "stderr",
     "output_type": "stream",
     "text": [
      "Processing books:  76%|███████▌  | 953/1250 [2:25:21<1:05:05, 13.15s/it]"
     ]
    },
    {
     "name": "stdout",
     "output_type": "stream",
     "text": [
      "Searching for: The Hobbit (The Lord of the Rings, #0) J.R.R. Tolkien book review\n"
     ]
    },
    {
     "name": "stderr",
     "output_type": "stream",
     "text": [
      "Processing books:  76%|███████▋  | 954/1250 [2:25:29<56:40, 11.49s/it]  "
     ]
    },
    {
     "name": "stdout",
     "output_type": "stream",
     "text": [
      "Searching for: Harry Potter and the Goblet of Fire (Harry Potter, #4) J.K. Rowling book review\n"
     ]
    },
    {
     "name": "stderr",
     "output_type": "stream",
     "text": [
      "Processing books:  76%|███████▋  | 955/1250 [2:25:50<1:10:30, 14.34s/it]"
     ]
    },
    {
     "name": "stdout",
     "output_type": "stream",
     "text": [
      "Searching for: Harry Potter and the Order of the Phoenix (Harry Potter, #5) J.K. Rowling book review\n"
     ]
    },
    {
     "name": "stderr",
     "output_type": "stream",
     "text": [
      "Processing books:  76%|███████▋  | 956/1250 [2:26:10<1:18:49, 16.09s/it]"
     ]
    },
    {
     "name": "stdout",
     "output_type": "stream",
     "text": [
      "Searching for: Harry Potter and the Half-Blood Prince (Harry Potter, #6) J.K. Rowling book review\n"
     ]
    },
    {
     "name": "stderr",
     "output_type": "stream",
     "text": [
      "Processing books:  77%|███████▋  | 957/1250 [2:26:23<1:14:14, 15.20s/it]"
     ]
    },
    {
     "name": "stdout",
     "output_type": "stream",
     "text": [
      "Searching for: Harry Potter and the Deathly Hallows (Harry Potter, #7) J.K. Rowling book review\n"
     ]
    },
    {
     "name": "stderr",
     "output_type": "stream",
     "text": [
      "Processing books:  77%|███████▋  | 958/1250 [2:26:29<1:00:46, 12.49s/it]"
     ]
    },
    {
     "name": "stdout",
     "output_type": "stream",
     "text": [
      "Searching for: A Game of Thrones (A Song of Ice and Fire, #1) George R.R. Martin book review\n"
     ]
    },
    {
     "name": "stderr",
     "output_type": "stream",
     "text": [
      "Processing books:  77%|███████▋  | 959/1250 [2:26:39<56:55, 11.74s/it]  "
     ]
    },
    {
     "name": "stdout",
     "output_type": "stream",
     "text": [
      "Searching for: The Fellowship of the Ring (Middle Earth, #1) J.R.R. Tolkien book review\n"
     ]
    },
    {
     "name": "stderr",
     "output_type": "stream",
     "text": [
      "Processing books:  77%|███████▋  | 960/1250 [2:26:42<43:49,  9.07s/it]"
     ]
    },
    {
     "name": "stdout",
     "output_type": "stream",
     "text": [
      "Searching for: A Court of Thorns and Roses (A Court of Thorns and Roses, #1) Sarah J. Maas book review\n"
     ]
    },
    {
     "name": "stderr",
     "output_type": "stream",
     "text": [
      "Processing books:  77%|███████▋  | 961/1250 [2:26:48<38:31,  8.00s/it]"
     ]
    },
    {
     "name": "stdout",
     "output_type": "stream",
     "text": [
      "Searching for: A Clash of Kings  (A Song of Ice and Fire, #2) George R.R. Martin book review\n"
     ]
    },
    {
     "name": "stderr",
     "output_type": "stream",
     "text": [
      "Processing books:  77%|███████▋  | 962/1250 [2:26:53<34:03,  7.10s/it]"
     ]
    },
    {
     "name": "stdout",
     "output_type": "stream",
     "text": [
      "Searching for: The Two Towers (Middle Earth, #3) J.R.R. Tolkien book review\n"
     ]
    },
    {
     "name": "stderr",
     "output_type": "stream",
     "text": [
      "Processing books:  77%|███████▋  | 963/1250 [2:27:04<39:34,  8.27s/it]"
     ]
    },
    {
     "name": "stdout",
     "output_type": "stream",
     "text": [
      "Searching for: Six of Crows (Six of Crows, #1) Leigh Bardugo book review\n"
     ]
    },
    {
     "name": "stderr",
     "output_type": "stream",
     "text": [
      "Processing books:  77%|███████▋  | 964/1250 [2:27:11<37:44,  7.92s/it]"
     ]
    },
    {
     "name": "stdout",
     "output_type": "stream",
     "text": [
      "Searching for: The Name of the Wind (The Kingkiller Chronicle, #1) Patrick Rothfuss book review\n"
     ]
    },
    {
     "name": "stderr",
     "output_type": "stream",
     "text": [
      "Processing books:  77%|███████▋  | 965/1250 [2:27:12<27:48,  5.86s/it]"
     ]
    },
    {
     "name": "stdout",
     "output_type": "stream",
     "text": [
      "Searching for: The Final Empire (Mistborn, #1) Brandon Sanderson book review\n"
     ]
    },
    {
     "name": "stderr",
     "output_type": "stream",
     "text": [
      "Processing books:  77%|███████▋  | 966/1250 [2:27:21<31:57,  6.75s/it]"
     ]
    },
    {
     "name": "stdout",
     "output_type": "stream",
     "text": [
      "Searching for: The Return of the King (Middle Earth, #4) J.R.R. Tolkien book review\n"
     ]
    },
    {
     "name": "stderr",
     "output_type": "stream",
     "text": [
      "Processing books:  77%|███████▋  | 967/1250 [2:27:28<32:32,  6.90s/it]"
     ]
    },
    {
     "name": "stdout",
     "output_type": "stream",
     "text": [
      "Searching for: A Court of Mist and Fury (A Court of Thorns and Roses, #2) Sarah J. Maas book review\n"
     ]
    },
    {
     "name": "stderr",
     "output_type": "stream",
     "text": [
      "Processing books:  77%|███████▋  | 968/1250 [2:27:35<32:40,  6.95s/it]"
     ]
    },
    {
     "name": "stdout",
     "output_type": "stream",
     "text": [
      "Searching for: The Lightning Thief (Percy Jackson and the Olympians, #1) Rick Riordan book review\n"
     ]
    },
    {
     "name": "stderr",
     "output_type": "stream",
     "text": [
      "Processing books:  78%|███████▊  | 969/1250 [2:27:44<34:55,  7.46s/it]"
     ]
    },
    {
     "name": "stdout",
     "output_type": "stream",
     "text": [
      "Searching for: Shadow and Bone (The Shadow and Bone Trilogy, #1) Leigh Bardugo book review\n"
     ]
    },
    {
     "name": "stderr",
     "output_type": "stream",
     "text": [
      "Processing books:  78%|███████▊  | 970/1250 [2:27:51<34:06,  7.31s/it]"
     ]
    },
    {
     "name": "stdout",
     "output_type": "stream",
     "text": [
      "Searching for: The Lion, the Witch and the Wardrobe (Chronicles of Narnia, #1) C.S. Lewis book review\n"
     ]
    },
    {
     "name": "stderr",
     "output_type": "stream",
     "text": [
      "Processing books:  78%|███████▊  | 971/1250 [2:28:09<49:13, 10.59s/it]"
     ]
    },
    {
     "name": "stdout",
     "output_type": "stream",
     "text": [
      "Searching for: The Cruel Prince (The Folk of the Air, #1) Holly Black book review\n"
     ]
    },
    {
     "name": "stderr",
     "output_type": "stream",
     "text": [
      "Processing books:  78%|███████▊  | 972/1250 [2:28:18<47:14, 10.19s/it]"
     ]
    },
    {
     "name": "stdout",
     "output_type": "stream",
     "text": [
      "Searching for: A Storm of Swords (A Song of Ice and Fire, #3) George R.R. Martin book review\n"
     ]
    },
    {
     "name": "stderr",
     "output_type": "stream",
     "text": [
      "Processing books:  78%|███████▊  | 973/1250 [2:28:21<36:35,  7.92s/it]"
     ]
    },
    {
     "name": "stdout",
     "output_type": "stream",
     "text": [
      "Searching for: A Feast for Crows (A Song of Ice and Fire, #4) George R.R. Martin book review\n"
     ]
    },
    {
     "name": "stderr",
     "output_type": "stream",
     "text": [
      "Processing books:  78%|███████▊  | 974/1250 [2:28:27<33:47,  7.34s/it]"
     ]
    },
    {
     "name": "stdout",
     "output_type": "stream",
     "text": [
      "Searching for: The Golden Compass (His Dark Materials, #1) Philip Pullman book review\n"
     ]
    },
    {
     "name": "stderr",
     "output_type": "stream",
     "text": [
      "Processing books:  78%|███████▊  | 975/1250 [2:28:34<33:25,  7.29s/it]"
     ]
    },
    {
     "name": "stdout",
     "output_type": "stream",
     "text": [
      "Searching for: Eragon (The Inheritance Cycle, #1) Christopher Paolini book review\n"
     ]
    },
    {
     "name": "stderr",
     "output_type": "stream",
     "text": [
      "Processing books:  78%|███████▊  | 976/1250 [2:28:45<38:43,  8.48s/it]"
     ]
    },
    {
     "name": "stdout",
     "output_type": "stream",
     "text": [
      "Searching for: A Court of Wings and Ruin (A Court of Thorns and Roses, #3) Sarah J. Maas book review\n"
     ]
    },
    {
     "name": "stderr",
     "output_type": "stream",
     "text": [
      "Processing books:  78%|███████▊  | 977/1250 [2:28:55<40:59,  9.01s/it]"
     ]
    },
    {
     "name": "stdout",
     "output_type": "stream",
     "text": [
      "Searching for: A Dance with Dragons (A Song of Ice and Fire, #5) George R.R. Martin book review\n"
     ]
    },
    {
     "name": "stderr",
     "output_type": "stream",
     "text": [
      "Processing books:  78%|███████▊  | 978/1250 [2:29:05<41:00,  9.05s/it]"
     ]
    },
    {
     "name": "stdout",
     "output_type": "stream",
     "text": [
      "Searching for: The Night Circus (Hardcover) Erin Morgenstern book review\n"
     ]
    },
    {
     "name": "stderr",
     "output_type": "stream",
     "text": [
      "Processing books:  78%|███████▊  | 979/1250 [2:29:24<55:34, 12.30s/it]"
     ]
    },
    {
     "name": "stdout",
     "output_type": "stream",
     "text": [
      "Searching for: American Gods (Kindle Edition) Neil Gaiman book review\n"
     ]
    },
    {
     "name": "stderr",
     "output_type": "stream",
     "text": [
      "Processing books:  78%|███████▊  | 980/1250 [2:29:39<58:41, 13.04s/it]"
     ]
    },
    {
     "name": "stdout",
     "output_type": "stream",
     "text": [
      "Searching for: City of Bones (The Mortal Instruments, #1) Cassandra Clare book review\n"
     ]
    },
    {
     "name": "stderr",
     "output_type": "stream",
     "text": [
      "Processing books:  78%|███████▊  | 981/1250 [2:29:48<52:38, 11.74s/it]"
     ]
    },
    {
     "name": "stdout",
     "output_type": "stream",
     "text": [
      "Searching for: The Eye of the World (The Wheel of Time, #1) Robert Jordan book review\n"
     ]
    },
    {
     "name": "stderr",
     "output_type": "stream",
     "text": [
      "Processing books:  79%|███████▊  | 982/1250 [2:29:52<42:11,  9.45s/it]"
     ]
    },
    {
     "name": "stdout",
     "output_type": "stream",
     "text": [
      "Searching for: Twilight (The Twilight Saga, #1) Stephenie Meyer book review\n"
     ]
    },
    {
     "name": "stderr",
     "output_type": "stream",
     "text": [
      "Processing books:  79%|███████▊  | 983/1250 [2:29:58<38:05,  8.56s/it]"
     ]
    },
    {
     "name": "stdout",
     "output_type": "stream",
     "text": [
      "Searching for: The Way of Kings (The Stormlight Archive, #1) Brandon Sanderson book review\n"
     ]
    },
    {
     "name": "stderr",
     "output_type": "stream",
     "text": [
      "Processing books:  79%|███████▊  | 984/1250 [2:30:05<35:00,  7.90s/it]"
     ]
    },
    {
     "name": "stdout",
     "output_type": "stream",
     "text": [
      "Searching for: Crown of Midnight (Throne of Glass, #2) Sarah J. Maas book review\n"
     ]
    },
    {
     "name": "stderr",
     "output_type": "stream",
     "text": [
      "Processing books:  79%|███████▉  | 985/1250 [2:30:15<37:22,  8.46s/it]"
     ]
    },
    {
     "name": "stdout",
     "output_type": "stream",
     "text": [
      "Searching for: A Darker Shade of Magic (Shades of Magic, #1) Victoria Schwab book review\n"
     ]
    },
    {
     "name": "stderr",
     "output_type": "stream",
     "text": [
      "Processing books:  79%|███████▉  | 986/1250 [2:30:18<30:53,  7.02s/it]"
     ]
    },
    {
     "name": "stdout",
     "output_type": "stream",
     "text": [
      "Searching for: Crooked Kingdom (Six of Crows, #2) Leigh Bardugo book review\n"
     ]
    },
    {
     "name": "stderr",
     "output_type": "stream",
     "text": [
      "Processing books:  79%|███████▉  | 987/1250 [2:30:26<32:05,  7.32s/it]"
     ]
    },
    {
     "name": "stdout",
     "output_type": "stream",
     "text": [
      "Searching for: Good Omens: The Nice and Accurate Prophecies of Agnes Nutter, Witch (Mass Market Paperback) Terry Pratchett book review\n"
     ]
    },
    {
     "name": "stderr",
     "output_type": "stream",
     "text": [
      "Processing books:  79%|███████▉  | 988/1250 [2:30:34<32:35,  7.46s/it]"
     ]
    },
    {
     "name": "stdout",
     "output_type": "stream",
     "text": [
      "Searching for: The Sea of Monsters (Percy Jackson and the Olympians, #2) Rick Riordan book review\n"
     ]
    },
    {
     "name": "stderr",
     "output_type": "stream",
     "text": [
      "Processing books:  79%|███████▉  | 989/1250 [2:30:41<32:23,  7.45s/it]"
     ]
    },
    {
     "name": "stdout",
     "output_type": "stream",
     "text": [
      "Searching for: The Well of Ascension (Mistborn, #2) Brandon Sanderson book review\n"
     ]
    },
    {
     "name": "stderr",
     "output_type": "stream",
     "text": [
      "Processing books:  79%|███████▉  | 990/1250 [2:30:46<28:31,  6.58s/it]"
     ]
    },
    {
     "name": "stdout",
     "output_type": "stream",
     "text": [
      "Searching for: Stardust (Paperback) Neil Gaiman book review\n"
     ]
    },
    {
     "name": "stderr",
     "output_type": "stream",
     "text": [
      "Processing books:  79%|███████▉  | 991/1250 [2:31:01<39:36,  9.18s/it]"
     ]
    },
    {
     "name": "stdout",
     "output_type": "stream",
     "text": [
      "Searching for: Assassin's Apprentice (Farseer Trilogy, #1) Robin Hobb book review\n"
     ]
    },
    {
     "name": "stderr",
     "output_type": "stream",
     "text": [
      "Processing books:  79%|███████▉  | 992/1250 [2:31:02<28:56,  6.73s/it]"
     ]
    },
    {
     "name": "stdout",
     "output_type": "stream",
     "text": [
      "Searching for: Siege and Storm (The Shadow and Bone Trilogy, #2) Leigh Bardugo book review\n"
     ]
    },
    {
     "name": "stderr",
     "output_type": "stream",
     "text": [
      "Processing books:  79%|███████▉  | 993/1250 [2:31:06<24:28,  5.71s/it]"
     ]
    },
    {
     "name": "stdout",
     "output_type": "stream",
     "text": [
      "Searching for: Neverwhere (London Below, #1) Neil Gaiman book review\n"
     ]
    },
    {
     "name": "stderr",
     "output_type": "stream",
     "text": [
      "Processing books:  80%|███████▉  | 994/1250 [2:31:20<34:54,  8.18s/it]"
     ]
    },
    {
     "name": "stdout",
     "output_type": "stream",
     "text": [
      "Searching for: A Court of Frost and Starlight (A Court of Thorns and Roses, #3.5) Sarah J. Maas book review\n"
     ]
    },
    {
     "name": "stderr",
     "output_type": "stream",
     "text": [
      "Processing books:  80%|███████▉  | 995/1250 [2:31:36<45:29, 10.71s/it]"
     ]
    },
    {
     "name": "stdout",
     "output_type": "stream",
     "text": [
      "Searching for: The Wicked King (The Folk of the Air, #2) Holly Black book review\n"
     ]
    },
    {
     "name": "stderr",
     "output_type": "stream",
     "text": [
      "Processing books:  80%|███████▉  | 996/1250 [2:31:39<34:45,  8.21s/it]"
     ]
    },
    {
     "name": "stdout",
     "output_type": "stream",
     "text": [
      "Searching for: The Lord of the Rings (Middle Earth, #2-4) J.R.R. Tolkien book review\n"
     ]
    },
    {
     "name": "stderr",
     "output_type": "stream",
     "text": [
      "Processing books:  80%|███████▉  | 997/1250 [2:31:42<28:23,  6.73s/it]"
     ]
    },
    {
     "name": "stdout",
     "output_type": "stream",
     "text": [
      "Searching for: The Wise Man’s Fear (The Kingkiller Chronicle, #2) Patrick Rothfuss book review\n"
     ]
    },
    {
     "name": "stderr",
     "output_type": "stream",
     "text": [
      "Processing books:  80%|███████▉  | 998/1250 [2:31:43<21:11,  5.05s/it]"
     ]
    },
    {
     "name": "stdout",
     "output_type": "stream",
     "text": [
      "Searching for: The Lies of Locke Lamora (Gentleman Bastard, #1) Scott Lynch book review\n"
     ]
    },
    {
     "name": "stderr",
     "output_type": "stream",
     "text": [
      "Processing books:  80%|███████▉  | 999/1250 [2:31:49<22:05,  5.28s/it]"
     ]
    },
    {
     "name": "stdout",
     "output_type": "stream",
     "text": [
      "Searching for: The Invisible Life of Addie LaRue (Kindle Edition) Victoria Schwab book review\n"
     ]
    },
    {
     "name": "stderr",
     "output_type": "stream",
     "text": [
      "Processing books:  80%|████████  | 1000/1250 [2:31:50<16:36,  3.99s/it]"
     ]
    },
    {
     "name": "stdout",
     "output_type": "stream",
     "text": [
      "Searching for: Harry Potter and the Sorcerer’s Stone (Harry Potter, #1) J.K. Rowling book review\n"
     ]
    },
    {
     "name": "stderr",
     "output_type": "stream",
     "text": [
      "Processing books:  80%|████████  | 1001/1250 [2:31:57<20:07,  4.85s/it]"
     ]
    },
    {
     "name": "stdout",
     "output_type": "stream",
     "text": [
      "Searching for: Harry Potter and the Chamber of Secrets (Harry Potter, #2) J.K. Rowling book review\n"
     ]
    },
    {
     "name": "stderr",
     "output_type": "stream",
     "text": [
      "Processing books:  80%|████████  | 1002/1250 [2:32:11<32:08,  7.78s/it]"
     ]
    },
    {
     "name": "stdout",
     "output_type": "stream",
     "text": [
      "Searching for: Harry Potter and the Prisoner of Azkaban (Harry Potter, #3) J.K. Rowling book review\n"
     ]
    },
    {
     "name": "stderr",
     "output_type": "stream",
     "text": [
      "Processing books:  80%|████████  | 1003/1250 [2:32:30<45:12, 10.98s/it]"
     ]
    },
    {
     "name": "stdout",
     "output_type": "stream",
     "text": [
      "Searching for: The Hobbit (The Lord of the Rings, #0) J.R.R. Tolkien book review\n"
     ]
    },
    {
     "name": "stderr",
     "output_type": "stream",
     "text": [
      "Processing books:  80%|████████  | 1004/1250 [2:32:40<44:26, 10.84s/it]"
     ]
    },
    {
     "name": "stdout",
     "output_type": "stream",
     "text": [
      "Searching for: Harry Potter and the Goblet of Fire (Harry Potter, #4) J.K. Rowling book review\n"
     ]
    },
    {
     "name": "stderr",
     "output_type": "stream",
     "text": [
      "Processing books:  80%|████████  | 1005/1250 [2:32:59<53:30, 13.10s/it]"
     ]
    },
    {
     "name": "stdout",
     "output_type": "stream",
     "text": [
      "Searching for: Harry Potter and the Order of the Phoenix (Harry Potter, #5) J.K. Rowling book review\n"
     ]
    },
    {
     "name": "stderr",
     "output_type": "stream",
     "text": [
      "Processing books:  80%|████████  | 1006/1250 [2:33:16<58:20, 14.34s/it]"
     ]
    },
    {
     "name": "stdout",
     "output_type": "stream",
     "text": [
      "Searching for: Harry Potter and the Half-Blood Prince (Harry Potter, #6) J.K. Rowling book review\n"
     ]
    },
    {
     "name": "stderr",
     "output_type": "stream",
     "text": [
      "Processing books:  81%|████████  | 1007/1250 [2:33:28<54:56, 13.57s/it]"
     ]
    },
    {
     "name": "stdout",
     "output_type": "stream",
     "text": [
      "Searching for: Harry Potter and the Deathly Hallows (Harry Potter, #7) J.K. Rowling book review\n"
     ]
    },
    {
     "name": "stderr",
     "output_type": "stream",
     "text": [
      "Processing books:  81%|████████  | 1008/1250 [2:33:35<47:17, 11.72s/it]"
     ]
    },
    {
     "name": "stdout",
     "output_type": "stream",
     "text": [
      "Searching for: A Game of Thrones (A Song of Ice and Fire, #1) George R.R. Martin book review\n"
     ]
    },
    {
     "name": "stderr",
     "output_type": "stream",
     "text": [
      "Processing books:  81%|████████  | 1009/1250 [2:33:44<43:49, 10.91s/it]"
     ]
    },
    {
     "name": "stdout",
     "output_type": "stream",
     "text": [
      "Searching for: The Fellowship of the Ring (Middle Earth, #1) J.R.R. Tolkien book review\n"
     ]
    },
    {
     "name": "stderr",
     "output_type": "stream",
     "text": [
      "Processing books:  81%|████████  | 1010/1250 [2:33:47<34:16,  8.57s/it]"
     ]
    },
    {
     "name": "stdout",
     "output_type": "stream",
     "text": [
      "Searching for: A Court of Thorns and Roses (A Court of Thorns and Roses, #1) Sarah J. Maas book review\n"
     ]
    },
    {
     "name": "stderr",
     "output_type": "stream",
     "text": [
      "Processing books:  81%|████████  | 1011/1250 [2:33:52<29:20,  7.36s/it]"
     ]
    },
    {
     "name": "stdout",
     "output_type": "stream",
     "text": [
      "Searching for: A Clash of Kings  (A Song of Ice and Fire, #2) George R.R. Martin book review\n"
     ]
    },
    {
     "name": "stderr",
     "output_type": "stream",
     "text": [
      "Processing books:  81%|████████  | 1012/1250 [2:33:59<29:22,  7.41s/it]"
     ]
    },
    {
     "name": "stdout",
     "output_type": "stream",
     "text": [
      "Searching for: The Two Towers (Middle Earth, #3) J.R.R. Tolkien book review\n"
     ]
    },
    {
     "name": "stderr",
     "output_type": "stream",
     "text": [
      "Processing books:  81%|████████  | 1013/1250 [2:34:14<38:09,  9.66s/it]"
     ]
    },
    {
     "name": "stdout",
     "output_type": "stream",
     "text": [
      "Searching for: Six of Crows (Six of Crows, #1) Leigh Bardugo book review\n"
     ]
    },
    {
     "name": "stderr",
     "output_type": "stream",
     "text": [
      "Processing books:  81%|████████  | 1014/1250 [2:34:17<30:20,  7.71s/it]"
     ]
    },
    {
     "name": "stdout",
     "output_type": "stream",
     "text": [
      "Searching for: The Name of the Wind (The Kingkiller Chronicle, #1) Patrick Rothfuss book review\n"
     ]
    },
    {
     "name": "stderr",
     "output_type": "stream",
     "text": [
      "Processing books:  81%|████████  | 1015/1250 [2:34:18<22:23,  5.72s/it]"
     ]
    },
    {
     "name": "stdout",
     "output_type": "stream",
     "text": [
      "Searching for: The Final Empire (Mistborn, #1) Brandon Sanderson book review\n"
     ]
    },
    {
     "name": "stderr",
     "output_type": "stream",
     "text": [
      "Processing books:  81%|████████▏ | 1016/1250 [2:34:24<21:55,  5.62s/it]"
     ]
    },
    {
     "name": "stdout",
     "output_type": "stream",
     "text": [
      "Searching for: The Return of the King (Middle Earth, #4) J.R.R. Tolkien book review\n"
     ]
    },
    {
     "name": "stderr",
     "output_type": "stream",
     "text": [
      "Processing books:  81%|████████▏ | 1017/1250 [2:34:50<45:34, 11.74s/it]"
     ]
    },
    {
     "name": "stdout",
     "output_type": "stream",
     "text": [
      "Searching for: A Court of Mist and Fury (A Court of Thorns and Roses, #2) Sarah J. Maas book review\n"
     ]
    },
    {
     "name": "stderr",
     "output_type": "stream",
     "text": [
      "Processing books:  81%|████████▏ | 1018/1250 [2:35:02<45:45, 11.83s/it]"
     ]
    },
    {
     "name": "stdout",
     "output_type": "stream",
     "text": [
      "Searching for: The Lightning Thief (Percy Jackson and the Olympians, #1) Rick Riordan book review\n"
     ]
    },
    {
     "name": "stderr",
     "output_type": "stream",
     "text": [
      "Processing books:  82%|████████▏ | 1019/1250 [2:35:11<42:15, 10.98s/it]"
     ]
    },
    {
     "name": "stdout",
     "output_type": "stream",
     "text": [
      "Searching for: Shadow and Bone (The Shadow and Bone Trilogy, #1) Leigh Bardugo book review\n"
     ]
    },
    {
     "name": "stderr",
     "output_type": "stream",
     "text": [
      "Processing books:  82%|████████▏ | 1020/1250 [2:35:19<38:57, 10.16s/it]"
     ]
    },
    {
     "name": "stdout",
     "output_type": "stream",
     "text": [
      "Searching for: The Lion, the Witch and the Wardrobe (Chronicles of Narnia, #1) C.S. Lewis book review\n"
     ]
    },
    {
     "name": "stderr",
     "output_type": "stream",
     "text": [
      "Processing books:  82%|████████▏ | 1021/1250 [2:35:33<43:36, 11.42s/it]"
     ]
    },
    {
     "name": "stdout",
     "output_type": "stream",
     "text": [
      "Searching for: The Cruel Prince (The Folk of the Air, #1) Holly Black book review\n"
     ]
    },
    {
     "name": "stderr",
     "output_type": "stream",
     "text": [
      "Processing books:  82%|████████▏ | 1022/1250 [2:35:40<37:42,  9.92s/it]"
     ]
    },
    {
     "name": "stdout",
     "output_type": "stream",
     "text": [
      "Searching for: A Storm of Swords (A Song of Ice and Fire, #3) George R.R. Martin book review\n"
     ]
    },
    {
     "name": "stderr",
     "output_type": "stream",
     "text": [
      "Processing books:  82%|████████▏ | 1023/1250 [2:35:45<32:25,  8.57s/it]"
     ]
    },
    {
     "name": "stdout",
     "output_type": "stream",
     "text": [
      "Searching for: A Feast for Crows (A Song of Ice and Fire, #4) George R.R. Martin book review\n"
     ]
    },
    {
     "name": "stderr",
     "output_type": "stream",
     "text": [
      "Processing books:  82%|████████▏ | 1024/1250 [2:35:50<28:30,  7.57s/it]"
     ]
    },
    {
     "name": "stdout",
     "output_type": "stream",
     "text": [
      "Searching for: The Golden Compass (His Dark Materials, #1) Philip Pullman book review\n"
     ]
    },
    {
     "name": "stderr",
     "output_type": "stream",
     "text": [
      "Processing books:  82%|████████▏ | 1025/1250 [2:36:00<30:34,  8.15s/it]"
     ]
    },
    {
     "name": "stdout",
     "output_type": "stream",
     "text": [
      "Searching for: Eragon (The Inheritance Cycle, #1) Christopher Paolini book review\n"
     ]
    },
    {
     "name": "stderr",
     "output_type": "stream",
     "text": [
      "Processing books:  82%|████████▏ | 1026/1250 [2:36:12<35:04,  9.39s/it]"
     ]
    },
    {
     "name": "stdout",
     "output_type": "stream",
     "text": [
      "Searching for: A Court of Wings and Ruin (A Court of Thorns and Roses, #3) Sarah J. Maas book review\n"
     ]
    },
    {
     "name": "stderr",
     "output_type": "stream",
     "text": [
      "Processing books:  82%|████████▏ | 1027/1250 [2:36:24<37:08, 10.00s/it]"
     ]
    },
    {
     "name": "stdout",
     "output_type": "stream",
     "text": [
      "Searching for: A Dance with Dragons (A Song of Ice and Fire, #5) George R.R. Martin book review\n"
     ]
    },
    {
     "name": "stderr",
     "output_type": "stream",
     "text": [
      "Processing books:  82%|████████▏ | 1028/1250 [2:36:32<34:58,  9.45s/it]"
     ]
    },
    {
     "name": "stdout",
     "output_type": "stream",
     "text": [
      "Searching for: The Night Circus (Hardcover) Erin Morgenstern book review\n"
     ]
    },
    {
     "name": "stderr",
     "output_type": "stream",
     "text": [
      "Processing books:  82%|████████▏ | 1029/1250 [2:36:50<44:39, 12.12s/it]"
     ]
    },
    {
     "name": "stdout",
     "output_type": "stream",
     "text": [
      "Searching for: American Gods (Kindle Edition) Neil Gaiman book review\n"
     ]
    },
    {
     "name": "stderr",
     "output_type": "stream",
     "text": [
      "Processing books:  82%|████████▏ | 1030/1250 [2:37:02<43:41, 11.92s/it]"
     ]
    },
    {
     "name": "stdout",
     "output_type": "stream",
     "text": [
      "Searching for: City of Bones (The Mortal Instruments, #1) Cassandra Clare book review\n"
     ]
    },
    {
     "name": "stderr",
     "output_type": "stream",
     "text": [
      "Processing books:  82%|████████▏ | 1031/1250 [2:37:06<35:39,  9.77s/it]"
     ]
    },
    {
     "name": "stdout",
     "output_type": "stream",
     "text": [
      "Searching for: The Eye of the World (The Wheel of Time, #1) Robert Jordan book review\n"
     ]
    },
    {
     "name": "stderr",
     "output_type": "stream",
     "text": [
      "Processing books:  83%|████████▎ | 1032/1250 [2:37:07<25:58,  7.15s/it]"
     ]
    },
    {
     "name": "stdout",
     "output_type": "stream",
     "text": [
      "Searching for: Twilight (The Twilight Saga, #1) Stephenie Meyer book review\n"
     ]
    },
    {
     "name": "stderr",
     "output_type": "stream",
     "text": [
      "Processing books:  83%|████████▎ | 1033/1250 [2:37:10<21:13,  5.87s/it]"
     ]
    },
    {
     "name": "stdout",
     "output_type": "stream",
     "text": [
      "Searching for: The Way of Kings (The Stormlight Archive, #1) Brandon Sanderson book review\n",
      "Error processing https://www.geeksundergrace.com/books/review-stormlight-archive-the-way-of-kings/: HTTPSConnectionPool(host='www.geeksundergrace.com', port=443): Max retries exceeded with url: /books/review-stormlight-archive-the-way-of-kings/ (Caused by ProtocolError('Connection aborted.', RemoteDisconnected('Remote end closed connection without response')))\n"
     ]
    },
    {
     "name": "stderr",
     "output_type": "stream",
     "text": [
      "Processing books:  83%|████████▎ | 1034/1250 [2:37:22<27:34,  7.66s/it]"
     ]
    },
    {
     "name": "stdout",
     "output_type": "stream",
     "text": [
      "Searching for: Crown of Midnight (Throne of Glass, #2) Sarah J. Maas book review\n"
     ]
    },
    {
     "name": "stderr",
     "output_type": "stream",
     "text": [
      "Processing books:  83%|████████▎ | 1035/1250 [2:37:28<25:52,  7.22s/it]"
     ]
    },
    {
     "name": "stdout",
     "output_type": "stream",
     "text": [
      "Searching for: A Darker Shade of Magic (Shades of Magic, #1) Victoria Schwab book review\n"
     ]
    },
    {
     "name": "stderr",
     "output_type": "stream",
     "text": [
      "Processing books:  83%|████████▎ | 1036/1250 [2:37:33<22:30,  6.31s/it]"
     ]
    },
    {
     "name": "stdout",
     "output_type": "stream",
     "text": [
      "Searching for: Crooked Kingdom (Six of Crows, #2) Leigh Bardugo book review\n"
     ]
    },
    {
     "name": "stderr",
     "output_type": "stream",
     "text": [
      "Processing books:  83%|████████▎ | 1037/1250 [2:37:40<23:53,  6.73s/it]"
     ]
    },
    {
     "name": "stdout",
     "output_type": "stream",
     "text": [
      "Searching for: Good Omens: The Nice and Accurate Prophecies of Agnes Nutter, Witch (Mass Market Paperback) Terry Pratchett book review\n"
     ]
    },
    {
     "name": "stderr",
     "output_type": "stream",
     "text": [
      "Processing books:  83%|████████▎ | 1038/1250 [2:37:45<21:14,  6.01s/it]"
     ]
    },
    {
     "name": "stdout",
     "output_type": "stream",
     "text": [
      "Searching for: The Sea of Monsters (Percy Jackson and the Olympians, #2) Rick Riordan book review\n"
     ]
    },
    {
     "name": "stderr",
     "output_type": "stream",
     "text": [
      "Processing books:  83%|████████▎ | 1039/1250 [2:37:54<25:10,  7.16s/it]"
     ]
    },
    {
     "name": "stdout",
     "output_type": "stream",
     "text": [
      "Searching for: The Well of Ascension (Mistborn, #2) Brandon Sanderson book review\n"
     ]
    },
    {
     "name": "stderr",
     "output_type": "stream",
     "text": [
      "Processing books:  83%|████████▎ | 1040/1250 [2:38:00<23:28,  6.71s/it]"
     ]
    },
    {
     "name": "stdout",
     "output_type": "stream",
     "text": [
      "Searching for: Stardust (Paperback) Neil Gaiman book review\n"
     ]
    },
    {
     "name": "stderr",
     "output_type": "stream",
     "text": [
      "Processing books:  83%|████████▎ | 1041/1250 [2:38:13<29:52,  8.58s/it]"
     ]
    },
    {
     "name": "stdout",
     "output_type": "stream",
     "text": [
      "Searching for: Assassin's Apprentice (Farseer Trilogy, #1) Robin Hobb book review\n"
     ]
    },
    {
     "name": "stderr",
     "output_type": "stream",
     "text": [
      "Processing books:  83%|████████▎ | 1042/1250 [2:38:14<21:50,  6.30s/it]"
     ]
    },
    {
     "name": "stdout",
     "output_type": "stream",
     "text": [
      "Searching for: Siege and Storm (The Shadow and Bone Trilogy, #2) Leigh Bardugo book review\n"
     ]
    },
    {
     "name": "stderr",
     "output_type": "stream",
     "text": [
      "Processing books:  83%|████████▎ | 1043/1250 [2:38:18<19:37,  5.69s/it]"
     ]
    },
    {
     "name": "stdout",
     "output_type": "stream",
     "text": [
      "Searching for: Neverwhere (London Below, #1) Neil Gaiman book review\n"
     ]
    },
    {
     "name": "stderr",
     "output_type": "stream",
     "text": [
      "Processing books:  84%|████████▎ | 1044/1250 [2:38:42<37:42, 10.98s/it]"
     ]
    },
    {
     "name": "stdout",
     "output_type": "stream",
     "text": [
      "Searching for: A Court of Frost and Starlight (A Court of Thorns and Roses, #3.5) Sarah J. Maas book review\n"
     ]
    },
    {
     "name": "stderr",
     "output_type": "stream",
     "text": [
      "Processing books:  84%|████████▎ | 1045/1250 [2:38:54<39:15, 11.49s/it]"
     ]
    },
    {
     "name": "stdout",
     "output_type": "stream",
     "text": [
      "Searching for: The Wicked King (The Folk of the Air, #2) Holly Black book review\n"
     ]
    },
    {
     "name": "stderr",
     "output_type": "stream",
     "text": [
      "Processing books:  84%|████████▎ | 1046/1250 [2:38:59<32:11,  9.47s/it]"
     ]
    },
    {
     "name": "stdout",
     "output_type": "stream",
     "text": [
      "Searching for: The Lord of the Rings (Middle Earth, #2-4) J.R.R. Tolkien book review\n"
     ]
    },
    {
     "name": "stderr",
     "output_type": "stream",
     "text": [
      "Processing books:  84%|████████▍ | 1047/1250 [2:39:05<28:48,  8.51s/it]"
     ]
    },
    {
     "name": "stdout",
     "output_type": "stream",
     "text": [
      "Searching for: The Wise Man’s Fear (The Kingkiller Chronicle, #2) Patrick Rothfuss book review\n"
     ]
    },
    {
     "name": "stderr",
     "output_type": "stream",
     "text": [
      "Processing books:  84%|████████▍ | 1048/1250 [2:39:06<21:06,  6.27s/it]"
     ]
    },
    {
     "name": "stdout",
     "output_type": "stream",
     "text": [
      "Searching for: The Lies of Locke Lamora (Gentleman Bastard, #1) Scott Lynch book review\n"
     ]
    },
    {
     "name": "stderr",
     "output_type": "stream",
     "text": [
      "Processing books:  84%|████████▍ | 1049/1250 [2:39:14<22:21,  6.67s/it]"
     ]
    },
    {
     "name": "stdout",
     "output_type": "stream",
     "text": [
      "Searching for: The Invisible Life of Addie LaRue (Kindle Edition) Victoria Schwab book review\n"
     ]
    },
    {
     "name": "stderr",
     "output_type": "stream",
     "text": [
      "Processing books:  84%|████████▍ | 1050/1250 [2:39:15<16:36,  4.98s/it]"
     ]
    },
    {
     "name": "stdout",
     "output_type": "stream",
     "text": [
      "Searching for: Harry Potter and the Sorcerer’s Stone (Harry Potter, #1) J.K. Rowling book review\n"
     ]
    },
    {
     "name": "stderr",
     "output_type": "stream",
     "text": [
      "Processing books:  84%|████████▍ | 1051/1250 [2:39:23<19:59,  6.03s/it]"
     ]
    },
    {
     "name": "stdout",
     "output_type": "stream",
     "text": [
      "Searching for: Harry Potter and the Chamber of Secrets (Harry Potter, #2) J.K. Rowling book review\n"
     ]
    },
    {
     "name": "stderr",
     "output_type": "stream",
     "text": [
      "Processing books:  84%|████████▍ | 1052/1250 [2:39:34<24:48,  7.52s/it]"
     ]
    },
    {
     "name": "stdout",
     "output_type": "stream",
     "text": [
      "Searching for: Harry Potter and the Prisoner of Azkaban (Harry Potter, #3) J.K. Rowling book review\n"
     ]
    },
    {
     "name": "stderr",
     "output_type": "stream",
     "text": [
      "Processing books:  84%|████████▍ | 1053/1250 [2:39:55<37:35, 11.45s/it]"
     ]
    },
    {
     "name": "stdout",
     "output_type": "stream",
     "text": [
      "Searching for: The Hobbit (The Lord of the Rings, #0) J.R.R. Tolkien book review\n"
     ]
    },
    {
     "name": "stderr",
     "output_type": "stream",
     "text": [
      "Processing books:  84%|████████▍ | 1054/1250 [2:40:02<33:02, 10.11s/it]"
     ]
    },
    {
     "name": "stdout",
     "output_type": "stream",
     "text": [
      "Searching for: Harry Potter and the Goblet of Fire (Harry Potter, #4) J.K. Rowling book review\n"
     ]
    },
    {
     "name": "stderr",
     "output_type": "stream",
     "text": [
      "Processing books:  84%|████████▍ | 1055/1250 [2:40:17<37:27, 11.53s/it]"
     ]
    },
    {
     "name": "stdout",
     "output_type": "stream",
     "text": [
      "Searching for: Harry Potter and the Order of the Phoenix (Harry Potter, #5) J.K. Rowling book review\n"
     ]
    },
    {
     "name": "stderr",
     "output_type": "stream",
     "text": [
      "Processing books:  84%|████████▍ | 1056/1250 [2:40:34<42:28, 13.13s/it]"
     ]
    },
    {
     "name": "stdout",
     "output_type": "stream",
     "text": [
      "Searching for: Harry Potter and the Half-Blood Prince (Harry Potter, #6) J.K. Rowling book review\n"
     ]
    },
    {
     "name": "stderr",
     "output_type": "stream",
     "text": [
      "Processing books:  85%|████████▍ | 1057/1250 [2:40:46<41:03, 12.76s/it]"
     ]
    },
    {
     "name": "stdout",
     "output_type": "stream",
     "text": [
      "Searching for: Harry Potter and the Deathly Hallows (Harry Potter, #7) J.K. Rowling book review\n"
     ]
    },
    {
     "name": "stderr",
     "output_type": "stream",
     "text": [
      "Processing books:  85%|████████▍ | 1058/1250 [2:40:53<35:56, 11.23s/it]"
     ]
    },
    {
     "name": "stdout",
     "output_type": "stream",
     "text": [
      "Searching for: A Game of Thrones (A Song of Ice and Fire, #1) George R.R. Martin book review\n"
     ]
    },
    {
     "name": "stderr",
     "output_type": "stream",
     "text": [
      "Processing books:  85%|████████▍ | 1059/1250 [2:41:01<32:25, 10.19s/it]"
     ]
    },
    {
     "name": "stdout",
     "output_type": "stream",
     "text": [
      "Searching for: The Fellowship of the Ring (Middle Earth, #1) J.R.R. Tolkien book review\n"
     ]
    },
    {
     "name": "stderr",
     "output_type": "stream",
     "text": [
      "Processing books:  85%|████████▍ | 1060/1250 [2:41:02<23:37,  7.46s/it]"
     ]
    },
    {
     "name": "stdout",
     "output_type": "stream",
     "text": [
      "Searching for: A Court of Thorns and Roses (A Court of Thorns and Roses, #1) Sarah J. Maas book review\n"
     ]
    },
    {
     "name": "stderr",
     "output_type": "stream",
     "text": [
      "Processing books:  85%|████████▍ | 1061/1250 [2:41:07<20:59,  6.66s/it]"
     ]
    },
    {
     "name": "stdout",
     "output_type": "stream",
     "text": [
      "Searching for: A Clash of Kings  (A Song of Ice and Fire, #2) George R.R. Martin book review\n"
     ]
    },
    {
     "name": "stderr",
     "output_type": "stream",
     "text": [
      "Processing books:  85%|████████▍ | 1062/1250 [2:41:11<18:28,  5.90s/it]"
     ]
    },
    {
     "name": "stdout",
     "output_type": "stream",
     "text": [
      "Searching for: The Two Towers (Middle Earth, #3) J.R.R. Tolkien book review\n"
     ]
    },
    {
     "name": "stderr",
     "output_type": "stream",
     "text": [
      "Processing books:  85%|████████▌ | 1063/1250 [2:41:22<23:09,  7.43s/it]"
     ]
    },
    {
     "name": "stdout",
     "output_type": "stream",
     "text": [
      "Searching for: Six of Crows (Six of Crows, #1) Leigh Bardugo book review\n"
     ]
    },
    {
     "name": "stderr",
     "output_type": "stream",
     "text": [
      "Processing books:  85%|████████▌ | 1064/1250 [2:41:26<20:01,  6.46s/it]"
     ]
    },
    {
     "name": "stdout",
     "output_type": "stream",
     "text": [
      "Searching for: The Name of the Wind (The Kingkiller Chronicle, #1) Patrick Rothfuss book review\n"
     ]
    },
    {
     "name": "stderr",
     "output_type": "stream",
     "text": [
      "Processing books:  85%|████████▌ | 1065/1250 [2:41:27<14:48,  4.80s/it]"
     ]
    },
    {
     "name": "stdout",
     "output_type": "stream",
     "text": [
      "Searching for: The Final Empire (Mistborn, #1) Brandon Sanderson book review\n"
     ]
    },
    {
     "name": "stderr",
     "output_type": "stream",
     "text": [
      "Processing books:  85%|████████▌ | 1066/1250 [2:41:31<14:02,  4.58s/it]"
     ]
    },
    {
     "name": "stdout",
     "output_type": "stream",
     "text": [
      "Searching for: The Return of the King (Middle Earth, #4) J.R.R. Tolkien book review\n"
     ]
    },
    {
     "name": "stderr",
     "output_type": "stream",
     "text": [
      "Processing books:  85%|████████▌ | 1067/1250 [2:41:46<23:26,  7.69s/it]"
     ]
    },
    {
     "name": "stdout",
     "output_type": "stream",
     "text": [
      "Searching for: A Court of Mist and Fury (A Court of Thorns and Roses, #2) Sarah J. Maas book review\n"
     ]
    },
    {
     "name": "stderr",
     "output_type": "stream",
     "text": [
      "Processing books:  85%|████████▌ | 1068/1250 [2:41:56<25:08,  8.29s/it]"
     ]
    },
    {
     "name": "stdout",
     "output_type": "stream",
     "text": [
      "Searching for: The Lightning Thief (Percy Jackson and the Olympians, #1) Rick Riordan book review\n"
     ]
    },
    {
     "name": "stderr",
     "output_type": "stream",
     "text": [
      "Processing books:  86%|████████▌ | 1069/1250 [2:42:04<24:48,  8.22s/it]"
     ]
    },
    {
     "name": "stdout",
     "output_type": "stream",
     "text": [
      "Searching for: Shadow and Bone (The Shadow and Bone Trilogy, #1) Leigh Bardugo book review\n"
     ]
    },
    {
     "name": "stderr",
     "output_type": "stream",
     "text": [
      "Processing books:  86%|████████▌ | 1070/1250 [2:42:14<25:50,  8.61s/it]"
     ]
    },
    {
     "name": "stdout",
     "output_type": "stream",
     "text": [
      "Searching for: The Lion, the Witch and the Wardrobe (Chronicles of Narnia, #1) C.S. Lewis book review\n"
     ]
    },
    {
     "name": "stderr",
     "output_type": "stream",
     "text": [
      "Processing books:  86%|████████▌ | 1071/1250 [2:42:27<30:21, 10.18s/it]"
     ]
    },
    {
     "name": "stdout",
     "output_type": "stream",
     "text": [
      "Searching for: The Cruel Prince (The Folk of the Air, #1) Holly Black book review\n"
     ]
    },
    {
     "name": "stderr",
     "output_type": "stream",
     "text": [
      "Processing books:  86%|████████▌ | 1072/1250 [2:42:33<26:04,  8.79s/it]"
     ]
    },
    {
     "name": "stdout",
     "output_type": "stream",
     "text": [
      "Searching for: A Storm of Swords (A Song of Ice and Fire, #3) George R.R. Martin book review\n"
     ]
    },
    {
     "name": "stderr",
     "output_type": "stream",
     "text": [
      "Processing books:  86%|████████▌ | 1073/1250 [2:42:40<24:27,  8.29s/it]"
     ]
    },
    {
     "name": "stdout",
     "output_type": "stream",
     "text": [
      "Searching for: A Feast for Crows (A Song of Ice and Fire, #4) George R.R. Martin book review\n"
     ]
    },
    {
     "name": "stderr",
     "output_type": "stream",
     "text": [
      "Processing books:  86%|████████▌ | 1074/1250 [2:42:46<22:23,  7.63s/it]"
     ]
    },
    {
     "name": "stdout",
     "output_type": "stream",
     "text": [
      "Searching for: The Golden Compass (His Dark Materials, #1) Philip Pullman book review\n"
     ]
    },
    {
     "name": "stderr",
     "output_type": "stream",
     "text": [
      "Processing books:  86%|████████▌ | 1075/1250 [2:42:53<21:36,  7.41s/it]"
     ]
    },
    {
     "name": "stdout",
     "output_type": "stream",
     "text": [
      "Searching for: Eragon (The Inheritance Cycle, #1) Christopher Paolini book review\n"
     ]
    },
    {
     "name": "stderr",
     "output_type": "stream",
     "text": [
      "Processing books:  86%|████████▌ | 1076/1250 [2:43:03<23:20,  8.05s/it]"
     ]
    },
    {
     "name": "stdout",
     "output_type": "stream",
     "text": [
      "Searching for: A Court of Wings and Ruin (A Court of Thorns and Roses, #3) Sarah J. Maas book review\n"
     ]
    },
    {
     "name": "stderr",
     "output_type": "stream",
     "text": [
      "Processing books:  86%|████████▌ | 1077/1250 [2:43:18<29:35, 10.26s/it]"
     ]
    },
    {
     "name": "stdout",
     "output_type": "stream",
     "text": [
      "Searching for: A Dance with Dragons (A Song of Ice and Fire, #5) George R.R. Martin book review\n"
     ]
    },
    {
     "name": "stderr",
     "output_type": "stream",
     "text": [
      "Processing books:  86%|████████▌ | 1078/1250 [2:43:25<26:19,  9.19s/it]"
     ]
    },
    {
     "name": "stdout",
     "output_type": "stream",
     "text": [
      "Searching for: The Night Circus (Hardcover) Erin Morgenstern book review\n",
      "Error processing https://frogmom.com/book-review-the-night-circus-by-erin-morgenstern/: HTTPSConnectionPool(host='frogmom.com', port=443): Max retries exceeded with url: /book-review-the-night-circus-by-erin-morgenstern/ (Caused by ProtocolError('Connection aborted.', RemoteDisconnected('Remote end closed connection without response')))\n"
     ]
    },
    {
     "name": "stderr",
     "output_type": "stream",
     "text": [
      "Processing books:  86%|████████▋ | 1079/1250 [2:43:51<40:49, 14.32s/it]"
     ]
    },
    {
     "name": "stdout",
     "output_type": "stream",
     "text": [
      "Searching for: American Gods (Kindle Edition) Neil Gaiman book review\n"
     ]
    },
    {
     "name": "stderr",
     "output_type": "stream",
     "text": [
      "Processing books:  86%|████████▋ | 1080/1250 [2:44:00<36:08, 12.76s/it]"
     ]
    },
    {
     "name": "stdout",
     "output_type": "stream",
     "text": [
      "Searching for: City of Bones (The Mortal Instruments, #1) Cassandra Clare book review\n"
     ]
    },
    {
     "name": "stderr",
     "output_type": "stream",
     "text": [
      "Processing books:  86%|████████▋ | 1081/1250 [2:44:07<30:40, 10.89s/it]"
     ]
    },
    {
     "name": "stdout",
     "output_type": "stream",
     "text": [
      "Searching for: The Eye of the World (The Wheel of Time, #1) Robert Jordan book review\n"
     ]
    },
    {
     "name": "stderr",
     "output_type": "stream",
     "text": [
      "Processing books:  87%|████████▋ | 1082/1250 [2:44:08<22:15,  7.95s/it]"
     ]
    },
    {
     "name": "stdout",
     "output_type": "stream",
     "text": [
      "Searching for: Twilight (The Twilight Saga, #1) Stephenie Meyer book review\n"
     ]
    },
    {
     "name": "stderr",
     "output_type": "stream",
     "text": [
      "Processing books:  87%|████████▋ | 1083/1250 [2:44:17<23:33,  8.47s/it]"
     ]
    },
    {
     "name": "stdout",
     "output_type": "stream",
     "text": [
      "Searching for: The Way of Kings (The Stormlight Archive, #1) Brandon Sanderson book review\n"
     ]
    },
    {
     "name": "stderr",
     "output_type": "stream",
     "text": [
      "Processing books:  87%|████████▋ | 1084/1250 [2:44:25<22:24,  8.10s/it]"
     ]
    },
    {
     "name": "stdout",
     "output_type": "stream",
     "text": [
      "Searching for: Crown of Midnight (Throne of Glass, #2) Sarah J. Maas book review\n"
     ]
    },
    {
     "name": "stderr",
     "output_type": "stream",
     "text": [
      "Processing books:  87%|████████▋ | 1085/1250 [2:44:43<30:45, 11.19s/it]"
     ]
    },
    {
     "name": "stdout",
     "output_type": "stream",
     "text": [
      "Searching for: A Darker Shade of Magic (Shades of Magic, #1) Victoria Schwab book review\n"
     ]
    },
    {
     "name": "stderr",
     "output_type": "stream",
     "text": [
      "Processing books:  87%|████████▋ | 1086/1250 [2:44:51<28:13, 10.33s/it]"
     ]
    },
    {
     "name": "stdout",
     "output_type": "stream",
     "text": [
      "Searching for: Crooked Kingdom (Six of Crows, #2) Leigh Bardugo book review\n"
     ]
    },
    {
     "name": "stderr",
     "output_type": "stream",
     "text": [
      "Processing books:  87%|████████▋ | 1087/1250 [2:45:01<27:38, 10.18s/it]"
     ]
    },
    {
     "name": "stdout",
     "output_type": "stream",
     "text": [
      "Searching for: Good Omens: The Nice and Accurate Prophecies of Agnes Nutter, Witch (Mass Market Paperback) Terry Pratchett book review\n"
     ]
    },
    {
     "name": "stderr",
     "output_type": "stream",
     "text": [
      "Processing books:  87%|████████▋ | 1088/1250 [2:45:08<24:39,  9.14s/it]"
     ]
    },
    {
     "name": "stdout",
     "output_type": "stream",
     "text": [
      "Searching for: The Sea of Monsters (Percy Jackson and the Olympians, #2) Rick Riordan book review\n"
     ]
    },
    {
     "name": "stderr",
     "output_type": "stream",
     "text": [
      "Processing books:  87%|████████▋ | 1089/1250 [2:45:17<24:38,  9.18s/it]"
     ]
    },
    {
     "name": "stdout",
     "output_type": "stream",
     "text": [
      "Searching for: The Well of Ascension (Mistborn, #2) Brandon Sanderson book review\n"
     ]
    },
    {
     "name": "stderr",
     "output_type": "stream",
     "text": [
      "Processing books:  87%|████████▋ | 1090/1250 [2:45:25<23:09,  8.69s/it]"
     ]
    },
    {
     "name": "stdout",
     "output_type": "stream",
     "text": [
      "Searching for: Stardust (Paperback) Neil Gaiman book review\n"
     ]
    },
    {
     "name": "stderr",
     "output_type": "stream",
     "text": [
      "Processing books:  87%|████████▋ | 1091/1250 [2:45:41<29:04, 10.97s/it]"
     ]
    },
    {
     "name": "stdout",
     "output_type": "stream",
     "text": [
      "Searching for: Assassin's Apprentice (Farseer Trilogy, #1) Robin Hobb book review\n"
     ]
    },
    {
     "name": "stderr",
     "output_type": "stream",
     "text": [
      "Processing books:  87%|████████▋ | 1092/1250 [2:45:42<21:00,  7.98s/it]"
     ]
    },
    {
     "name": "stdout",
     "output_type": "stream",
     "text": [
      "Searching for: Siege and Storm (The Shadow and Bone Trilogy, #2) Leigh Bardugo book review\n"
     ]
    },
    {
     "name": "stderr",
     "output_type": "stream",
     "text": [
      "Processing books:  87%|████████▋ | 1093/1250 [2:45:45<16:53,  6.45s/it]"
     ]
    },
    {
     "name": "stdout",
     "output_type": "stream",
     "text": [
      "Searching for: Neverwhere (London Below, #1) Neil Gaiman book review\n"
     ]
    },
    {
     "name": "stderr",
     "output_type": "stream",
     "text": [
      "Processing books:  88%|████████▊ | 1094/1250 [2:46:06<27:59, 10.76s/it]"
     ]
    },
    {
     "name": "stdout",
     "output_type": "stream",
     "text": [
      "Searching for: A Court of Frost and Starlight (A Court of Thorns and Roses, #3.5) Sarah J. Maas book review\n"
     ]
    },
    {
     "name": "stderr",
     "output_type": "stream",
     "text": [
      "Processing books:  88%|████████▊ | 1095/1250 [2:46:16<27:11, 10.53s/it]"
     ]
    },
    {
     "name": "stdout",
     "output_type": "stream",
     "text": [
      "Searching for: The Wicked King (The Folk of the Air, #2) Holly Black book review\n"
     ]
    },
    {
     "name": "stderr",
     "output_type": "stream",
     "text": [
      "Processing books:  88%|████████▊ | 1096/1250 [2:46:18<20:58,  8.17s/it]"
     ]
    },
    {
     "name": "stdout",
     "output_type": "stream",
     "text": [
      "Searching for: The Lord of the Rings (Middle Earth, #2-4) J.R.R. Tolkien book review\n"
     ]
    },
    {
     "name": "stderr",
     "output_type": "stream",
     "text": [
      "Processing books:  88%|████████▊ | 1097/1250 [2:46:31<24:09,  9.48s/it]"
     ]
    },
    {
     "name": "stdout",
     "output_type": "stream",
     "text": [
      "Searching for: The Wise Man’s Fear (The Kingkiller Chronicle, #2) Patrick Rothfuss book review\n"
     ]
    },
    {
     "name": "stderr",
     "output_type": "stream",
     "text": [
      "Processing books:  88%|████████▊ | 1098/1250 [2:46:32<17:47,  7.02s/it]"
     ]
    },
    {
     "name": "stdout",
     "output_type": "stream",
     "text": [
      "Searching for: The Lies of Locke Lamora (Gentleman Bastard, #1) Scott Lynch book review\n"
     ]
    },
    {
     "name": "stderr",
     "output_type": "stream",
     "text": [
      "Processing books:  88%|████████▊ | 1099/1250 [2:46:47<23:31,  9.35s/it]"
     ]
    },
    {
     "name": "stdout",
     "output_type": "stream",
     "text": [
      "Searching for: The Invisible Life of Addie LaRue (Kindle Edition) Victoria Schwab book review\n"
     ]
    },
    {
     "name": "stderr",
     "output_type": "stream",
     "text": [
      "Processing books:  88%|████████▊ | 1100/1250 [2:46:50<18:21,  7.34s/it]"
     ]
    },
    {
     "name": "stdout",
     "output_type": "stream",
     "text": [
      "Searching for: Harry Potter and the Sorcerer’s Stone (Harry Potter, #1) J.K. Rowling book review\n"
     ]
    },
    {
     "name": "stderr",
     "output_type": "stream",
     "text": [
      "Processing books:  88%|████████▊ | 1101/1250 [2:46:59<19:26,  7.83s/it]"
     ]
    },
    {
     "name": "stdout",
     "output_type": "stream",
     "text": [
      "Searching for: Harry Potter and the Chamber of Secrets (Harry Potter, #2) J.K. Rowling book review\n"
     ]
    },
    {
     "name": "stderr",
     "output_type": "stream",
     "text": [
      "Processing books:  88%|████████▊ | 1102/1250 [2:47:15<25:28, 10.33s/it]"
     ]
    },
    {
     "name": "stdout",
     "output_type": "stream",
     "text": [
      "Searching for: Harry Potter and the Prisoner of Azkaban (Harry Potter, #3) J.K. Rowling book review\n"
     ]
    },
    {
     "name": "stderr",
     "output_type": "stream",
     "text": [
      "Processing books:  88%|████████▊ | 1103/1250 [2:47:23<23:28,  9.58s/it]"
     ]
    },
    {
     "name": "stdout",
     "output_type": "stream",
     "text": [
      "Searching for: The Hobbit (The Lord of the Rings, #0) J.R.R. Tolkien book review\n"
     ]
    },
    {
     "name": "stderr",
     "output_type": "stream",
     "text": [
      "Processing books:  88%|████████▊ | 1104/1250 [2:47:28<20:09,  8.29s/it]"
     ]
    },
    {
     "name": "stdout",
     "output_type": "stream",
     "text": [
      "Searching for: Harry Potter and the Goblet of Fire (Harry Potter, #4) J.K. Rowling book review\n"
     ]
    },
    {
     "name": "stderr",
     "output_type": "stream",
     "text": [
      "Processing books:  88%|████████▊ | 1105/1250 [2:47:49<29:05, 12.04s/it]"
     ]
    },
    {
     "name": "stdout",
     "output_type": "stream",
     "text": [
      "Searching for: Harry Potter and the Order of the Phoenix (Harry Potter, #5) J.K. Rowling book review\n"
     ]
    },
    {
     "name": "stderr",
     "output_type": "stream",
     "text": [
      "Processing books:  88%|████████▊ | 1106/1250 [2:48:13<37:40, 15.70s/it]"
     ]
    },
    {
     "name": "stdout",
     "output_type": "stream",
     "text": [
      "Searching for: Harry Potter and the Half-Blood Prince (Harry Potter, #6) J.K. Rowling book review\n"
     ]
    },
    {
     "name": "stderr",
     "output_type": "stream",
     "text": [
      "Processing books:  89%|████████▊ | 1107/1250 [2:48:25<35:08, 14.74s/it]"
     ]
    },
    {
     "name": "stdout",
     "output_type": "stream",
     "text": [
      "Searching for: Harry Potter and the Deathly Hallows (Harry Potter, #7) J.K. Rowling book review\n"
     ]
    },
    {
     "name": "stderr",
     "output_type": "stream",
     "text": [
      "Processing books:  89%|████████▊ | 1108/1250 [2:48:33<30:09, 12.75s/it]"
     ]
    },
    {
     "name": "stdout",
     "output_type": "stream",
     "text": [
      "Searching for: A Game of Thrones (A Song of Ice and Fire, #1) George R.R. Martin book review\n"
     ]
    },
    {
     "name": "stderr",
     "output_type": "stream",
     "text": [
      "Processing books:  89%|████████▊ | 1109/1250 [2:48:41<26:17, 11.19s/it]"
     ]
    },
    {
     "name": "stdout",
     "output_type": "stream",
     "text": [
      "Searching for: The Fellowship of the Ring (Middle Earth, #1) J.R.R. Tolkien book review\n"
     ]
    },
    {
     "name": "stderr",
     "output_type": "stream",
     "text": [
      "Processing books:  89%|████████▉ | 1110/1250 [2:48:45<21:14,  9.10s/it]"
     ]
    },
    {
     "name": "stdout",
     "output_type": "stream",
     "text": [
      "Searching for: A Court of Thorns and Roses (A Court of Thorns and Roses, #1) Sarah J. Maas book review\n"
     ]
    },
    {
     "name": "stderr",
     "output_type": "stream",
     "text": [
      "Processing books:  89%|████████▉ | 1111/1250 [2:48:55<21:14,  9.17s/it]"
     ]
    },
    {
     "name": "stdout",
     "output_type": "stream",
     "text": [
      "Searching for: A Clash of Kings  (A Song of Ice and Fire, #2) George R.R. Martin book review\n"
     ]
    },
    {
     "name": "stderr",
     "output_type": "stream",
     "text": [
      "Processing books:  89%|████████▉ | 1112/1250 [2:48:58<16:51,  7.33s/it]"
     ]
    },
    {
     "name": "stdout",
     "output_type": "stream",
     "text": [
      "Searching for: The Two Towers (Middle Earth, #3) J.R.R. Tolkien book review\n"
     ]
    },
    {
     "name": "stderr",
     "output_type": "stream",
     "text": [
      "Processing books:  89%|████████▉ | 1113/1250 [2:49:12<21:17,  9.33s/it]"
     ]
    },
    {
     "name": "stdout",
     "output_type": "stream",
     "text": [
      "Searching for: Six of Crows (Six of Crows, #1) Leigh Bardugo book review\n"
     ]
    },
    {
     "name": "stderr",
     "output_type": "stream",
     "text": [
      "Processing books:  89%|████████▉ | 1114/1250 [2:49:20<20:22,  8.99s/it]"
     ]
    },
    {
     "name": "stdout",
     "output_type": "stream",
     "text": [
      "Searching for: The Name of the Wind (The Kingkiller Chronicle, #1) Patrick Rothfuss book review\n"
     ]
    },
    {
     "name": "stderr",
     "output_type": "stream",
     "text": [
      "Processing books:  89%|████████▉ | 1115/1250 [2:49:21<14:52,  6.61s/it]"
     ]
    },
    {
     "name": "stdout",
     "output_type": "stream",
     "text": [
      "Searching for: The Final Empire (Mistborn, #1) Brandon Sanderson book review\n"
     ]
    },
    {
     "name": "stderr",
     "output_type": "stream",
     "text": [
      "Processing books:  89%|████████▉ | 1116/1250 [2:49:40<23:09, 10.37s/it]"
     ]
    },
    {
     "name": "stdout",
     "output_type": "stream",
     "text": [
      "Searching for: The Return of the King (Middle Earth, #4) J.R.R. Tolkien book review\n"
     ]
    },
    {
     "name": "stderr",
     "output_type": "stream",
     "text": [
      "Processing books:  89%|████████▉ | 1117/1250 [2:49:49<21:44,  9.81s/it]"
     ]
    },
    {
     "name": "stdout",
     "output_type": "stream",
     "text": [
      "Searching for: A Court of Mist and Fury (A Court of Thorns and Roses, #2) Sarah J. Maas book review\n"
     ]
    },
    {
     "name": "stderr",
     "output_type": "stream",
     "text": [
      "Processing books:  89%|████████▉ | 1118/1250 [2:49:54<18:50,  8.56s/it]"
     ]
    },
    {
     "name": "stdout",
     "output_type": "stream",
     "text": [
      "Searching for: The Lightning Thief (Percy Jackson and the Olympians, #1) Rick Riordan book review\n"
     ]
    },
    {
     "name": "stderr",
     "output_type": "stream",
     "text": [
      "Processing books:  90%|████████▉ | 1119/1250 [2:50:02<18:12,  8.34s/it]"
     ]
    },
    {
     "name": "stdout",
     "output_type": "stream",
     "text": [
      "Searching for: Shadow and Bone (The Shadow and Bone Trilogy, #1) Leigh Bardugo book review\n"
     ]
    },
    {
     "name": "stderr",
     "output_type": "stream",
     "text": [
      "Processing books:  90%|████████▉ | 1120/1250 [2:50:09<17:03,  7.87s/it]"
     ]
    },
    {
     "name": "stdout",
     "output_type": "stream",
     "text": [
      "Searching for: The Lion, the Witch and the Wardrobe (Chronicles of Narnia, #1) C.S. Lewis book review\n"
     ]
    },
    {
     "name": "stderr",
     "output_type": "stream",
     "text": [
      "Processing books:  90%|████████▉ | 1121/1250 [2:50:24<21:47, 10.14s/it]"
     ]
    },
    {
     "name": "stdout",
     "output_type": "stream",
     "text": [
      "Searching for: The Cruel Prince (The Folk of the Air, #1) Holly Black book review\n"
     ]
    },
    {
     "name": "stderr",
     "output_type": "stream",
     "text": [
      "Processing books:  90%|████████▉ | 1122/1250 [2:50:42<26:25, 12.39s/it]"
     ]
    },
    {
     "name": "stdout",
     "output_type": "stream",
     "text": [
      "Searching for: A Storm of Swords (A Song of Ice and Fire, #3) George R.R. Martin book review\n"
     ]
    },
    {
     "name": "stderr",
     "output_type": "stream",
     "text": [
      "Processing books:  90%|████████▉ | 1123/1250 [2:50:45<20:21,  9.62s/it]"
     ]
    },
    {
     "name": "stdout",
     "output_type": "stream",
     "text": [
      "Searching for: A Feast for Crows (A Song of Ice and Fire, #4) George R.R. Martin book review\n"
     ]
    },
    {
     "name": "stderr",
     "output_type": "stream",
     "text": [
      "Processing books:  90%|████████▉ | 1124/1250 [2:50:50<17:16,  8.22s/it]"
     ]
    },
    {
     "name": "stdout",
     "output_type": "stream",
     "text": [
      "Searching for: The Golden Compass (His Dark Materials, #1) Philip Pullman book review\n"
     ]
    },
    {
     "name": "stderr",
     "output_type": "stream",
     "text": [
      "Processing books:  90%|█████████ | 1125/1250 [2:50:54<14:34,  7.00s/it]"
     ]
    },
    {
     "name": "stdout",
     "output_type": "stream",
     "text": [
      "Searching for: Eragon (The Inheritance Cycle, #1) Christopher Paolini book review\n"
     ]
    },
    {
     "name": "stderr",
     "output_type": "stream",
     "text": [
      "Processing books:  90%|█████████ | 1126/1250 [2:51:04<16:31,  8.00s/it]"
     ]
    },
    {
     "name": "stdout",
     "output_type": "stream",
     "text": [
      "Searching for: A Court of Wings and Ruin (A Court of Thorns and Roses, #3) Sarah J. Maas book review\n"
     ]
    },
    {
     "name": "stderr",
     "output_type": "stream",
     "text": [
      "Processing books:  90%|█████████ | 1127/1250 [2:51:17<19:24,  9.47s/it]"
     ]
    },
    {
     "name": "stdout",
     "output_type": "stream",
     "text": [
      "Searching for: A Dance with Dragons (A Song of Ice and Fire, #5) George R.R. Martin book review\n"
     ]
    },
    {
     "name": "stderr",
     "output_type": "stream",
     "text": [
      "Processing books:  90%|█████████ | 1128/1250 [2:51:28<20:15,  9.97s/it]"
     ]
    },
    {
     "name": "stdout",
     "output_type": "stream",
     "text": [
      "Searching for: The Night Circus (Hardcover) Erin Morgenstern book review\n"
     ]
    },
    {
     "name": "stderr",
     "output_type": "stream",
     "text": [
      "Processing books:  90%|█████████ | 1129/1250 [2:51:49<26:33, 13.17s/it]"
     ]
    },
    {
     "name": "stdout",
     "output_type": "stream",
     "text": [
      "Searching for: American Gods (Kindle Edition) Neil Gaiman book review\n"
     ]
    },
    {
     "name": "stderr",
     "output_type": "stream",
     "text": [
      "Processing books:  90%|█████████ | 1130/1250 [2:52:01<25:18, 12.65s/it]"
     ]
    },
    {
     "name": "stdout",
     "output_type": "stream",
     "text": [
      "Searching for: City of Bones (The Mortal Instruments, #1) Cassandra Clare book review\n"
     ]
    },
    {
     "name": "stderr",
     "output_type": "stream",
     "text": [
      "Processing books:  90%|█████████ | 1131/1250 [2:52:06<20:49, 10.50s/it]"
     ]
    },
    {
     "name": "stdout",
     "output_type": "stream",
     "text": [
      "Searching for: The Eye of the World (The Wheel of Time, #1) Robert Jordan book review\n"
     ]
    },
    {
     "name": "stderr",
     "output_type": "stream",
     "text": [
      "Processing books:  91%|█████████ | 1132/1250 [2:52:07<15:05,  7.68s/it]"
     ]
    },
    {
     "name": "stdout",
     "output_type": "stream",
     "text": [
      "Searching for: Twilight (The Twilight Saga, #1) Stephenie Meyer book review\n"
     ]
    },
    {
     "name": "stderr",
     "output_type": "stream",
     "text": [
      "Processing books:  91%|█████████ | 1133/1250 [2:52:12<13:36,  6.98s/it]"
     ]
    },
    {
     "name": "stdout",
     "output_type": "stream",
     "text": [
      "Searching for: The Way of Kings (The Stormlight Archive, #1) Brandon Sanderson book review\n",
      "Error processing https://www.geeksundergrace.com/books/review-stormlight-archive-the-way-of-kings/: HTTPSConnectionPool(host='www.geeksundergrace.com', port=443): Max retries exceeded with url: /books/review-stormlight-archive-the-way-of-kings/ (Caused by ProtocolError('Connection aborted.', RemoteDisconnected('Remote end closed connection without response')))\n"
     ]
    },
    {
     "name": "stderr",
     "output_type": "stream",
     "text": [
      "Processing books:  91%|█████████ | 1134/1250 [2:52:27<17:58,  9.30s/it]"
     ]
    },
    {
     "name": "stdout",
     "output_type": "stream",
     "text": [
      "Searching for: Crown of Midnight (Throne of Glass, #2) Sarah J. Maas book review\n"
     ]
    },
    {
     "name": "stderr",
     "output_type": "stream",
     "text": [
      "Processing books:  91%|█████████ | 1135/1250 [2:52:33<16:04,  8.39s/it]"
     ]
    },
    {
     "name": "stdout",
     "output_type": "stream",
     "text": [
      "Searching for: A Darker Shade of Magic (Shades of Magic, #1) Victoria Schwab book review\n"
     ]
    },
    {
     "name": "stderr",
     "output_type": "stream",
     "text": [
      "Processing books:  91%|█████████ | 1136/1250 [2:52:42<15:48,  8.32s/it]"
     ]
    },
    {
     "name": "stdout",
     "output_type": "stream",
     "text": [
      "Searching for: Crooked Kingdom (Six of Crows, #2) Leigh Bardugo book review\n"
     ]
    },
    {
     "name": "stderr",
     "output_type": "stream",
     "text": [
      "Processing books:  91%|█████████ | 1137/1250 [2:52:46<13:17,  7.06s/it]"
     ]
    },
    {
     "name": "stdout",
     "output_type": "stream",
     "text": [
      "Searching for: Good Omens: The Nice and Accurate Prophecies of Agnes Nutter, Witch (Mass Market Paperback) Terry Pratchett book review\n"
     ]
    },
    {
     "name": "stderr",
     "output_type": "stream",
     "text": [
      "Processing books:  91%|█████████ | 1138/1250 [2:52:53<13:06,  7.03s/it]"
     ]
    },
    {
     "name": "stdout",
     "output_type": "stream",
     "text": [
      "Searching for: The Sea of Monsters (Percy Jackson and the Olympians, #2) Rick Riordan book review\n"
     ]
    },
    {
     "name": "stderr",
     "output_type": "stream",
     "text": [
      "Processing books:  91%|█████████ | 1139/1250 [2:53:03<14:45,  7.98s/it]"
     ]
    },
    {
     "name": "stdout",
     "output_type": "stream",
     "text": [
      "Searching for: The Well of Ascension (Mistborn, #2) Brandon Sanderson book review\n"
     ]
    },
    {
     "name": "stderr",
     "output_type": "stream",
     "text": [
      "Processing books:  91%|█████████ | 1140/1250 [2:53:04<10:47,  5.89s/it]"
     ]
    },
    {
     "name": "stdout",
     "output_type": "stream",
     "text": [
      "Searching for: Stardust (Paperback) Neil Gaiman book review\n"
     ]
    },
    {
     "name": "stderr",
     "output_type": "stream",
     "text": [
      "Processing books:  91%|█████████▏| 1141/1250 [2:53:17<14:22,  7.92s/it]"
     ]
    },
    {
     "name": "stdout",
     "output_type": "stream",
     "text": [
      "Searching for: Assassin's Apprentice (Farseer Trilogy, #1) Robin Hobb book review\n"
     ]
    },
    {
     "name": "stderr",
     "output_type": "stream",
     "text": [
      "Processing books:  91%|█████████▏| 1142/1250 [2:53:21<12:07,  6.74s/it]"
     ]
    },
    {
     "name": "stdout",
     "output_type": "stream",
     "text": [
      "Searching for: Siege and Storm (The Shadow and Bone Trilogy, #2) Leigh Bardugo book review\n"
     ]
    },
    {
     "name": "stderr",
     "output_type": "stream",
     "text": [
      "Processing books:  91%|█████████▏| 1143/1250 [2:53:27<11:46,  6.60s/it]"
     ]
    },
    {
     "name": "stdout",
     "output_type": "stream",
     "text": [
      "Searching for: Neverwhere (London Below, #1) Neil Gaiman book review\n"
     ]
    },
    {
     "name": "stderr",
     "output_type": "stream",
     "text": [
      "Processing books:  92%|█████████▏| 1144/1250 [2:53:47<19:06, 10.81s/it]"
     ]
    },
    {
     "name": "stdout",
     "output_type": "stream",
     "text": [
      "Searching for: A Court of Frost and Starlight (A Court of Thorns and Roses, #3.5) Sarah J. Maas book review\n"
     ]
    },
    {
     "name": "stderr",
     "output_type": "stream",
     "text": [
      "Processing books:  92%|█████████▏| 1145/1250 [2:54:00<19:42, 11.26s/it]"
     ]
    },
    {
     "name": "stdout",
     "output_type": "stream",
     "text": [
      "Searching for: The Wicked King (The Folk of the Air, #2) Holly Black book review\n"
     ]
    },
    {
     "name": "stderr",
     "output_type": "stream",
     "text": [
      "Processing books:  92%|█████████▏| 1146/1250 [2:54:04<15:48,  9.12s/it]"
     ]
    },
    {
     "name": "stdout",
     "output_type": "stream",
     "text": [
      "Searching for: The Lord of the Rings (Middle Earth, #2-4) J.R.R. Tolkien book review\n"
     ]
    },
    {
     "name": "stderr",
     "output_type": "stream",
     "text": [
      "Processing books:  92%|█████████▏| 1147/1250 [2:54:10<14:17,  8.32s/it]"
     ]
    },
    {
     "name": "stdout",
     "output_type": "stream",
     "text": [
      "Searching for: The Wise Man’s Fear (The Kingkiller Chronicle, #2) Patrick Rothfuss book review\n"
     ]
    },
    {
     "name": "stderr",
     "output_type": "stream",
     "text": [
      "Processing books:  92%|█████████▏| 1148/1250 [2:54:11<10:28,  6.16s/it]"
     ]
    },
    {
     "name": "stdout",
     "output_type": "stream",
     "text": [
      "Searching for: The Lies of Locke Lamora (Gentleman Bastard, #1) Scott Lynch book review\n"
     ]
    },
    {
     "name": "stderr",
     "output_type": "stream",
     "text": [
      "Processing books:  92%|█████████▏| 1149/1250 [2:54:17<10:08,  6.02s/it]"
     ]
    },
    {
     "name": "stdout",
     "output_type": "stream",
     "text": [
      "Searching for: The Invisible Life of Addie LaRue (Kindle Edition) Victoria Schwab book review\n"
     ]
    },
    {
     "name": "stderr",
     "output_type": "stream",
     "text": [
      "Processing books:  92%|█████████▏| 1150/1250 [2:54:20<08:16,  4.97s/it]"
     ]
    },
    {
     "name": "stdout",
     "output_type": "stream",
     "text": [
      "Searching for: Harry Potter and the Sorcerer’s Stone (Harry Potter, #1) J.K. Rowling book review\n"
     ]
    },
    {
     "name": "stderr",
     "output_type": "stream",
     "text": [
      "Processing books:  92%|█████████▏| 1151/1250 [2:54:28<09:42,  5.88s/it]"
     ]
    },
    {
     "name": "stdout",
     "output_type": "stream",
     "text": [
      "Searching for: Harry Potter and the Chamber of Secrets (Harry Potter, #2) J.K. Rowling book review\n"
     ]
    },
    {
     "name": "stderr",
     "output_type": "stream",
     "text": [
      "Processing books:  92%|█████████▏| 1152/1250 [2:54:43<14:04,  8.61s/it]"
     ]
    },
    {
     "name": "stdout",
     "output_type": "stream",
     "text": [
      "Searching for: Harry Potter and the Prisoner of Azkaban (Harry Potter, #3) J.K. Rowling book review\n"
     ]
    },
    {
     "name": "stderr",
     "output_type": "stream",
     "text": [
      "Processing books:  92%|█████████▏| 1153/1250 [2:55:01<18:53, 11.69s/it]"
     ]
    },
    {
     "name": "stdout",
     "output_type": "stream",
     "text": [
      "Searching for: The Hobbit (The Lord of the Rings, #0) J.R.R. Tolkien book review\n"
     ]
    },
    {
     "name": "stderr",
     "output_type": "stream",
     "text": [
      "Processing books:  92%|█████████▏| 1154/1250 [2:55:07<15:30,  9.69s/it]"
     ]
    },
    {
     "name": "stdout",
     "output_type": "stream",
     "text": [
      "Searching for: Harry Potter and the Goblet of Fire (Harry Potter, #4) J.K. Rowling book review\n"
     ]
    },
    {
     "name": "stderr",
     "output_type": "stream",
     "text": [
      "Processing books:  92%|█████████▏| 1155/1250 [2:55:22<17:53, 11.30s/it]"
     ]
    },
    {
     "name": "stdout",
     "output_type": "stream",
     "text": [
      "Searching for: Harry Potter and the Order of the Phoenix (Harry Potter, #5) J.K. Rowling book review\n"
     ]
    },
    {
     "name": "stderr",
     "output_type": "stream",
     "text": [
      "Processing books:  92%|█████████▏| 1156/1250 [2:55:41<21:23, 13.65s/it]"
     ]
    },
    {
     "name": "stdout",
     "output_type": "stream",
     "text": [
      "Searching for: Harry Potter and the Half-Blood Prince (Harry Potter, #6) J.K. Rowling book review\n"
     ]
    },
    {
     "name": "stderr",
     "output_type": "stream",
     "text": [
      "Processing books:  93%|█████████▎| 1157/1250 [2:55:54<21:12, 13.69s/it]"
     ]
    },
    {
     "name": "stdout",
     "output_type": "stream",
     "text": [
      "Searching for: Harry Potter and the Deathly Hallows (Harry Potter, #7) J.K. Rowling book review\n"
     ]
    },
    {
     "name": "stderr",
     "output_type": "stream",
     "text": [
      "Processing books:  93%|█████████▎| 1158/1250 [2:56:01<17:36, 11.49s/it]"
     ]
    },
    {
     "name": "stdout",
     "output_type": "stream",
     "text": [
      "Searching for: A Game of Thrones (A Song of Ice and Fire, #1) George R.R. Martin book review\n"
     ]
    },
    {
     "name": "stderr",
     "output_type": "stream",
     "text": [
      "Processing books:  93%|█████████▎| 1159/1250 [2:56:06<14:31,  9.58s/it]"
     ]
    },
    {
     "name": "stdout",
     "output_type": "stream",
     "text": [
      "Searching for: The Fellowship of the Ring (Middle Earth, #1) J.R.R. Tolkien book review\n"
     ]
    },
    {
     "name": "stderr",
     "output_type": "stream",
     "text": [
      "Processing books:  93%|█████████▎| 1160/1250 [2:56:10<11:54,  7.94s/it]"
     ]
    },
    {
     "name": "stdout",
     "output_type": "stream",
     "text": [
      "Searching for: A Court of Thorns and Roses (A Court of Thorns and Roses, #1) Sarah J. Maas book review\n"
     ]
    },
    {
     "name": "stderr",
     "output_type": "stream",
     "text": [
      "Processing books:  93%|█████████▎| 1161/1250 [2:56:22<13:39,  9.20s/it]"
     ]
    },
    {
     "name": "stdout",
     "output_type": "stream",
     "text": [
      "Searching for: A Clash of Kings  (A Song of Ice and Fire, #2) George R.R. Martin book review\n"
     ]
    },
    {
     "name": "stderr",
     "output_type": "stream",
     "text": [
      "Processing books:  93%|█████████▎| 1162/1250 [2:56:25<10:47,  7.36s/it]"
     ]
    },
    {
     "name": "stdout",
     "output_type": "stream",
     "text": [
      "Searching for: The Two Towers (Middle Earth, #3) J.R.R. Tolkien book review\n"
     ]
    },
    {
     "name": "stderr",
     "output_type": "stream",
     "text": [
      "Processing books:  93%|█████████▎| 1163/1250 [2:56:41<14:14,  9.82s/it]"
     ]
    },
    {
     "name": "stdout",
     "output_type": "stream",
     "text": [
      "Searching for: Six of Crows (Six of Crows, #1) Leigh Bardugo book review\n"
     ]
    },
    {
     "name": "stderr",
     "output_type": "stream",
     "text": [
      "Processing books:  93%|█████████▎| 1164/1250 [2:56:47<12:34,  8.77s/it]"
     ]
    },
    {
     "name": "stdout",
     "output_type": "stream",
     "text": [
      "Searching for: The Name of the Wind (The Kingkiller Chronicle, #1) Patrick Rothfuss book review\n"
     ]
    },
    {
     "name": "stderr",
     "output_type": "stream",
     "text": [
      "Processing books:  93%|█████████▎| 1165/1250 [2:56:48<09:11,  6.48s/it]"
     ]
    },
    {
     "name": "stdout",
     "output_type": "stream",
     "text": [
      "Searching for: The Final Empire (Mistborn, #1) Brandon Sanderson book review\n"
     ]
    },
    {
     "name": "stderr",
     "output_type": "stream",
     "text": [
      "Processing books:  93%|█████████▎| 1166/1250 [2:57:06<13:57,  9.97s/it]"
     ]
    },
    {
     "name": "stdout",
     "output_type": "stream",
     "text": [
      "Searching for: The Return of the King (Middle Earth, #4) J.R.R. Tolkien book review\n"
     ]
    },
    {
     "name": "stderr",
     "output_type": "stream",
     "text": [
      "Processing books:  93%|█████████▎| 1167/1250 [2:57:16<13:45,  9.94s/it]"
     ]
    },
    {
     "name": "stdout",
     "output_type": "stream",
     "text": [
      "Searching for: A Court of Mist and Fury (A Court of Thorns and Roses, #2) Sarah J. Maas book review\n"
     ]
    },
    {
     "name": "stderr",
     "output_type": "stream",
     "text": [
      "Processing books:  93%|█████████▎| 1168/1250 [2:57:20<11:08,  8.15s/it]"
     ]
    },
    {
     "name": "stdout",
     "output_type": "stream",
     "text": [
      "Searching for: The Lightning Thief (Percy Jackson and the Olympians, #1) Rick Riordan book review\n"
     ]
    },
    {
     "name": "stderr",
     "output_type": "stream",
     "text": [
      "Processing books:  94%|█████████▎| 1169/1250 [2:57:29<11:04,  8.21s/it]"
     ]
    },
    {
     "name": "stdout",
     "output_type": "stream",
     "text": [
      "Searching for: Shadow and Bone (The Shadow and Bone Trilogy, #1) Leigh Bardugo book review\n"
     ]
    },
    {
     "name": "stderr",
     "output_type": "stream",
     "text": [
      "Processing books:  94%|█████████▎| 1170/1250 [2:57:35<10:06,  7.58s/it]"
     ]
    },
    {
     "name": "stdout",
     "output_type": "stream",
     "text": [
      "Searching for: The Lion, the Witch and the Wardrobe (Chronicles of Narnia, #1) C.S. Lewis book review\n"
     ]
    },
    {
     "name": "stderr",
     "output_type": "stream",
     "text": [
      "Processing books:  94%|█████████▎| 1171/1250 [2:57:53<14:07, 10.73s/it]"
     ]
    },
    {
     "name": "stdout",
     "output_type": "stream",
     "text": [
      "Searching for: The Cruel Prince (The Folk of the Air, #1) Holly Black book review\n"
     ]
    },
    {
     "name": "stderr",
     "output_type": "stream",
     "text": [
      "Processing books:  94%|█████████▍| 1172/1250 [2:58:03<13:41, 10.53s/it]"
     ]
    },
    {
     "name": "stdout",
     "output_type": "stream",
     "text": [
      "Searching for: A Storm of Swords (A Song of Ice and Fire, #3) George R.R. Martin book review\n"
     ]
    },
    {
     "name": "stderr",
     "output_type": "stream",
     "text": [
      "Processing books:  94%|█████████▍| 1173/1250 [2:58:05<10:27,  8.15s/it]"
     ]
    },
    {
     "name": "stdout",
     "output_type": "stream",
     "text": [
      "Searching for: A Feast for Crows (A Song of Ice and Fire, #4) George R.R. Martin book review\n"
     ]
    },
    {
     "name": "stderr",
     "output_type": "stream",
     "text": [
      "Processing books:  94%|█████████▍| 1174/1250 [2:58:12<09:32,  7.53s/it]"
     ]
    },
    {
     "name": "stdout",
     "output_type": "stream",
     "text": [
      "Searching for: The Golden Compass (His Dark Materials, #1) Philip Pullman book review\n"
     ]
    },
    {
     "name": "stderr",
     "output_type": "stream",
     "text": [
      "Processing books:  94%|█████████▍| 1175/1250 [2:58:19<09:18,  7.45s/it]"
     ]
    },
    {
     "name": "stdout",
     "output_type": "stream",
     "text": [
      "Searching for: Eragon (The Inheritance Cycle, #1) Christopher Paolini book review\n"
     ]
    },
    {
     "name": "stderr",
     "output_type": "stream",
     "text": [
      "Processing books:  94%|█████████▍| 1176/1250 [2:58:29<10:20,  8.38s/it]"
     ]
    },
    {
     "name": "stdout",
     "output_type": "stream",
     "text": [
      "Searching for: A Court of Wings and Ruin (A Court of Thorns and Roses, #3) Sarah J. Maas book review\n"
     ]
    },
    {
     "name": "stderr",
     "output_type": "stream",
     "text": [
      "Processing books:  94%|█████████▍| 1177/1250 [2:58:42<11:35,  9.52s/it]"
     ]
    },
    {
     "name": "stdout",
     "output_type": "stream",
     "text": [
      "Searching for: A Dance with Dragons (A Song of Ice and Fire, #5) George R.R. Martin book review\n"
     ]
    },
    {
     "name": "stderr",
     "output_type": "stream",
     "text": [
      "Processing books:  94%|█████████▍| 1178/1250 [2:58:46<09:32,  7.95s/it]"
     ]
    },
    {
     "name": "stdout",
     "output_type": "stream",
     "text": [
      "Searching for: The Night Circus (Hardcover) Erin Morgenstern book review\n"
     ]
    },
    {
     "name": "stderr",
     "output_type": "stream",
     "text": [
      "Processing books:  94%|█████████▍| 1179/1250 [2:59:08<14:24, 12.18s/it]"
     ]
    },
    {
     "name": "stdout",
     "output_type": "stream",
     "text": [
      "Searching for: American Gods (Kindle Edition) Neil Gaiman book review\n"
     ]
    },
    {
     "name": "stderr",
     "output_type": "stream",
     "text": [
      "Processing books:  94%|█████████▍| 1180/1250 [2:59:20<14:08, 12.12s/it]"
     ]
    },
    {
     "name": "stdout",
     "output_type": "stream",
     "text": [
      "Searching for: City of Bones (The Mortal Instruments, #1) Cassandra Clare book review\n"
     ]
    },
    {
     "name": "stderr",
     "output_type": "stream",
     "text": [
      "Processing books:  94%|█████████▍| 1181/1250 [2:59:22<10:39,  9.26s/it]"
     ]
    },
    {
     "name": "stdout",
     "output_type": "stream",
     "text": [
      "Searching for: The Eye of the World (The Wheel of Time, #1) Robert Jordan book review\n"
     ]
    },
    {
     "name": "stderr",
     "output_type": "stream",
     "text": [
      "Processing books:  95%|█████████▍| 1182/1250 [2:59:24<07:43,  6.81s/it]"
     ]
    },
    {
     "name": "stdout",
     "output_type": "stream",
     "text": [
      "Searching for: Twilight (The Twilight Saga, #1) Stephenie Meyer book review\n"
     ]
    },
    {
     "name": "stderr",
     "output_type": "stream",
     "text": [
      "Processing books:  95%|█████████▍| 1183/1250 [2:59:32<08:04,  7.24s/it]"
     ]
    },
    {
     "name": "stdout",
     "output_type": "stream",
     "text": [
      "Searching for: The Way of Kings (The Stormlight Archive, #1) Brandon Sanderson book review\n"
     ]
    },
    {
     "name": "stderr",
     "output_type": "stream",
     "text": [
      "Processing books:  95%|█████████▍| 1184/1250 [2:59:39<07:48,  7.10s/it]"
     ]
    },
    {
     "name": "stdout",
     "output_type": "stream",
     "text": [
      "Searching for: Crown of Midnight (Throne of Glass, #2) Sarah J. Maas book review\n"
     ]
    },
    {
     "name": "stderr",
     "output_type": "stream",
     "text": [
      "Processing books:  95%|█████████▍| 1185/1250 [2:59:48<08:33,  7.91s/it]"
     ]
    },
    {
     "name": "stdout",
     "output_type": "stream",
     "text": [
      "Searching for: A Darker Shade of Magic (Shades of Magic, #1) Victoria Schwab book review\n"
     ]
    },
    {
     "name": "stderr",
     "output_type": "stream",
     "text": [
      "Processing books:  95%|█████████▍| 1186/1250 [2:59:51<06:47,  6.37s/it]"
     ]
    },
    {
     "name": "stdout",
     "output_type": "stream",
     "text": [
      "Searching for: Crooked Kingdom (Six of Crows, #2) Leigh Bardugo book review\n"
     ]
    },
    {
     "name": "stderr",
     "output_type": "stream",
     "text": [
      "Processing books:  95%|█████████▍| 1187/1250 [3:00:00<07:24,  7.06s/it]"
     ]
    },
    {
     "name": "stdout",
     "output_type": "stream",
     "text": [
      "Searching for: Good Omens: The Nice and Accurate Prophecies of Agnes Nutter, Witch (Mass Market Paperback) Terry Pratchett book review\n"
     ]
    },
    {
     "name": "stderr",
     "output_type": "stream",
     "text": [
      "Processing books:  95%|█████████▌| 1188/1250 [3:00:06<06:54,  6.69s/it]"
     ]
    },
    {
     "name": "stdout",
     "output_type": "stream",
     "text": [
      "Searching for: The Sea of Monsters (Percy Jackson and the Olympians, #2) Rick Riordan book review\n"
     ]
    },
    {
     "name": "stderr",
     "output_type": "stream",
     "text": [
      "Processing books:  95%|█████████▌| 1189/1250 [3:00:15<07:36,  7.49s/it]"
     ]
    },
    {
     "name": "stdout",
     "output_type": "stream",
     "text": [
      "Searching for: The Well of Ascension (Mistborn, #2) Brandon Sanderson book review\n"
     ]
    },
    {
     "name": "stderr",
     "output_type": "stream",
     "text": [
      "Processing books:  95%|█████████▌| 1190/1250 [3:00:16<05:32,  5.54s/it]"
     ]
    },
    {
     "name": "stdout",
     "output_type": "stream",
     "text": [
      "Searching for: Stardust (Paperback) Neil Gaiman book review\n"
     ]
    },
    {
     "name": "stderr",
     "output_type": "stream",
     "text": [
      "Processing books:  95%|█████████▌| 1191/1250 [3:00:31<08:21,  8.51s/it]"
     ]
    },
    {
     "name": "stdout",
     "output_type": "stream",
     "text": [
      "Searching for: Assassin's Apprentice (Farseer Trilogy, #1) Robin Hobb book review\n"
     ]
    },
    {
     "name": "stderr",
     "output_type": "stream",
     "text": [
      "Processing books:  95%|█████████▌| 1192/1250 [3:00:33<06:04,  6.28s/it]"
     ]
    },
    {
     "name": "stdout",
     "output_type": "stream",
     "text": [
      "Searching for: Siege and Storm (The Shadow and Bone Trilogy, #2) Leigh Bardugo book review\n"
     ]
    },
    {
     "name": "stderr",
     "output_type": "stream",
     "text": [
      "Processing books:  95%|█████████▌| 1193/1250 [3:00:40<06:24,  6.74s/it]"
     ]
    },
    {
     "name": "stdout",
     "output_type": "stream",
     "text": [
      "Searching for: Neverwhere (London Below, #1) Neil Gaiman book review\n"
     ]
    },
    {
     "name": "stderr",
     "output_type": "stream",
     "text": [
      "Processing books:  96%|█████████▌| 1194/1250 [3:01:04<11:00, 11.80s/it]"
     ]
    },
    {
     "name": "stdout",
     "output_type": "stream",
     "text": [
      "Searching for: A Court of Frost and Starlight (A Court of Thorns and Roses, #3.5) Sarah J. Maas book review\n"
     ]
    },
    {
     "name": "stderr",
     "output_type": "stream",
     "text": [
      "Processing books:  96%|█████████▌| 1195/1250 [3:01:20<11:52, 12.95s/it]"
     ]
    },
    {
     "name": "stdout",
     "output_type": "stream",
     "text": [
      "Searching for: The Wicked King (The Folk of the Air, #2) Holly Black book review\n"
     ]
    },
    {
     "name": "stderr",
     "output_type": "stream",
     "text": [
      "Processing books:  96%|█████████▌| 1196/1250 [3:01:24<09:14, 10.27s/it]"
     ]
    },
    {
     "name": "stdout",
     "output_type": "stream",
     "text": [
      "Searching for: The Lord of the Rings (Middle Earth, #2-4) J.R.R. Tolkien book review\n"
     ]
    },
    {
     "name": "stderr",
     "output_type": "stream",
     "text": [
      "Processing books:  96%|█████████▌| 1197/1250 [3:01:31<08:26,  9.55s/it]"
     ]
    },
    {
     "name": "stdout",
     "output_type": "stream",
     "text": [
      "Searching for: The Wise Man’s Fear (The Kingkiller Chronicle, #2) Patrick Rothfuss book review\n"
     ]
    },
    {
     "name": "stderr",
     "output_type": "stream",
     "text": [
      "Processing books:  96%|█████████▌| 1198/1250 [3:01:32<06:03,  7.00s/it]"
     ]
    },
    {
     "name": "stdout",
     "output_type": "stream",
     "text": [
      "Searching for: The Lies of Locke Lamora (Gentleman Bastard, #1) Scott Lynch book review\n"
     ]
    },
    {
     "name": "stderr",
     "output_type": "stream",
     "text": [
      "Processing books:  96%|█████████▌| 1199/1250 [3:01:42<06:33,  7.71s/it]"
     ]
    },
    {
     "name": "stdout",
     "output_type": "stream",
     "text": [
      "Searching for: The Invisible Life of Addie LaRue (Kindle Edition) Victoria Schwab book review\n"
     ]
    },
    {
     "name": "stderr",
     "output_type": "stream",
     "text": [
      "Processing books:  96%|█████████▌| 1200/1250 [3:01:46<05:34,  6.70s/it]"
     ]
    },
    {
     "name": "stdout",
     "output_type": "stream",
     "text": [
      "Searching for: Harry Potter and the Sorcerer’s Stone (Harry Potter, #1) J.K. Rowling book review\n"
     ]
    },
    {
     "name": "stderr",
     "output_type": "stream",
     "text": [
      "Processing books:  96%|█████████▌| 1201/1250 [3:01:54<05:43,  7.02s/it]"
     ]
    },
    {
     "name": "stdout",
     "output_type": "stream",
     "text": [
      "Searching for: Harry Potter and the Chamber of Secrets (Harry Potter, #2) J.K. Rowling book review\n"
     ]
    },
    {
     "name": "stderr",
     "output_type": "stream",
     "text": [
      "Processing books:  96%|█████████▌| 1202/1250 [3:02:07<07:01,  8.78s/it]"
     ]
    },
    {
     "name": "stdout",
     "output_type": "stream",
     "text": [
      "Searching for: Harry Potter and the Prisoner of Azkaban (Harry Potter, #3) J.K. Rowling book review\n"
     ]
    },
    {
     "name": "stderr",
     "output_type": "stream",
     "text": [
      "Processing books:  96%|█████████▌| 1203/1250 [3:02:26<09:13, 11.78s/it]"
     ]
    },
    {
     "name": "stdout",
     "output_type": "stream",
     "text": [
      "Searching for: The Hobbit (The Lord of the Rings, #0) J.R.R. Tolkien book review\n"
     ]
    },
    {
     "name": "stderr",
     "output_type": "stream",
     "text": [
      "Processing books:  96%|█████████▋| 1204/1250 [3:02:30<07:23,  9.65s/it]"
     ]
    },
    {
     "name": "stdout",
     "output_type": "stream",
     "text": [
      "Searching for: Harry Potter and the Goblet of Fire (Harry Potter, #4) J.K. Rowling book review\n"
     ]
    },
    {
     "name": "stderr",
     "output_type": "stream",
     "text": [
      "Processing books:  96%|█████████▋| 1205/1250 [3:02:51<09:44, 12.98s/it]"
     ]
    },
    {
     "name": "stdout",
     "output_type": "stream",
     "text": [
      "Searching for: Harry Potter and the Order of the Phoenix (Harry Potter, #5) J.K. Rowling book review\n"
     ]
    },
    {
     "name": "stderr",
     "output_type": "stream",
     "text": [
      "Processing books:  96%|█████████▋| 1206/1250 [3:03:12<11:18, 15.42s/it]"
     ]
    },
    {
     "name": "stdout",
     "output_type": "stream",
     "text": [
      "Searching for: Harry Potter and the Half-Blood Prince (Harry Potter, #6) J.K. Rowling book review\n"
     ]
    },
    {
     "name": "stderr",
     "output_type": "stream",
     "text": [
      "Processing books:  97%|█████████▋| 1207/1250 [3:03:25<10:34, 14.76s/it]"
     ]
    },
    {
     "name": "stdout",
     "output_type": "stream",
     "text": [
      "Searching for: Harry Potter and the Deathly Hallows (Harry Potter, #7) J.K. Rowling book review\n"
     ]
    },
    {
     "name": "stderr",
     "output_type": "stream",
     "text": [
      "Processing books:  97%|█████████▋| 1208/1250 [3:03:34<08:59, 12.84s/it]"
     ]
    },
    {
     "name": "stdout",
     "output_type": "stream",
     "text": [
      "Searching for: A Game of Thrones (A Song of Ice and Fire, #1) George R.R. Martin book review\n"
     ]
    },
    {
     "name": "stderr",
     "output_type": "stream",
     "text": [
      "Processing books:  97%|█████████▋| 1209/1250 [3:03:41<07:41, 11.27s/it]"
     ]
    },
    {
     "name": "stdout",
     "output_type": "stream",
     "text": [
      "Searching for: The Fellowship of the Ring (Middle Earth, #1) J.R.R. Tolkien book review\n"
     ]
    },
    {
     "name": "stderr",
     "output_type": "stream",
     "text": [
      "Processing books:  97%|█████████▋| 1210/1250 [3:03:45<06:00,  9.02s/it]"
     ]
    },
    {
     "name": "stdout",
     "output_type": "stream",
     "text": [
      "Searching for: A Court of Thorns and Roses (A Court of Thorns and Roses, #1) Sarah J. Maas book review\n"
     ]
    },
    {
     "name": "stderr",
     "output_type": "stream",
     "text": [
      "Processing books:  97%|█████████▋| 1211/1250 [3:03:55<06:01,  9.26s/it]"
     ]
    },
    {
     "name": "stdout",
     "output_type": "stream",
     "text": [
      "Searching for: A Clash of Kings  (A Song of Ice and Fire, #2) George R.R. Martin book review\n"
     ]
    },
    {
     "name": "stderr",
     "output_type": "stream",
     "text": [
      "Processing books:  97%|█████████▋| 1212/1250 [3:03:58<04:42,  7.42s/it]"
     ]
    },
    {
     "name": "stdout",
     "output_type": "stream",
     "text": [
      "Searching for: The Two Towers (Middle Earth, #3) J.R.R. Tolkien book review\n"
     ]
    },
    {
     "name": "stderr",
     "output_type": "stream",
     "text": [
      "Processing books:  97%|█████████▋| 1213/1250 [3:04:16<06:33, 10.63s/it]"
     ]
    },
    {
     "name": "stdout",
     "output_type": "stream",
     "text": [
      "Searching for: Six of Crows (Six of Crows, #1) Leigh Bardugo book review\n"
     ]
    },
    {
     "name": "stderr",
     "output_type": "stream",
     "text": [
      "Processing books:  97%|█████████▋| 1214/1250 [3:04:23<05:38,  9.39s/it]"
     ]
    },
    {
     "name": "stdout",
     "output_type": "stream",
     "text": [
      "Searching for: The Name of the Wind (The Kingkiller Chronicle, #1) Patrick Rothfuss book review\n"
     ]
    },
    {
     "name": "stderr",
     "output_type": "stream",
     "text": [
      "Processing books:  97%|█████████▋| 1215/1250 [3:04:24<04:01,  6.90s/it]"
     ]
    },
    {
     "name": "stdout",
     "output_type": "stream",
     "text": [
      "Searching for: The Final Empire (Mistborn, #1) Brandon Sanderson book review\n"
     ]
    },
    {
     "name": "stderr",
     "output_type": "stream",
     "text": [
      "Processing books:  97%|█████████▋| 1216/1250 [3:04:39<05:23,  9.51s/it]"
     ]
    },
    {
     "name": "stdout",
     "output_type": "stream",
     "text": [
      "Searching for: The Return of the King (Middle Earth, #4) J.R.R. Tolkien book review\n"
     ]
    },
    {
     "name": "stderr",
     "output_type": "stream",
     "text": [
      "Processing books:  97%|█████████▋| 1217/1250 [3:04:53<05:57, 10.83s/it]"
     ]
    },
    {
     "name": "stdout",
     "output_type": "stream",
     "text": [
      "Searching for: A Court of Mist and Fury (A Court of Thorns and Roses, #2) Sarah J. Maas book review\n"
     ]
    },
    {
     "name": "stderr",
     "output_type": "stream",
     "text": [
      "Processing books:  97%|█████████▋| 1218/1250 [3:05:04<05:49, 10.94s/it]"
     ]
    },
    {
     "name": "stdout",
     "output_type": "stream",
     "text": [
      "Searching for: The Lightning Thief (Percy Jackson and the Olympians, #1) Rick Riordan book review\n"
     ]
    },
    {
     "name": "stderr",
     "output_type": "stream",
     "text": [
      "Processing books:  98%|█████████▊| 1219/1250 [3:05:14<05:26, 10.52s/it]"
     ]
    },
    {
     "name": "stdout",
     "output_type": "stream",
     "text": [
      "Searching for: Shadow and Bone (The Shadow and Bone Trilogy, #1) Leigh Bardugo book review\n"
     ]
    },
    {
     "name": "stderr",
     "output_type": "stream",
     "text": [
      "Processing books:  98%|█████████▊| 1220/1250 [3:05:24<05:13, 10.47s/it]"
     ]
    },
    {
     "name": "stdout",
     "output_type": "stream",
     "text": [
      "Searching for: The Lion, the Witch and the Wardrobe (Chronicles of Narnia, #1) C.S. Lewis book review\n"
     ]
    },
    {
     "name": "stderr",
     "output_type": "stream",
     "text": [
      "Processing books:  98%|█████████▊| 1221/1250 [3:05:42<06:10, 12.76s/it]"
     ]
    },
    {
     "name": "stdout",
     "output_type": "stream",
     "text": [
      "Searching for: The Cruel Prince (The Folk of the Air, #1) Holly Black book review\n"
     ]
    },
    {
     "name": "stderr",
     "output_type": "stream",
     "text": [
      "Processing books:  98%|█████████▊| 1222/1250 [3:05:53<05:41, 12.19s/it]"
     ]
    },
    {
     "name": "stdout",
     "output_type": "stream",
     "text": [
      "Searching for: A Storm of Swords (A Song of Ice and Fire, #3) George R.R. Martin book review\n"
     ]
    },
    {
     "name": "stderr",
     "output_type": "stream",
     "text": [
      "Processing books:  98%|█████████▊| 1223/1250 [3:05:56<04:14,  9.41s/it]"
     ]
    },
    {
     "name": "stdout",
     "output_type": "stream",
     "text": [
      "Searching for: A Feast for Crows (A Song of Ice and Fire, #4) George R.R. Martin book review\n"
     ]
    },
    {
     "name": "stderr",
     "output_type": "stream",
     "text": [
      "Processing books:  98%|█████████▊| 1224/1250 [3:06:02<03:35,  8.30s/it]"
     ]
    },
    {
     "name": "stdout",
     "output_type": "stream",
     "text": [
      "Searching for: The Golden Compass (His Dark Materials, #1) Philip Pullman book review\n"
     ]
    },
    {
     "name": "stderr",
     "output_type": "stream",
     "text": [
      "Processing books:  98%|█████████▊| 1225/1250 [3:06:08<03:09,  7.57s/it]"
     ]
    },
    {
     "name": "stdout",
     "output_type": "stream",
     "text": [
      "Searching for: Eragon (The Inheritance Cycle, #1) Christopher Paolini book review\n"
     ]
    },
    {
     "name": "stderr",
     "output_type": "stream",
     "text": [
      "Processing books:  98%|█████████▊| 1226/1250 [3:06:15<02:57,  7.39s/it]"
     ]
    },
    {
     "name": "stdout",
     "output_type": "stream",
     "text": [
      "Searching for: A Court of Wings and Ruin (A Court of Thorns and Roses, #3) Sarah J. Maas book review\n"
     ]
    },
    {
     "name": "stderr",
     "output_type": "stream",
     "text": [
      "Processing books:  98%|█████████▊| 1227/1250 [3:06:26<03:17,  8.59s/it]"
     ]
    },
    {
     "name": "stdout",
     "output_type": "stream",
     "text": [
      "Searching for: A Dance with Dragons (A Song of Ice and Fire, #5) George R.R. Martin book review\n"
     ]
    },
    {
     "name": "stderr",
     "output_type": "stream",
     "text": [
      "Processing books:  98%|█████████▊| 1228/1250 [3:06:36<03:16,  8.95s/it]"
     ]
    },
    {
     "name": "stdout",
     "output_type": "stream",
     "text": [
      "Searching for: The Night Circus (Hardcover) Erin Morgenstern book review\n",
      "Error processing https://frogmom.com/book-review-the-night-circus-by-erin-morgenstern/: HTTPSConnectionPool(host='frogmom.com', port=443): Max retries exceeded with url: /book-review-the-night-circus-by-erin-morgenstern/ (Caused by ProtocolError('Connection aborted.', RemoteDisconnected('Remote end closed connection without response')))\n"
     ]
    },
    {
     "name": "stderr",
     "output_type": "stream",
     "text": [
      "Processing books:  98%|█████████▊| 1229/1250 [3:07:01<04:49, 13.79s/it]"
     ]
    },
    {
     "name": "stdout",
     "output_type": "stream",
     "text": [
      "Searching for: American Gods (Kindle Edition) Neil Gaiman book review\n"
     ]
    },
    {
     "name": "stderr",
     "output_type": "stream",
     "text": [
      "Processing books:  98%|█████████▊| 1230/1250 [3:07:12<04:18, 12.91s/it]"
     ]
    },
    {
     "name": "stdout",
     "output_type": "stream",
     "text": [
      "Searching for: City of Bones (The Mortal Instruments, #1) Cassandra Clare book review\n"
     ]
    },
    {
     "name": "stderr",
     "output_type": "stream",
     "text": [
      "Processing books:  98%|█████████▊| 1231/1250 [3:07:17<03:22, 10.67s/it]"
     ]
    },
    {
     "name": "stdout",
     "output_type": "stream",
     "text": [
      "Searching for: The Eye of the World (The Wheel of Time, #1) Robert Jordan book review\n"
     ]
    },
    {
     "name": "stderr",
     "output_type": "stream",
     "text": [
      "Processing books:  99%|█████████▊| 1232/1250 [3:07:18<02:20,  7.79s/it]"
     ]
    },
    {
     "name": "stdout",
     "output_type": "stream",
     "text": [
      "Searching for: Twilight (The Twilight Saga, #1) Stephenie Meyer book review\n"
     ]
    },
    {
     "name": "stderr",
     "output_type": "stream",
     "text": [
      "Processing books:  99%|█████████▊| 1233/1250 [3:07:25<02:06,  7.43s/it]"
     ]
    },
    {
     "name": "stdout",
     "output_type": "stream",
     "text": [
      "Searching for: The Way of Kings (The Stormlight Archive, #1) Brandon Sanderson book review\n"
     ]
    },
    {
     "name": "stderr",
     "output_type": "stream",
     "text": [
      "Processing books:  99%|█████████▊| 1234/1250 [3:07:30<01:46,  6.63s/it]"
     ]
    },
    {
     "name": "stdout",
     "output_type": "stream",
     "text": [
      "Searching for: Crown of Midnight (Throne of Glass, #2) Sarah J. Maas book review\n"
     ]
    },
    {
     "name": "stderr",
     "output_type": "stream",
     "text": [
      "Processing books:  99%|█████████▉| 1235/1250 [3:07:34<01:28,  5.91s/it]"
     ]
    },
    {
     "name": "stdout",
     "output_type": "stream",
     "text": [
      "Searching for: A Darker Shade of Magic (Shades of Magic, #1) Victoria Schwab book review\n"
     ]
    },
    {
     "name": "stderr",
     "output_type": "stream",
     "text": [
      "Processing books:  99%|█████████▉| 1236/1250 [3:07:38<01:14,  5.36s/it]"
     ]
    },
    {
     "name": "stdout",
     "output_type": "stream",
     "text": [
      "Searching for: Crooked Kingdom (Six of Crows, #2) Leigh Bardugo book review\n"
     ]
    },
    {
     "name": "stderr",
     "output_type": "stream",
     "text": [
      "Processing books:  99%|█████████▉| 1237/1250 [3:07:44<01:10,  5.46s/it]"
     ]
    },
    {
     "name": "stdout",
     "output_type": "stream",
     "text": [
      "Searching for: Good Omens: The Nice and Accurate Prophecies of Agnes Nutter, Witch (Mass Market Paperback) Terry Pratchett book review\n"
     ]
    },
    {
     "name": "stderr",
     "output_type": "stream",
     "text": [
      "Processing books:  99%|█████████▉| 1238/1250 [3:07:50<01:09,  5.78s/it]"
     ]
    },
    {
     "name": "stdout",
     "output_type": "stream",
     "text": [
      "Searching for: The Sea of Monsters (Percy Jackson and the Olympians, #2) Rick Riordan book review\n"
     ]
    },
    {
     "name": "stderr",
     "output_type": "stream",
     "text": [
      "Processing books:  99%|█████████▉| 1239/1250 [3:07:56<01:03,  5.81s/it]"
     ]
    },
    {
     "name": "stdout",
     "output_type": "stream",
     "text": [
      "Searching for: The Well of Ascension (Mistborn, #2) Brandon Sanderson book review\n"
     ]
    },
    {
     "name": "stderr",
     "output_type": "stream",
     "text": [
      "Processing books:  99%|█████████▉| 1240/1250 [3:08:02<00:57,  5.78s/it]"
     ]
    },
    {
     "name": "stdout",
     "output_type": "stream",
     "text": [
      "Searching for: Stardust (Paperback) Neil Gaiman book review\n"
     ]
    },
    {
     "name": "stderr",
     "output_type": "stream",
     "text": [
      "Processing books:  99%|█████████▉| 1241/1250 [3:08:15<01:11,  7.90s/it]"
     ]
    },
    {
     "name": "stdout",
     "output_type": "stream",
     "text": [
      "Searching for: Assassin's Apprentice (Farseer Trilogy, #1) Robin Hobb book review\n"
     ]
    },
    {
     "name": "stderr",
     "output_type": "stream",
     "text": [
      "Processing books:  99%|█████████▉| 1242/1250 [3:08:16<00:46,  5.85s/it]"
     ]
    },
    {
     "name": "stdout",
     "output_type": "stream",
     "text": [
      "Searching for: Siege and Storm (The Shadow and Bone Trilogy, #2) Leigh Bardugo book review\n"
     ]
    },
    {
     "name": "stderr",
     "output_type": "stream",
     "text": [
      "Processing books:  99%|█████████▉| 1243/1250 [3:08:19<00:35,  5.03s/it]"
     ]
    },
    {
     "name": "stdout",
     "output_type": "stream",
     "text": [
      "Searching for: Neverwhere (London Below, #1) Neil Gaiman book review\n"
     ]
    },
    {
     "name": "stderr",
     "output_type": "stream",
     "text": [
      "Processing books: 100%|█████████▉| 1244/1250 [3:08:40<00:58,  9.79s/it]"
     ]
    },
    {
     "name": "stdout",
     "output_type": "stream",
     "text": [
      "Searching for: A Court of Frost and Starlight (A Court of Thorns and Roses, #3.5) Sarah J. Maas book review\n"
     ]
    },
    {
     "name": "stderr",
     "output_type": "stream",
     "text": [
      "Processing books: 100%|█████████▉| 1245/1250 [3:08:51<00:51, 10.28s/it]"
     ]
    },
    {
     "name": "stdout",
     "output_type": "stream",
     "text": [
      "Searching for: The Wicked King (The Folk of the Air, #2) Holly Black book review\n"
     ]
    },
    {
     "name": "stderr",
     "output_type": "stream",
     "text": [
      "Processing books: 100%|█████████▉| 1246/1250 [3:08:54<00:31,  7.90s/it]"
     ]
    },
    {
     "name": "stdout",
     "output_type": "stream",
     "text": [
      "Searching for: The Lord of the Rings (Middle Earth, #2-4) J.R.R. Tolkien book review\n"
     ]
    },
    {
     "name": "stderr",
     "output_type": "stream",
     "text": [
      "Processing books: 100%|█████████▉| 1247/1250 [3:09:06<00:27,  9.32s/it]"
     ]
    },
    {
     "name": "stdout",
     "output_type": "stream",
     "text": [
      "Searching for: The Wise Man’s Fear (The Kingkiller Chronicle, #2) Patrick Rothfuss book review\n"
     ]
    },
    {
     "name": "stderr",
     "output_type": "stream",
     "text": [
      "Processing books: 100%|█████████▉| 1248/1250 [3:09:07<00:13,  6.83s/it]"
     ]
    },
    {
     "name": "stdout",
     "output_type": "stream",
     "text": [
      "Searching for: The Lies of Locke Lamora (Gentleman Bastard, #1) Scott Lynch book review\n"
     ]
    },
    {
     "name": "stderr",
     "output_type": "stream",
     "text": [
      "Processing books: 100%|█████████▉| 1249/1250 [3:09:16<00:07,  7.47s/it]"
     ]
    },
    {
     "name": "stdout",
     "output_type": "stream",
     "text": [
      "Searching for: The Invisible Life of Addie LaRue (Kindle Edition) Victoria Schwab book review\n"
     ]
    },
    {
     "name": "stderr",
     "output_type": "stream",
     "text": [
      "Processing books: 100%|██████████| 1250/1250 [3:09:19<00:00,  9.09s/it]\n"
     ]
    },
    {
     "name": "stdout",
     "output_type": "stream",
     "text": [
      "Reviews saved to book_reviews.csv\n"
     ]
    }
   ],
   "source": [
    "# Usage\n",
    "input_csv = '/kaggle/input/book-review-samples/goodreads_fantasy.csv'\n",
    "output_csv = 'book_reviews.csv'\n",
    "process_book_list(input_csv, output_csv)"
   ]
  },
  {
   "cell_type": "code",
   "execution_count": null,
   "id": "196cf1b2",
   "metadata": {
    "papermill": {
     "duration": 0.245946,
     "end_time": "2024-08-21T05:28:38.964274",
     "exception": false,
     "start_time": "2024-08-21T05:28:38.718328",
     "status": "completed"
    },
    "tags": []
   },
   "outputs": [],
   "source": []
  }
 ],
 "metadata": {
  "kaggle": {
   "accelerator": "none",
   "dataSources": [
    {
     "datasetId": 5562194,
     "sourceId": 9208293,
     "sourceType": "datasetVersion"
    }
   ],
   "dockerImageVersionId": 30746,
   "isGpuEnabled": false,
   "isInternetEnabled": true,
   "language": "python",
   "sourceType": "notebook"
  },
  "kernelspec": {
   "display_name": "Python 3",
   "language": "python",
   "name": "python3"
  },
  "language_info": {
   "codemirror_mode": {
    "name": "ipython",
    "version": 3
   },
   "file_extension": ".py",
   "mimetype": "text/x-python",
   "name": "python",
   "nbconvert_exporter": "python",
   "pygments_lexer": "ipython3",
   "version": "3.10.13"
  },
  "papermill": {
   "default_parameters": {},
   "duration": 11404.794793,
   "end_time": "2024-08-21T05:28:39.862275",
   "environment_variables": {},
   "exception": null,
   "input_path": "__notebook__.ipynb",
   "output_path": "__notebook__.ipynb",
   "parameters": {},
   "start_time": "2024-08-21T02:18:35.067482",
   "version": "2.5.0"
  }
 },
 "nbformat": 4,
 "nbformat_minor": 5
}
